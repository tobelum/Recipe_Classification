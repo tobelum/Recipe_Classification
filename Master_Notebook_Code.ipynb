{
 "cells": [
  {
   "cell_type": "markdown",
   "metadata": {},
   "source": [
    "# Original data sets can be found at :\n",
    "Open Food Facts\n",
    "https://www.kaggle.com/openfoodfacts/world-food-facts\n",
    "\n",
    "General Recipes\n",
    "https://www.kaggle.com/hugodarwood/epirecipes\n",
    "\n",
    "Christmas Recipes\n",
    "https://www.kaggle.com/gjbroughton/christmas-recipes\n"
   ]
  },
  {
   "cell_type": "markdown",
   "metadata": {},
   "source": [
    "### pyspark.sql module documentation\n",
    "https://spark.apache.org/docs/latest/api/python/pyspark.sql.html"
   ]
  },
  {
   "cell_type": "code",
   "execution_count": 15,
   "metadata": {},
   "outputs": [],
   "source": [
    "from pyspark.sql import SparkSession\n",
    "from pyspark.sql.functions import *\n",
    "from pyspark.ml.feature import Tokenizer, CountVectorizer\n",
    "import pandas as pd"
   ]
  },
  {
   "cell_type": "code",
   "execution_count": 13,
   "metadata": {},
   "outputs": [
    {
     "data": {
      "text/html": [
       "\n",
       "            <div>\n",
       "                <p><b>SparkSession - hive</b></p>\n",
       "                \n",
       "        <div>\n",
       "            <p><b>SparkContext</b></p>\n",
       "\n",
       "            <p><a href=\"http://bd-prj-inst2-m.c.big-data-platforms-group.internal:4040\">Spark UI</a></p>\n",
       "\n",
       "            <dl>\n",
       "              <dt>Version</dt>\n",
       "                <dd><code>v2.3.2</code></dd>\n",
       "              <dt>Master</dt>\n",
       "                <dd><code>yarn</code></dd>\n",
       "              <dt>AppName</dt>\n",
       "                <dd><code>pyspark-shell</code></dd>\n",
       "            </dl>\n",
       "        </div>\n",
       "        \n",
       "            </div>\n",
       "        "
      ],
      "text/plain": [
       "<pyspark.sql.session.SparkSession at 0x7f039c576cc0>"
      ]
     },
     "execution_count": 13,
     "metadata": {},
     "output_type": "execute_result"
    }
   ],
   "source": [
    "#create spark session\n",
    "spark = SparkSession.builder.appName('Spark Recipes').getOrCreate()\n",
    "sc = spark.sparkContext\n",
    "spark"
   ]
  },
  {
   "cell_type": "markdown",
   "metadata": {},
   "source": [
    "### Christmas Recipes"
   ]
  },
  {
   "cell_type": "code",
   "execution_count": 14,
   "metadata": {},
   "outputs": [],
   "source": [
    "from pyspark.sql import SparkSession\n",
    "from pyspark.sql import functions as F"
   ]
  },
  {
   "cell_type": "code",
   "execution_count": 15,
   "metadata": {},
   "outputs": [],
   "source": [
    "from pyspark.sql.functions import *\n",
    "from pyspark.sql.types import *"
   ]
  },
  {
   "cell_type": "code",
   "execution_count": 16,
   "metadata": {},
   "outputs": [],
   "source": [
    "df_chrisrecipes = spark.read.json(\"gs://big_data_vht/Christmas recipes.json\")\n",
    "#df_chrisrecipes = spark.read.json(\"/user/alvinharyanto/data/Christmas_recipes.json\")"
   ]
  },
  {
   "cell_type": "code",
   "execution_count": 17,
   "metadata": {},
   "outputs": [
    {
     "name": "stdout",
     "output_type": "stream",
     "text": [
      "root\n",
      " |-- Author: string (nullable = true)\n",
      " |-- Description: string (nullable = true)\n",
      " |-- Ingredients: array (nullable = true)\n",
      " |    |-- element: string (containsNull = true)\n",
      " |-- Method: array (nullable = true)\n",
      " |    |-- element: string (containsNull = true)\n",
      " |-- Name: string (nullable = true)\n",
      " |-- url: string (nullable = true)\n",
      "\n"
     ]
    }
   ],
   "source": [
    "df_chrisrecipes.printSchema()"
   ]
  },
  {
   "cell_type": "code",
   "execution_count": 18,
   "metadata": {},
   "outputs": [
    {
     "name": "stdout",
     "output_type": "stream",
     "text": [
      "+--------------------+--------------------+\n",
      "|                Name|         Ingredients|\n",
      "+--------------------+--------------------+\n",
      "|       Christmas pie|[2 tbsp olive oil...|\n",
      "|Simmer-&-stir Chr...|[175g butter, cho...|\n",
      "|  Christmas cupcakes|[200g dark muscov...|\n",
      "|      Christmas buns|[500g strong whit...|\n",
      "|  Christmas cupcakes|[280g self-raisin...|\n",
      "|      Christmas slaw|[2 carrots, halve...|\n",
      "|      Christmas mess|[600ml double cre...|\n",
      "|  Christmas brownies|[200g unsalted bu...|\n",
      "|Christmas cosmopo...|[500ml vodka, 500...|\n",
      "|     Christmas pizza|[145g pizza basem...|\n",
      "+--------------------+--------------------+\n",
      "only showing top 10 rows\n",
      "\n"
     ]
    }
   ],
   "source": [
    "#Show single column\n",
    "df_chrisrecipes.select(\"Name\",\"Ingredients\").show(10)"
   ]
  },
  {
   "cell_type": "code",
   "execution_count": 19,
   "metadata": {},
   "outputs": [
    {
     "data": {
      "text/html": [
       "<div>\n",
       "<style scoped>\n",
       "    .dataframe tbody tr th:only-of-type {\n",
       "        vertical-align: middle;\n",
       "    }\n",
       "\n",
       "    .dataframe tbody tr th {\n",
       "        vertical-align: top;\n",
       "    }\n",
       "\n",
       "    .dataframe thead th {\n",
       "        text-align: right;\n",
       "    }\n",
       "</style>\n",
       "<table border=\"1\" class=\"dataframe\">\n",
       "  <thead>\n",
       "    <tr style=\"text-align: right;\">\n",
       "      <th></th>\n",
       "      <th>Author</th>\n",
       "      <th>Description</th>\n",
       "      <th>Ingredients</th>\n",
       "      <th>Method</th>\n",
       "      <th>Name</th>\n",
       "      <th>url</th>\n",
       "    </tr>\n",
       "  </thead>\n",
       "  <tbody>\n",
       "    <tr>\n",
       "      <th>0</th>\n",
       "      <td>Mary Cadogan</td>\n",
       "      <td>Combine a few key Christmas flavours here to m...</td>\n",
       "      <td>[2 tbsp olive oil, knob butter, 1 onion, finel...</td>\n",
       "      <td>[Heat oven to 190C/fan 170C/gas 5. Heat 1 tbsp...</td>\n",
       "      <td>Christmas pie</td>\n",
       "      <td>https://www.bbcgoodfood.com/recipes/2793/chris...</td>\n",
       "    </tr>\n",
       "    <tr>\n",
       "      <th>1</th>\n",
       "      <td>Mary Cadogan</td>\n",
       "      <td>An easy-to-make alternative to traditional Chr...</td>\n",
       "      <td>[175g butter, chopped, 200g dark muscovado sug...</td>\n",
       "      <td>[Put the butter, sugar, fruit, zests, juice an...</td>\n",
       "      <td>Simmer-&amp;-stir Christmas cake</td>\n",
       "      <td>https://www.bbcgoodfood.com/recipes/1160/simme...</td>\n",
       "    </tr>\n",
       "  </tbody>\n",
       "</table>\n",
       "</div>"
      ],
      "text/plain": [
       "         Author                                        Description  \\\n",
       "0  Mary Cadogan  Combine a few key Christmas flavours here to m...   \n",
       "1  Mary Cadogan  An easy-to-make alternative to traditional Chr...   \n",
       "\n",
       "                                         Ingredients  \\\n",
       "0  [2 tbsp olive oil, knob butter, 1 onion, finel...   \n",
       "1  [175g butter, chopped, 200g dark muscovado sug...   \n",
       "\n",
       "                                              Method  \\\n",
       "0  [Heat oven to 190C/fan 170C/gas 5. Heat 1 tbsp...   \n",
       "1  [Put the butter, sugar, fruit, zests, juice an...   \n",
       "\n",
       "                           Name  \\\n",
       "0                 Christmas pie   \n",
       "1  Simmer-&-stir Christmas cake   \n",
       "\n",
       "                                                 url  \n",
       "0  https://www.bbcgoodfood.com/recipes/2793/chris...  \n",
       "1  https://www.bbcgoodfood.com/recipes/1160/simme...  "
      ]
     },
     "execution_count": 19,
     "metadata": {},
     "output_type": "execute_result"
    }
   ],
   "source": [
    "df_chrisrecipes.limit(2).toPandas()"
   ]
  },
  {
   "cell_type": "code",
   "execution_count": 20,
   "metadata": {},
   "outputs": [
    {
     "name": "stdout",
     "output_type": "stream",
     "text": [
      "+------------------------------------------------------------------------------------------------------------------------------------------------------------------------------------------------------------------------------------------------------------------------------------------------------------------------------------------------------------------------------------------------------------------------------------------------------------------------------------------------------------------------------------------------------------------------------------------------------------------+\n",
      "|Ingredients                                                                                                                                                                                                                                                                                                                                                                                                                                                                                                                                                                                                       |\n",
      "+------------------------------------------------------------------------------------------------------------------------------------------------------------------------------------------------------------------------------------------------------------------------------------------------------------------------------------------------------------------------------------------------------------------------------------------------------------------------------------------------------------------------------------------------------------------------------------------------------------------+\n",
      "|[2 tbsp olive oil, knob butter, 1 onion, finely chopped, 500g sausagemeat or skinned sausages, grated zest of 1 lemon, 100g fresh white breadcrumbs, 85g ready-to-eat dried apricots, chopped, 50g chestnut, canned or vacuum-packed, chopped, 2 tsp chopped fresh or 1tsp dried thyme, 100g cranberries, fresh or frozen, 500g boneless, skinless chicken breasts, 500g pack ready-made shortcrust pastry, beaten egg, to glaze]                                                                                                                                                                                 |\n",
      "|[175g butter, chopped, 200g dark muscovado sugar, 750g luxury mixed dried fruit (one that includes mixed peel and glacé cherries), finely grated zest and juice of 1 orange, finely grated zest of 1 lemon, 100ml/3½ fl oz cherry brandy or brandy plus 4tbsp more, 85g macadamia nut, 3 large eggs, lightly beaten, 85g ground almond, 200g plain flour, ½ tsp baking powder, 1 tsp ground mixed spice, 1 tsp ground cinnamon, ¼ tsp ground allspice]                                                                                                                                                            |\n",
      "|[200g dark muscovado sugar, 175g butter, chopped, 700g luxury mixed dried fruit, 50g glacé cherries, 2 tsp grated fresh root ginger, zest and juice 1 orange, 100ml dark rum, brandy or orange juice, 85g/3oz pecannuts, roughly chopped, 3 large eggs, beaten, 85g ground almond, 200g plain flour, ½ tsp baking powder, 1 tsp mixed spice, 1 tsp cinnamon, 400g pack ready-rolled marzipan(we used Dr Oetker), 4 tbsp warm apricotjam or shredless marmalade, 500g pack fondant icingsugar, icing sugar, for dusting, 6 gold and 6 silver muffincases, 6 gold and 6 silver sugared almonds, snowflake sprinkles]|\n",
      "|[500g strong white flour, plus extra for dusting, 7g sachet fast-action dried yeast, 300ml milk, 40g unsalted butter, softened at room temperature, 1 egg, vegetable oil, for greasing, 25g unsalted butter, melted, 75g soft brown sugar, 2 tsp ground cinnamon, 100g dried cranberries, 100g chopped dried apricot, 50g caster sugar, zest 1 lemon, 200g icing sugar]                                                                                                                                                                                                                                           |\n",
      "|[280g self-raising flour, 175g golden caster sugar, 175g unsalted butter, very soft, 150g pot fat-free natural yogurt, 1 tsp vanilla extract, 3 eggs, 85g unsalted butter, softened, 1 tsp vanilla extract, 200g icing sugar, sifted, natural green food colouring(for Christmas trees), sweets, sprinkles and white chocolate stars, milk and white chocolatebuttons and natural colouring icing pens, available at Asda]                                                                                                                                                                                        |\n",
      "|[2 carrots, halved, ½ white cabbage, shredded, 100g pecans, roughly chopped, bunch spring onions, sliced, 2 red peppers, deseeded and sliced, 2 tbsp maple syrup, 2 tsp Dijon mustard, 8 tbsp olive oil, 4 tbsp cider vinegar]                                                                                                                                                                                                                                                                                                                                                                                    |\n",
      "|[600ml double cream, 400g Greek yoghurt, 4 tbsp lemon curd, 1 x 500g bag frozen mixed berries(we used Sainsbury's Black Forest fruits), 4 tbsp icing sugar, 2 tbsp cassis(optional), 1 pinch cinnamon, 8 meringuenests]                                                                                                                                                                                                                                                                                                                                                                                           |\n",
      "|[200g unsalted buttercut into cubes, plus extra for greasing, 100g dark chocolate, chopped, 100g milk chocolate, chopped, 3 large eggs, 300g golden caster sugar, 100g plain flour, 50g cocoa powder, ½ tsp mixed spice, 9 sprigs rosemary, 9 glacé cherries, 1 egg white, 2 tbsp caster sugar, 4 amaretti biscuits, crushed, 9 chocolate truffles(we used Lindt lindor), edible gold lustre spray, 1-2 tsp icing sugarfor dusting, few chocolate buttons, edible silver balls]                                                                                                                                   |\n",
      "|[500ml vodka, 500ml gingerwine, 1l cranberry juice, juice 5 limes, keep zest for garnish, sliced stem ginger]                                                                                                                                                                                                                                                                                                                                                                                                                                                                                                     |\n",
      "|[145g pizza basemix, 6 tbsp tomato pasta sauce, large handful (about 100g) leftover stuffing(a sausage stuffing works well for this), large handful (about 100g) leftover cooked turkey, shredded, 100g mozzarella, sliced, small pack sage, leaves picked, 1 tbsp olive oil]                                                                                                                                                                                                                                                                                                                                     |\n",
      "|[50g butter, softened, 4 poussin, 4 rashers smoked streaky bacon, halved, 1 tbsp plain flour, 1 tbsp Worcestershire sauce, stock from vegetables (see 'goes well with')]                                                                                                                                                                                                                                                                                                                                                                                                                                          |\n",
      "|[900g tomato, 3 red peppers, 1 large aubergine and 1 green pepper (total weight of about 900g/2lb), 700g onion, peeled and fairly finely chopped, by hand or in a food processor, 4 fat cloves garlic, crushed, 350g granulated sugar, 300ml/½pint white wine vinegar or distilled malt vinegar, 1 tbsp salt, 1 tbsp coriander seeds, crushed, 1 tbsp paprika, 2 tsp cayenne pepper]                                                                                                                                                                                                                              |\n",
      "|[1kg mixed dried fruit(use a mix of raisins, sultanas, currants, cherries, cranberries, prunes or figs), zest and juice 1 orange, zest and juice 1 lemon, 150ml brandy, Sherry, whisky or rum, plus extra for feeding, 250g pack butter, softened, 200g light soft brown sugar, 175g plain flour, 100g ground almond, ½ tsp baking powder, 2 tsp mixed spice, 1 tsp ground cinnamon, ¼ tsp ground cloves, 100g flaked almond, 4 large eggs, 1 tsp vanilla extract]                                                                                                                                                |\n",
      "|[300g self-raising flour, 2 tsp baking powder, 2 tsp ground cinnamon, 2 tsp ground mixed spice, 100g pecan or walnuts, 140g tropical dried fruit medley, 100g light muscovado sugar]                                                                                                                                                                                                                                                                                                                                                                                                                              |\n",
      "|[140g icing sugar, sieved, 1 tsp vanilla extract, 1 egg yolk, 250g butter, cut into small cubes, 375g plain flour, sieved, 200g icing sugar, sieved, edible food colouring, optional, edible gold and silver balls, approx 2m thin ribbon cut into 10cm lengths]                                                                                                                                                                                                                                                                                                                                                  |\n",
      "|[175g each raisin, currants and sultanas, 140g whole glacé cherry, 50g mixed peel, 50g whole blanched almond, zest 1 orangeand 1 lemon, 1 medium carrot, peeled and finely grated, 150ml brandy, 50ml/2fl oz orangeliqueur, such as Grand Marnier, 175g light muscovado sugar, 175g fresh white breadcrumb, 125g self-raising flour, 1 tsp mixed spice, ¼ tsp grated nutmeg, 175g butter, frozen, 2 eggs, beaten, butter, for greasing, hollysprig, to decorate]                                                                                                                                                  |\n",
      "|[750g mixed dried fruit, 100g blanched whole almond, roughly chopped, 100g chopped peel, 200g dried fig, roughly chopped, 100g glacé cherry, well rinsed and quartered, 300g plain flour, 1 tsp ground cinnamon, 1 tsp grated nutmeg, zest 1 lemon, 250g lightly salted butter, 250g light muscovado sugar, 1 tsp vanilla extract, 2 tbsp clear honey, 1 tbsp black treacle, 4 large eggs, ½ tsp bicarbonate of soda, 1 tbsp milk, 3 tbsp brandy, plus extra to feed]                                                                                                                                             |\n",
      "|[200g butter, softened to room temperature, 200g dark muscovado sugar, 200g plain flour, 4 eggs, beaten, 50g ground almond, 100ml sherry, sweet or dry, whatever you have in the cupboard, 85g candied peel, roughly chopped (we used Sundora), 85g glacé cherry, roughly chopped, 250g raisin, 250g currant, 100g pack pecan nuts, broken into big pieces, finely grated zest 1 lemon, 1½ tsp mixed spice, 1½ tsp rosewater, ½ tsp vanilla extract, ½ tsp baking powder]                                                                                                                                         |\n",
      "|[350g raisin, 125g currant, 125g sultana, 200ml ginger wine, plus 4tbsp, 200g butter, softened, plus extra for greasing, 200g dark muscovado sugar, 4 eggs, 200g plain flour, 50g ground almond, ½ tsp mixed spice, 1 tsp ground ginger, 1 tsp freshly grated root ginger, 1 tbsp treacle]                                                                                                                                                                                                                                                                                                                        |\n",
      "|[4-5½ kg fresh goose, 4 lemons, 3 limes, 1 tsp Chinese five-spice powder, small handful each of parsley sprigs, thyme and sage, plus extra for garnishing, a little olive oil, for browning, optional, 3 tbsp clear honey, 1 tbsp thyme leaves]                                                                                                                                                                                                                                                                                                                                                                   |\n",
      "+------------------------------------------------------------------------------------------------------------------------------------------------------------------------------------------------------------------------------------------------------------------------------------------------------------------------------------------------------------------------------------------------------------------------------------------------------------------------------------------------------------------------------------------------------------------------------------------------------------------+\n",
      "only showing top 20 rows\n",
      "\n"
     ]
    }
   ],
   "source": [
    "df_chrisrecipes.select('Ingredients').show(truncate=False)"
   ]
  },
  {
   "cell_type": "code",
   "execution_count": 21,
   "metadata": {},
   "outputs": [
    {
     "name": "stdout",
     "output_type": "stream",
     "text": [
      "+-------------------------+-----+\n",
      "|Ingredient               |count|\n",
      "+-------------------------+-----+\n",
      "|2 tbsp olive oil         |76   |\n",
      "|50g butter               |75   |\n",
      "|1 egg, beaten            |71   |\n",
      "|25g butter               |65   |\n",
      "|1 tbsp olive oil         |60   |\n",
      "|1 tsp vanilla extract    |52   |\n",
      "|1 tsp ground cinnamon    |49   |\n",
      "|icing sugar, for dusting |40   |\n",
      "|2 bay leaves             |37   |\n",
      "|100g golden caster sugar |36   |\n",
      "|1 cinnamon stick         |35   |\n",
      "|2 garlic cloves, crushed |33   |\n",
      "|1 tsp mixed spice        |32   |\n",
      "|3 tbsp olive oil         |32   |\n",
      "|1 garlic clove, crushed  |31   |\n",
      "|1 tsp baking powder      |30   |\n",
      "|1 bay leaf               |27   |\n",
      "|1 tsp bicarbonate of soda|26   |\n",
      "|50g plain flour          |25   |\n",
      "|2 eggs                   |24   |\n",
      "+-------------------------+-----+\n",
      "only showing top 20 rows\n",
      "\n"
     ]
    }
   ],
   "source": [
    "import pyspark.sql.functions as f\n",
    "counts = df_chrisrecipes.select(f.explode('Ingredients').alias('Ingredient')).groupBy('Ingredient').count().orderBy('count',ascending=0)\n",
    "counts.show(truncate=False)"
   ]
  },
  {
   "cell_type": "code",
   "execution_count": 22,
   "metadata": {},
   "outputs": [
    {
     "data": {
      "text/plain": [
       "10116"
      ]
     },
     "execution_count": 22,
     "metadata": {},
     "output_type": "execute_result"
    }
   ],
   "source": [
    "counts.count()"
   ]
  },
  {
   "cell_type": "code",
   "execution_count": 23,
   "metadata": {},
   "outputs": [
    {
     "name": "stdout",
     "output_type": "stream",
     "text": [
      "+-------------------+-----+\n",
      "|Ingredient         |count|\n",
      "+-------------------+-----+\n",
      "|olive oil          |76   |\n",
      "|butter             |75   |\n",
      "|egg                |71   |\n",
      "|butter             |65   |\n",
      "|olive oil          |60   |\n",
      "|vanilla extract    |52   |\n",
      "|ground cinnamon    |49   |\n",
      "|icing sugar        |40   |\n",
      "|bay leave          |37   |\n",
      "|golden caster sugar|36   |\n",
      "|cinnamon stick     |35   |\n",
      "|garlic clove       |33   |\n",
      "|mixed spice        |32   |\n",
      "|olive oil          |32   |\n",
      "|garlic clove       |31   |\n",
      "|baking powder      |30   |\n",
      "|bay leaf           |27   |\n",
      "|bicarbonate of soda|26   |\n",
      "|plain flour        |25   |\n",
      "|egg                |24   |\n",
      "|plain flour        |24   |\n",
      "|olive oil          |23   |\n",
      "|golden caster sugar|22   |\n",
      "|ground cinnamon    |22   |\n",
      "|golden caster sugar|22   |\n",
      "|baking powder      |22   |\n",
      "|zest  lemon        |22   |\n",
      "|large egg          |22   |\n",
      "|caster sugar       |22   |\n",
      "|zest  orange       |21   |\n",
      "|onion              |21   |\n",
      "|plain flour        |21   |\n",
      "|large egg          |21   |\n",
      "|butter             |21   |\n",
      "|sunflower oil      |21   |\n",
      "|double cream       |21   |\n",
      "|star anise         |20   |\n",
      "|egg                |20   |\n",
      "|ground ginger      |20   |\n",
      "|plain flour        |20   |\n",
      "|plain flour        |19   |\n",
      "|onion              |19   |\n",
      "|butter             |18   |\n",
      "|double cream       |18   |\n",
      "|juice  lemon       |18   |\n",
      "|clear honey        |17   |\n",
      "|pot double cream   |17   |\n",
      "|large egg          |17   |\n",
      "|plain flour        |17   |\n",
      "|egg                |17   |\n",
      "+-------------------+-----+\n",
      "only showing top 50 rows\n",
      "\n"
     ]
    }
   ],
   "source": [
    "from pyspark.sql.functions import *\n",
    "#Removing measurement terms used in cooking\n",
    "counts = counts.withColumn('Ingredient', regexp_replace('Ingredient', '[0-9]+g', ''))\n",
    "counts = counts.withColumn('Ingredient', regexp_replace('Ingredient', '[0-9]+ml', ''))\n",
    "counts = counts.withColumn('Ingredient', regexp_replace('Ingredient', '[0-9]+kg', ''))\n",
    "counts = counts.withColumn('Ingredient', regexp_replace('Ingredient', 'tbsp', ''))\n",
    "counts = counts.withColumn('Ingredient', regexp_replace('Ingredient', '[0-9]', ''))\n",
    "counts = counts.withColumn('Ingredient', regexp_replace('Ingredient', 'tsp', ''))\n",
    "counts = counts.withColumn('Ingredient', regexp_replace('Ingredient', 'lb', ''))\n",
    "counts = counts.withColumn('Ingredient', regexp_replace('Ingredient', 'oz', ''))\n",
    "counts = counts.withColumn('Ingredient', regexp_replace('Ingredient', 'pt', ''))\n",
    "counts = counts.withColumn('Ingredient', regexp_replace('Ingredient', 'qt', ''))\n",
    "#Removing fractions\n",
    "counts = counts.withColumn('Ingredient', regexp_replace('Ingredient', '[^\\w\\d\\s\\,]', ''))\n",
    "#Removing words after ','\n",
    "counts = counts.withColumn('Ingredient',split('Ingredient', ', ')[0])\n",
    "#removing whitespace from words\n",
    "from pyspark.sql.functions import trim\n",
    "counts = counts.withColumn('Ingredient', trim(counts.Ingredient))\n",
    "#removing 's' from plural form of words\n",
    "counts = counts.withColumn('Ingredient', regexp_replace('Ingredient','s$', ''))\n",
    "\n",
    "counts.show(50, truncate=False)"
   ]
  },
  {
   "cell_type": "code",
   "execution_count": 24,
   "metadata": {},
   "outputs": [],
   "source": [
    "acounts = counts.withColumnRenamed(\"count\", \"Total\")"
   ]
  },
  {
   "cell_type": "code",
   "execution_count": 25,
   "metadata": {},
   "outputs": [
    {
     "name": "stdout",
     "output_type": "stream",
     "text": [
      "+-------------------+-----+\n",
      "|Ingredient         |Total|\n",
      "+-------------------+-----+\n",
      "|olive oil          |76   |\n",
      "|butter             |75   |\n",
      "|egg                |71   |\n",
      "|butter             |65   |\n",
      "|olive oil          |60   |\n",
      "|vanilla extract    |52   |\n",
      "|ground cinnamon    |49   |\n",
      "|icing sugar        |40   |\n",
      "|bay leave          |37   |\n",
      "|golden caster sugar|36   |\n",
      "|cinnamon stick     |35   |\n",
      "|garlic clove       |33   |\n",
      "|olive oil          |32   |\n",
      "|mixed spice        |32   |\n",
      "|garlic clove       |31   |\n",
      "|baking powder      |30   |\n",
      "|bay leaf           |27   |\n",
      "|bicarbonate of soda|26   |\n",
      "|plain flour        |25   |\n",
      "|egg                |24   |\n",
      "+-------------------+-----+\n",
      "only showing top 20 rows\n",
      "\n"
     ]
    }
   ],
   "source": [
    "acounts.show(truncate=False)"
   ]
  },
  {
   "cell_type": "code",
   "execution_count": 26,
   "metadata": {},
   "outputs": [
    {
     "name": "stdout",
     "output_type": "stream",
     "text": [
      "+---------------------+----------+\n",
      "|Ingredient           |sum(Total)|\n",
      "+---------------------+----------+\n",
      "|butter               |494       |\n",
      "|plain flour          |309       |\n",
      "|olive oil            |275       |\n",
      "|egg                  |243       |\n",
      "|golden caster sugar  |237       |\n",
      "|icing sugar          |226       |\n",
      "|garlic clove         |214       |\n",
      "|double cream         |167       |\n",
      "|caster sugar         |156       |\n",
      "|onion                |153       |\n",
      "|large egg            |142       |\n",
      "|milk                 |125       |\n",
      "|unsalted butter      |115       |\n",
      "|ground cinnamon      |99        |\n",
      "|selfraising flour    |97        |\n",
      "|sunflower oil        |88        |\n",
      "|light muscovado sugar|88        |\n",
      "|vanilla extract      |85        |\n",
      "|baking powder        |81        |\n",
      "|bay leave            |75        |\n",
      "|brandy               |69        |\n",
      "|mixed spice          |68        |\n",
      "|shallot              |67        |\n",
      "|lemon                |67        |\n",
      "|carrot               |65        |\n",
      "|ground almond        |63        |\n",
      "|orange               |59        |\n",
      "|vegetable oil        |59        |\n",
      "|cinnamon stick       |58        |\n",
      "|dark chocolate       |57        |\n",
      "|ground ginger        |56        |\n",
      "|large onion          |55        |\n",
      "|golden syrup         |55        |\n",
      "|clear honey          |54        |\n",
      "|clove                |53        |\n",
      "|maple syrup          |52        |\n",
      "|raisin               |51        |\n",
      "|wholegrain mustard   |50        |\n",
      "|egg yolk             |49        |\n",
      "|pot double cream     |49        |\n",
      "|dark muscovado sugar |48        |\n",
      "|egg white            |48        |\n",
      "|star anise           |47        |\n",
      "|bicarbonate of soda  |46        |\n",
      "|dried cranberrie     |45        |\n",
      "|red wine vinegar     |45        |\n",
      "|red onion            |43        |\n",
      "|cocoa powder         |40        |\n",
      "|Brussels sprout      |39        |\n",
      "|white wine vinegar   |39        |\n",
      "+---------------------+----------+\n",
      "only showing top 50 rows\n",
      "\n"
     ]
    }
   ],
   "source": [
    "#recounting and grouping by Ingredient again\n",
    "from pyspark.sql import functions as func\n",
    "counts = acounts.groupBy(\"Ingredient\").agg(func.sum(\"Total\")).orderBy([\"sum(Total)\"], ascending=[0])\n",
    "\n",
    "counts.show(50, truncate=False)"
   ]
  },
  {
   "cell_type": "code",
   "execution_count": 27,
   "metadata": {},
   "outputs": [],
   "source": [
    "#exporting to csv\n",
    "#counts.coalesce(1).write.option(\"header\",\"true\").csv(\"gs://big_data_vht/christmas_counts.csv\")"
   ]
  },
  {
   "cell_type": "markdown",
   "metadata": {},
   "source": [
    "## Prepping the Open Food Facts table for merge with Christmas Recipes"
   ]
  },
  {
   "cell_type": "code",
   "execution_count": 28,
   "metadata": {},
   "outputs": [],
   "source": [
    "df_ofoodfacts = spark.read.csv(\"gs://big_data_vht/reduced_OpenFoodFacts.csv\", inferSchema=True, header=True)"
   ]
  },
  {
   "cell_type": "code",
   "execution_count": 212,
   "metadata": {},
   "outputs": [],
   "source": [
    "df_ofoodfacts001 = spark.read.csv(\"gs://big_data_vht/reduced_OpenFoodFacts.csv\", inferSchema=True, header=True)"
   ]
  },
  {
   "cell_type": "code",
   "execution_count": 213,
   "metadata": {},
   "outputs": [
    {
     "data": {
      "text/html": [
       "<div>\n",
       "<style scoped>\n",
       "    .dataframe tbody tr th:only-of-type {\n",
       "        vertical-align: middle;\n",
       "    }\n",
       "\n",
       "    .dataframe tbody tr th {\n",
       "        vertical-align: top;\n",
       "    }\n",
       "\n",
       "    .dataframe thead th {\n",
       "        text-align: right;\n",
       "    }\n",
       "</style>\n",
       "<table border=\"1\" class=\"dataframe\">\n",
       "  <thead>\n",
       "    <tr style=\"text-align: right;\">\n",
       "      <th></th>\n",
       "      <th>product_name</th>\n",
       "      <th>brands</th>\n",
       "      <th>countries_en</th>\n",
       "      <th>ingredients_text</th>\n",
       "      <th>serving_size</th>\n",
       "      <th>serving_quantity</th>\n",
       "      <th>num_additives</th>\n",
       "      <th>additives</th>\n",
       "      <th>ingredients_from_palm_oil_n</th>\n",
       "      <th>ingredients_that_may_be_from_pal</th>\n",
       "      <th>...</th>\n",
       "      <th>carbohydrates_100g</th>\n",
       "      <th>sugars_100g</th>\n",
       "      <th>fiber_100g</th>\n",
       "      <th>proteins_100g</th>\n",
       "      <th>salt_100g</th>\n",
       "      <th>sodium_100g</th>\n",
       "      <th>vitamina_100g</th>\n",
       "      <th>vitaminc_100g</th>\n",
       "      <th>calcium_100g</th>\n",
       "      <th>iron_100g</th>\n",
       "    </tr>\n",
       "  </thead>\n",
       "  <tbody>\n",
       "    <tr>\n",
       "      <th>0</th>\n",
       "      <td>banana chips sweetened (whole)</td>\n",
       "      <td>nan</td>\n",
       "      <td>united states</td>\n",
       "      <td>bananas, vegetable oil (coconut oil, corn oil ...</td>\n",
       "      <td>28 g (1 onz)</td>\n",
       "      <td>28.0</td>\n",
       "      <td>0.0</td>\n",
       "      <td>[ bananas -&gt; en:bananas  ]  [ vegetable-oil -...</td>\n",
       "      <td>0.0</td>\n",
       "      <td>0.0</td>\n",
       "      <td>...</td>\n",
       "      <td>64.29</td>\n",
       "      <td>14.29</td>\n",
       "      <td>3.6</td>\n",
       "      <td>3.5699998999999996</td>\n",
       "      <td>0.0</td>\n",
       "      <td>0.0</td>\n",
       "      <td>0.0</td>\n",
       "      <td>0.021400001000000002</td>\n",
       "      <td>0.0</td>\n",
       "      <td>0.0012900000000000001</td>\n",
       "    </tr>\n",
       "    <tr>\n",
       "      <th>1</th>\n",
       "      <td>peanuts</td>\n",
       "      <td>torn &amp; glasser</td>\n",
       "      <td>united states</td>\n",
       "      <td>peanuts, wheat flour, sugar, rice flour, tapio...</td>\n",
       "      <td>28 g (0.25 cup)</td>\n",
       "      <td>28.0</td>\n",
       "      <td>0.0</td>\n",
       "      <td>[ peanuts -&gt; en:peanuts  ]  [ wheat-flour -&gt; ...</td>\n",
       "      <td>0.0</td>\n",
       "      <td>0.0</td>\n",
       "      <td>...</td>\n",
       "      <td>60.71</td>\n",
       "      <td>17.86</td>\n",
       "      <td>7.1</td>\n",
       "      <td>17.860001</td>\n",
       "      <td>0.635</td>\n",
       "      <td>0.25</td>\n",
       "      <td>0.0</td>\n",
       "      <td>0.0</td>\n",
       "      <td>0.071000002</td>\n",
       "      <td>0.0012900000000000001</td>\n",
       "    </tr>\n",
       "    <tr>\n",
       "      <th>2</th>\n",
       "      <td>organic salted nut mix</td>\n",
       "      <td>grizzlies</td>\n",
       "      <td>united states</td>\n",
       "      <td>organic hazelnuts, organic cashews, organic wa...</td>\n",
       "      <td>28 g (0.25 cup)</td>\n",
       "      <td>28.0</td>\n",
       "      <td>0.0</td>\n",
       "      <td>[ organic-hazelnuts -&gt; en:organic-hazelnuts  ...</td>\n",
       "      <td>0.0</td>\n",
       "      <td>0.0</td>\n",
       "      <td>...</td>\n",
       "      <td>17.86</td>\n",
       "      <td>3.57</td>\n",
       "      <td>7.1</td>\n",
       "      <td>17.860001</td>\n",
       "      <td>1.22428</td>\n",
       "      <td>0.48200000000000004</td>\n",
       "      <td>2.0976923846153848e-05</td>\n",
       "      <td>0.000675000025</td>\n",
       "      <td>0.14300001</td>\n",
       "      <td>0.00514</td>\n",
       "    </tr>\n",
       "  </tbody>\n",
       "</table>\n",
       "<p>3 rows × 25 columns</p>\n",
       "</div>"
      ],
      "text/plain": [
       "                     product_name          brands   countries_en  \\\n",
       "0  banana chips sweetened (whole)             nan  united states   \n",
       "1                         peanuts  torn & glasser  united states   \n",
       "2          organic salted nut mix       grizzlies  united states   \n",
       "\n",
       "                                    ingredients_text     serving_size  \\\n",
       "0  bananas, vegetable oil (coconut oil, corn oil ...     28 g (1 onz)   \n",
       "1  peanuts, wheat flour, sugar, rice flour, tapio...  28 g (0.25 cup)   \n",
       "2  organic hazelnuts, organic cashews, organic wa...  28 g (0.25 cup)   \n",
       "\n",
       "  serving_quantity num_additives  \\\n",
       "0             28.0           0.0   \n",
       "1             28.0           0.0   \n",
       "2             28.0           0.0   \n",
       "\n",
       "                                           additives  \\\n",
       "0   [ bananas -> en:bananas  ]  [ vegetable-oil -...   \n",
       "1   [ peanuts -> en:peanuts  ]  [ wheat-flour -> ...   \n",
       "2   [ organic-hazelnuts -> en:organic-hazelnuts  ...   \n",
       "\n",
       "  ingredients_from_palm_oil_n ingredients_that_may_be_from_pal  ...  \\\n",
       "0                         0.0                              0.0  ...   \n",
       "1                         0.0                              0.0  ...   \n",
       "2                         0.0                              0.0  ...   \n",
       "\n",
       "  carbohydrates_100g sugars_100g fiber_100g       proteins_100g salt_100g  \\\n",
       "0              64.29       14.29        3.6  3.5699998999999996       0.0   \n",
       "1              60.71       17.86        7.1           17.860001     0.635   \n",
       "2              17.86        3.57        7.1           17.860001   1.22428   \n",
       "\n",
       "           sodium_100g           vitamina_100g         vitaminc_100g  \\\n",
       "0                  0.0                     0.0  0.021400001000000002   \n",
       "1                 0.25                     0.0                   0.0   \n",
       "2  0.48200000000000004  2.0976923846153848e-05        0.000675000025   \n",
       "\n",
       "  calcium_100g              iron_100g  \n",
       "0          0.0  0.0012900000000000001  \n",
       "1  0.071000002  0.0012900000000000001  \n",
       "2   0.14300001                0.00514  \n",
       "\n",
       "[3 rows x 25 columns]"
      ]
     },
     "execution_count": 213,
     "metadata": {},
     "output_type": "execute_result"
    }
   ],
   "source": [
    "df_ofoodfacts001.limit(3).toPandas()"
   ]
  },
  {
   "cell_type": "code",
   "execution_count": 29,
   "metadata": {},
   "outputs": [],
   "source": [
    "df_ofoodfacts = df_ofoodfacts.dropna(subset=['product_name']).dropDuplicates(subset=['product_name'])"
   ]
  },
  {
   "cell_type": "code",
   "execution_count": 30,
   "metadata": {},
   "outputs": [],
   "source": [
    "df_ofoodfacts = df_ofoodfacts.withColumn('product_name', lower(col('product_name')))\n",
    "df_ofoodfacts = df_ofoodfacts.withColumn('product_name', regexp_replace('product_name', 'Organic', ''))\n",
    "df_ofoodfacts = df_ofoodfacts.withColumn('product_name', regexp_replace('product_name', '\\(', ''))\n",
    "df_ofoodfacts = df_ofoodfacts.withColumn('product_name', regexp_replace('product_name', '\\)', ''))\n",
    "df_ofoodfacts = df_ofoodfacts.withColumn('product_name', regexp_replace('product_name', '\\-', ''))\n",
    "df_ofoodfacts = df_ofoodfacts.withColumn('product_name', regexp_replace('product_name', '\\.', ''))\n",
    "df_ofoodfacts = df_ofoodfacts.withColumn('product_name', regexp_replace('product_name', '100\\%', ''))"
   ]
  },
  {
   "cell_type": "markdown",
   "metadata": {},
   "source": [
    "## Creating open food facts sub table for top 20 Christmas ingredients"
   ]
  },
  {
   "cell_type": "code",
   "execution_count": 31,
   "metadata": {},
   "outputs": [],
   "source": [
    "df_ofoodfacts.createOrReplaceTempView(\"df_ofoodfacts\")"
   ]
  },
  {
   "cell_type": "code",
   "execution_count": 32,
   "metadata": {},
   "outputs": [],
   "source": [
    "chris_facts=spark.sql(\"SELECT product_name, energy_100g, fat_100g, saturatedfat_100g, transfat_100g, cholesterol_100g, \\\n",
    "carbohydrates_100g, sugars_100g, fiber_100g, proteins_100g, salt_100g, sodium_100g, vitamina_100g, vitaminc_100g, \\\n",
    "calcium_100g, iron_100g, CASE WHEN product_name = 'butter' THEN 'butter' WHEN product_name = 'flour' \\\n",
    "THEN 'flour' WHEN product_name = 'olive oil' THEN 'olive oil' WHEN product_name = 'egg' THEN 'egg' \\\n",
    "WHEN product_name = 'sugar' THEN 'sugar' WHEN product_name  = 'garlic cloves' THEN 'garlic cloves' \\\n",
    "WHEN product_name = 'cream' THEN 'cream' WHEN product_name = 'onion' THEN 'onion' \\\n",
    "WHEN product_name = 'milk' THEN 'milk' WHEN product_name = 'cinnamon' THEN 'cinnamon' \\\n",
    "WHEN product_name = 'sunflower oil' THEN 'sunflower oil' WHEN product_name = 'vanilla extract' THEN 'vanilla extract' \\\n",
    "WHEN product_name = 'baking powder' THEN 'baking powder' WHEN product_name = 'honey' THEN 'honey' \\\n",
    "WHEN product_name = 'lemon' THEN 'lemon' WHEN product_name LIKE 'shallots' THEN 'shallots' \\\n",
    "WHEN product_name = 'almond' THEN 'almond' WHEN product_name LIKE 'syrup' THEN 'syrup' \\\n",
    "WHEN product_name = 'dark chocolate' THEN 'dark chocolate' WHEN product_name = 'vegetable oil' THEN 'vegetable oil' \\\n",
    "END AS key1 FROM df_ofoodfacts SORT by key1 ASC\")"
   ]
  },
  {
   "cell_type": "code",
   "execution_count": 33,
   "metadata": {},
   "outputs": [
    {
     "name": "stdout",
     "output_type": "stream",
     "text": [
      "+------------+-----------+--------+-----------------+-------------+----------------+------------------+-----------+----------+-------------+---------+-----------+-------------+-------------+------------+--------------------+\n",
      "|product_name|energy_100g|fat_100g|saturatedfat_100g|transfat_100g|cholesterol_100g|carbohydrates_100g|sugars_100g|fiber_100g|proteins_100g|salt_100g|sodium_100g|vitamina_100g|vitaminc_100g|calcium_100g|           iron_100g|\n",
      "+------------+-----------+--------+-----------------+-------------+----------------+------------------+-----------+----------+-------------+---------+-----------+-------------+-------------+------------+--------------------+\n",
      "|       lemon|     1569.0|     0.0|              0.0|          0.0|             0.0|             100.0|      100.0|       2.1|          0.0|      0.0|        0.0|          0.0| 0.0024999999|         0.0|0.000750000009999...|\n",
      "+------------+-----------+--------+-----------------+-------------+----------------+------------------+-----------+----------+-------------+---------+-----------+-------------+-------------+------------+--------------------+\n",
      "\n"
     ]
    }
   ],
   "source": [
    "test=spark.sql(\"SELECT product_name, energy_100g, fat_100g, saturatedfat_100g, transfat_100g, cholesterol_100g, \\\n",
    "carbohydrates_100g, sugars_100g, fiber_100g, proteins_100g, salt_100g, sodium_100g, vitamina_100g, vitaminc_100g, \\\n",
    "calcium_100g, iron_100g FROM df_ofoodfacts WHERE product_name  = 'lemon'\")\n",
    "test.show()"
   ]
  },
  {
   "cell_type": "code",
   "execution_count": 34,
   "metadata": {},
   "outputs": [],
   "source": [
    "chris_facts.createOrReplaceTempView(\"chris_facts\")\n",
    "chris_facts2=spark.sql(\"SELECT * \\\n",
    "FROM chris_facts \\\n",
    "WHERE key1 IS NOT NULL \\\n",
    "sort by key1 ASC\")"
   ]
  },
  {
   "cell_type": "code",
   "execution_count": 35,
   "metadata": {},
   "outputs": [],
   "source": [
    "chris_facts2.createOrReplaceTempView(\"chris_facts2\")"
   ]
  },
  {
   "cell_type": "code",
   "execution_count": 36,
   "metadata": {},
   "outputs": [
    {
     "name": "stdout",
     "output_type": "stream",
     "text": [
      "+-------------+-----------+--------+-----------------+-------------+----------------+------------------+-----------+----------+-------------+---------+-----------+-------------+-------------+------------+---------+-------------+\n",
      "| product_name|energy_100g|fat_100g|saturatedfat_100g|transfat_100g|cholesterol_100g|carbohydrates_100g|sugars_100g|fiber_100g|proteins_100g|salt_100g|sodium_100g|vitamina_100g|vitaminc_100g|calcium_100g|iron_100g|         key1|\n",
      "+-------------+-----------+--------+-----------------+-------------+----------------+------------------+-----------+----------+-------------+---------+-----------+-------------+-------------+------------+---------+-------------+\n",
      "|sunflower oil|     3586.0|   100.0|            10.71|          0.0|             0.0|               0.0|        0.0|       0.0|          0.0|      0.0|        0.0|          0.0|          0.0|         0.0|      0.0|sunflower oil|\n",
      "+-------------+-----------+--------+-----------------+-------------+----------------+------------------+-----------+----------+-------------+---------+-----------+-------------+-------------+------------+---------+-------------+\n",
      "\n"
     ]
    }
   ],
   "source": [
    "chris_facts3=spark.sql(\"SELECT * \\\n",
    "FROM chris_facts2 \\\n",
    "WHERE key1 ='sunflower oil' \\\n",
    "sort by key1 ASC\")\n",
    "chris_facts3.show()"
   ]
  },
  {
   "cell_type": "code",
   "execution_count": 37,
   "metadata": {},
   "outputs": [],
   "source": [
    "chris1=spark.sql(\"SELECT * FROM chris_facts2 WHERE key1='dark chocolate' LIMIT 1\" )\n",
    "chris2=spark.sql(\"SELECT * FROM chris_facts2 WHERE key1='cream' LIMIT 1\" )\n",
    "chris3=spark.sql(\"SELECT * FROM chris_facts2 WHERE key1='milk' LIMIT 1\" )\n",
    "chris4=spark.sql(\"SELECT * FROM chris_facts2 WHERE key1='egg' LIMIT 1\" )\n",
    "chris5=spark.sql(\"SELECT * FROM chris_facts2 WHERE key1='syrup' LIMIT 1\" )\n",
    "chris6=spark.sql(\"SELECT * FROM chris_facts2 WHERE key1='honey' LIMIT 1\" )\n",
    "chris7=spark.sql(\"SELECT * FROM chris_facts2 WHERE key1='cinnamon' LIMIT 1\" )\n",
    "chris8=spark.sql(\"SELECT * FROM chris_facts2 WHERE key1='butter' LIMIT 1\" )\n",
    "chris9=spark.sql(\"SELECT * FROM chris_facts2 WHERE key1='sunflower oil' LIMIT 1\" )\n",
    "chris10=spark.sql(\"SELECT * FROM chris_facts2 WHERE key1='olive oil' LIMIT 1\" )\n",
    "chris11=spark.sql(\"SELECT * FROM chris_facts2 WHERE key1='vegetable oil' LIMIT 1\" )\n",
    "chris12=spark.sql(\"SELECT * FROM chris_facts2 WHERE key1='almond' LIMIT 1\" )\n",
    "chris13=spark.sql(\"SELECT * FROM chris_facts2 WHERE key1='lemon' LIMIT 1\" )\n",
    "chris14=spark.sql(\"SELECT * FROM chris_facts2 WHERE key1='shallots' LIMIT 1\" )\n",
    "chris15=spark.sql(\"SELECT * FROM chris_facts2 WHERE key1='vanilla extract' LIMIT 1\" )\n",
    "chris16=spark.sql(\"SELECT * FROM chris_facts2 WHERE key1='baking powder' LIMIT 1\" )\n",
    "chris17=spark.sql(\"SELECT * FROM chris_facts2 WHERE key1='garlic cloves' LIMIT 1\" )\n",
    "chris18=spark.sql(\"SELECT * FROM chris_facts2 WHERE key1='flour' LIMIT 1\" )\n",
    "chris19=spark.sql(\"SELECT * FROM chris_facts2 WHERE key1='sugar' LIMIT 1\" )\n",
    "chris20=spark.sql(\"SELECT * FROM chris_facts2 WHERE key1='onion' LIMIT 1\" )"
   ]
  },
  {
   "cell_type": "code",
   "execution_count": 38,
   "metadata": {},
   "outputs": [
    {
     "name": "stdout",
     "output_type": "stream",
     "text": [
      "+------------+-----------+--------+-----------------+-------------+----------------+------------------+-----------+----------+-------------+---------+-----------+-------------+-------------+------------+--------------------+-----+\n",
      "|product_name|energy_100g|fat_100g|saturatedfat_100g|transfat_100g|cholesterol_100g|carbohydrates_100g|sugars_100g|fiber_100g|proteins_100g|salt_100g|sodium_100g|vitamina_100g|vitaminc_100g|calcium_100g|           iron_100g| key1|\n",
      "+------------+-----------+--------+-----------------+-------------+----------------+------------------+-----------+----------+-------------+---------+-----------+-------------+-------------+------------+--------------------+-----+\n",
      "|       flour|     1393.0|     0.0|              0.0|          0.0|             0.0|             73.33|       3.33|       3.3|         10.0|  2.71018|      1.067|          0.0|          0.0|       0.133|0.004800000200000...|flour|\n",
      "+------------+-----------+--------+-----------------+-------------+----------------+------------------+-----------+----------+-------------+---------+-----------+-------------+-------------+------------+--------------------+-----+\n",
      "\n"
     ]
    }
   ],
   "source": [
    "chris18.show()"
   ]
  },
  {
   "cell_type": "code",
   "execution_count": 39,
   "metadata": {},
   "outputs": [
    {
     "name": "stdout",
     "output_type": "stream",
     "text": [
      "20\n",
      "+---------------+-----------+------------------+------------------+-------------+--------------------+------------------+------------------+------------------+-----------------+--------------------+--------------------+--------------------+--------------------+--------------------+--------------------+---------------+\n",
      "|   product_name|energy_100g|          fat_100g| saturatedfat_100g|transfat_100g|    cholesterol_100g|carbohydrates_100g|       sugars_100g|        fiber_100g|    proteins_100g|           salt_100g|         sodium_100g|       vitamina_100g|       vitaminc_100g|        calcium_100g|           iron_100g|           key1|\n",
      "+---------------+-----------+------------------+------------------+-------------+--------------------+------------------+------------------+------------------+-----------------+--------------------+--------------------+--------------------+--------------------+--------------------+--------------------+---------------+\n",
      "| dark chocolate|     2260.0|              36.0|              22.0|          0.0|                 0.0|              56.0|              42.0|              10.0|              6.0| 0.27899999999999997|                0.11|                 0.0|                 0.0|                 0.0|        0.0035999999| dark chocolate|\n",
      "|          cream|     2176.0|              32.0|              28.0|          0.0|                 0.0|              48.0|               8.0|               0.0|              4.0|              5.4864|                2.16|                 0.0|                 0.0|                 0.0|                 0.0|          cream|\n",
      "|           milk|      259.0|         3.3299999|         2.0799999|          0.0|               0.015|               5.0|              4.58|               0.0|        3.3299999|               0.127|                0.05|       3.7500002e-05|               0.001|               0.125|                 0.0|           milk|\n",
      "|            egg|      222.0|               0.0|               0.0|          0.0|        0.0040000002|              1.77|               0.0|               0.9|        9.7299995|              0.4953|               0.195|       0.00026550001|                 0.0|               0.035|             0.00159|            egg|\n",
      "|          syrup|     1464.0|               0.0|             7.145|          0.0|                 0.0|             88.33|              55.0|              1.45|              0.0|             0.29718| 0.11699999999999999|0.000535649999999...|              0.0013|                 0.0|                 0.0|          syrup|\n",
      "|          honey|     1336.5|        15.2049999|        1.17999995|          0.0|0.018500000000000003|35.745000000000005|             8.175|               2.0|9.405000000000001|             0.42926| 0.16899999999999998|                 0.0|              0.0008|0.006999999999999999|             0.00091|          honey|\n",
      "|       cinnamon|        0.0|               0.0| 2.449999966666667|          0.0|                 0.0|               0.0|               0.0|5.6000000000000005|              0.0|                 0.0|                 0.0|                 0.0|              0.0006|               0.096|        0.0014133334|       cinnamon|\n",
      "|         butter|     2987.0|             78.57|              50.0|          0.0|               0.214|               0.0|             3.335|              0.75|              0.0|  1.6332200000000001|               0.643|0.000857100009999...|              0.0231| 0.14350000000000002|0.003874999949999...|         butter|\n",
      "|  sunflower oil|     3586.0|             100.0|             10.71|          0.0|                 0.0|               0.0|               0.0|               0.0|              0.0|                 0.0|                 0.0|                 0.0|                 0.0|                 0.0|                 0.0|  sunflower oil|\n",
      "|      olive oil|     3347.0| 93.33000200000001|             13.33|          0.0|                 0.0|               0.0|              2.81|              6.85|              0.0|                 0.0|                 0.0|                 0.0|                 0.0|0.030999999500000004|       0.00202499995|      olive oil|\n",
      "|  vegetable oil|     3586.0|             100.0|             14.29|          0.0|                 0.0|               0.0|               0.0|               0.0|              0.0|                 0.0|                 0.0|                 0.0|                 0.0|                 0.0|                 0.0|  vegetable oil|\n",
      "|         almond|     2648.0|              50.0|         3.3299999|          0.0|                 0.0|              20.0|              3.33|              10.0|            23.33|                 0.0|                 0.0|                 0.0|                 0.0|          0.26699999|        0.0035999999|         almond|\n",
      "|          lemon|     1569.0|               0.0|               0.0|          0.0|                 0.0|             100.0|             100.0|               2.1|              0.0|                 0.0|                 0.0|                 0.0|        0.0024999999|                 0.0|0.000750000009999...|          lemon|\n",
      "|       shallots|      293.0|               0.0|               0.0|          0.0|                 0.0|              20.0|               0.0|               0.0|              0.0|              0.0254|                0.01|       0.00030000001|        0.0060000001|                 0.0|              0.0018|       shallots|\n",
      "|vanilla extract|     1255.0|23.854999499999998|3.2185713428571425|          0.0|0.000666666666666...|              25.0|              25.0|              14.7|       14.9300005|0.011853333333333334|0.004666666666666666|3.214285714285713...|0.000428571428571...| 0.15733333333333333|        0.0044150001|vanilla extract|\n",
      "|  baking powder|        0.0|               0.0|        1.20500005|          0.0|        0.0085000005|               0.0|2.4749999999999996|2.1500000000000004|              0.0|            27.51582|              10.833|      1.03499995e-05|                 0.0|  3.3329998999999995|            0.002535|  baking powder|\n",
      "|  garlic cloves|      176.0|               0.0|            0.4175|          0.0|                 0.0|              8.33|               0.0|              4.15|       1.66499995|             4.23418|  1.6669999999999998|                 0.0|                 0.0|                 0.0|                 0.0|  garlic cloves|\n",
      "|          flour|     1393.0|               0.0|               0.0|          0.0|                 0.0|             73.33|              3.33|               3.3|             10.0|             2.71018|               1.067|                 0.0|                 0.0|               0.133|0.004800000200000...|          flour|\n",
      "|          sugar|     1569.0|               0.0|               0.0|          0.0|              0.0075|             100.0|             100.0|               0.0|              0.0|                 0.0|                 0.0|                 0.0|                 0.0|                 0.0|                 0.0|          sugar|\n",
      "|          onion|      837.0|         17.139999|             10.48|          0.0|         0.067000002|              7.62|              3.81|               0.0|        2.8599999|  2.1539200000000003|               0.848|                 0.0|                 0.0|         0.094999999|                 0.0|          onion|\n",
      "+---------------+-----------+------------------+------------------+-------------+--------------------+------------------+------------------+------------------+-----------------+--------------------+--------------------+--------------------+--------------------+--------------------+--------------------+---------------+\n",
      "\n"
     ]
    }
   ],
   "source": [
    "chris_ing_table=chris1.union(chris2)\n",
    "chris_ing_table=chris_ing_table.union(chris3)\n",
    "chris_ing_table=chris_ing_table.union(chris4)\n",
    "chris_ing_table=chris_ing_table.union(chris5)\n",
    "chris_ing_table=chris_ing_table.union(chris6)\n",
    "chris_ing_table=chris_ing_table.union(chris7)\n",
    "chris_ing_table=chris_ing_table.union(chris8)\n",
    "chris_ing_table=chris_ing_table.union(chris9)\n",
    "chris_ing_table=chris_ing_table.union(chris10)\n",
    "chris_ing_table=chris_ing_table.union(chris11)\n",
    "chris_ing_table=chris_ing_table.union(chris12)\n",
    "chris_ing_table=chris_ing_table.union(chris13)\n",
    "chris_ing_table=chris_ing_table.union(chris14)\n",
    "chris_ing_table=chris_ing_table.union(chris15)\n",
    "chris_ing_table=chris_ing_table.union(chris16)\n",
    "chris_ing_table=chris_ing_table.union(chris17)\n",
    "chris_ing_table=chris_ing_table.union(chris18)\n",
    "chris_ing_table=chris_ing_table.union(chris19)\n",
    "chris_ing_table=chris_ing_table.union(chris20)\n",
    "print(chris_ing_table.count())\n",
    "chris_ing_table.show()"
   ]
  },
  {
   "cell_type": "code",
   "execution_count": 40,
   "metadata": {},
   "outputs": [],
   "source": [
    "#exporting to csv\n",
    "chris_ing_table.coalesce(1).write.option(\"header\",\"true\").csv(\"gs://big_data_vht/ofood_for_chris.csv\")"
   ]
  },
  {
   "cell_type": "markdown",
   "metadata": {},
   "source": [
    "## Merging the open food facts table of the top christmas ingredients with the christmas recipes"
   ]
  },
  {
   "cell_type": "code",
   "execution_count": 41,
   "metadata": {},
   "outputs": [],
   "source": [
    "chris_ing_table = spark.read.csv(\"gs://big_data_vht/ofood_for_chris.csv\", inferSchema=True, header=True)"
   ]
  },
  {
   "cell_type": "code",
   "execution_count": 42,
   "metadata": {},
   "outputs": [
    {
     "name": "stdout",
     "output_type": "stream",
     "text": [
      "+--------------+-----------+---------+-----------------+-------------+----------------+------------------+-----------+----------+-------------+-------------------+-------------------+--------------------+-------------+------------+---------+--------------+\n",
      "|  product_name|energy_100g| fat_100g|saturatedfat_100g|transfat_100g|cholesterol_100g|carbohydrates_100g|sugars_100g|fiber_100g|proteins_100g|          salt_100g|        sodium_100g|       vitamina_100g|vitaminc_100g|calcium_100g|iron_100g|          key1|\n",
      "+--------------+-----------+---------+-----------------+-------------+----------------+------------------+-----------+----------+-------------+-------------------+-------------------+--------------------+-------------+------------+---------+--------------+\n",
      "|dark chocolate|     2301.0|     35.0|             20.0|          0.0|           0.025|              50.0|       47.5|       7.5|          5.0|0.09652000000000001|              0.038|                 0.0|          0.0|         0.1|   0.0018|dark chocolate|\n",
      "|         cream|     2176.0|     32.0|             28.0|          0.0|             0.0|              48.0|        8.0|       0.0|          4.0|             5.4864|               2.16|                 0.0|          0.0|         0.0|      0.0|         cream|\n",
      "|          milk|      259.0|3.3299999|        2.0799999|          0.0|           0.015|               5.0|       4.58|       0.0|    3.3299999|              0.127|               0.05|        3.7500002E-5|        0.001|       0.125|      0.0|          milk|\n",
      "|           egg|      222.0|      0.0|              0.0|          0.0|    0.0040000002|              1.77|        0.0|       0.9|    9.7299995|             0.4953|              0.195|        2.6550001E-4|          0.0|       0.035|  0.00159|           egg|\n",
      "|         syrup|     1464.0|      0.0|            7.145|          0.0|             0.0|             88.33|       55.0|      1.45|          0.0|            0.29718|0.11699999999999999|5.356499999999999E-4|       0.0013|         0.0|      0.0|         syrup|\n",
      "+--------------+-----------+---------+-----------------+-------------+----------------+------------------+-----------+----------+-------------+-------------------+-------------------+--------------------+-------------+------------+---------+--------------+\n",
      "only showing top 5 rows\n",
      "\n"
     ]
    }
   ],
   "source": [
    "chris_ing_table.show(5)"
   ]
  },
  {
   "cell_type": "code",
   "execution_count": 43,
   "metadata": {},
   "outputs": [],
   "source": [
    "#exploding the ingredients column\n",
    "from pyspark import Row\n",
    "from pyspark.sql import SQLContext\n",
    "from pyspark.sql.functions import explode"
   ]
  },
  {
   "cell_type": "code",
   "execution_count": 44,
   "metadata": {},
   "outputs": [],
   "source": [
    "df_chrisrecipes_v1 = df_chrisrecipes.select(\"Name\",'Ingredients')"
   ]
  },
  {
   "cell_type": "code",
   "execution_count": 45,
   "metadata": {},
   "outputs": [
    {
     "name": "stdout",
     "output_type": "stream",
     "text": [
      "+-------------+---------------------------------------------------------------------------------------------------------------------------------------------------------------------------------------------------------------------------------------------------------------------------------------------------------------------------------------------------------------------------------------------------------------------------------+\n",
      "|Name         |Ingredients                                                                                                                                                                                                                                                                                                                                                                                                                      |\n",
      "+-------------+---------------------------------------------------------------------------------------------------------------------------------------------------------------------------------------------------------------------------------------------------------------------------------------------------------------------------------------------------------------------------------------------------------------------------------+\n",
      "|Christmas pie|[2 tbsp olive oil, knob butter, 1 onion, finely chopped, 500g sausagemeat or skinned sausages, grated zest of 1 lemon, 100g fresh white breadcrumbs, 85g ready-to-eat dried apricots, chopped, 50g chestnut, canned or vacuum-packed, chopped, 2 tsp chopped fresh or 1tsp dried thyme, 100g cranberries, fresh or frozen, 500g boneless, skinless chicken breasts, 500g pack ready-made shortcrust pastry, beaten egg, to glaze]|\n",
      "+-------------+---------------------------------------------------------------------------------------------------------------------------------------------------------------------------------------------------------------------------------------------------------------------------------------------------------------------------------------------------------------------------------------------------------------------------------+\n",
      "only showing top 1 row\n",
      "\n"
     ]
    }
   ],
   "source": [
    "df_chrisrecipes_v1.show(1,truncate=False)"
   ]
  },
  {
   "cell_type": "code",
   "execution_count": 46,
   "metadata": {},
   "outputs": [],
   "source": [
    "df_chrisrecipes_v2 = df_chrisrecipes_v1.withColumn('Ingredients', explode('Ingredients'))"
   ]
  },
  {
   "cell_type": "code",
   "execution_count": 47,
   "metadata": {},
   "outputs": [
    {
     "name": "stdout",
     "output_type": "stream",
     "text": [
      "+-------------+--------------------+\n",
      "|         Name|         Ingredients|\n",
      "+-------------+--------------------+\n",
      "|Christmas pie|           olive oil|\n",
      "|Christmas pie|              butter|\n",
      "|Christmas pie|               onion|\n",
      "|Christmas pie|500g sausagemeat ...|\n",
      "|Christmas pie|               lemon|\n",
      "+-------------+--------------------+\n",
      "only showing top 5 rows\n",
      "\n"
     ]
    }
   ],
   "source": [
    "#replacing the value similar with keys in the column\n",
    "#dropping values with null in nutrients columns\n",
    "df_chrisrecipes_v3 = df_chrisrecipes_v2.withColumn('Ingredients', regexp_replace('Ingredients', '.*olive oil.*', 'olive oil'))\n",
    "df_chrisrecipes_v3 = df_chrisrecipes_v3.withColumn('Ingredients', regexp_replace('Ingredients', '.*butter.*', 'butter'))\n",
    "df_chrisrecipes_v3 = df_chrisrecipes_v3.withColumn('Ingredients', regexp_replace('Ingredients', '.*dark chocolate.*', 'dark chocolate'))\n",
    "df_chrisrecipes_v3 = df_chrisrecipes_v3.withColumn('Ingredients', regexp_replace('Ingredients', '.*cream.*', 'cream'))\n",
    "df_chrisrecipes_v3 = df_chrisrecipes_v3.withColumn('Ingredients', regexp_replace('Ingredients', '.*milk.*', 'milk'))\n",
    "df_chrisrecipes_v3 = df_chrisrecipes_v3.withColumn('Ingredients', regexp_replace('Ingredients', '.*egg.*', 'egg'))\n",
    "df_chrisrecipes_v3 = df_chrisrecipes_v3.withColumn('Ingredients', regexp_replace('Ingredients', '.*syrup.*', 'syrup'))\n",
    "df_chrisrecipes_v3 = df_chrisrecipes_v3.withColumn('Ingredients', regexp_replace('Ingredients', '.*honey.*', 'honey'))\n",
    "df_chrisrecipes_v3 = df_chrisrecipes_v3.withColumn('Ingredients', regexp_replace('Ingredients', '.*cinnamon.*', 'cinnamon'))\n",
    "df_chrisrecipes_v3 = df_chrisrecipes_v3.withColumn('Ingredients', regexp_replace('Ingredients', '.*butter.*', 'butter'))\n",
    "df_chrisrecipes_v3 = df_chrisrecipes_v3.withColumn('Ingredients', regexp_replace('Ingredients', '.*sunflower oil.*', 'sunflower oil'))\n",
    "df_chrisrecipes_v3 = df_chrisrecipes_v3.withColumn('Ingredients', regexp_replace('Ingredients', '.*vegetable oil.*', 'vegetable oil'))\n",
    "df_chrisrecipes_v3 = df_chrisrecipes_v3.withColumn('Ingredients', regexp_replace('Ingredients', '.*almond.*', 'almond'))\n",
    "df_chrisrecipes_v3 = df_chrisrecipes_v3.withColumn('Ingredients', regexp_replace('Ingredients', '.*lemon.*', 'lemon'))\n",
    "df_chrisrecipes_v3 = df_chrisrecipes_v3.withColumn('Ingredients', regexp_replace('Ingredients', '.*shallot.*', 'shallots'))\n",
    "df_chrisrecipes_v3 = df_chrisrecipes_v3.withColumn('Ingredients', regexp_replace('Ingredients', '.*vanilla extract.*', 'vanilla extract'))\n",
    "df_chrisrecipes_v3 = df_chrisrecipes_v3.withColumn('Ingredients', regexp_replace('Ingredients', '.*baking powder.*', 'baking powder'))\n",
    "df_chrisrecipes_v3 = df_chrisrecipes_v3.withColumn('Ingredients', regexp_replace('Ingredients', '.*garlic clove.*', 'garlic cloves'))\n",
    "df_chrisrecipes_v3 = df_chrisrecipes_v3.withColumn('Ingredients', regexp_replace('Ingredients', '.*flour.*', 'flour'))\n",
    "df_chrisrecipes_v3 = df_chrisrecipes_v3.withColumn('Ingredients', regexp_replace('Ingredients', '.*sugar.*', 'sugar'))\n",
    "df_chrisrecipes_v3 = df_chrisrecipes_v3.withColumn('Ingredients', regexp_replace('Ingredients', '.*onion.*', 'onion'))\n",
    "\n",
    "df_chrisrecipes_v3.show(5)"
   ]
  },
  {
   "cell_type": "code",
   "execution_count": 48,
   "metadata": {},
   "outputs": [
    {
     "name": "stdout",
     "output_type": "stream",
     "text": [
      "+-------------+--------------------+\n",
      "|         Name|                key1|\n",
      "+-------------+--------------------+\n",
      "|Christmas pie|           olive oil|\n",
      "|Christmas pie|              butter|\n",
      "|Christmas pie|               onion|\n",
      "|Christmas pie|500g sausagemeat ...|\n",
      "|Christmas pie|               lemon|\n",
      "+-------------+--------------------+\n",
      "only showing top 5 rows\n",
      "\n"
     ]
    }
   ],
   "source": [
    "#merging!\n",
    "#renaming column\n",
    "df_chrisrecipes_v3 = df_chrisrecipes_v3.withColumnRenamed(\"Ingredients\",\"key1\")\n",
    "df_chrisrecipes_v3.show(5)"
   ]
  },
  {
   "cell_type": "code",
   "execution_count": 49,
   "metadata": {},
   "outputs": [
    {
     "name": "stdout",
     "output_type": "stream",
     "text": [
      "+---------+--------------------+------------+-----------+-----------------+-----------------+-------------+----------------+------------------+-----------+----------+-------------+------------------+-----------+--------------------+-------------+--------------------+--------------------+\n",
      "|     key1|                Name|product_name|energy_100g|         fat_100g|saturatedfat_100g|transfat_100g|cholesterol_100g|carbohydrates_100g|sugars_100g|fiber_100g|proteins_100g|         salt_100g|sodium_100g|       vitamina_100g|vitaminc_100g|        calcium_100g|           iron_100g|\n",
      "+---------+--------------------+------------+-----------+-----------------+-----------------+-------------+----------------+------------------+-----------+----------+-------------+------------------+-----------+--------------------+-------------+--------------------+--------------------+\n",
      "|olive oil|       Christmas pie|   olive oil|     3347.0|93.33000200000001|            13.33|          0.0|             0.0|               0.0|       2.81|      6.85|          0.0|               0.0|        0.0|                 0.0|          0.0|0.030999999500000004|       0.00202499995|\n",
      "|   butter|       Christmas pie|      butter|     2987.0|            78.57|             50.0|          0.0|           0.214|               0.0|       20.0|       1.0|          0.0|1.6332200000000001|      0.643|8.571000099999999E-4|       0.0308| 0.10266666666666666|        0.0051666666|\n",
      "|    onion|       Christmas pie|       onion|      837.0|        17.139999|            10.48|          0.0|     0.067000002|              7.62|       3.81|       0.0|    2.8599999|2.1539200000000003|      0.848|                 0.0|          0.0|         0.094999999|                 0.0|\n",
      "|    lemon|       Christmas pie|       lemon|     1569.0|              0.0|              0.0|          0.0|             0.0|             100.0|      100.0|       2.1|          0.0|               0.0|        0.0|                 0.0| 0.0024999999|                 0.0|7.500000099999999E-4|\n",
      "|      egg|       Christmas pie|         egg|      222.0|              0.0|              0.0|          0.0|    0.0040000002|              1.77|        0.0|       0.9|    9.7299995|            0.4953|      0.195|        2.6550001E-4|          0.0|               0.035|             0.00159|\n",
      "|   butter|Simmer-&-stir Chr...|      butter|     2987.0|            78.57|             50.0|          0.0|           0.214|               0.0|       20.0|       1.0|          0.0|1.6332200000000001|      0.643|8.571000099999999E-4|       0.0308| 0.10266666666666666|        0.0051666666|\n",
      "|    sugar|Simmer-&-stir Chr...|       sugar|     1569.0|              0.0|              0.0|          0.0|          0.0075|             100.0|      100.0|       0.0|          0.0|               0.0|        0.0|                 0.0|          0.0|                 0.0|                 0.0|\n",
      "|    lemon|Simmer-&-stir Chr...|       lemon|     1569.0|              0.0|              0.0|          0.0|             0.0|             100.0|      100.0|       2.1|          0.0|               0.0|        0.0|                 0.0| 0.0024999999|                 0.0|7.500000099999999E-4|\n",
      "|      egg|Simmer-&-stir Chr...|         egg|      222.0|              0.0|              0.0|          0.0|    0.0040000002|              1.77|        0.0|       0.9|    9.7299995|            0.4953|      0.195|        2.6550001E-4|          0.0|               0.035|             0.00159|\n",
      "|   almond|Simmer-&-stir Chr...|      almond|     2648.0|             50.0|        3.3299999|          0.0|             0.0|              20.0|       3.33|      10.0|        23.33|               0.0|        0.0|                 0.0|          0.0|          0.26699999|        0.0035999999|\n",
      "+---------+--------------------+------------+-----------+-----------------+-----------------+-------------+----------------+------------------+-----------+----------+-------------+------------------+-----------+--------------------+-------------+--------------------+--------------------+\n",
      "only showing top 10 rows\n",
      "\n"
     ]
    }
   ],
   "source": [
    "#joining chrismas recipes table with top ingredients open food facts table\n",
    "res = df_chrisrecipes_v3.join(chris_ing_table, \"key1\")\n",
    "res.show(10)"
   ]
  },
  {
   "cell_type": "code",
   "execution_count": 50,
   "metadata": {},
   "outputs": [
    {
     "data": {
      "text/plain": [
       "6363"
      ]
     },
     "execution_count": 50,
     "metadata": {},
     "output_type": "execute_result"
    }
   ],
   "source": [
    "res.count()"
   ]
  },
  {
   "cell_type": "code",
   "execution_count": 51,
   "metadata": {},
   "outputs": [
    {
     "name": "stdout",
     "output_type": "stream",
     "text": [
      "+--------------------+-------+------------------+------------------+--------+-------------------+------------------+------------------+------------------+------------------+------------------+-------------------+--------------------+--------------------+-------------------+--------------------+\n",
      "|                Name| energy|               fat|      saturatedfat|transfat|        cholesterol|             carbs|            sugars|             fiber|           protein|              salt|             sodium|               vit_a|               vit_c|            calcium|                iron|\n",
      "+--------------------+-------+------------------+------------------+--------+-------------------+------------------+------------------+------------------+------------------+------------------+-------------------+--------------------+--------------------+-------------------+--------------------+\n",
      "|       Reindeer food| 6619.0|             100.0|21.247307646153846|     0.0|             0.0075|188.32999999999998|             155.0| 8.242307692307692|               0.0|           0.29718|0.11699999999999999|5.356499999999999E-4|0.002130769230769...|0.09446153846153847|0.001956923169230...|\n",
      "|Mashed peppered r...| 3246.0|        81.8999999|        52.0799999|     0.0|0.22899999999999998|               5.0|             24.58|               1.0|         3.3299999|1.7602200000000001| 0.6930000000000001|8.946000119999999E-4|              0.0318|0.22766666666666666|        0.0051666666|\n",
      "|      Pork & ham pie| 2933.0|        20.4699989|12.559999900000001|     0.0|0.09000000240000001|             89.49|             11.72|5.1000000000000005|        35.6499988|            5.9817| 2.3549999999999995|       5.68500022E-4|               0.001|0.42299999900000007|        0.0079800002|\n",
      "|Caramelised onion...| 7874.0|       131.0399989| 90.55999990000001|     0.0|       0.3000000022|            135.72|             39.72|               5.2|        29.9199993|12.606020000000001|              4.963|      0.001160100022|              0.0318| 0.4906666656666667|0.011556666799999999|\n",
      "|Pecan & maple syr...|14521.0|       192.4699999|147.76230754615386|     0.0|0.45450000020000003|404.75999999999993|265.90999999999997|15.892307692307691|        27.0599994|12.679680000000001|              4.992|0.003088500031999...| 0.06603076923076923| 0.5927948717948719| 0.01868025656923077|\n",
      "|Herb rolled pork ...| 6510.0|        171.900002| 65.55166666666666|     0.0|              0.214|              8.33|             22.81|            11.575|2.2199999333333333|            5.8674| 2.3099999999999996|8.571000099999999E-4|              0.0308|0.13366666616666667|       0.00719166655|\n",
      "|      Christmas slaw| 5648.0|110.47000100000001|            30.955|     0.0|        0.067000002|             95.95|61.620000000000005| 8.299999999999999|         2.8599999|2.4511000000000003|              0.965|5.356499999999999E-4|              0.0013|0.12599999850000002|       0.00202499995|\n",
      "|Maple crunch ice ...| 5154.0|59.184999399999995|40.443571242857146|     0.0|0.01566666666666667|166.32999999999998|             92.58|             16.15|        22.2600004| 5.922433333333333|  2.331666666666667| 6.05292859142857E-4|0.002728571428571...| 0.2823333333333333|        0.0044150001|\n",
      "|Creamy bread & on...|12518.0|       262.0799978|       181.1199998|     0.0|        0.592000004|121.24000000000001|             72.78|               2.0|20.379999599999998|          18.80108|              7.402|0.001789200023999...|              0.0636| 0.6453333313333334|        0.0103333332|\n",
      "|Butternut Dauphin...| 8585.0|192.46999989999998|132.30166656666665|     0.0|0.44299999999999995|             61.33|             52.58|             5.725| 9.549999833333333|          13.11402|  5.162999999999999|0.001751700021999...|              0.0626| 0.3303333333333333|        0.0103333332|\n",
      "+--------------------+-------+------------------+------------------+--------+-------------------+------------------+------------------+------------------+------------------+------------------+-------------------+--------------------+--------------------+-------------------+--------------------+\n",
      "only showing top 10 rows\n",
      "\n"
     ]
    }
   ],
   "source": [
    "#aggregating the nutrients column and grouping by recipe name\n",
    "christmas_table = res.groupBy(\"Name\").agg(func.sum(\"energy_100g\").alias(\"energy\"), func.sum(\"fat_100g\").alias(\"fat\"),\n",
    "func.sum( \"saturatedfat_100g\").alias(\"saturatedfat\"), func.sum(\"transfat_100g\").alias(\"transfat\"),\n",
    "func.sum(\"cholesterol_100g\").alias(\"cholesterol\"), func.sum(\"carbohydrates_100g\").alias(\"carbs\"), func.sum(\"sugars_100g\").alias(\"sugars\"), \n",
    "func.sum(\"fiber_100g\").alias(\"fiber\"), func.sum(\"proteins_100g\").alias(\"protein\"),func.sum(\"salt_100g\").alias(\"salt\"),\n",
    "func.sum(\"sodium_100g\").alias(\"sodium\"), func.sum(\"vitamina_100g\").alias(\"vit_a\"), func.sum(\"vitaminc_100g\").alias(\"vit_c\"), \n",
    "func.sum(\"calcium_100g\").alias(\"calcium\"), func.sum(\"iron_100g\").alias(\"iron\"))\n",
    "christmas_table.show(10)"
   ]
  },
  {
   "cell_type": "code",
   "execution_count": 52,
   "metadata": {},
   "outputs": [],
   "source": [
    "#exporting to csv\n",
    "#christmas_table.coalesce(1).write.option(\"header\",\"true\").csv(\"gs://big_data_vht/final_chris_table.csv\")"
   ]
  },
  {
   "cell_type": "markdown",
   "metadata": {},
   "source": [
    "# General Recipes"
   ]
  },
  {
   "cell_type": "code",
   "execution_count": 53,
   "metadata": {},
   "outputs": [
    {
     "data": {
      "text/plain": [
       "DataFrame[summary: string, title: string, Ingredients: string]"
      ]
     },
     "execution_count": 53,
     "metadata": {},
     "output_type": "execute_result"
    }
   ],
   "source": [
    "df_regrecipes = spark.read.csv(\"gs://big_data_vht/Cleaned_General_Recipe.csv\", inferSchema=True, header=True)\n",
    "#df_regrecipes = spark.read.csv('/user/alvinharyanto/data/Cleaned_General_Recipe.csv', inferSchema=True, header=True)\n",
    "df_regrecipes.describe()"
   ]
  },
  {
   "cell_type": "code",
   "execution_count": 54,
   "metadata": {
    "scrolled": false
   },
   "outputs": [
    {
     "name": "stdout",
     "output_type": "stream",
     "text": [
      "+-------------------------------------------+-----------------------------------------------------------------------------------------------------------------------------------------------------+\n",
      "|title                                      |Ingredients                                                                                                                                          |\n",
      "+-------------------------------------------+-----------------------------------------------------------------------------------------------------------------------------------------------------+\n",
      "|Lentil, Apple, and Turkey Wrap             |apple bean cookie fruit kid-friendly lentil lettuce sandwich tomato vegetable turkey                                                                 |\n",
      "|Boudin Blanc Terrine with Red Onion Confit |bake bastille day bon appétit chill dried fruit food processor new year's eve onion pork port winter                                                 |\n",
      "|Potato and Fennel Soup Hodge               |dairy fennel gourmet new york potato soup/stew vegetable                                                                                             |\n",
      "|Mahi-Mahi in Tomato Olive Sauce            |bon appétit dairy free dinner fish healthy high fiber kosher low cal low fat olive peanut free pescatarian sauté simmer soy free tomato tree nut free|\n",
      "+-------------------------------------------+-----------------------------------------------------------------------------------------------------------------------------------------------------+\n",
      "only showing top 4 rows\n",
      "\n"
     ]
    }
   ],
   "source": [
    "df_regrecipes.show(4,truncate=False)"
   ]
  },
  {
   "cell_type": "code",
   "execution_count": 55,
   "metadata": {
    "scrolled": true
   },
   "outputs": [
    {
     "data": {
      "text/plain": [
       "20057"
      ]
     },
     "execution_count": 55,
     "metadata": {},
     "output_type": "execute_result"
    }
   ],
   "source": [
    "df_regrecipes.count()"
   ]
  },
  {
   "cell_type": "code",
   "execution_count": 56,
   "metadata": {},
   "outputs": [
    {
     "name": "stdout",
     "output_type": "stream",
     "text": [
      "+-------------------------------------------+---------------------------------------------------------+\n",
      "|title                                      |Ingredients                                              |\n",
      "+-------------------------------------------+---------------------------------------------------------+\n",
      "|Lentil, Apple, and Turkey Wrap             |apple   ie   lentil lettuce sandwich tomato  turkey      |\n",
      "|Boudin Blanc Terrine with Red Onion Confit | bastille      dried      new year's eve onion pork port |\n",
      "|Potato and Fennel Soup Hodge               | fennel  new york potato                                 |\n",
      "|Mahi-Mahi in Tomato Olive Sauce            |     fish          olive       soy  tomato               |\n",
      "+-------------------------------------------+---------------------------------------------------------+\n",
      "only showing top 4 rows\n",
      "\n"
     ]
    }
   ],
   "source": [
    "df_regrecipes = df_regrecipes.withColumn('Ingredients', regexp_replace('Ingredients', 'free', ''))\n",
    "df_regrecipes = df_regrecipes.withColumn('Ingredients', regexp_replace('Ingredients', 'bon', ''))\n",
    "df_regrecipes = df_regrecipes.withColumn('Ingredients', regexp_replace('Ingredients', 'appétit', ''))\n",
    "df_regrecipes = df_regrecipes.withColumn('Ingredients', regexp_replace('Ingredients', 'free', ''))\n",
    "df_regrecipes = df_regrecipes.withColumn('Ingredients', regexp_replace('Ingredients', 'tree', ''))\n",
    "df_regrecipes = df_regrecipes.withColumn('Ingredients', regexp_replace('Ingredients', 'nut', ''))\n",
    "df_regrecipes = df_regrecipes.withColumn('Ingredients', regexp_replace('Ingredients', 'vegetarian', ''))\n",
    "df_regrecipes = df_regrecipes.withColumn('Ingredients', regexp_replace('Ingredients', 'gourmet', ''))\n",
    "df_regrecipes = df_regrecipes.withColumn('Ingredients', regexp_replace('Ingredients', 'kosher', ''))\n",
    "df_regrecipes = df_regrecipes.withColumn('Ingredients', regexp_replace('Ingredients', 'pescatarian', ''))\n",
    "df_regrecipes = df_regrecipes.withColumn('Ingredients', regexp_replace('Ingredients', '&', ''))\n",
    "df_regrecipes = df_regrecipes.withColumn('Ingredients', regexp_replace('Ingredients', 'quick', ''))\n",
    "df_regrecipes = df_regrecipes.withColumn('Ingredients', regexp_replace('Ingredients', 'easy', ''))\n",
    "df_regrecipes = df_regrecipes.withColumn('Ingredients', regexp_replace('Ingredients', 'diary', ''))\n",
    "df_regrecipes = df_regrecipes.withColumn('Ingredients', regexp_replace('Ingredients', 'bake', ''))\n",
    "df_regrecipes = df_regrecipes.withColumn('Ingredients', regexp_replace('Ingredients', 'summer', ''))\n",
    "df_regrecipes = df_regrecipes.withColumn('Ingredients', regexp_replace('Ingredients', 'dessert', ''))\n",
    "df_regrecipes = df_regrecipes.withColumn('Ingredients', regexp_replace('Ingredients', 'wheat', ''))\n",
    "df_regrecipes = df_regrecipes.withColumn('Ingredients', regexp_replace('Ingredients', 'gluten', ''))\n",
    "df_regrecipes = df_regrecipes.withColumn('Ingredients', regexp_replace('Ingredients', '\\/', ' '))\n",
    "df_regrecipes = df_regrecipes.withColumn('Ingredients', regexp_replace('Ingredients', 'dairy', ''))\n",
    "df_regrecipes = df_regrecipes.withColumn('Ingredients', regexp_replace('Ingredients', 'low', ''))\n",
    "df_regrecipes = df_regrecipes.withColumn('Ingredients', regexp_replace('Ingredients', 'side', ''))\n",
    "df_regrecipes = df_regrecipes.withColumn('Ingredients', regexp_replace('Ingredients', 'no', ''))\n",
    "df_regrecipes = df_regrecipes.withColumn('Ingredients', regexp_replace('Ingredients', 'added', ''))\n",
    "df_regrecipes = df_regrecipes.withColumn('Ingredients', regexp_replace('Ingredients', 'winter', ''))\n",
    "df_regrecipes = df_regrecipes.withColumn('Ingredients', regexp_replace('Ingredients', 'fall', ''))\n",
    "df_regrecipes = df_regrecipes.withColumn('Ingredients', regexp_replace('Ingredients', 'fruit', ''))\n",
    "df_regrecipes = df_regrecipes.withColumn('Ingredients', regexp_replace('Ingredients', 'dinner', ''))\n",
    "df_regrecipes = df_regrecipes.withColumn('Ingredients', regexp_replace('Ingredients', 'conscious', ''))\n",
    "df_regrecipes = df_regrecipes.withColumn('Ingredients', regexp_replace('Ingredients', 'healthy', ''))\n",
    "df_regrecipes = df_regrecipes.withColumn('Ingredients', regexp_replace('Ingredients', 'kidney', ''))\n",
    "df_regrecipes = df_regrecipes.withColumn('Ingredients', regexp_replace('Ingredients', 'friendly', ''))\n",
    "df_regrecipes = df_regrecipes.withColumn('Ingredients', regexp_replace('Ingredients', 'vegetable', ''))\n",
    "df_regrecipes = df_regrecipes.withColumn('Ingredients', regexp_replace('Ingredients', 'party', ''))\n",
    "df_regrecipes = df_regrecipes.withColumn('Ingredients', regexp_replace('Ingredients', 'fat', ''))\n",
    "df_regrecipes = df_regrecipes.withColumn('Ingredients', regexp_replace('Ingredients', 'vegan', ''))\n",
    "df_regrecipes = df_regrecipes.withColumn('Ingredients', regexp_replace('Ingredients', 'kid-', ''))\n",
    "df_regrecipes = df_regrecipes.withColumn('Ingredients', regexp_replace('Ingredients', 'sauté ', ''))\n",
    "df_regrecipes = df_regrecipes.withColumn('Ingredients', regexp_replace('Ingredients', '\\-', ''))\n",
    "df_regrecipes = df_regrecipes.withColumn('Ingredients', regexp_replace('Ingredients', 'spring', ''))\n",
    "df_regrecipes = df_regrecipes.withColumn('Ingredients', regexp_replace('Ingredients', 'salad', ''))\n",
    "df_regrecipes = df_regrecipes.withColumn('Ingredients', regexp_replace('Ingredients', 'herb', ''))\n",
    "df_regrecipes = df_regrecipes.withColumn('Ingredients', regexp_replace('Ingredients', 'cocktail', ''))\n",
    "df_regrecipes = df_regrecipes.withColumn('Ingredients', regexp_replace('Ingredients', 'thanksgiving', ''))\n",
    "df_regrecipes = df_regrecipes.withColumn('Ingredients', regexp_replace('Ingredients', 'appetizer', ''))\n",
    "df_regrecipes = df_regrecipes.withColumn('Ingredients', regexp_replace('Ingredients', 'christmas', ''))\n",
    "df_regrecipes = df_regrecipes.withColumn('Ingredients', regexp_replace('Ingredients', 'sauce', ''))\n",
    "df_regrecipes = df_regrecipes.withColumn('Ingredients', regexp_replace('Ingredients', 'lunch', ''))\n",
    "df_regrecipes = df_regrecipes.withColumn('Ingredients', regexp_replace('Ingredients', 'protein', ''))\n",
    "df_regrecipes = df_regrecipes.withColumn('Ingredients', regexp_replace('Ingredients', 'roast', ''))\n",
    "df_regrecipes = df_regrecipes.withColumn('Ingredients', regexp_replace('Ingredients', 'grill', ''))\n",
    "df_regrecipes = df_regrecipes.withColumn('Ingredients', regexp_replace('Ingredients', 'chill', ''))\n",
    "df_regrecipes = df_regrecipes.withColumn('Ingredients', regexp_replace('Ingredients', 'stew', ''))\n",
    "df_regrecipes = df_regrecipes.withColumn('Ingredients', regexp_replace('Ingredients', 'cook', ''))\n",
    "df_regrecipes = df_regrecipes.withColumn('Ingredients', regexp_replace('Ingredients', 'soup', ''))\n",
    "df_regrecipes = df_regrecipes.withColumn('Ingredients', regexp_replace('Ingredients', 'drink', ''))\n",
    "df_regrecipes = df_regrecipes.withColumn('Ingredients', regexp_replace('Ingredients', 'barbecue', ''))\n",
    "df_regrecipes = df_regrecipes.withColumn('Ingredients', regexp_replace('Ingredients', 'wine', ''))\n",
    "df_regrecipes = df_regrecipes.withColumn('Ingredients', regexp_replace('Ingredients', ' cal ', ' '))\n",
    "df_regrecipes = df_regrecipes.withColumn('Ingredients', regexp_replace('Ingredients', 'green', ' '))\n",
    "df_regrecipes = df_regrecipes.withColumn('Ingredients', regexp_replace('Ingredients', 'condiment', ' '))\n",
    "df_regrecipes = df_regrecipes.withColumn('Ingredients', regexp_replace('Ingredients', 'high', ' '))\n",
    "df_regrecipes = df_regrecipes.withColumn('Ingredients', regexp_replace('Ingredients', 'fiber', ' '))\n",
    "df_regrecipes = df_regrecipes.withColumn('Ingredients', regexp_replace('Ingredients', 'food', ' '))\n",
    "df_regrecipes = df_regrecipes.withColumn('Ingredients', regexp_replace('Ingredients', 'processor', ' '))\n",
    "df_regrecipes = df_regrecipes.withColumn('Ingredients', regexp_replace('Ingredients', 'backyard', ' '))\n",
    "df_regrecipes = df_regrecipes.withColumn('Ingredients', regexp_replace('Ingredients', 'bbq', ' '))\n",
    "df_regrecipes = df_regrecipes.withColumn('Ingredients', regexp_replace('Ingredients', 'spread', ' '))\n",
    "df_regrecipes = df_regrecipes.withColumn('Ingredients', regexp_replace('Ingredients', 'leafy', ' '))\n",
    "df_regrecipes = df_regrecipes.withColumn('Ingredients', regexp_replace('Ingredients', 'simmer', ' '))\n",
    "df_regrecipes = df_regrecipes.withColumn('Ingredients', regexp_replace('Ingredients', 'day', ' '))\n",
    "df_regrecipes = df_regrecipes.withColumn('Ingredients', regexp_replace('Ingredients', 'bean', ' '))\n",
    "df_regrecipes = df_regrecipes.withColumn('Ingredients', regexp_replace('Ingredients', 'juice', ' '))\n",
    "df_regrecipes = df_regrecipes.withColumn('Ingredients', regexp_replace('Ingredients', 'alcoholic', ' '))\n",
    "df_regrecipes = df_regrecipes.withColumn('Ingredients', regexp_replace('Ingredients', 'bell', ' '))\n",
    "df_regrecipes = df_regrecipes.withColumn('Ingredients', regexp_replace('Ingredients', 'cake', ' '))\n",
    "df_regrecipes = df_regrecipes.withColumn('Ingredients', regexp_replace('Ingredients', 'brunch', ' '))\n",
    "df_regrecipes = df_regrecipes.withColumn('Ingredients', regexp_replace('Ingredients', 'paleo', ' '))\n",
    "df_regrecipes = df_regrecipes.withColumn('Ingredients', regexp_replace('Ingredients', 'breakfast', ' '))\n",
    "df_regrecipes = df_regrecipes.withColumn('Ingredients', regexp_replace('Ingredients', 'spice', ' '))\n",
    "df_regrecipes = df_regrecipes.withColumn('Ingredients', regexp_replace('Ingredients', 'poultry', ' '))\n",
    "df_regrecipes = df_regrecipes.withColumn('Ingredients', regexp_replace('Ingredients', 'pea', ' '))\n",
    "df_regrecipes = df_regrecipes.withColumn('Ingredients', regexp_replace('Ingredients', 'citrus', ' '))\n",
    "df_regrecipes.show(4,truncate=False)"
   ]
  },
  {
   "cell_type": "markdown",
   "metadata": {},
   "source": [
    "### Getting General Recipe Ingredient Count to find out 20 most used ingredients"
   ]
  },
  {
   "cell_type": "code",
   "execution_count": 57,
   "metadata": {},
   "outputs": [
    {
     "name": "stdout",
     "output_type": "stream",
     "text": [
      "+-------------------------------------------+---------------------------------------------------------+\n",
      "|title                                      |Ingredients                                              |\n",
      "+-------------------------------------------+---------------------------------------------------------+\n",
      "|Lentil, Apple, and Turkey Wrap             |apple   ie   lentil lettuce sandwich tomato  turkey      |\n",
      "|Boudin Blanc Terrine with Red Onion Confit | bastille      dried      new year's eve onion pork port |\n",
      "|Potato and Fennel Soup Hodge               | fennel  new york potato                                 |\n",
      "+-------------------------------------------+---------------------------------------------------------+\n",
      "only showing top 3 rows\n",
      "\n"
     ]
    }
   ],
   "source": [
    "df_regrecipes.show(3,truncate=False)"
   ]
  },
  {
   "cell_type": "code",
   "execution_count": 58,
   "metadata": {},
   "outputs": [],
   "source": [
    "gen_rec_count=df_regrecipes.select(explode(split(col(\"Ingredients\"), \"\\s+\")).alias(\"gen_rec_ing\")).groupBy('gen_rec_ing').count().orderBy(\"count\", ascending=False)"
   ]
  },
  {
   "cell_type": "code",
   "execution_count": 59,
   "metadata": {},
   "outputs": [
    {
     "name": "stdout",
     "output_type": "stream",
     "text": [
      "+-----------+-----+\n",
      "|gen_rec_ing|count|\n",
      "+-----------+-----+\n",
      "|           |27235|\n",
      "|        soy| 8491|\n",
      "|      sugar| 5971|\n",
      "|      cream| 2947|\n",
      "|     cheese| 2386|\n",
      "|      onion| 2354|\n",
      "|     tomato| 2140|\n",
      "|     pepper| 2103|\n",
      "|       milk| 1994|\n",
      "|        egg| 1777|\n",
      "|     garlic| 1643|\n",
      "|     potato| 1416|\n",
      "|    chicken| 1344|\n",
      "|      lemon| 1258|\n",
      "|       pork| 1198|\n",
      "|     ginger| 1146|\n",
      "|       beef| 1043|\n",
      "|      pasta|  980|\n",
      "|       fish|  936|\n",
      "|     orange|  889|\n",
      "|  chocolate|  855|\n",
      "|   mushroom|  843|\n",
      "|     carrot|  701|\n",
      "|       lime|  679|\n",
      "|      apple|  672|\n",
      "|    vinegar|  657|\n",
      "|   parmesan|  644|\n",
      "|    mustard|  636|\n",
      "|      mixer|  630|\n",
      "|    blender|  617|\n",
      "+-----------+-----+\n",
      "\n"
     ]
    }
   ],
   "source": [
    "gen_rec_count_table=gen_rec_count.limit(30)\n",
    "gen_rec_count_table.show(30)\n"
   ]
  },
  {
   "cell_type": "code",
   "execution_count": 60,
   "metadata": {},
   "outputs": [
    {
     "data": {
      "text/plain": [
       "DataFrame[summary: string, gen_rec_ing: string, count: string]"
      ]
     },
     "execution_count": 60,
     "metadata": {},
     "output_type": "execute_result"
    }
   ],
   "source": [
    "gen_rec_count_table.describe()"
   ]
  },
  {
   "cell_type": "markdown",
   "metadata": {},
   "source": [
    "### Downloading General Recipe Ingredient Count Table to GCP Bucket"
   ]
  },
  {
   "cell_type": "code",
   "execution_count": 61,
   "metadata": {},
   "outputs": [],
   "source": [
    "#gen_rec_count_table.coalesce(1).write.option(\"header\",\"true\").csv(\"gs://big_data_vht/generalrecipecount\")\n"
   ]
  },
  {
   "cell_type": "markdown",
   "metadata": {},
   "source": [
    "### Adding Column to General Recipes and Filling it with Primary Key-Prepping for Merge with Open Food "
   ]
  },
  {
   "cell_type": "code",
   "execution_count": 62,
   "metadata": {},
   "outputs": [
    {
     "name": "stdout",
     "output_type": "stream",
     "text": [
      "+--------------------+--------------------+\n",
      "|               title|         Ingredients|\n",
      "+--------------------+--------------------+\n",
      "|Lentil, Apple, an...|apple   ie   lent...|\n",
      "|Boudin Blanc Terr...| bastille      dr...|\n",
      "|Potato and Fennel...| fennel  new york...|\n",
      "|Mahi-Mahi in Toma...|     fish        ...|\n",
      "|Spinach Noodle Ca...|   california che...|\n",
      "+--------------------+--------------------+\n",
      "only showing top 5 rows\n",
      "\n"
     ]
    }
   ],
   "source": [
    "from pyspark.sql.functions import lit\n",
    "from pyspark.sql.types import StringType\n",
    "\n",
    "df_regrecipes.show(5)\n"
   ]
  },
  {
   "cell_type": "code",
   "execution_count": 63,
   "metadata": {},
   "outputs": [
    {
     "name": "stdout",
     "output_type": "stream",
     "text": [
      "20057\n",
      "+--------------------+--------------------+\n",
      "|               title|         Ingredients|\n",
      "+--------------------+--------------------+\n",
      "|Lentil, Apple, an...|apple   ie   lent...|\n",
      "|Boudin Blanc Terr...| bastille      dr...|\n",
      "|Potato and Fennel...| fennel  new york...|\n",
      "|Mahi-Mahi in Toma...|     fish        ...|\n",
      "|Spinach Noodle Ca...|   california che...|\n",
      "+--------------------+--------------------+\n",
      "only showing top 5 rows\n",
      "\n"
     ]
    }
   ],
   "source": [
    "df_gen=df_regrecipes\n",
    "print(df_gen.count())\n",
    "df_gen.show(5)"
   ]
  },
  {
   "cell_type": "code",
   "execution_count": 64,
   "metadata": {},
   "outputs": [
    {
     "name": "stdout",
     "output_type": "stream",
     "text": [
      "855\n",
      "8474\n",
      "4363\n",
      "2695\n",
      "2079\n",
      "2350\n",
      "2140\n",
      "1837\n",
      "2058\n",
      "1981\n",
      "1643\n",
      "1370\n",
      "1344\n",
      "1313\n",
      "1074\n",
      "1146\n",
      "913\n",
      "973\n",
      "1463\n",
      "877\n"
     ]
    }
   ],
   "source": [
    "df_1=df_regrecipes.filter(\"Ingredients like '%chocolate%'\").withColumn('key1', lit('chocolate'))\n",
    "df_2=df_regrecipes.filter(\"Ingredients like '%soy%'\").withColumn('key2',lit( 'soy'))\n",
    "df_3=df_regrecipes.filter(\"Ingredients like '%sugar%'\").withColumn('key3',lit( 'sugar'))\n",
    "df_4=df_regrecipes.filter(\"Ingredients like '%cream%'\").withColumn('key4',lit( 'cream'))\n",
    "df_5=df_regrecipes.filter(\"Ingredients like '%cheese%'\").withColumn('key5',lit( 'cheese'))\n",
    "df_6=df_regrecipes.filter(\"Ingredients like '%onion%'\").withColumn('key6',lit( 'onion'))\n",
    "df_7=df_regrecipes.filter(\"Ingredients like '%tomato%'\").withColumn('key7',lit( 'tomato'))\n",
    "df_8=df_regrecipes.filter(\"Ingredients like '%pepper%'\").withColumn('key8',lit( 'pepper'))\n",
    "df_9=df_regrecipes.filter(\"Ingredients like '%milk%'\").withColumn('key9',lit( 'milk'))\n",
    "df_10=df_regrecipes.filter(\"Ingredients like '%egg%'\").withColumn('key10',lit('egg'))\n",
    "df_11=df_regrecipes.filter(\"Ingredients like '%garlic%'\").withColumn('key11',lit( 'garlic'))\n",
    "df_12=df_regrecipes.filter(\"Ingredients like '%potato%'\").withColumn('key12',lit( 'potato'))\n",
    "df_13=df_regrecipes.filter(\"Ingredients like '%chicken%'\").withColumn('key13',lit( 'chicken'))\n",
    "df_14=df_regrecipes.filter(\"Ingredients like '%lemon%'\").withColumn('key14',lit( 'lemon'))\n",
    "df_15=df_regrecipes.filter(\"Ingredients like '%pork%'\").withColumn('key15',lit( 'pork'))\n",
    "df_16=df_regrecipes.filter(\"Ingredients like '%ginger%'\").withColumn('key16',lit( 'ginger'))\n",
    "df_17=df_regrecipes.filter(\"Ingredients like '%beef%'\").withColumn('key17',lit( 'beef'))\n",
    "df_18=df_regrecipes.filter(\"Ingredients like '%pasta%'\").withColumn('key18',lit( 'pasta'))\n",
    "df_19=df_regrecipes.filter(\"Ingredients like '%fish%'\").withColumn('key19',lit( 'fish'))\n",
    "df_20=df_regrecipes.filter(\"Ingredients like '%orange%'\").withColumn('key20',lit( 'orange'))\n",
    "print(df_1.count())\n",
    "print(df_2.count())\n",
    "print(df_3.count())\n",
    "print(df_4.count())\n",
    "print(df_5.count())\n",
    "print(df_6.count())\n",
    "print(df_7.count())\n",
    "print(df_8.count())\n",
    "print(df_9.count())\n",
    "print(df_10.count())\n",
    "print(df_11.count())\n",
    "print(df_12.count())\n",
    "print(df_13.count())\n",
    "print(df_14.count())\n",
    "print(df_15.count())\n",
    "print(df_16.count())\n",
    "print(df_17.count())\n",
    "print(df_18.count())\n",
    "print(df_19.count())\n",
    "print(df_20.count())\n"
   ]
  },
  {
   "cell_type": "code",
   "execution_count": 65,
   "metadata": {},
   "outputs": [
    {
     "name": "stdout",
     "output_type": "stream",
     "text": [
      "+--------------------+--------------------+---------+\n",
      "|               title|         Ingredients|     key1|\n",
      "+--------------------+--------------------+---------+\n",
      "|Banana-Chocolate ...| banana birth    ...|chocolate|\n",
      "|Orange-Almond Cak...|almond  birth    ...|chocolate|\n",
      "|White Chocolate T...| banana berry    ...|chocolate|\n",
      "|Banana Split with...|banana   chocolat...|chocolate|\n",
      "|Chocolate-Mint Sh...|chocolate   milk ...|chocolate|\n",
      "+--------------------+--------------------+---------+\n",
      "only showing top 5 rows\n",
      "\n"
     ]
    }
   ],
   "source": [
    "df_1.show(5)"
   ]
  },
  {
   "cell_type": "code",
   "execution_count": 66,
   "metadata": {},
   "outputs": [],
   "source": [
    "df_gen.createOrReplaceTempView(\"df_gen\")\n",
    "df_1.createOrReplaceTempView(\"df_1\")\n",
    "df_2.createOrReplaceTempView(\"df_2\")\n",
    "df_3.createOrReplaceTempView(\"df_3\")\n",
    "df_4.createOrReplaceTempView(\"df_4\")\n",
    "df_5.createOrReplaceTempView(\"df_5\")\n",
    "df_6.createOrReplaceTempView(\"df_6\")\n",
    "df_7.createOrReplaceTempView(\"df_7\")\n",
    "df_8.createOrReplaceTempView(\"df_8\")\n",
    "df_9.createOrReplaceTempView(\"df_9\")\n",
    "df_10.createOrReplaceTempView(\"df_10\")\n",
    "df_11.createOrReplaceTempView(\"df_11\")\n",
    "df_12.createOrReplaceTempView(\"df_12\")\n",
    "df_13.createOrReplaceTempView(\"df_13\")\n",
    "df_14.createOrReplaceTempView(\"df_14\")\n",
    "df_15.createOrReplaceTempView(\"df_15\")\n",
    "df_16.createOrReplaceTempView(\"df_16\")\n",
    "df_17.createOrReplaceTempView(\"df_17\")\n",
    "df_18.createOrReplaceTempView(\"df_18\")\n",
    "df_19.createOrReplaceTempView(\"df_19\")\n",
    "df_20.createOrReplaceTempView(\"df_20\")"
   ]
  },
  {
   "cell_type": "code",
   "execution_count": 67,
   "metadata": {},
   "outputs": [],
   "source": [
    "gentable1 = spark.sql(\"select x.title, y.key1 from df_gen x left join df_1 y on x.title = y.title\")\n",
    "gentable1.createOrReplaceTempView(\"gentable1\")\n",
    "\n",
    "gentable2 = spark.sql(\"select x.title, x.key1, y.key2 from gentable1 x left join df_2 y on x.title = y.title\")\n",
    "gentable2.createOrReplaceTempView(\"gentable2\")\n",
    "\n",
    "gentable3 = spark.sql(\"select x.title, x.key1, x.key2, y.key3 from gentable2 x left join df_3 y on x.title = y.title\")\n",
    "gentable3.createOrReplaceTempView(\"gentable3\")\n",
    "\n",
    "gentable4 = spark.sql(\"select x.title, x.key1, x.key2, x.key3, y.key4 from gentable3 x left join df_4 y on x.title = y.title\")\n",
    "gentable4.createOrReplaceTempView(\"gentable4\")\n",
    "\n",
    "gentable5 = spark.sql(\"select x.title, x.key1, x.key2, x.key3, x.key4, y.key5 from gentable4 x left join df_5 y on x.title = y.title\")\n",
    "gentable5.createOrReplaceTempView(\"gentable5\")\n",
    "\n",
    "gentable6 = spark.sql(\"select x.title, x.key1, x.key2, x.key3, x.key4, x.key5, y.key6 from gentable5 x left join df_6 y on x.title = y.title\")\n",
    "gentable6.createOrReplaceTempView(\"gentable6\")\n",
    "\n",
    "gentable7 = spark.sql(\"select x.title, x.key1, x.key2, x.key3, x.key4, x.key5, x.key6, y.key7 from gentable6 x left join df_7 y on x.title = y.title\")\n",
    "gentable7.createOrReplaceTempView(\"gentable7\")\n",
    "\n",
    "gentable8 = spark.sql(\"select x.title, x.key1, x.key2, x.key3, x.key4, x.key5, x.key6, x.key7, y.key8 from gentable7 x left join df_8 y on x.title = y.title\")\n",
    "gentable8.createOrReplaceTempView(\"gentable8\")\n",
    "\n",
    "gentable9 = spark.sql(\"select x.title, x.key1, x.key2, x.key3, x.key4, x.key5, x.key6, x.key7, x.key8, y.key9 from gentable8 x left join df_9 y on x.title = y.title\")\n",
    "gentable9.createOrReplaceTempView(\"gentable9\")\n",
    "\n",
    "gentable10 = spark.sql(\"select x.title, x.key1, x.key2, x.key3, x.key4, x.key5, x.key6, x.key7, x.key8, x.key9, y.key10 from gentable9 x left join df_10 y on x.title = y.title\")\n",
    "gentable10.createOrReplaceTempView(\"gentable10\")\n",
    "\n",
    "gentable11 = spark.sql(\"select x.title, x.key1, x.key2, x.key3, x.key4, x.key5, x.key6, x.key7, x.key8, x.key9, x.key10, y.key11 from gentable10 x left join df_11 y on x.title = y.title\")\n",
    "gentable11.createOrReplaceTempView(\"gentable11\")\n",
    "\n",
    "gentable12 = spark.sql(\"select x.title, x.key1, x.key2, x.key3, x.key4, x.key5, x.key6, x.key7, x.key8, x.key9, x.key10, x.key11, y.key12 from gentable11 x left join df_12 y on x.title = y.title\")\n",
    "gentable12.createOrReplaceTempView(\"gentable12\")\n",
    "\n",
    "gentable13 = spark.sql(\"select x.title, x.key1, x.key2, x.key3, x.key4, x.key5, x.key6, x.key7, x.key8, x.key9, x.key10, x.key11, x.key12, y.key13 from gentable12 x left join df_13 y on x.title = y.title\")\n",
    "gentable13.createOrReplaceTempView(\"gentable13\")\n",
    "\n",
    "gentable14 = spark.sql(\"select x.title, x.key1, x.key2, x.key3, x.key4, x.key5, x.key6, x.key7, x.key8, x.key9, x.key10, x.key11, x.key12, x.key13, y.key14 from gentable13 x left join df_14 y on x.title = y.title\")\n",
    "gentable14.createOrReplaceTempView(\"gentable14\")\n",
    "\n",
    "gentable15 = spark.sql(\"select x.title, x.key1, x.key2, x.key3, x.key4, x.key5, x.key6, x.key7, x.key8, x.key9, x.key10, x.key11, x.key12, x.key13, x.key14, y.key15 from gentable14 x left join df_15 y on x.title = y.title\")\n",
    "gentable15.createOrReplaceTempView(\"gentable15\")\n",
    "\n",
    "gentable16 = spark.sql(\"select x.title, x.key1, x.key2, x.key3, x.key4, x.key5, x.key6, x.key7, x.key8, x.key9, x.key10, x.key11, x.key12, x.key13, x.key14, x.key15, y.key16 from gentable15 x left join df_16 y on x.title = y.title\")\n",
    "gentable16.createOrReplaceTempView(\"gentable16\")\n",
    "\n",
    "gentable17 = spark.sql(\"select x.title, x.key1, x.key2, x.key3, x.key4, x.key5, x.key6, x.key7, x.key8, x.key9, x.key10, x.key11, x.key12, x.key13, x.key14, x.key15, x.key16, y.key17 from gentable16 x left join df_17 y on x.title = y.title\")\n",
    "gentable17.createOrReplaceTempView(\"gentable17\")\n",
    "\n",
    "gentable18 = spark.sql(\"select x.title, x.key1, x.key2, x.key3, x.key4, x.key5, x.key6, x.key7, x.key8, x.key9, x.key10, x.key11, x.key12, x.key13, x.key14, x.key15, x.key16, x.key17, y.key18 from gentable17 x left join df_18 y on x.title = y.title\")\n",
    "gentable18.createOrReplaceTempView(\"gentable18\")\n",
    "\n",
    "gentable19 = spark.sql(\"select x.title, x.key1, x.key2, x.key3, x.key4, x.key5, x.key6, x.key7, x.key8, x.key9, x.key10, x.key11, x.key12, x.key13, x.key14, x.key15, x.key16, x.key17, x.key18, y.key19 from gentable18 x left join df_19 y on x.title = y.title\")\n",
    "gentable19.createOrReplaceTempView(\"gentable19\")\n",
    "\n",
    "gentable = spark.sql(\"select x.title, x.key1, x.key2, x.key3, x.key4, x.key5, x.key6, x.key7, x.key8, x.key9, x.key10, x.key11, x.key12, x.key13, x.key14, x.key15, x.key16, x.key17, x.key18, x.key19, y.key20 from gentable19 x left join df_20 y on x.title = y.title\")\n",
    "gentable.createOrReplaceTempView(\"gentable\")\n",
    "\n"
   ]
  },
  {
   "cell_type": "code",
   "execution_count": 68,
   "metadata": {},
   "outputs": [
    {
     "data": {
      "text/plain": [
       "77218"
      ]
     },
     "execution_count": 68,
     "metadata": {},
     "output_type": "execute_result"
    }
   ],
   "source": [
    "gentable.count()"
   ]
  },
  {
   "cell_type": "code",
   "execution_count": 69,
   "metadata": {},
   "outputs": [],
   "source": [
    "genrecipename = gentable.dropDuplicates()"
   ]
  },
  {
   "cell_type": "code",
   "execution_count": 70,
   "metadata": {},
   "outputs": [
    {
     "data": {
      "text/plain": [
       "17741"
      ]
     },
     "execution_count": 70,
     "metadata": {},
     "output_type": "execute_result"
    }
   ],
   "source": [
    "genrecipename.count()"
   ]
  },
  {
   "cell_type": "code",
   "execution_count": 71,
   "metadata": {},
   "outputs": [],
   "source": [
    "#genrecipename.coalesce(1).write.option(\"header\",\"true\").csv(\"gs://big_data_vht/genrecipename\")"
   ]
  },
  {
   "cell_type": "markdown",
   "metadata": {},
   "source": [
    "## Preparing Open Food Facts table for merge with General Recipes"
   ]
  },
  {
   "cell_type": "code",
   "execution_count": 72,
   "metadata": {},
   "outputs": [],
   "source": [
    "df_ofoodfacts = spark.read.csv(\"gs://big_data_vht/reduced_OpenFoodFacts.csv\", inferSchema=True, header=True)\n",
    "#df_ofoodfacts = spark.read.csv('/user/alvinharyanto/data/reduced_OpenFoodFacts.csv', inferSchema=True, header=True)"
   ]
  },
  {
   "cell_type": "code",
   "execution_count": 73,
   "metadata": {},
   "outputs": [
    {
     "data": {
      "text/plain": [
       "DataFrame[summary: string, product_name: string, brands: string, countries_en: string, ingredients_text: string, serving_size: string, serving_quantity: string, num_additives: string, additives: string, ingredients_from_palm_oil_n: string, ingredients_that_may_be_from_pal: string, energy_100g: string, fat_100g: string, saturatedfat_100g: string, transfat_100g: string, cholesterol_100g: string, carbohydrates_100g: string, sugars_100g: string, fiber_100g: string, proteins_100g: string, salt_100g: string, sodium_100g: string, vitamina_100g: string, vitaminc_100g: string, calcium_100g: string, iron_100g: string]"
      ]
     },
     "execution_count": 73,
     "metadata": {},
     "output_type": "execute_result"
    }
   ],
   "source": [
    "df_ofoodfacts.describe()"
   ]
  },
  {
   "cell_type": "code",
   "execution_count": 74,
   "metadata": {},
   "outputs": [
    {
     "name": "stdout",
     "output_type": "stream",
     "text": [
      "+--------------------+--------------+-------------+--------------------+---------------+----------------+-------------+--------------------+---------------------------+--------------------------------+-----------+------------------+-----------------+-------------+--------------------+------------------+-----------+----------+------------------+------------------+-------------------+--------------------+--------------------+-------------------+--------------------+\n",
      "|        product_name|        brands| countries_en|    ingredients_text|   serving_size|serving_quantity|num_additives|           additives|ingredients_from_palm_oil_n|ingredients_that_may_be_from_pal|energy_100g|          fat_100g|saturatedfat_100g|transfat_100g|    cholesterol_100g|carbohydrates_100g|sugars_100g|fiber_100g|     proteins_100g|         salt_100g|        sodium_100g|       vitamina_100g|       vitaminc_100g|       calcium_100g|           iron_100g|\n",
      "+--------------------+--------------+-------------+--------------------+---------------+----------------+-------------+--------------------+---------------------------+--------------------------------+-----------+------------------+-----------------+-------------+--------------------+------------------+-----------+----------+------------------+------------------+-------------------+--------------------+--------------------+-------------------+--------------------+\n",
      "|banana chips swee...|           nan|united states|bananas, vegetabl...|   28 g (1 onz)|            28.0|          0.0| [ bananas -> en:...|                        0.0|                             0.0|     2243.0|             28.57|            28.57|          0.0|         0.017999999|             64.29|      14.29|       3.6|3.5699998999999996|               0.0|                0.0|                 0.0|0.021400001000000002|                0.0|0.001290000000000...|\n",
      "|             peanuts|torn & glasser|united states|peanuts, wheat fl...|28 g (0.25 cup)|            28.0|          0.0| [ peanuts -> en:...|                        0.0|                             0.0|     1941.0|         17.860001|              0.0|          0.0|                 0.0|             60.71|      17.86|       7.1|         17.860001|             0.635|               0.25|                 0.0|                 0.0|        0.071000002|0.001290000000000...|\n",
      "|organic salted nu...|     grizzlies|united states|organic hazelnuts...|28 g (0.25 cup)|            28.0|          0.0| [ organic-hazeln...|                        0.0|                             0.0|     2540.0|57.139998999999996|        5.3600001|          0.0|0.001283333333333...|             17.86|       3.57|       7.1|         17.860001|           1.22428|0.48200000000000004|2.097692384615384...|      0.000675000025|         0.14300001|             0.00514|\n",
      "|     organic polenta|bob's red mill|united states|     organic polenta|35 g (0.25 cup)|            35.0|          0.0| [ organic-polent...|                        0.0|                             0.0|     1552.0|1.4299998999999999|       3.64000005|          0.0|0.002566666666666...|             77.14|      7.555|       5.7| 8.569999699999999|0.9531350000000001|0.37525000000000003|4.195384769230769...|       0.00135000005|0.09050000450000001|              0.0043|\n",
      "|breadshop honey g...|          unfi|united states|rolled oats, grap...| 52 g (0.5 cup)|            52.0|          0.0| [ rolled-oats ->...|                        0.0|                             0.0|     1933.0|             18.27|             1.92|          0.0|             0.00385|             63.46|      11.54|       7.7|             13.46|           0.68199|             0.2685|6.293077153846155...|      0.002025000075|        0.037999999|             0.00346|\n",
      "+--------------------+--------------+-------------+--------------------+---------------+----------------+-------------+--------------------+---------------------------+--------------------------------+-----------+------------------+-----------------+-------------+--------------------+------------------+-----------+----------+------------------+------------------+-------------------+--------------------+--------------------+-------------------+--------------------+\n",
      "only showing top 5 rows\n",
      "\n"
     ]
    }
   ],
   "source": [
    "df_ofoodfacts.show(5)"
   ]
  },
  {
   "cell_type": "code",
   "execution_count": 75,
   "metadata": {},
   "outputs": [
    {
     "data": {
      "text/plain": [
       "116036"
      ]
     },
     "execution_count": 75,
     "metadata": {},
     "output_type": "execute_result"
    }
   ],
   "source": [
    "df_ofoodfacts.count()"
   ]
  },
  {
   "cell_type": "code",
   "execution_count": 76,
   "metadata": {
    "scrolled": true
   },
   "outputs": [],
   "source": [
    "df_ofoodfacts = df_ofoodfacts.dropna(subset=['product_name']).dropDuplicates(subset=['product_name'])"
   ]
  },
  {
   "cell_type": "code",
   "execution_count": 77,
   "metadata": {},
   "outputs": [
    {
     "data": {
      "text/plain": [
       "115622"
      ]
     },
     "execution_count": 77,
     "metadata": {},
     "output_type": "execute_result"
    }
   ],
   "source": [
    "df_ofoodfacts.count()"
   ]
  },
  {
   "cell_type": "code",
   "execution_count": 78,
   "metadata": {},
   "outputs": [],
   "source": [
    "df_ofoodfacts = df_ofoodfacts.withColumn('product_name', lower(col('product_name')))\n",
    "df_ofoodfacts = df_ofoodfacts.withColumn('product_name', regexp_replace('product_name', 'Organic', ''))\n",
    "df_ofoodfacts = df_ofoodfacts.withColumn('product_name', regexp_replace('product_name', '\\(', ''))\n",
    "df_ofoodfacts = df_ofoodfacts.withColumn('product_name', regexp_replace('product_name', '\\)', ''))\n",
    "df_ofoodfacts = df_ofoodfacts.withColumn('product_name', regexp_replace('product_name', '\\-', ''))\n",
    "df_ofoodfacts = df_ofoodfacts.withColumn('product_name', regexp_replace('product_name', '\\.', ''))\n",
    "df_ofoodfacts = df_ofoodfacts.withColumn('product_name', regexp_replace('product_name', '100\\%', ''))"
   ]
  },
  {
   "cell_type": "code",
   "execution_count": 79,
   "metadata": {
    "scrolled": true
   },
   "outputs": [
    {
     "data": {
      "text/html": [
       "<div>\n",
       "<style scoped>\n",
       "    .dataframe tbody tr th:only-of-type {\n",
       "        vertical-align: middle;\n",
       "    }\n",
       "\n",
       "    .dataframe tbody tr th {\n",
       "        vertical-align: top;\n",
       "    }\n",
       "\n",
       "    .dataframe thead th {\n",
       "        text-align: right;\n",
       "    }\n",
       "</style>\n",
       "<table border=\"1\" class=\"dataframe\">\n",
       "  <thead>\n",
       "    <tr style=\"text-align: right;\">\n",
       "      <th></th>\n",
       "      <th>product_name</th>\n",
       "      <th>brands</th>\n",
       "      <th>countries_en</th>\n",
       "      <th>ingredients_text</th>\n",
       "      <th>serving_size</th>\n",
       "      <th>serving_quantity</th>\n",
       "      <th>num_additives</th>\n",
       "      <th>additives</th>\n",
       "      <th>ingredients_from_palm_oil_n</th>\n",
       "      <th>ingredients_that_may_be_from_pal</th>\n",
       "      <th>...</th>\n",
       "      <th>carbohydrates_100g</th>\n",
       "      <th>sugars_100g</th>\n",
       "      <th>fiber_100g</th>\n",
       "      <th>proteins_100g</th>\n",
       "      <th>salt_100g</th>\n",
       "      <th>sodium_100g</th>\n",
       "      <th>vitamina_100g</th>\n",
       "      <th>vitaminc_100g</th>\n",
       "      <th>calcium_100g</th>\n",
       "      <th>iron_100g</th>\n",
       "    </tr>\n",
       "  </thead>\n",
       "  <tbody>\n",
       "    <tr>\n",
       "      <th>0</th>\n",
       "      <td>!holla nolla!, bon temps!, real restaurant tor...</td>\n",
       "      <td>hola nola foods  llc</td>\n",
       "      <td>united states</td>\n",
       "      <td>ground corn, coconut oil, lime sea salt, fd&amp;c ...</td>\n",
       "      <td>28 g (1 onz)</td>\n",
       "      <td>28.0</td>\n",
       "      <td>5.0</td>\n",
       "      <td>[ ground-corn -&gt; en:ground-corn  ]  [ corn -&gt;...</td>\n",
       "      <td>0.0</td>\n",
       "      <td>0.0</td>\n",
       "      <td>...</td>\n",
       "      <td>64.29</td>\n",
       "      <td>0.0</td>\n",
       "      <td>7.1</td>\n",
       "      <td>7.139999900000001</td>\n",
       "      <td>0.9982200000000001</td>\n",
       "      <td>0.39299999999999996</td>\n",
       "      <td>6.3399998e-05</td>\n",
       "      <td>0.0107</td>\n",
       "      <td>0.071000002</td>\n",
       "      <td>0.0012900000000000001</td>\n",
       "    </tr>\n",
       "    <tr>\n",
       "      <th>1</th>\n",
       "      <td>honey crisp style apple juice from concentrat...</td>\n",
       "      <td>giant eagle,  giant eagle  inc.</td>\n",
       "      <td>united states</td>\n",
       "      <td>apple juice from concentrate (filtered water, ...</td>\n",
       "      <td>240 ml (8 fl oz)</td>\n",
       "      <td>240.0</td>\n",
       "      <td>0.0</td>\n",
       "      <td>[ apple-juice-from-concentrate -&gt; en:apple-ju...</td>\n",
       "      <td>0.0</td>\n",
       "      <td>0.0</td>\n",
       "      <td>...</td>\n",
       "      <td>11.67</td>\n",
       "      <td>11.67</td>\n",
       "      <td>2.45</td>\n",
       "      <td>0.0</td>\n",
       "      <td>0.0381</td>\n",
       "      <td>0.015</td>\n",
       "      <td>3.5699999e-05</td>\n",
       "      <td>0.025</td>\n",
       "      <td>0.105999995</td>\n",
       "      <td>0.000879999975</td>\n",
       "    </tr>\n",
       "    <tr>\n",
       "      <th>2</th>\n",
       "      <td>208 hot sauce, bajan style</td>\n",
       "      <td>bigfat's</td>\n",
       "      <td>united states</td>\n",
       "      <td>water, onion, yellow mustard (distilled vinega...</td>\n",
       "      <td>6 g (1 tsp)</td>\n",
       "      <td>0.0</td>\n",
       "      <td>0.0</td>\n",
       "      <td>[ water -&gt; en:water  ]  [ onion -&gt; en:onion  ...</td>\n",
       "      <td>0.0</td>\n",
       "      <td>0.0</td>\n",
       "      <td>...</td>\n",
       "      <td>0.0</td>\n",
       "      <td>1.25</td>\n",
       "      <td>1.25</td>\n",
       "      <td>0.0</td>\n",
       "      <td>0.8458200000000001</td>\n",
       "      <td>0.33299999999999996</td>\n",
       "      <td>0.00050010002</td>\n",
       "      <td>0.006799999822</td>\n",
       "      <td>0.04807692399999999</td>\n",
       "      <td>0.0019099999999999998</td>\n",
       "    </tr>\n",
       "  </tbody>\n",
       "</table>\n",
       "<p>3 rows × 25 columns</p>\n",
       "</div>"
      ],
      "text/plain": [
       "                                        product_name  \\\n",
       "0  !holla nolla!, bon temps!, real restaurant tor...   \n",
       "1   honey crisp style apple juice from concentrat...   \n",
       "2                         208 hot sauce, bajan style   \n",
       "\n",
       "                            brands   countries_en  \\\n",
       "0             hola nola foods  llc  united states   \n",
       "1  giant eagle,  giant eagle  inc.  united states   \n",
       "2                         bigfat's  united states   \n",
       "\n",
       "                                    ingredients_text      serving_size  \\\n",
       "0  ground corn, coconut oil, lime sea salt, fd&c ...      28 g (1 onz)   \n",
       "1  apple juice from concentrate (filtered water, ...  240 ml (8 fl oz)   \n",
       "2  water, onion, yellow mustard (distilled vinega...       6 g (1 tsp)   \n",
       "\n",
       "  serving_quantity num_additives  \\\n",
       "0             28.0           5.0   \n",
       "1            240.0           0.0   \n",
       "2              0.0           0.0   \n",
       "\n",
       "                                           additives  \\\n",
       "0   [ ground-corn -> en:ground-corn  ]  [ corn ->...   \n",
       "1   [ apple-juice-from-concentrate -> en:apple-ju...   \n",
       "2   [ water -> en:water  ]  [ onion -> en:onion  ...   \n",
       "\n",
       "  ingredients_from_palm_oil_n ingredients_that_may_be_from_pal  ...  \\\n",
       "0                         0.0                              0.0  ...   \n",
       "1                         0.0                              0.0  ...   \n",
       "2                         0.0                              0.0  ...   \n",
       "\n",
       "  carbohydrates_100g sugars_100g fiber_100g      proteins_100g  \\\n",
       "0              64.29         0.0        7.1  7.139999900000001   \n",
       "1              11.67       11.67       2.45                0.0   \n",
       "2                0.0        1.25       1.25                0.0   \n",
       "\n",
       "            salt_100g          sodium_100g  vitamina_100g   vitaminc_100g  \\\n",
       "0  0.9982200000000001  0.39299999999999996  6.3399998e-05          0.0107   \n",
       "1              0.0381                0.015  3.5699999e-05           0.025   \n",
       "2  0.8458200000000001  0.33299999999999996  0.00050010002  0.006799999822   \n",
       "\n",
       "          calcium_100g              iron_100g  \n",
       "0          0.071000002  0.0012900000000000001  \n",
       "1          0.105999995         0.000879999975  \n",
       "2  0.04807692399999999  0.0019099999999999998  \n",
       "\n",
       "[3 rows x 25 columns]"
      ]
     },
     "execution_count": 79,
     "metadata": {},
     "output_type": "execute_result"
    }
   ],
   "source": [
    "df_ofoodfacts.limit(3).toPandas()"
   ]
  },
  {
   "cell_type": "markdown",
   "metadata": {},
   "source": [
    "### \"Hive\" part of Open Food Facts data cleaning and preping for merge with General Recipes"
   ]
  },
  {
   "cell_type": "code",
   "execution_count": 80,
   "metadata": {},
   "outputs": [
    {
     "data": {
      "text/html": [
       "<div>\n",
       "<style scoped>\n",
       "    .dataframe tbody tr th:only-of-type {\n",
       "        vertical-align: middle;\n",
       "    }\n",
       "\n",
       "    .dataframe tbody tr th {\n",
       "        vertical-align: top;\n",
       "    }\n",
       "\n",
       "    .dataframe thead th {\n",
       "        text-align: right;\n",
       "    }\n",
       "</style>\n",
       "<table border=\"1\" class=\"dataframe\">\n",
       "  <thead>\n",
       "    <tr style=\"text-align: right;\">\n",
       "      <th></th>\n",
       "      <th>product_name</th>\n",
       "      <th>energy_100g</th>\n",
       "      <th>fat_100g</th>\n",
       "      <th>saturatedfat_100g</th>\n",
       "      <th>transfat_100g</th>\n",
       "      <th>cholesterol_100g</th>\n",
       "      <th>carbohydrates_100g</th>\n",
       "      <th>sugars_100g</th>\n",
       "      <th>fiber_100g</th>\n",
       "      <th>proteins_100g</th>\n",
       "      <th>salt_100g</th>\n",
       "      <th>sodium_100g</th>\n",
       "      <th>vitamina_100g</th>\n",
       "      <th>vitaminc_100g</th>\n",
       "      <th>calcium_100g</th>\n",
       "      <th>iron_100g</th>\n",
       "    </tr>\n",
       "  </thead>\n",
       "  <tbody>\n",
       "    <tr>\n",
       "      <th>0</th>\n",
       "      <td>!holla nolla!, bon temps!, real restaurant tor...</td>\n",
       "      <td>2017.0</td>\n",
       "      <td>21.43</td>\n",
       "      <td>17.860001</td>\n",
       "      <td>0.0</td>\n",
       "      <td>0.0</td>\n",
       "      <td>64.29</td>\n",
       "      <td>0.0</td>\n",
       "      <td>7.1</td>\n",
       "      <td>7.139999900000001</td>\n",
       "      <td>0.9982200000000001</td>\n",
       "      <td>0.39299999999999996</td>\n",
       "      <td>6.3399998e-05</td>\n",
       "      <td>0.0107</td>\n",
       "      <td>0.071000002</td>\n",
       "      <td>0.0012900000000000001</td>\n",
       "    </tr>\n",
       "    <tr>\n",
       "      <th>1</th>\n",
       "      <td>honey crisp style apple juice from concentrat...</td>\n",
       "      <td>192.0</td>\n",
       "      <td>0.0</td>\n",
       "      <td>2.145</td>\n",
       "      <td>0.0</td>\n",
       "      <td>0.0094999995</td>\n",
       "      <td>11.67</td>\n",
       "      <td>11.67</td>\n",
       "      <td>2.45</td>\n",
       "      <td>0.0</td>\n",
       "      <td>0.0381</td>\n",
       "      <td>0.015</td>\n",
       "      <td>3.5699999e-05</td>\n",
       "      <td>0.025</td>\n",
       "      <td>0.105999995</td>\n",
       "      <td>0.000879999975</td>\n",
       "    </tr>\n",
       "    <tr>\n",
       "      <th>2</th>\n",
       "      <td>208 hot sauce, bajan style</td>\n",
       "      <td>0.0</td>\n",
       "      <td>0.0</td>\n",
       "      <td>3.125</td>\n",
       "      <td>0.0</td>\n",
       "      <td>0.00300000005</td>\n",
       "      <td>0.0</td>\n",
       "      <td>1.25</td>\n",
       "      <td>1.25</td>\n",
       "      <td>0.0</td>\n",
       "      <td>0.8458200000000001</td>\n",
       "      <td>0.33299999999999996</td>\n",
       "      <td>0.00050010002</td>\n",
       "      <td>0.006799999822</td>\n",
       "      <td>0.04807692399999999</td>\n",
       "      <td>0.0019099999999999998</td>\n",
       "    </tr>\n",
       "  </tbody>\n",
       "</table>\n",
       "</div>"
      ],
      "text/plain": [
       "                                        product_name energy_100g fat_100g  \\\n",
       "0  !holla nolla!, bon temps!, real restaurant tor...      2017.0    21.43   \n",
       "1   honey crisp style apple juice from concentrat...       192.0      0.0   \n",
       "2                         208 hot sauce, bajan style         0.0      0.0   \n",
       "\n",
       "  saturatedfat_100g transfat_100g cholesterol_100g carbohydrates_100g  \\\n",
       "0         17.860001           0.0              0.0              64.29   \n",
       "1             2.145           0.0     0.0094999995              11.67   \n",
       "2             3.125           0.0    0.00300000005                0.0   \n",
       "\n",
       "  sugars_100g fiber_100g      proteins_100g           salt_100g  \\\n",
       "0         0.0        7.1  7.139999900000001  0.9982200000000001   \n",
       "1       11.67       2.45                0.0              0.0381   \n",
       "2        1.25       1.25                0.0  0.8458200000000001   \n",
       "\n",
       "           sodium_100g  vitamina_100g   vitaminc_100g         calcium_100g  \\\n",
       "0  0.39299999999999996  6.3399998e-05          0.0107          0.071000002   \n",
       "1                0.015  3.5699999e-05           0.025          0.105999995   \n",
       "2  0.33299999999999996  0.00050010002  0.006799999822  0.04807692399999999   \n",
       "\n",
       "               iron_100g  \n",
       "0  0.0012900000000000001  \n",
       "1         0.000879999975  \n",
       "2  0.0019099999999999998  "
      ]
     },
     "execution_count": 80,
     "metadata": {},
     "output_type": "execute_result"
    }
   ],
   "source": [
    "ofood_gen = df_ofoodfacts.select('product_name', 'energy_100g', 'fat_100g', 'saturatedfat_100g', 'transfat_100g', 'cholesterol_100g', 'carbohydrates_100g', 'sugars_100g', 'fiber_100g', 'proteins_100g', 'salt_100g', 'sodium_100g', 'vitamina_100g', 'vitaminc_100g', 'calcium_100g', 'iron_100g') \n",
    "ofood_gen.limit(3).toPandas()                                 \n",
    "    "
   ]
  },
  {
   "cell_type": "code",
   "execution_count": 1,
   "metadata": {},
   "outputs": [],
   "source": [
    "#ofood_gen.coalesce(1).write.option(\"header\",\"true\").csv(\"gs://big_data_vht/ofood_gen\")\n",
    "#df_ofoodfacts.createOrReplaceTempView(\"df_ofoodfacts\")\n",
    "#df_ofoodfacts.repartition(1).write.csv(path=\"gs://big_data_vht/ofood_gen\", mode=\"append\", header=\"true\")\n"
   ]
  },
  {
   "cell_type": "code",
   "execution_count": 3,
   "metadata": {},
   "outputs": [
    {
     "ename": "NameError",
     "evalue": "name 'sc' is not defined",
     "output_type": "error",
     "traceback": [
      "\u001b[0;31m---------------------------------------------------------------------------\u001b[0m",
      "\u001b[0;31mNameError\u001b[0m                                 Traceback (most recent call last)",
      "\u001b[0;32m<ipython-input-3-13c6a915e049>\u001b[0m in \u001b[0;36m<module>\u001b[0;34m()\u001b[0m\n\u001b[1;32m      1\u001b[0m \u001b[0;32mfrom\u001b[0m \u001b[0mpyspark\u001b[0m\u001b[0;34m.\u001b[0m\u001b[0msql\u001b[0m \u001b[0;32mimport\u001b[0m \u001b[0mHiveContext\u001b[0m\u001b[0;34m\u001b[0m\u001b[0;34m\u001b[0m\u001b[0m\n\u001b[0;32m----> 2\u001b[0;31m \u001b[0mhive_context\u001b[0m \u001b[0;34m=\u001b[0m \u001b[0mHiveContext\u001b[0m\u001b[0;34m(\u001b[0m\u001b[0msc\u001b[0m\u001b[0;34m)\u001b[0m\u001b[0;34m\u001b[0m\u001b[0;34m\u001b[0m\u001b[0m\n\u001b[0m\u001b[1;32m      3\u001b[0m \u001b[0mopennuit\u001b[0m \u001b[0;34m=\u001b[0m \u001b[0mhive_context\u001b[0m\u001b[0;34m.\u001b[0m\u001b[0mtable\u001b[0m\u001b[0;34m(\u001b[0m\u001b[0;34m\"openfoods_3\"\u001b[0m\u001b[0;34m)\u001b[0m\u001b[0;34m\u001b[0m\u001b[0;34m\u001b[0m\u001b[0m\n",
      "\u001b[0;31mNameError\u001b[0m: name 'sc' is not defined"
     ]
    }
   ],
   "source": [
    "from pyspark.sql import HiveContext\n",
    "hive_context = HiveContext(sc)\n",
    "opennuit = hive_context.table(\"openfoods_3\")"
   ]
  },
  {
   "cell_type": "code",
   "execution_count": 2,
   "metadata": {},
   "outputs": [
    {
     "ename": "NameError",
     "evalue": "name 'opennuit' is not defined",
     "output_type": "error",
     "traceback": [
      "\u001b[0;31m---------------------------------------------------------------------------\u001b[0m",
      "\u001b[0;31mNameError\u001b[0m                                 Traceback (most recent call last)",
      "\u001b[0;32m<ipython-input-2-c1c309863a53>\u001b[0m in \u001b[0;36m<module>\u001b[0;34m()\u001b[0m\n\u001b[0;32m----> 1\u001b[0;31m \u001b[0mopennuit\u001b[0m\u001b[0;34m.\u001b[0m\u001b[0mshow\u001b[0m\u001b[0;34m(\u001b[0m\u001b[0;36m10\u001b[0m\u001b[0;34m)\u001b[0m\u001b[0;34m\u001b[0m\u001b[0;34m\u001b[0m\u001b[0m\n\u001b[0m\u001b[1;32m      2\u001b[0m \u001b[0mprint\u001b[0m\u001b[0;34m(\u001b[0m\u001b[0mopennuit\u001b[0m\u001b[0;34m.\u001b[0m\u001b[0mcount\u001b[0m\u001b[0;34m(\u001b[0m\u001b[0;34m)\u001b[0m\u001b[0;34m)\u001b[0m\u001b[0;34m\u001b[0m\u001b[0;34m\u001b[0m\u001b[0m\n",
      "\u001b[0;31mNameError\u001b[0m: name 'opennuit' is not defined"
     ]
    }
   ],
   "source": [
    "opennuit.show(10)\n",
    "print(opennuit.count())"
   ]
  },
  {
   "cell_type": "code",
   "execution_count": 85,
   "metadata": {},
   "outputs": [],
   "source": [
    "opennuit.createOrReplaceTempView(\"opennuit\")"
   ]
  },
  {
   "cell_type": "code",
   "execution_count": 86,
   "metadata": {},
   "outputs": [],
   "source": [
    "openn1=spark.sql(\"SELECT * FROM opennuit WHERE key1= 'chocolate' LIMIT 1\" )\n",
    "openn2=spark.sql(\"SELECT * FROM opennuit WHERE key1='soy' LIMIT 1\")\n",
    "openn3=spark.sql(\"SELECT * FROM opennuit WHERE key1='sugar' LIMIT 1\")\n",
    "openn4=spark.sql(\"SELECT * FROM opennuit WHERE key1='cream' LIMIT 1\")\n",
    "openn5=spark.sql(\"SELECT * FROM opennuit WHERE key1='cheese' LIMIT 1\")\n",
    "openn6=spark.sql(\"SELECT * FROM opennuit WHERE key1='onion' LIMIT 1 \")\n",
    "openn7=spark.sql(\"SELECT * FROM opennuit WHERE key1='tomato' LIMIT 1\")\n",
    "openn8=spark.sql(\"SELECT * FROM opennuit WHERE key1='pepper' LIMIT 1\")\n",
    "openn9=spark.sql(\"SELECT * FROM opennuit WHERE key1='milk' LIMIT 1\")\n",
    "openn10=spark.sql(\"SELECT * FROM opennuit WHERE key1='egg' LIMIT 1\")\n",
    "openn11=spark.sql(\"SELECT * FROM opennuit WHERE key1='garlic' LIMIT 1\")\n",
    "openn12=spark.sql(\"SELECT * FROM opennuit WHERE key1='potato' LIMIT 1 \")\n",
    "openn13=spark.sql(\"SELECT * FROM opennuit WHERE key1='chicken' LIMIT 1 \")\n",
    "openn14=spark.sql(\"SELECT * FROM opennuit WHERE key1='lemon' LIMIT 1\")\n",
    "openn15=spark.sql(\"SELECT * FROM opennuit WHERE key1='pork' LIMIT 1 \")\n",
    "openn16=spark.sql(\"SELECT * FROM opennuit WHERE key1='ginger' LIMIT 1\")\n",
    "openn17=spark.sql(\"SELECT * FROM opennuit WHERE key1='beef' LIMIT 1\")\n",
    "openn18=spark.sql(\"SELECT * FROM opennuit WHERE key1='pasta' LIMIT 1\")\n",
    "openn19=spark.sql(\"SELECT * FROM opennuit WHERE key1='fish' LIMIT 1\")\n",
    "openn20=spark.sql(\"SELECT * FROM opennuit WHERE key1='orange' LIMIT 1\")"
   ]
  },
  {
   "cell_type": "code",
   "execution_count": 87,
   "metadata": {
    "scrolled": true
   },
   "outputs": [
    {
     "name": "stdout",
     "output_type": "stream",
     "text": [
      "+--------------------+--------------------+--------+------------------+-------------+----------------+------------------+-----------+----------+-------------+---------+-----------+-------------+-------------+------------+---------+---------+\n",
      "|        product_name|         energy_100g|fat_100g| saturatedfat_100g|transfat_100g|cholesterol_100g|carbohydrates_100g|sugars_100g|fiber_100g|protiens_100g|salt_100g|sodium_100g|vitamina_100g|vitaminc_100g|calcium_100g|iron_100g|     key1|\n",
      "+--------------------+--------------------+--------+------------------+-------------+----------------+------------------+-----------+----------+-------------+---------+-----------+-------------+-------------+------------+---------+---------+\n",
      "|\"smooth milk choc...| cinnamon rice mi...|  2159.0|29.690001000000002|        18.75|             0.0|             0.023|      54.69|     53.12|          1.6|     6.25|     0.1778|         0.07|          0.0|         0.0|    0.156|chocolate|\n",
      "+--------------------+--------------------+--------+------------------+-------------+----------------+------------------+-----------+----------+-------------+---------+-----------+-------------+-------------+------------+---------+---------+\n",
      "\n"
     ]
    }
   ],
   "source": [
    "openn1.show()"
   ]
  },
  {
   "cell_type": "code",
   "execution_count": 88,
   "metadata": {},
   "outputs": [
    {
     "name": "stdout",
     "output_type": "stream",
     "text": [
      "20\n",
      "+--------------------+-----------+-----------------+------------------+-------------+--------------------+------------------+------------------+----------+------------------+--------------------+--------------------+--------------------+--------------------+--------------------+--------------------+---------+\n",
      "|        product_name|energy_100g|         fat_100g| saturatedfat_100g|transfat_100g|    cholesterol_100g|carbohydrates_100g|       sugars_100g|fiber_100g|     protiens_100g|           salt_100g|         sodium_100g|       vitamina_100g|       vitaminc_100g|        calcium_100g|           iron_100g|     key1|\n",
      "+--------------------+-----------+-----------------+------------------+-------------+--------------------+------------------+------------------+----------+------------------+--------------------+--------------------+--------------------+--------------------+--------------------+--------------------+---------+\n",
      "|white chocolate p...|     1795.0|        17.860001|             14.29|          0.0|         0.017999999|             64.29|             39.29|       0.0|3.5699998999999996|             0.18034|               0.071|                 0.0|                 0.0|         0.071000002|0.001290000000000...|chocolate|\n",
      "|honey soynut butt...|     2485.0|            43.75| 7.809999900000001|          0.0|                 0.0|             31.25|              12.5|      12.5|21.879998999999998|  0.7924800000000001|               0.312|                 0.0|                 0.0| 0.09399999699999999|        0.0039400002|      soy|\n",
      "|  pure natural sugar|     1569.0|              0.0|             11.95|          0.0|        0.0140000001|             100.0|             100.0|       4.4|               0.0|                 0.0|                 0.0|                 0.0|                 0.0|          0.31400001|            0.002515|    sugar|\n",
      "|classic creamy al...|     2485.0|        53.119999|         4.6900001|          0.0|                 0.0|             21.88|              6.25|       9.4|21.879998999999998|  0.7137399999999999|               0.281|                 0.0|                 0.0|                0.25|0.003379999899999...|    cream|\n",
      "|   real cheese puffs|     2218.0|        31.799999|         5.3000002|          0.0|                 0.0|             56.54|              3.53|       3.5| 7.070000200000001|              2.6035|               1.025|                 0.0|                 0.0|         0.071000002|                 0.0|   cheese|\n",
      "|  traditional onions|      180.0|              0.5| 3.598571542857143|          0.0|0.002222222333333...|              10.0|0.8728571428571428|       1.4|        0.80000001| 0.43744444444444447| 0.17222222222222222|0.000258199993333...|              0.0096| 0.09699999933333335|0.002726666633333...|    onion|\n",
      "|tomato potato gno...|      347.0|        2.0699999|              0.69|          0.0|                 0.0|             31.72|              4.14|       2.8|              3.45|              1.2954|                0.51|       2.0699999e-05|                 0.0|0.013999999999999999|                 0.0|   tomato|\n",
      "|red jalapeno pepp...|       75.0|              0.0|7.4199999850000005|          0.0|         0.039000001|             31.25|               0.0|      2.35|7.0299999500000006|0.002539999999999...|               0.001|      0.000140699995|              0.0075|        0.1094999945|0.001404999949999...|   pepper|\n",
      "|325% milkfat homo...|      280.0|        3.3299999|         2.0799999|          0.0|               0.015|              5.42|               5.0|       0.0|         3.3299999|             0.13208|0.052000000000000005|       3.7500002e-05|                 0.0|               0.125|                 0.0|     milk|\n",
      "|egg & bacon burritos|      883.0|7.809999900000001|              1.95|          0.0|               0.055|             27.34|              1.56|       0.8| 7.809999900000001|  0.8940799999999999| 0.35200000000000004|            2.34e-05|0.000899999980000...|         0.016000001|0.002110000000000...|      egg|\n",
      "+--------------------+-----------+-----------------+------------------+-------------+--------------------+------------------+------------------+----------+------------------+--------------------+--------------------+--------------------+--------------------+--------------------+--------------------+---------+\n",
      "only showing top 10 rows\n",
      "\n"
     ]
    }
   ],
   "source": [
    "nuit_table=openn1.union(openn2)\n",
    "nuit_table=nuit_table.union(openn3)\n",
    "nuit_table=nuit_table.union(openn4)\n",
    "nuit_table=nuit_table.union(openn5)\n",
    "nuit_table=nuit_table.union(openn6)\n",
    "nuit_table=nuit_table.union(openn7)\n",
    "nuit_table=nuit_table.union(openn8)\n",
    "nuit_table=nuit_table.union(openn9)\n",
    "nuit_table=nuit_table.union(openn10)\n",
    "nuit_table=nuit_table.union(openn11)\n",
    "nuit_table=nuit_table.union(openn12)\n",
    "nuit_table=nuit_table.union(openn13)\n",
    "nuit_table=nuit_table.union(openn14)\n",
    "nuit_table=nuit_table.union(openn15)\n",
    "nuit_table=nuit_table.union(openn16)\n",
    "nuit_table=nuit_table.union(openn17)\n",
    "nuit_table=nuit_table.union(openn18)\n",
    "nuit_table=nuit_table.union(openn19)\n",
    "nuit_table=nuit_table.union(openn20)\n",
    "print(nuit_table.count())\n",
    "nuit_table.show(10)"
   ]
  },
  {
   "cell_type": "code",
   "execution_count": 110,
   "metadata": {},
   "outputs": [],
   "source": [
    "genrecipename.createOrReplaceTempView(\"genrecipename\")\n",
    "nuit_table.createOrReplaceTempView(\"nuit_table\")\n",
    "table1 = spark.sql(\"select x.title, y.energy_100g as energy1, y.fat_100g as fat1, y.saturatedfat_100g satfat1, \\\n",
    "y.transfat_100g as transfat1, y.cholesterol_100g as cholestorol1, y.carbohydrates_100g as carbs1, \\\n",
    "y.sugars_100g as sugars1, y.fiber_100g as fiber1, y.protiens_100g as protein1, y.salt_100g as salt1, \\\n",
    "y.sodium_100g as sodium1, y.vitamina_100g as vit_a1, y.vitaminc_100g as vit_c1, y.calcium_100g as calcium1, \\\n",
    "y.iron_100g as iron1, x.key1, x.key2, x.key3, \\\n",
    "x.key4, x.key5, x.key6, x.key7, x.key8, x.key9, x.key10, x.key11, x.key12, x.key13, x.key14, x.key15, x.key16, \\\n",
    "x.key17, x.key18, x.key19, x.key20 from genrecipename x left join nuit_table y on x.key1 = y.key1\")\n",
    "table1.createOrReplaceTempView(\"table1\")\n",
    "\n",
    "table2 = spark.sql(\"select x.title, x.energy1, x.fat1, x.satfat1, x.transfat1, x.cholestorol1, x.carbs1, x.sugars1, \\\n",
    "x.fiber1, x.protein1, x.salt1, x.sodium1, x.vit_a1, x.vit_c1, x.calcium1, x.iron1, y.energy_100g as energy2, \\\n",
    "y.fat_100g as fat2, y.saturatedfat_100g satfat2, y.transfat_100g as transfat2, y.cholesterol_100g as cholestorol2, \\\n",
    "y.carbohydrates_100g as carbs2, y.sugars_100g as sugars2, y.fiber_100g as fiber2, y.protiens_100g as protein2, \\\n",
    "y.salt_100g as salt2, y.sodium_100g as sodium2, y.vitamina_100g as vit_a2, y.vitaminc_100g as vit_c2, \\\n",
    "y.calcium_100g as calcium2, y.iron_100g as iron2, x.key1, x.key2, x.key3, x.key4, x.key5, x.key6, x.key7, x.key8, \\\n",
    "x.key9, x.key10, x.key11, x.key12, x.key13, x.key14, x.key15, x.key16, \\\n",
    "x.key17, x.key18, x.key19, x.key20 from table1 x left join nuit_table y on x.key2 = y.key1\")\n",
    "table2.createOrReplaceTempView(\"table2\")\n",
    "\n",
    "table3 = spark.sql(\"select x.title, x.energy1, x.fat1, x.satfat1, x.transfat1, x.cholestorol1, x.carbs1, x.sugars1, \\\n",
    "x.fiber1, x.protein1, x.salt1, x.sodium1, x.vit_a1, x.vit_c1, x.calcium1, x.iron1, x.energy2, x.fat2, x.satfat2, \\\n",
    "x.transfat2, x.cholestorol2, x.carbs2, x.sugars2, x.fiber2, x.protein2, x.salt2, x.sodium2, x.vit_a2, x.vit_c2, \\\n",
    "x.calcium2, x.iron2, y.energy_100g as energy3, y.fat_100g as fat3, y.saturatedfat_100g satfat3, \\\n",
    "y.transfat_100g as transfat3, y.cholesterol_100g as cholestorol3, y.carbohydrates_100g as carbs3, \\\n",
    "y.sugars_100g as sugars3, y.fiber_100g as fiber3, y.protiens_100g as protein3, \\\n",
    "y.salt_100g as salt3, y.sodium_100g as sodium3, y.vitamina_100g as vit_a3, y.vitaminc_100g as vit_c3, \\\n",
    "y.calcium_100g as calcium3, y.iron_100g as iron3, x.key1, x.key2, x.key3, x.key4, x.key5, x.key6, x.key7, x.key8, \\\n",
    "x.key9, x.key10, x.key11, x.key12, x.key13, x.key14, x.key15, x.key16, \\\n",
    "x.key17, x.key18, x.key19, x.key20 from table2 x left join nuit_table y on x.key3 = y.key1\")\n",
    "table3.createOrReplaceTempView(\"table3\")\n",
    "\n",
    "table4 = spark.sql(\"select x.title, x.energy1, x.fat1, x.satfat1, x.transfat1, x.cholestorol1, x.carbs1, x.sugars1, \\\n",
    "x.fiber1, x.protein1, x.salt1, x.sodium1, x.vit_a1, x.vit_c1, x.calcium1, x.iron1, x.energy2, x.fat2, x.satfat2, \\\n",
    "x.transfat2, x.cholestorol2, x.carbs2, x.sugars2, x.fiber2, x.protein2, x.salt2, x.sodium2, x.vit_a2, x.vit_c2, \\\n",
    "x.calcium2, x.iron2, x.energy3, x.fat3, x.satfat3, x.transfat3, x.cholestorol3, x.carbs3, x.sugars3, x.fiber3, \\\n",
    "x.protein3, x.salt3, x.sodium3, x.vit_a3, x.vit_c3, x.calcium3, x.iron3, y.energy_100g as energy4, y.fat_100g as fat4, \\\n",
    "y.saturatedfat_100g satfat4, y.transfat_100g as transfat4, y.cholesterol_100g as cholestorol4, \\\n",
    "y.carbohydrates_100g as carbs4, y.sugars_100g as sugars4, y.fiber_100g as fiber4, y.protiens_100g as protein4, \\\n",
    "y.salt_100g as salt4, y.sodium_100g as sodium4, y.vitamina_100g as vit_a4, y.vitaminc_100g as vit_c4, \\\n",
    "y.calcium_100g as calcium4, y.iron_100g as iron4, x.key1, x.key2, x.key3, x.key4, x.key5, x.key6, x.key7, x.key8, \\\n",
    "x.key9, x.key10, x.key11, x.key12, x.key13, x.key14, x.key15, x.key16, \\\n",
    "x.key17, x.key18, x.key19, x.key20 from table3 x left join nuit_table y on x.key4 = y.key1\")\n",
    "table4.createOrReplaceTempView(\"table4\")\n",
    "\n",
    "table5 = spark.sql(\"select x.title, x.energy1, x.fat1, x.satfat1, x.transfat1, x.cholestorol1, x.carbs1, x.sugars1, \\\n",
    "x.fiber1, x.protein1, x.salt1, x.sodium1, x.vit_a1, x.vit_c1, x.calcium1, x.iron1, x.energy2, x.fat2, x.satfat2, \\\n",
    "x.transfat2, x.cholestorol2, x.carbs2, x.sugars2, x.fiber2, x.protein2, x.salt2, x.sodium2, x.vit_a2, x.vit_c2, \\\n",
    "x.calcium2, x.iron2, x.energy3, x.fat3, x.satfat3, x.transfat3, x.cholestorol3, x.carbs3, x.sugars3, x.fiber3, \\\n",
    "x.protein3, x.salt3, x.sodium3, x.vit_a3, x.vit_c3, x.calcium3, x.iron3, x.energy4, x.fat4, x.satfat4, x.transfat4, \\\n",
    "x.cholestorol4, x.carbs4, x.sugars4, x.fiber4, x.protein4, x.salt4, x.sodium4, x.vit_a4, x.vit_c4, x.calcium4, \\\n",
    "x.iron4, y.energy_100g as energy5, y.fat_100g as fat5, y.saturatedfat_100g satfat5, y.transfat_100g as transfat5, \\\n",
    "y.cholesterol_100g as cholestorol5, y.carbohydrates_100g as carbs5, y.sugars_100g as sugars5, y.fiber_100g as fiber5, \\\n",
    "y.protiens_100g as protein5, y.salt_100g as salt5, y.sodium_100g as sodium5, y.vitamina_100g as vit_a5, \\\n",
    "y.vitaminc_100g as vit_c5, y.calcium_100g as calcium5, y.iron_100g as iron5, x.key1, x.key2, x.key3, x.key4, x.key5, \\\n",
    "x.key6, x.key7, x.key8, x.key9, x.key10, x.key11, x.key12, x.key13, x.key14, x.key15, x.key16, \\\n",
    "x.key17, x.key18, x.key19, x.key20 from table4 x left join nuit_table y on x.key5 = y.key1\")\n",
    "table5.createOrReplaceTempView(\"table5\")\n",
    "\n",
    "table6 = spark.sql(\"select x.title, x.energy1, x.fat1, x.satfat1, x.transfat1, x.cholestorol1, x.carbs1, x.sugars1, \\\n",
    "x.fiber1, x.protein1, x.salt1, x.sodium1, x.vit_a1, x.vit_c1, x.calcium1, x.iron1, x.energy2, x.fat2, x.satfat2, \\\n",
    "x.transfat2, x.cholestorol2, x.carbs2, x.sugars2, x.fiber2, x.protein2, x.salt2, x.sodium2, x.vit_a2, x.vit_c2, \\\n",
    "x.calcium2, x.iron2, x.energy3, x.fat3, x.satfat3, x.transfat3, x.cholestorol3, x.carbs3, x.sugars3, x.fiber3, \\\n",
    "x.protein3, x.salt3, x.sodium3, x.vit_a3, x.vit_c3, x.calcium3, x.iron3, x.energy4, x.fat4, x.satfat4, x.transfat4, \\\n",
    "x.cholestorol4, x.carbs4, x.sugars4, x.fiber4, x.protein4, x.salt4, x.sodium4, x.vit_a4, x.vit_c4, x.calcium4, \\\n",
    "x.iron4, x.energy5, x.fat5, x.satfat5, x.transfat5, x.cholestorol5, x.carbs5, x.sugars5, x.fiber5, x.protein5, \\\n",
    "x.salt5, x.sodium5, x.vit_a5, x.vit_c5, x.calcium5, x.iron5,y.energy_100g as energy6, y.fat_100g as fat6, \\\n",
    "y.saturatedfat_100g satfat6, y.transfat_100g as transfat6, y.cholesterol_100g as cholestorol6, y.carbohydrates_100g \\\n",
    "as carbs6, y.sugars_100g as sugars6, y.fiber_100g as fiber6, y.protiens_100g as protein6, y.salt_100g as salt6, \\\n",
    "y.sodium_100g as sodium6, y.vitamina_100g as vit_a6, y.vitaminc_100g as vit_c6, y.calcium_100g as calcium6, \\\n",
    "y.iron_100g as iron6, x.key1, x.key2, x.key3, x.key4, x.key5, x.key6, x.key7, x.key8, x.key9, x.key10, x.key11, \\\n",
    "x.key12, x.key13, x.key14, x.key15, x.key16, x.key17, x.key18, x.key19, x.key20 from table5 x left join nuit_table \\\n",
    "y on x.key6 = y.key1\")\n",
    "table6.createOrReplaceTempView(\"table6\")\n",
    "\n",
    "table7 = spark.sql(\"select x.title, x.energy1, x.fat1, x.satfat1, x.transfat1, x.cholestorol1, x.carbs1, x.sugars1, \\\n",
    "x.fiber1, x.protein1, x.salt1, x.sodium1, x.vit_a1, x.vit_c1, x.calcium1, x.iron1, x.energy2, x.fat2, x.satfat2, \\\n",
    "x.transfat2, x.cholestorol2, x.carbs2, x.sugars2, x.fiber2, x.protein2, x.salt2, x.sodium2, x.vit_a2, x.vit_c2, \\\n",
    "x.calcium2, x.iron2, x.energy3, x.fat3, x.satfat3, x.transfat3, x.cholestorol3, x.carbs3, x.sugars3, x.fiber3, \\\n",
    "x.protein3, x.salt3, x.sodium3, x.vit_a3, x.vit_c3, x.calcium3, x.iron3, x.energy4, x.fat4, x.satfat4, x.transfat4, \\\n",
    "x.cholestorol4, x.carbs4, x.sugars4, x.fiber4, x.protein4, x.salt4, x.sodium4, x.vit_a4, x.vit_c4, x.calcium4, \\\n",
    "x.iron4,x.energy5, x.fat5, x.satfat5, x.transfat5, x.cholestorol5, x.carbs5, x.sugars5, x.fiber5, x.protein5, \\\n",
    "x.salt5, x.sodium5, x.vit_a5, x.vit_c5, x.calcium5, x.iron5, x.energy6, x.fat6, x.satfat6, x.transfat6, \\\n",
    "x.cholestorol6, x.carbs6, x.sugars6, x.fiber6, x.protein6, x.salt6, x.sodium6, x.vit_a6, x.vit_c6, x.calcium6, x.iron6, \\\n",
    "y.energy_100g as energy7, y.fat_100g as fat7, y.saturatedfat_100g satfat7, y.transfat_100g as transfat7, \\\n",
    "y.cholesterol_100g as cholestorol7, y.carbohydrates_100g as carbs7, y.sugars_100g as sugars7, y.fiber_100g as fiber7, \\\n",
    "y.protiens_100g as protein7, y.salt_100g as salt7, y.sodium_100g as sodium7, y.vitamina_100g as vit_a7, \\\n",
    "y.vitaminc_100g as vit_c7, y.calcium_100g as calcium7, y.iron_100g as iron7, x.key1, x.key2, x.key3, x.key4, \\\n",
    "x.key5, x.key6, x.key7, x.key8, x.key9, x.key10, x.key11, x.key12, x.key13, x.key14, x.key15, x.key16, x.key17, \\\n",
    "x.key18, x.key19, x.key20 from table6 x left join nuit_table y on x.key7 = y.key1\")\n",
    "table7.createOrReplaceTempView(\"table7\")\n",
    "\n",
    "table8 = spark.sql(\"select x.title, x.energy1, x.fat1, x.satfat1, x.transfat1, x.cholestorol1, x.carbs1, x.sugars1, \\\n",
    "x.fiber1, x.protein1, x.salt1, x.sodium1, x.vit_a1, x.vit_c1, x.calcium1, x.iron1, x.energy2, x.fat2, x.satfat2, \\\n",
    "x.transfat2, x.cholestorol2, x.carbs2, x.sugars2, x.fiber2, x.protein2, x.salt2, x.sodium2, x.vit_a2, x.vit_c2, \\\n",
    "x.calcium2, x.iron2, x.energy3, x.fat3, x.satfat3, x.transfat3, x.cholestorol3, x.carbs3, x.sugars3, x.fiber3, \\\n",
    "x.protein3, x.salt3, x.sodium3, x.vit_a3, x.vit_c3, x.calcium3, x.iron3, x.energy4, x.fat4, x.satfat4, x.transfat4, \\\n",
    "x.cholestorol4, x.carbs4, x.sugars4, x.fiber4, x.protein4, x.salt4, x.sodium4, x.vit_a4, x.vit_c4, x.calcium4, \\\n",
    "x.iron4,x.energy5, x.fat5, x.satfat5, x.transfat5, x.cholestorol5, x.carbs5, x.sugars5, x.fiber5, x.protein5, \\\n",
    "x.salt5, x.sodium5, x.vit_a5, x.vit_c5, x.calcium5, x.iron5, \\\n",
    "x.energy6, x.fat6, x.satfat6, x.transfat6, x.cholestorol6, x.carbs6, x.sugars6, x.fiber6, x.protein6, \\\n",
    "x.salt6, x.sodium6, x.vit_a6, x.vit_c6, x.calcium6, x.iron6, \\\n",
    "x.energy7, x.fat7, x.satfat7, x.transfat7, x.cholestorol7, x.carbs7, x.sugars7, x.fiber7, x.protein7, \\\n",
    "x.salt7, x.sodium7, x.vit_a7, x.vit_c7, x.calcium7, x.iron7, \\\n",
    "y.energy_100g as energy8, y.fat_100g as fat8, y.saturatedfat_100g satfat8, y.transfat_100g as transfat8, \\\n",
    "y.cholesterol_100g as cholestorol8, y.carbohydrates_100g as carbs8, y.sugars_100g as sugars8, y.fiber_100g as fiber8, \\\n",
    "y.protiens_100g as protein8, y.salt_100g as salt8, y.sodium_100g as sodium8, y.vitamina_100g as vit_a8, \\\n",
    "y.vitaminc_100g as vit_c8, y.calcium_100g as calcium8, y.iron_100g as iron8, x.key1, x.key2, x.key3, x.key4, \\\n",
    "x.key5, x.key6, x.key7, x.key8, x.key9, x.key10, x.key11, x.key12, x.key13, x.key14, x.key15, x.key16, x.key17, \\\n",
    "x.key18, x.key19, x.key20 from table7 x left join nuit_table y on x.key8 = y.key1\")\n",
    "table8.createOrReplaceTempView(\"table8\")\n",
    "\n",
    "table9 = spark.sql(\"select x.title, x.energy1, x.fat1, x.satfat1, x.transfat1, x.cholestorol1, x.carbs1, x.sugars1, \\\n",
    "x.fiber1, x.protein1, x.salt1, x.sodium1, x.vit_a1, x.vit_c1, x.calcium1, x.iron1, x.energy2, x.fat2, x.satfat2, \\\n",
    "x.transfat2, x.cholestorol2, x.carbs2, x.sugars2, x.fiber2, x.protein2, x.salt2, x.sodium2, x.vit_a2, x.vit_c2, \\\n",
    "x.calcium2, x.iron2, x.energy3, x.fat3, x.satfat3, x.transfat3, x.cholestorol3, x.carbs3, x.sugars3, x.fiber3, \\\n",
    "x.protein3, x.salt3, x.sodium3, x.vit_a3, x.vit_c3, x.calcium3, x.iron3, x.energy4, x.fat4, x.satfat4, x.transfat4, \\\n",
    "x.cholestorol4, x.carbs4, x.sugars4, x.fiber4, x.protein4, x.salt4, x.sodium4, x.vit_a4, x.vit_c4, x.calcium4, \\\n",
    "x.iron4,x.energy5, x.fat5, x.satfat5, x.transfat5, x.cholestorol5, x.carbs5, x.sugars5, x.fiber5, x.protein5, \\\n",
    "x.salt5, x.sodium5, x.vit_a5, x.vit_c5, x.calcium5, x.iron5, \\\n",
    "x.energy6, x.fat6, x.satfat6, x.transfat6, x.cholestorol6, x.carbs6, x.sugars6, x.fiber6, x.protein6, \\\n",
    "x.salt6, x.sodium6, x.vit_a6, x.vit_c6, x.calcium6, x.iron6, \\\n",
    "x.energy7, x.fat7, x.satfat7, x.transfat7, x.cholestorol7, x.carbs7, x.sugars7, x.fiber7, x.protein7, \\\n",
    "x.salt7, x.sodium7, x.vit_a7, x.vit_c7, x.calcium7, x.iron7, \\\n",
    "x.energy8, x.fat8, x.satfat8, x.transfat8, x.cholestorol8, x.carbs8, x.sugars8, x.fiber8, x.protein8, \\\n",
    "x.salt8, x.sodium8, x.vit_a8, x.vit_c8, x.calcium8, x.iron8, \\\n",
    "y.energy_100g as energy9, y.fat_100g as fat9, y.saturatedfat_100g satfat9, y.transfat_100g as transfat9, \\\n",
    "y.cholesterol_100g as cholestorol9, y.carbohydrates_100g as carbs9, y.sugars_100g as sugars9, y.fiber_100g as fiber9, \\\n",
    "y.protiens_100g as protein9, y.salt_100g as salt9, y.sodium_100g as sodium9, y.vitamina_100g as vit_a9, \\\n",
    "y.vitaminc_100g as vit_c9, y.calcium_100g as calcium9, y.iron_100g as iron9, x.key1, x.key2, x.key3, x.key4, \\\n",
    "x.key5, x.key6, x.key7, x.key8, x.key9, x.key10, x.key11, x.key12, x.key13, x.key14, x.key15, x.key16, x.key17, \\\n",
    "x.key18, x.key19, x.key20 from table8 x left join nuit_table y on x.key9 = y.key1\")\n",
    "table9.createOrReplaceTempView(\"table9\")\n",
    "\n",
    "table10 = spark.sql(\"select x.title, x.energy1, x.fat1, x.satfat1, x.transfat1, x.cholestorol1, x.carbs1, x.sugars1, \\\n",
    "x.fiber1, x.protein1, x.salt1, x.sodium1, x.vit_a1, x.vit_c1, x.calcium1, x.iron1, x.energy2, x.fat2, x.satfat2, \\\n",
    "x.transfat2, x.cholestorol2, x.carbs2, x.sugars2, x.fiber2, x.protein2, x.salt2, x.sodium2, x.vit_a2, x.vit_c2, \\\n",
    "x.calcium2, x.iron2, x.energy3, x.fat3, x.satfat3, x.transfat3, x.cholestorol3, x.carbs3, x.sugars3, x.fiber3, \\\n",
    "x.protein3, x.salt3, x.sodium3, x.vit_a3, x.vit_c3, x.calcium3, x.iron3, x.energy4, x.fat4, x.satfat4, x.transfat4, \\\n",
    "x.cholestorol4, x.carbs4, x.sugars4, x.fiber4, x.protein4, x.salt4, x.sodium4, x.vit_a4, x.vit_c4, x.calcium4, \\\n",
    "x.iron4,x.energy5, x.fat5, x.satfat5, x.transfat5, x.cholestorol5, x.carbs5, x.sugars5, x.fiber5, x.protein5, \\\n",
    "x.salt5, x.sodium5, x.vit_a5, x.vit_c5, x.calcium5, x.iron5, \\\n",
    "x.energy6, x.fat6, x.satfat6, x.transfat6, x.cholestorol6, x.carbs6, x.sugars6, x.fiber6, x.protein6, \\\n",
    "x.salt6, x.sodium6, x.vit_a6, x.vit_c6, x.calcium6, x.iron6, \\\n",
    "x.energy7, x.fat7, x.satfat7, x.transfat7, x.cholestorol7, x.carbs7, x.sugars7, x.fiber7, x.protein7, \\\n",
    "x.salt7, x.sodium7, x.vit_a7, x.vit_c7, x.calcium7, x.iron7, \\\n",
    "x.energy8, x.fat8, x.satfat8, x.transfat8, x.cholestorol8, x.carbs8, x.sugars8, x.fiber8, x.protein8, \\\n",
    "x.salt8, x.sodium8, x.vit_a8, x.vit_c8, x.calcium8, x.iron8, \\\n",
    "x.energy9, x.fat9, x.satfat9, x.transfat9, x.cholestorol9, x.carbs9, x.sugars9, x.fiber9, x.protein9, \\\n",
    "x.salt9, x.sodium9, x.vit_a9, x.vit_c9, x.calcium9, x.iron9, \\\n",
    "y.energy_100g as energy10, y.fat_100g as fat10, y.saturatedfat_100g satfat10, y.transfat_100g as transfat10, \\\n",
    "y.cholesterol_100g as cholestorol10, y.carbohydrates_100g as carbs10, y.sugars_100g as sugars10, y.fiber_100g as fiber10, \\\n",
    "y.protiens_100g as protein10, y.salt_100g as salt10, y.sodium_100g as sodium10, y.vitamina_100g as vit_a10, \\\n",
    "y.vitaminc_100g as vit_c10, y.calcium_100g as calcium10, y.iron_100g as iron10, x.key1, x.key2, x.key3, x.key4, \\\n",
    "x.key5, x.key6, x.key7, x.key8, x.key9, x.key10, x.key11, x.key12, x.key13, x.key14, x.key15, x.key16, x.key17, \\\n",
    "x.key18, x.key19, x.key20 from table9 x left join nuit_table y on x.key10 = y.key1\")\n",
    "table10.createOrReplaceTempView(\"table10\")\n",
    "\n",
    "table11 = spark.sql(\"select x.title, x.energy1, x.fat1, x.satfat1, x.transfat1, x.cholestorol1, x.carbs1, x.sugars1, \\\n",
    "x.fiber1, x.protein1, x.salt1, x.sodium1, x.vit_a1, x.vit_c1, x.calcium1, x.iron1, x.energy2, x.fat2, x.satfat2, \\\n",
    "x.transfat2, x.cholestorol2, x.carbs2, x.sugars2, x.fiber2, x.protein2, x.salt2, x.sodium2, x.vit_a2, x.vit_c2, \\\n",
    "x.calcium2, x.iron2, x.energy3, x.fat3, x.satfat3, x.transfat3, x.cholestorol3, x.carbs3, x.sugars3, x.fiber3, \\\n",
    "x.protein3, x.salt3, x.sodium3, x.vit_a3, x.vit_c3, x.calcium3, x.iron3, x.energy4, x.fat4, x.satfat4, x.transfat4, \\\n",
    "x.cholestorol4, x.carbs4, x.sugars4, x.fiber4, x.protein4, x.salt4, x.sodium4, x.vit_a4, x.vit_c4, x.calcium4, \\\n",
    "x.iron4,x.energy5, x.fat5, x.satfat5, x.transfat5, x.cholestorol5, x.carbs5, x.sugars5, x.fiber5, x.protein5, \\\n",
    "x.salt5, x.sodium5, x.vit_a5, x.vit_c5, x.calcium5, x.iron5, \\\n",
    "x.energy6, x.fat6, x.satfat6, x.transfat6, x.cholestorol6, x.carbs6, x.sugars6, x.fiber6, x.protein6, \\\n",
    "x.salt6, x.sodium6, x.vit_a6, x.vit_c6, x.calcium6, x.iron6, \\\n",
    "x.energy7, x.fat7, x.satfat7, x.transfat7, x.cholestorol7, x.carbs7, x.sugars7, x.fiber7, x.protein7, \\\n",
    "x.salt7, x.sodium7, x.vit_a7, x.vit_c7, x.calcium7, x.iron7, \\\n",
    "x.energy8, x.fat8, x.satfat8, x.transfat8, x.cholestorol8, x.carbs8, x.sugars8, x.fiber8, x.protein8, \\\n",
    "x.salt8, x.sodium8, x.vit_a8, x.vit_c8, x.calcium8, x.iron8, \\\n",
    "x.energy9, x.fat9, x.satfat9, x.transfat9, x.cholestorol9, x.carbs9, x.sugars9, x.fiber9, x.protein9, \\\n",
    "x.salt9, x.sodium9, x.vit_a9, x.vit_c9, x.calcium9, x.iron9, \\\n",
    "x.energy10, x.fat10, x.satfat10, x.transfat10, x.cholestorol10, x.carbs10, x.sugars10, x.fiber10, x.protein10, \\\n",
    "x.salt10, x.sodium10, x.vit_a10, x.vit_c10, x.calcium10, x.iron10, \\\n",
    "y.energy_100g as energy11, y.fat_100g as fat11, y.saturatedfat_100g satfat11, y.transfat_100g as transfat11, \\\n",
    "y.cholesterol_100g as cholestorol11, y.carbohydrates_100g as carbs11, y.sugars_100g as sugars11, y.fiber_100g as fiber11, \\\n",
    "y.protiens_100g as protein11, y.salt_100g as salt11, y.sodium_100g as sodium11, y.vitamina_100g as vit_a11, \\\n",
    "y.vitaminc_100g as vit_c11, y.calcium_100g as calcium11, y.iron_100g as iron11, x.key1, x.key2, x.key3, x.key4, \\\n",
    "x.key5, x.key6, x.key7, x.key8, x.key9, x.key10, x.key11, x.key12, x.key13, x.key14, x.key15, x.key16, x.key17, \\\n",
    "x.key18, x.key19, x.key20 from table10 x left join nuit_table y on x.key11 = y.key1\")\n",
    "table11.createOrReplaceTempView(\"table11\")\n",
    "\n",
    "table12 = spark.sql(\"select x.title, x.energy1, x.fat1, x.satfat1, x.transfat1, x.cholestorol1, x.carbs1, x.sugars1, \\\n",
    "x.fiber1, x.protein1, x.salt1, x.sodium1, x.vit_a1, x.vit_c1, x.calcium1, x.iron1, x.energy2, x.fat2, x.satfat2, \\\n",
    "x.transfat2, x.cholestorol2, x.carbs2, x.sugars2, x.fiber2, x.protein2, x.salt2, x.sodium2, x.vit_a2, x.vit_c2, \\\n",
    "x.calcium2, x.iron2, x.energy3, x.fat3, x.satfat3, x.transfat3, x.cholestorol3, x.carbs3, x.sugars3, x.fiber3, \\\n",
    "x.protein3, x.salt3, x.sodium3, x.vit_a3, x.vit_c3, x.calcium3, x.iron3, x.energy4, x.fat4, x.satfat4, x.transfat4, \\\n",
    "x.cholestorol4, x.carbs4, x.sugars4, x.fiber4, x.protein4, x.salt4, x.sodium4, x.vit_a4, x.vit_c4, x.calcium4, \\\n",
    "x.iron4,x.energy5, x.fat5, x.satfat5, x.transfat5, x.cholestorol5, x.carbs5, x.sugars5, x.fiber5, x.protein5, \\\n",
    "x.salt5, x.sodium5, x.vit_a5, x.vit_c5, x.calcium5, x.iron5, \\\n",
    "x.energy6, x.fat6, x.satfat6, x.transfat6, x.cholestorol6, x.carbs6, x.sugars6, x.fiber6, x.protein6, \\\n",
    "x.salt6, x.sodium6, x.vit_a6, x.vit_c6, x.calcium6, x.iron6, \\\n",
    "x.energy7, x.fat7, x.satfat7, x.transfat7, x.cholestorol7, x.carbs7, x.sugars7, x.fiber7, x.protein7, \\\n",
    "x.salt7, x.sodium7, x.vit_a7, x.vit_c7, x.calcium7, x.iron7, \\\n",
    "x.energy8, x.fat8, x.satfat8, x.transfat8, x.cholestorol8, x.carbs8, x.sugars8, x.fiber8, x.protein8, \\\n",
    "x.salt8, x.sodium8, x.vit_a8, x.vit_c8, x.calcium8, x.iron8, \\\n",
    "x.energy9, x.fat9, x.satfat9, x.transfat9, x.cholestorol9, x.carbs9, x.sugars9, x.fiber9, x.protein9, \\\n",
    "x.salt9, x.sodium9, x.vit_a9, x.vit_c9, x.calcium9, x.iron9, \\\n",
    "x.energy10, x.fat10, x.satfat10, x.transfat10, x.cholestorol10, x.carbs10, x.sugars10, x.fiber10, x.protein10, \\\n",
    "x.salt10, x.sodium10, x.vit_a10, x.vit_c10, x.calcium10, x.iron10, \\\n",
    "x.energy11, x.fat11, x.satfat11, x.transfat11, x.cholestorol11, x.carbs11, x.sugars11, x.fiber11, x.protein11, \\\n",
    "x.salt11, x.sodium11, x.vit_a11, x.vit_c11, x.calcium11, x.iron11, \\\n",
    "y.energy_100g as energy12, y.fat_100g as fat12, y.saturatedfat_100g satfat12, y.transfat_100g as transfat12, \\\n",
    "y.cholesterol_100g as cholestorol12, y.carbohydrates_100g as carbs12, y.sugars_100g as sugars12, y.fiber_100g as fiber12, \\\n",
    "y.protiens_100g as protein12, y.salt_100g as salt12, y.sodium_100g as sodium12, y.vitamina_100g as vit_a12, \\\n",
    "y.vitaminc_100g as vit_c12, y.calcium_100g as calcium12, y.iron_100g as iron12, x.key1, x.key2, x.key3, x.key4, \\\n",
    "x.key5, x.key6, x.key7, x.key8, x.key9, x.key10, x.key11, x.key12, x.key13, x.key14, x.key15, x.key16, x.key17, \\\n",
    "x.key18, x.key19, x.key20 from table11 x left join nuit_table y on x.key12 = y.key1\")\n",
    "table12.createOrReplaceTempView(\"table12\")\n",
    "\n",
    "table13 = spark.sql(\"select x.title, x.energy1, x.fat1, x.satfat1, x.transfat1, x.cholestorol1, x.carbs1, x.sugars1, \\\n",
    "x.fiber1, x.protein1, x.salt1, x.sodium1, x.vit_a1, x.vit_c1, x.calcium1, x.iron1, x.energy2, x.fat2, x.satfat2, \\\n",
    "x.transfat2, x.cholestorol2, x.carbs2, x.sugars2, x.fiber2, x.protein2, x.salt2, x.sodium2, x.vit_a2, x.vit_c2, \\\n",
    "x.calcium2, x.iron2, x.energy3, x.fat3, x.satfat3, x.transfat3, x.cholestorol3, x.carbs3, x.sugars3, x.fiber3, \\\n",
    "x.protein3, x.salt3, x.sodium3, x.vit_a3, x.vit_c3, x.calcium3, x.iron3, x.energy4, x.fat4, x.satfat4, x.transfat4, \\\n",
    "x.cholestorol4, x.carbs4, x.sugars4, x.fiber4, x.protein4, x.salt4, x.sodium4, x.vit_a4, x.vit_c4, x.calcium4, \\\n",
    "x.iron4,x.energy5, x.fat5, x.satfat5, x.transfat5, x.cholestorol5, x.carbs5, x.sugars5, x.fiber5, x.protein5, \\\n",
    "x.salt5, x.sodium5, x.vit_a5, x.vit_c5, x.calcium5, x.iron5, \\\n",
    "x.energy6, x.fat6, x.satfat6, x.transfat6, x.cholestorol6, x.carbs6, x.sugars6, x.fiber6, x.protein6, \\\n",
    "x.salt6, x.sodium6, x.vit_a6, x.vit_c6, x.calcium6, x.iron6, \\\n",
    "x.energy7, x.fat7, x.satfat7, x.transfat7, x.cholestorol7, x.carbs7, x.sugars7, x.fiber7, x.protein7, \\\n",
    "x.salt7, x.sodium7, x.vit_a7, x.vit_c7, x.calcium7, x.iron7, \\\n",
    "x.energy8, x.fat8, x.satfat8, x.transfat8, x.cholestorol8, x.carbs8, x.sugars8, x.fiber8, x.protein8, \\\n",
    "x.salt8, x.sodium8, x.vit_a8, x.vit_c8, x.calcium8, x.iron8, \\\n",
    "x.energy9, x.fat9, x.satfat9, x.transfat9, x.cholestorol9, x.carbs9, x.sugars9, x.fiber9, x.protein9, \\\n",
    "x.salt9, x.sodium9, x.vit_a9, x.vit_c9, x.calcium9, x.iron9, \\\n",
    "x.energy10, x.fat10, x.satfat10, x.transfat10, x.cholestorol10, x.carbs10, x.sugars10, x.fiber10, x.protein10, \\\n",
    "x.salt10, x.sodium10, x.vit_a10, x.vit_c10, x.calcium10, x.iron10, \\\n",
    "x.energy11, x.fat11, x.satfat11, x.transfat11, x.cholestorol11, x.carbs11, x.sugars11, x.fiber11, x.protein11, \\\n",
    "x.salt11, x.sodium11, x.vit_a11, x.vit_c11, x.calcium11, x.iron11, \\\n",
    "x.energy12, x.fat12, x.satfat12, x.transfat12, x.cholestorol12, x.carbs12, x.sugars12, x.fiber12, x.protein12, \\\n",
    "x.salt12, x.sodium12, x.vit_a12, x.vit_c12, x.calcium12, x.iron12, \\\n",
    "y.energy_100g as energy13, y.fat_100g as fat13, y.saturatedfat_100g satfat13, y.transfat_100g as transfat13, \\\n",
    "y.cholesterol_100g as cholestorol13, y.carbohydrates_100g as carbs13, y.sugars_100g as sugars13, y.fiber_100g as fiber13, \\\n",
    "y.protiens_100g as protein13, y.salt_100g as salt13, y.sodium_100g as sodium13, y.vitamina_100g as vit_a13, \\\n",
    "y.vitaminc_100g as vit_c13, y.calcium_100g as calcium13, y.iron_100g as iron13, x.key1, x.key2, x.key3, x.key4, \\\n",
    "x.key5, x.key6, x.key7, x.key8, x.key9, x.key10, x.key11, x.key12, x.key13, x.key14, x.key15, x.key16, x.key17, \\\n",
    "x.key18, x.key19, x.key20 from table12 x left join nuit_table y on x.key13 = y.key1\")\n",
    "table13.createOrReplaceTempView(\"table13\")\n",
    "\n",
    "table14 = spark.sql(\"select x.title, x.energy1, x.fat1, x.satfat1, x.transfat1, x.cholestorol1, x.carbs1, x.sugars1, \\\n",
    "x.fiber1, x.protein1, x.salt1, x.sodium1, x.vit_a1, x.vit_c1, x.calcium1, x.iron1, x.energy2, x.fat2, x.satfat2, \\\n",
    "x.transfat2, x.cholestorol2, x.carbs2, x.sugars2, x.fiber2, x.protein2, x.salt2, x.sodium2, x.vit_a2, x.vit_c2, \\\n",
    "x.calcium2, x.iron2, x.energy3, x.fat3, x.satfat3, x.transfat3, x.cholestorol3, x.carbs3, x.sugars3, x.fiber3, \\\n",
    "x.protein3, x.salt3, x.sodium3, x.vit_a3, x.vit_c3, x.calcium3, x.iron3, x.energy4, x.fat4, x.satfat4, x.transfat4, \\\n",
    "x.cholestorol4, x.carbs4, x.sugars4, x.fiber4, x.protein4, x.salt4, x.sodium4, x.vit_a4, x.vit_c4, x.calcium4, \\\n",
    "x.iron4,x.energy5, x.fat5, x.satfat5, x.transfat5, x.cholestorol5, x.carbs5, x.sugars5, x.fiber5, x.protein5, \\\n",
    "x.salt5, x.sodium5, x.vit_a5, x.vit_c5, x.calcium5, x.iron5, \\\n",
    "x.energy6, x.fat6, x.satfat6, x.transfat6, x.cholestorol6, x.carbs6, x.sugars6, x.fiber6, x.protein6, \\\n",
    "x.salt6, x.sodium6, x.vit_a6, x.vit_c6, x.calcium6, x.iron6, \\\n",
    "x.energy7, x.fat7, x.satfat7, x.transfat7, x.cholestorol7, x.carbs7, x.sugars7, x.fiber7, x.protein7, \\\n",
    "x.salt7, x.sodium7, x.vit_a7, x.vit_c7, x.calcium7, x.iron7, \\\n",
    "x.energy8, x.fat8, x.satfat8, x.transfat8, x.cholestorol8, x.carbs8, x.sugars8, x.fiber8, x.protein8, \\\n",
    "x.salt8, x.sodium8, x.vit_a8, x.vit_c8, x.calcium8, x.iron8, \\\n",
    "x.energy9, x.fat9, x.satfat9, x.transfat9, x.cholestorol9, x.carbs9, x.sugars9, x.fiber9, x.protein9, \\\n",
    "x.salt9, x.sodium9, x.vit_a9, x.vit_c9, x.calcium9, x.iron9, \\\n",
    "x.energy10, x.fat10, x.satfat10, x.transfat10, x.cholestorol10, x.carbs10, x.sugars10, x.fiber10, x.protein10, \\\n",
    "x.salt10, x.sodium10, x.vit_a10, x.vit_c10, x.calcium10, x.iron10, \\\n",
    "x.energy11, x.fat11, x.satfat11, x.transfat11, x.cholestorol11, x.carbs11, x.sugars11, x.fiber11, x.protein11, \\\n",
    "x.salt11, x.sodium11, x.vit_a11, x.vit_c11, x.calcium11, x.iron11, \\\n",
    "x.energy12, x.fat12, x.satfat12, x.transfat12, x.cholestorol12, x.carbs12, x.sugars12, x.fiber12, x.protein12, \\\n",
    "x.salt12, x.sodium12, x.vit_a12, x.vit_c12, x.calcium12, x.iron12, \\\n",
    "x.energy13, x.fat13, x.satfat13, x.transfat13, x.cholestorol13, x.carbs13, x.sugars13, x.fiber13, x.protein13, \\\n",
    "x.salt13, x.sodium13, x.vit_a13, x.vit_c13, x.calcium13, x.iron13, \\\n",
    "y.energy_100g as energy14, y.fat_100g as fat14, y.saturatedfat_100g satfat14, y.transfat_100g as transfat14, \\\n",
    "y.cholesterol_100g as cholestorol14, y.carbohydrates_100g as carbs14, y.sugars_100g as sugars14, y.fiber_100g as fiber14, \\\n",
    "y.protiens_100g as protein14, y.salt_100g as salt14, y.sodium_100g as sodium14, y.vitamina_100g as vit_a14, \\\n",
    "y.vitaminc_100g as vit_c14, y.calcium_100g as calcium14, y.iron_100g as iron14, x.key1, x.key2, x.key3, x.key4, \\\n",
    "x.key5, x.key6, x.key7, x.key8, x.key9, x.key10, x.key11, x.key12, x.key13, x.key14, x.key15, x.key16, x.key17, \\\n",
    "x.key18, x.key19, x.key20 from table13 x left join nuit_table y on x.key14 = y.key1\")\n",
    "table14.createOrReplaceTempView(\"table14\")\n",
    "\n",
    "table15 = spark.sql(\"select x.title, x.energy1, x.fat1, x.satfat1, x.transfat1, x.cholestorol1, x.carbs1, x.sugars1, \\\n",
    "x.fiber1, x.protein1, x.salt1, x.sodium1, x.vit_a1, x.vit_c1, x.calcium1, x.iron1, x.energy2, x.fat2, x.satfat2, \\\n",
    "x.transfat2, x.cholestorol2, x.carbs2, x.sugars2, x.fiber2, x.protein2, x.salt2, x.sodium2, x.vit_a2, x.vit_c2, \\\n",
    "x.calcium2, x.iron2, x.energy3, x.fat3, x.satfat3, x.transfat3, x.cholestorol3, x.carbs3, x.sugars3, x.fiber3, \\\n",
    "x.protein3, x.salt3, x.sodium3, x.vit_a3, x.vit_c3, x.calcium3, x.iron3, x.energy4, x.fat4, x.satfat4, x.transfat4, \\\n",
    "x.cholestorol4, x.carbs4, x.sugars4, x.fiber4, x.protein4, x.salt4, x.sodium4, x.vit_a4, x.vit_c4, x.calcium4, \\\n",
    "x.iron4,x.energy5, x.fat5, x.satfat5, x.transfat5, x.cholestorol5, x.carbs5, x.sugars5, x.fiber5, x.protein5, \\\n",
    "x.salt5, x.sodium5, x.vit_a5, x.vit_c5, x.calcium5, x.iron5, \\\n",
    "x.energy6, x.fat6, x.satfat6, x.transfat6, x.cholestorol6, x.carbs6, x.sugars6, x.fiber6, x.protein6, \\\n",
    "x.salt6, x.sodium6, x.vit_a6, x.vit_c6, x.calcium6, x.iron6, \\\n",
    "x.energy7, x.fat7, x.satfat7, x.transfat7, x.cholestorol7, x.carbs7, x.sugars7, x.fiber7, x.protein7, \\\n",
    "x.salt7, x.sodium7, x.vit_a7, x.vit_c7, x.calcium7, x.iron7, \\\n",
    "x.energy8, x.fat8, x.satfat8, x.transfat8, x.cholestorol8, x.carbs8, x.sugars8, x.fiber8, x.protein8, \\\n",
    "x.salt8, x.sodium8, x.vit_a8, x.vit_c8, x.calcium8, x.iron8, \\\n",
    "x.energy9, x.fat9, x.satfat9, x.transfat9, x.cholestorol9, x.carbs9, x.sugars9, x.fiber9, x.protein9, \\\n",
    "x.salt9, x.sodium9, x.vit_a9, x.vit_c9, x.calcium9, x.iron9, \\\n",
    "x.energy10, x.fat10, x.satfat10, x.transfat10, x.cholestorol10, x.carbs10, x.sugars10, x.fiber10, x.protein10, \\\n",
    "x.salt10, x.sodium10, x.vit_a10, x.vit_c10, x.calcium10, x.iron10, \\\n",
    "x.energy11, x.fat11, x.satfat11, x.transfat11, x.cholestorol11, x.carbs11, x.sugars11, x.fiber11, x.protein11, \\\n",
    "x.salt11, x.sodium11, x.vit_a11, x.vit_c11, x.calcium11, x.iron11, \\\n",
    "x.energy12, x.fat12, x.satfat12, x.transfat12, x.cholestorol12, x.carbs12, x.sugars12, x.fiber12, x.protein12, \\\n",
    "x.salt12, x.sodium12, x.vit_a12, x.vit_c12, x.calcium12, x.iron12, \\\n",
    "x.energy13, x.fat13, x.satfat13, x.transfat13, x.cholestorol13, x.carbs13, x.sugars13, x.fiber13, x.protein13, \\\n",
    "x.salt13, x.sodium13, x.vit_a13, x.vit_c13, x.calcium13, x.iron13, \\\n",
    "x.energy14, x.fat14, x.satfat14, x.transfat14, x.cholestorol14, x.carbs14, x.sugars14, x.fiber14, x.protein14, \\\n",
    "x.salt14, x.sodium14, x.vit_a14, x.vit_c14, x.calcium14, x.iron14, \\\n",
    "y.energy_100g as energy15, y.fat_100g as fat15, y.saturatedfat_100g satfat15, y.transfat_100g as transfat15, \\\n",
    "y.cholesterol_100g as cholestorol15, y.carbohydrates_100g as carbs15, y.sugars_100g as sugars15, y.fiber_100g as fiber15, \\\n",
    "y.protiens_100g as protein15, y.salt_100g as salt15, y.sodium_100g as sodium15, y.vitamina_100g as vit_a15, \\\n",
    "y.vitaminc_100g as vit_c15, y.calcium_100g as calcium15, y.iron_100g as iron15, x.key1, x.key2, x.key3, x.key4, \\\n",
    "x.key5, x.key6, x.key7, x.key8, x.key9, x.key10, x.key11, x.key12, x.key13, x.key14, x.key15, x.key16, x.key17, \\\n",
    "x.key18, x.key19, x.key20 from table14 x left join nuit_table y on x.key15 = y.key1\")\n",
    "table15.createOrReplaceTempView(\"table15\")\n",
    "\n",
    "table16 = spark.sql(\"select x.title, x.energy1, x.fat1, x.satfat1, x.transfat1, x.cholestorol1, x.carbs1, x.sugars1, \\\n",
    "x.fiber1, x.protein1, x.salt1, x.sodium1, x.vit_a1, x.vit_c1, x.calcium1, x.iron1, x.energy2, x.fat2, x.satfat2, \\\n",
    "x.transfat2, x.cholestorol2, x.carbs2, x.sugars2, x.fiber2, x.protein2, x.salt2, x.sodium2, x.vit_a2, x.vit_c2, \\\n",
    "x.calcium2, x.iron2, x.energy3, x.fat3, x.satfat3, x.transfat3, x.cholestorol3, x.carbs3, x.sugars3, x.fiber3, \\\n",
    "x.protein3, x.salt3, x.sodium3, x.vit_a3, x.vit_c3, x.calcium3, x.iron3, x.energy4, x.fat4, x.satfat4, x.transfat4, \\\n",
    "x.cholestorol4, x.carbs4, x.sugars4, x.fiber4, x.protein4, x.salt4, x.sodium4, x.vit_a4, x.vit_c4, x.calcium4, \\\n",
    "x.iron4,x.energy5, x.fat5, x.satfat5, x.transfat5, x.cholestorol5, x.carbs5, x.sugars5, x.fiber5, x.protein5, \\\n",
    "x.salt5, x.sodium5, x.vit_a5, x.vit_c5, x.calcium5, x.iron5, \\\n",
    "x.energy6, x.fat6, x.satfat6, x.transfat6, x.cholestorol6, x.carbs6, x.sugars6, x.fiber6, x.protein6, \\\n",
    "x.salt6, x.sodium6, x.vit_a6, x.vit_c6, x.calcium6, x.iron6, \\\n",
    "x.energy7, x.fat7, x.satfat7, x.transfat7, x.cholestorol7, x.carbs7, x.sugars7, x.fiber7, x.protein7, \\\n",
    "x.salt7, x.sodium7, x.vit_a7, x.vit_c7, x.calcium7, x.iron7, \\\n",
    "x.energy8, x.fat8, x.satfat8, x.transfat8, x.cholestorol8, x.carbs8, x.sugars8, x.fiber8, x.protein8, \\\n",
    "x.salt8, x.sodium8, x.vit_a8, x.vit_c8, x.calcium8, x.iron8, \\\n",
    "x.energy9, x.fat9, x.satfat9, x.transfat9, x.cholestorol9, x.carbs9, x.sugars9, x.fiber9, x.protein9, \\\n",
    "x.salt9, x.sodium9, x.vit_a9, x.vit_c9, x.calcium9, x.iron9, \\\n",
    "x.energy10, x.fat10, x.satfat10, x.transfat10, x.cholestorol10, x.carbs10, x.sugars10, x.fiber10, x.protein10, \\\n",
    "x.salt10, x.sodium10, x.vit_a10, x.vit_c10, x.calcium10, x.iron10, \\\n",
    "x.energy11, x.fat11, x.satfat11, x.transfat11, x.cholestorol11, x.carbs11, x.sugars11, x.fiber11, x.protein11, \\\n",
    "x.salt11, x.sodium11, x.vit_a11, x.vit_c11, x.calcium11, x.iron11, \\\n",
    "x.energy12, x.fat12, x.satfat12, x.transfat12, x.cholestorol12, x.carbs12, x.sugars12, x.fiber12, x.protein12, \\\n",
    "x.salt12, x.sodium12, x.vit_a12, x.vit_c12, x.calcium12, x.iron12, \\\n",
    "x.energy13, x.fat13, x.satfat13, x.transfat13, x.cholestorol13, x.carbs13, x.sugars13, x.fiber13, x.protein13, \\\n",
    "x.salt13, x.sodium13, x.vit_a13, x.vit_c13, x.calcium13, x.iron13, \\\n",
    "x.energy14, x.fat14, x.satfat14, x.transfat14, x.cholestorol14, x.carbs14, x.sugars14, x.fiber14, x.protein14, \\\n",
    "x.salt14, x.sodium14, x.vit_a14, x.vit_c14, x.calcium14, x.iron14, \\\n",
    "x.energy15, x.fat15, x.satfat15, x.transfat15, x.cholestorol15, x.carbs15, x.sugars15, x.fiber15, x.protein15, \\\n",
    "x.salt15, x.sodium15, x.vit_a15, x.vit_c15, x.calcium15, x.iron15, \\\n",
    "y.energy_100g as energy16, y.fat_100g as fat16, y.saturatedfat_100g satfat16, y.transfat_100g as transfat16, \\\n",
    "y.cholesterol_100g as cholestorol16, y.carbohydrates_100g as carbs16, y.sugars_100g as sugars16, y.fiber_100g as fiber16, \\\n",
    "y.protiens_100g as protein16, y.salt_100g as salt16, y.sodium_100g as sodium16, y.vitamina_100g as vit_a16, \\\n",
    "y.vitaminc_100g as vit_c16, y.calcium_100g as calcium16, y.iron_100g as iron16, x.key1, x.key2, x.key3, x.key4, \\\n",
    "x.key5, x.key6, x.key7, x.key8, x.key9, x.key10, x.key11, x.key12, x.key13, x.key14, x.key15, x.key16, x.key17, \\\n",
    "x.key18, x.key19, x.key20 from table15 x left join nuit_table y on x.key16 = y.key1\")\n",
    "table16.createOrReplaceTempView(\"table16\")\n",
    "\n",
    "table17 = spark.sql(\"select x.title, x.energy1, x.fat1, x.satfat1, x.transfat1, x.cholestorol1, x.carbs1, x.sugars1, \\\n",
    "x.fiber1, x.protein1, x.salt1, x.sodium1, x.vit_a1, x.vit_c1, x.calcium1, x.iron1, x.energy2, x.fat2, x.satfat2, \\\n",
    "x.transfat2, x.cholestorol2, x.carbs2, x.sugars2, x.fiber2, x.protein2, x.salt2, x.sodium2, x.vit_a2, x.vit_c2, \\\n",
    "x.calcium2, x.iron2, x.energy3, x.fat3, x.satfat3, x.transfat3, x.cholestorol3, x.carbs3, x.sugars3, x.fiber3, \\\n",
    "x.protein3, x.salt3, x.sodium3, x.vit_a3, x.vit_c3, x.calcium3, x.iron3, x.energy4, x.fat4, x.satfat4, x.transfat4, \\\n",
    "x.cholestorol4, x.carbs4, x.sugars4, x.fiber4, x.protein4, x.salt4, x.sodium4, x.vit_a4, x.vit_c4, x.calcium4, \\\n",
    "x.iron4,x.energy5, x.fat5, x.satfat5, x.transfat5, x.cholestorol5, x.carbs5, x.sugars5, x.fiber5, x.protein5, \\\n",
    "x.salt5, x.sodium5, x.vit_a5, x.vit_c5, x.calcium5, x.iron5, \\\n",
    "x.energy6, x.fat6, x.satfat6, x.transfat6, x.cholestorol6, x.carbs6, x.sugars6, x.fiber6, x.protein6, \\\n",
    "x.salt6, x.sodium6, x.vit_a6, x.vit_c6, x.calcium6, x.iron6, \\\n",
    "x.energy7, x.fat7, x.satfat7, x.transfat7, x.cholestorol7, x.carbs7, x.sugars7, x.fiber7, x.protein7, \\\n",
    "x.salt7, x.sodium7, x.vit_a7, x.vit_c7, x.calcium7, x.iron7, \\\n",
    "x.energy8, x.fat8, x.satfat8, x.transfat8, x.cholestorol8, x.carbs8, x.sugars8, x.fiber8, x.protein8, \\\n",
    "x.salt8, x.sodium8, x.vit_a8, x.vit_c8, x.calcium8, x.iron8, \\\n",
    "x.energy9, x.fat9, x.satfat9, x.transfat9, x.cholestorol9, x.carbs9, x.sugars9, x.fiber9, x.protein9, \\\n",
    "x.salt9, x.sodium9, x.vit_a9, x.vit_c9, x.calcium9, x.iron9, \\\n",
    "x.energy10, x.fat10, x.satfat10, x.transfat10, x.cholestorol10, x.carbs10, x.sugars10, x.fiber10, x.protein10, \\\n",
    "x.salt10, x.sodium10, x.vit_a10, x.vit_c10, x.calcium10, x.iron10, \\\n",
    "x.energy11, x.fat11, x.satfat11, x.transfat11, x.cholestorol11, x.carbs11, x.sugars11, x.fiber11, x.protein11, \\\n",
    "x.salt11, x.sodium11, x.vit_a11, x.vit_c11, x.calcium11, x.iron11, \\\n",
    "x.energy12, x.fat12, x.satfat12, x.transfat12, x.cholestorol12, x.carbs12, x.sugars12, x.fiber12, x.protein12, \\\n",
    "x.salt12, x.sodium12, x.vit_a12, x.vit_c12, x.calcium12, x.iron12, \\\n",
    "x.energy13, x.fat13, x.satfat13, x.transfat13, x.cholestorol13, x.carbs13, x.sugars13, x.fiber13, x.protein13, \\\n",
    "x.salt13, x.sodium13, x.vit_a13, x.vit_c13, x.calcium13, x.iron13, \\\n",
    "x.energy14, x.fat14, x.satfat14, x.transfat14, x.cholestorol14, x.carbs14, x.sugars14, x.fiber14, x.protein14, \\\n",
    "x.salt14, x.sodium14, x.vit_a14, x.vit_c14, x.calcium14, x.iron14, \\\n",
    "x.energy15, x.fat15, x.satfat15, x.transfat15, x.cholestorol15, x.carbs15, x.sugars15, x.fiber15, x.protein15, \\\n",
    "x.salt15, x.sodium15, x.vit_a15, x.vit_c15, x.calcium15, x.iron15, \\\n",
    "x.energy16, x.fat16, x.satfat16, x.transfat16, x.cholestorol16, x.carbs16, x.sugars16, x.fiber16, x.protein16, \\\n",
    "x.salt16, x.sodium16, x.vit_a16, x.vit_c16, x.calcium16, x.iron16, \\\n",
    "y.energy_100g as energy17, y.fat_100g as fat17, y.saturatedfat_100g satfat17, y.transfat_100g as transfat17, \\\n",
    "y.cholesterol_100g as cholestorol17, y.carbohydrates_100g as carbs17, y.sugars_100g as sugars17, y.fiber_100g as fiber17, \\\n",
    "y.protiens_100g as protein17, y.salt_100g as salt17, y.sodium_100g as sodium17, y.vitamina_100g as vit_a17, \\\n",
    "y.vitaminc_100g as vit_c17, y.calcium_100g as calcium17, y.iron_100g as iron17, x.key1, x.key2, x.key3, x.key4, \\\n",
    "x.key5, x.key6, x.key7, x.key8, x.key9, x.key10, x.key11, x.key12, x.key13, x.key14, x.key15, x.key16, x.key17, \\\n",
    "x.key18, x.key19, x.key20 from table16 x left join nuit_table y on x.key17 = y.key1\")\n",
    "table17.createOrReplaceTempView(\"table17\")\n",
    "\n",
    "table18 = spark.sql(\"select x.title, x.energy1, x.fat1, x.satfat1, x.transfat1, x.cholestorol1, x.carbs1, x.sugars1, \\\n",
    "x.fiber1, x.protein1, x.salt1, x.sodium1, x.vit_a1, x.vit_c1, x.calcium1, x.iron1, x.energy2, x.fat2, x.satfat2, \\\n",
    "x.transfat2, x.cholestorol2, x.carbs2, x.sugars2, x.fiber2, x.protein2, x.salt2, x.sodium2, x.vit_a2, x.vit_c2, \\\n",
    "x.calcium2, x.iron2, x.energy3, x.fat3, x.satfat3, x.transfat3, x.cholestorol3, x.carbs3, x.sugars3, x.fiber3, \\\n",
    "x.protein3, x.salt3, x.sodium3, x.vit_a3, x.vit_c3, x.calcium3, x.iron3, x.energy4, x.fat4, x.satfat4, x.transfat4, \\\n",
    "x.cholestorol4, x.carbs4, x.sugars4, x.fiber4, x.protein4, x.salt4, x.sodium4, x.vit_a4, x.vit_c4, x.calcium4, \\\n",
    "x.iron4,x.energy5, x.fat5, x.satfat5, x.transfat5, x.cholestorol5, x.carbs5, x.sugars5, x.fiber5, x.protein5, \\\n",
    "x.salt5, x.sodium5, x.vit_a5, x.vit_c5, x.calcium5, x.iron5, \\\n",
    "x.energy6, x.fat6, x.satfat6, x.transfat6, x.cholestorol6, x.carbs6, x.sugars6, x.fiber6, x.protein6, \\\n",
    "x.salt6, x.sodium6, x.vit_a6, x.vit_c6, x.calcium6, x.iron6, \\\n",
    "x.energy7, x.fat7, x.satfat7, x.transfat7, x.cholestorol7, x.carbs7, x.sugars7, x.fiber7, x.protein7, \\\n",
    "x.salt7, x.sodium7, x.vit_a7, x.vit_c7, x.calcium7, x.iron7, \\\n",
    "x.energy8, x.fat8, x.satfat8, x.transfat8, x.cholestorol8, x.carbs8, x.sugars8, x.fiber8, x.protein8, \\\n",
    "x.salt8, x.sodium8, x.vit_a8, x.vit_c8, x.calcium8, x.iron8, \\\n",
    "x.energy9, x.fat9, x.satfat9, x.transfat9, x.cholestorol9, x.carbs9, x.sugars9, x.fiber9, x.protein9, \\\n",
    "x.salt9, x.sodium9, x.vit_a9, x.vit_c9, x.calcium9, x.iron9, \\\n",
    "x.energy10, x.fat10, x.satfat10, x.transfat10, x.cholestorol10, x.carbs10, x.sugars10, x.fiber10, x.protein10, \\\n",
    "x.salt10, x.sodium10, x.vit_a10, x.vit_c10, x.calcium10, x.iron10, \\\n",
    "x.energy11, x.fat11, x.satfat11, x.transfat11, x.cholestorol11, x.carbs11, x.sugars11, x.fiber11, x.protein11, \\\n",
    "x.salt11, x.sodium11, x.vit_a11, x.vit_c11, x.calcium11, x.iron11, \\\n",
    "x.energy12, x.fat12, x.satfat12, x.transfat12, x.cholestorol12, x.carbs12, x.sugars12, x.fiber12, x.protein12, \\\n",
    "x.salt12, x.sodium12, x.vit_a12, x.vit_c12, x.calcium12, x.iron12, \\\n",
    "x.energy13, x.fat13, x.satfat13, x.transfat13, x.cholestorol13, x.carbs13, x.sugars13, x.fiber13, x.protein13, \\\n",
    "x.salt13, x.sodium13, x.vit_a13, x.vit_c13, x.calcium13, x.iron13, \\\n",
    "x.energy14, x.fat14, x.satfat14, x.transfat14, x.cholestorol14, x.carbs14, x.sugars14, x.fiber14, x.protein14, \\\n",
    "x.salt14, x.sodium14, x.vit_a14, x.vit_c14, x.calcium14, x.iron14, \\\n",
    "x.energy15, x.fat15, x.satfat15, x.transfat15, x.cholestorol15, x.carbs15, x.sugars15, x.fiber15, x.protein15, \\\n",
    "x.salt15, x.sodium15, x.vit_a15, x.vit_c15, x.calcium15, x.iron15, \\\n",
    "x.energy16, x.fat16, x.satfat16, x.transfat16, x.cholestorol16, x.carbs16, x.sugars16, x.fiber16, x.protein16, \\\n",
    "x.salt16, x.sodium16, x.vit_a16, x.vit_c16, x.calcium16, x.iron16, \\\n",
    "x.energy17, x.fat17, x.satfat17, x.transfat17, x.cholestorol17, x.carbs17, x.sugars17, x.fiber17, x.protein17, \\\n",
    "x.salt17, x.sodium17, x.vit_a17, x.vit_c17, x.calcium17, x.iron17, \\\n",
    "y.energy_100g as energy18, y.fat_100g as fat18, y.saturatedfat_100g satfat18, y.transfat_100g as transfat18, \\\n",
    "y.cholesterol_100g as cholestorol18, y.carbohydrates_100g as carbs18, y.sugars_100g as sugars18, y.fiber_100g as fiber18, \\\n",
    "y.protiens_100g as protein18, y.salt_100g as salt18, y.sodium_100g as sodium18, y.vitamina_100g as vit_a18, \\\n",
    "y.vitaminc_100g as vit_c18, y.calcium_100g as calcium18, y.iron_100g as iron18, x.key1, x.key2, x.key3, x.key4, \\\n",
    "x.key5, x.key6, x.key7, x.key8, x.key9, x.key10, x.key11, x.key12, x.key13, x.key14, x.key15, x.key16, x.key17, \\\n",
    "x.key18, x.key19, x.key20 from table17 x left join nuit_table y on x.key18 = y.key1\")\n",
    "table18.createOrReplaceTempView(\"table18\")\n",
    "\n",
    "table19 = spark.sql(\"select x.title, x.energy1, x.fat1, x.satfat1, x.transfat1, x.cholestorol1, x.carbs1, x.sugars1, \\\n",
    "x.fiber1, x.protein1, x.salt1, x.sodium1, x.vit_a1, x.vit_c1, x.calcium1, x.iron1, x.energy2, x.fat2, x.satfat2, \\\n",
    "x.transfat2, x.cholestorol2, x.carbs2, x.sugars2, x.fiber2, x.protein2, x.salt2, x.sodium2, x.vit_a2, x.vit_c2, \\\n",
    "x.calcium2, x.iron2, x.energy3, x.fat3, x.satfat3, x.transfat3, x.cholestorol3, x.carbs3, x.sugars3, x.fiber3, \\\n",
    "x.protein3, x.salt3, x.sodium3, x.vit_a3, x.vit_c3, x.calcium3, x.iron3, x.energy4, x.fat4, x.satfat4, x.transfat4, \\\n",
    "x.cholestorol4, x.carbs4, x.sugars4, x.fiber4, x.protein4, x.salt4, x.sodium4, x.vit_a4, x.vit_c4, x.calcium4, \\\n",
    "x.iron4,x.energy5, x.fat5, x.satfat5, x.transfat5, x.cholestorol5, x.carbs5, x.sugars5, x.fiber5, x.protein5, \\\n",
    "x.salt5, x.sodium5, x.vit_a5, x.vit_c5, x.calcium5, x.iron5, \\\n",
    "x.energy6, x.fat6, x.satfat6, x.transfat6, x.cholestorol6, x.carbs6, x.sugars6, x.fiber6, x.protein6, \\\n",
    "x.salt6, x.sodium6, x.vit_a6, x.vit_c6, x.calcium6, x.iron6, \\\n",
    "x.energy7, x.fat7, x.satfat7, x.transfat7, x.cholestorol7, x.carbs7, x.sugars7, x.fiber7, x.protein7, \\\n",
    "x.salt7, x.sodium7, x.vit_a7, x.vit_c7, x.calcium7, x.iron7, \\\n",
    "x.energy8, x.fat8, x.satfat8, x.transfat8, x.cholestorol8, x.carbs8, x.sugars8, x.fiber8, x.protein8, \\\n",
    "x.salt8, x.sodium8, x.vit_a8, x.vit_c8, x.calcium8, x.iron8, \\\n",
    "x.energy9, x.fat9, x.satfat9, x.transfat9, x.cholestorol9, x.carbs9, x.sugars9, x.fiber9, x.protein9, \\\n",
    "x.salt9, x.sodium9, x.vit_a9, x.vit_c9, x.calcium9, x.iron9, \\\n",
    "x.energy10, x.fat10, x.satfat10, x.transfat10, x.cholestorol10, x.carbs10, x.sugars10, x.fiber10, x.protein10, \\\n",
    "x.salt10, x.sodium10, x.vit_a10, x.vit_c10, x.calcium10, x.iron10, \\\n",
    "x.energy11, x.fat11, x.satfat11, x.transfat11, x.cholestorol11, x.carbs11, x.sugars11, x.fiber11, x.protein11, \\\n",
    "x.salt11, x.sodium11, x.vit_a11, x.vit_c11, x.calcium11, x.iron11, \\\n",
    "x.energy12, x.fat12, x.satfat12, x.transfat12, x.cholestorol12, x.carbs12, x.sugars12, x.fiber12, x.protein12, \\\n",
    "x.salt12, x.sodium12, x.vit_a12, x.vit_c12, x.calcium12, x.iron12, \\\n",
    "x.energy13, x.fat13, x.satfat13, x.transfat13, x.cholestorol13, x.carbs13, x.sugars13, x.fiber13, x.protein13, \\\n",
    "x.salt13, x.sodium13, x.vit_a13, x.vit_c13, x.calcium13, x.iron13, \\\n",
    "x.energy14, x.fat14, x.satfat14, x.transfat14, x.cholestorol14, x.carbs14, x.sugars14, x.fiber14, x.protein14, \\\n",
    "x.salt14, x.sodium14, x.vit_a14, x.vit_c14, x.calcium14, x.iron14, \\\n",
    "x.energy15, x.fat15, x.satfat15, x.transfat15, x.cholestorol15, x.carbs15, x.sugars15, x.fiber15, x.protein15, \\\n",
    "x.salt15, x.sodium15, x.vit_a15, x.vit_c15, x.calcium15, x.iron15, \\\n",
    "x.energy16, x.fat16, x.satfat16, x.transfat16, x.cholestorol16, x.carbs16, x.sugars16, x.fiber16, x.protein16, \\\n",
    "x.salt16, x.sodium16, x.vit_a16, x.vit_c16, x.calcium16, x.iron16, \\\n",
    "x.energy17, x.fat17, x.satfat17, x.transfat17, x.cholestorol17, x.carbs17, x.sugars17, x.fiber17, x.protein17, \\\n",
    "x.salt17, x.sodium17, x.vit_a17, x.vit_c17, x.calcium17, x.iron17, \\\n",
    "x.energy18, x.fat18, x.satfat18, x.transfat18, x.cholestorol18, x.carbs18, x.sugars18, x.fiber18, x.protein18, \\\n",
    "x.salt18, x.sodium18, x.vit_a18, x.vit_c18, x.calcium18, x.iron18, \\\n",
    "y.energy_100g as energy19, y.fat_100g as fat19, y.saturatedfat_100g satfat19, y.transfat_100g as transfat19, \\\n",
    "y.cholesterol_100g as cholestorol19, y.carbohydrates_100g as carbs19, y.sugars_100g as sugars19, y.fiber_100g as fiber19, \\\n",
    "y.protiens_100g as protein19, y.salt_100g as salt19, y.sodium_100g as sodium19, y.vitamina_100g as vit_a19, \\\n",
    "y.vitaminc_100g as vit_c19, y.calcium_100g as calcium19, y.iron_100g as iron19, x.key1, x.key2, x.key3, x.key4, \\\n",
    "x.key5, x.key6, x.key7, x.key8, x.key9, x.key10, x.key11, x.key12, x.key13, x.key14, x.key15, x.key16, x.key17, \\\n",
    "x.key18, x.key19, x.key20 from table18 x left join nuit_table y on x.key19 = y.key1\")\n",
    "table19.createOrReplaceTempView(\"table19\")\n",
    "\n",
    "gen_nutrition_table= spark.sql(\"select x.title, x.energy1, x.fat1, x.satfat1, x.transfat1, x.cholestorol1, x.carbs1, x.sugars1, \\\n",
    "x.fiber1, x.protein1, x.salt1, x.sodium1, x.vit_a1, x.vit_c1, x.calcium1, x.iron1, x.energy2, x.fat2, x.satfat2, \\\n",
    "x.transfat2, x.cholestorol2, x.carbs2, x.sugars2, x.fiber2, x.protein2, x.salt2, x.sodium2, x.vit_a2, x.vit_c2, \\\n",
    "x.calcium2, x.iron2, x.energy3, x.fat3, x.satfat3, x.transfat3, x.cholestorol3, x.carbs3, x.sugars3, x.fiber3, \\\n",
    "x.protein3, x.salt3, x.sodium3, x.vit_a3, x.vit_c3, x.calcium3, x.iron3, x.energy4, x.fat4, x.satfat4, x.transfat4, \\\n",
    "x.cholestorol4, x.carbs4, x.sugars4, x.fiber4, x.protein4, x.salt4, x.sodium4, x.vit_a4, x.vit_c4, x.calcium4, \\\n",
    "x.iron4,x.energy5, x.fat5, x.satfat5, x.transfat5, x.cholestorol5, x.carbs5, x.sugars5, x.fiber5, x.protein5, \\\n",
    "x.salt5, x.sodium5, x.vit_a5, x.vit_c5, x.calcium5, x.iron5, \\\n",
    "x.energy6, x.fat6, x.satfat6, x.transfat6, x.cholestorol6, x.carbs6, x.sugars6, x.fiber6, x.protein6, \\\n",
    "x.salt6, x.sodium6, x.vit_a6, x.vit_c6, x.calcium6, x.iron6, \\\n",
    "x.energy7, x.fat7, x.satfat7, x.transfat7, x.cholestorol7, x.carbs7, x.sugars7, x.fiber7, x.protein7, \\\n",
    "x.salt7, x.sodium7, x.vit_a7, x.vit_c7, x.calcium7, x.iron7, \\\n",
    "x.energy8, x.fat8, x.satfat8, x.transfat8, x.cholestorol8, x.carbs8, x.sugars8, x.fiber8, x.protein8, \\\n",
    "x.salt8, x.sodium8, x.vit_a8, x.vit_c8, x.calcium8, x.iron8, \\\n",
    "x.energy9, x.fat9, x.satfat9, x.transfat9, x.cholestorol9, x.carbs9, x.sugars9, x.fiber9, x.protein9, \\\n",
    "x.salt9, x.sodium9, x.vit_a9, x.vit_c9, x.calcium9, x.iron9, \\\n",
    "x.energy10, x.fat10, x.satfat10, x.transfat10, x.cholestorol10, x.carbs10, x.sugars10, x.fiber10, x.protein10, \\\n",
    "x.salt10, x.sodium10, x.vit_a10, x.vit_c10, x.calcium10, x.iron10, \\\n",
    "x.energy11, x.fat11, x.satfat11, x.transfat11, x.cholestorol11, x.carbs11, x.sugars11, x.fiber11, x.protein11, \\\n",
    "x.salt11, x.sodium11, x.vit_a11, x.vit_c11, x.calcium11, x.iron11, \\\n",
    "x.energy12, x.fat12, x.satfat12, x.transfat12, x.cholestorol12, x.carbs12, x.sugars12, x.fiber12, x.protein12, \\\n",
    "x.salt12, x.sodium12, x.vit_a12, x.vit_c12, x.calcium12, x.iron12, \\\n",
    "x.energy13, x.fat13, x.satfat13, x.transfat13, x.cholestorol13, x.carbs13, x.sugars13, x.fiber13, x.protein13, \\\n",
    "x.salt13, x.sodium13, x.vit_a13, x.vit_c13, x.calcium13, x.iron13, \\\n",
    "x.energy14, x.fat14, x.satfat14, x.transfat14, x.cholestorol14, x.carbs14, x.sugars14, x.fiber14, x.protein14, \\\n",
    "x.salt14, x.sodium14, x.vit_a14, x.vit_c14, x.calcium14, x.iron14, \\\n",
    "x.energy15, x.fat15, x.satfat15, x.transfat15, x.cholestorol15, x.carbs15, x.sugars15, x.fiber15, x.protein15, \\\n",
    "x.salt15, x.sodium15, x.vit_a15, x.vit_c15, x.calcium15, x.iron15, \\\n",
    "x.energy16, x.fat16, x.satfat16, x.transfat16, x.cholestorol16, x.carbs16, x.sugars16, x.fiber16, x.protein16, \\\n",
    "x.salt16, x.sodium16, x.vit_a16, x.vit_c16, x.calcium16, x.iron16, \\\n",
    "x.energy17, x.fat17, x.satfat17, x.transfat17, x.cholestorol17, x.carbs17, x.sugars17, x.fiber17, x.protein17, \\\n",
    "x.salt17, x.sodium17, x.vit_a17, x.vit_c17, x.calcium17, x.iron17, \\\n",
    "x.energy18, x.fat18, x.satfat18, x.transfat18, x.cholestorol18, x.carbs18, x.sugars18, x.fiber18, x.protein18, \\\n",
    "x.salt18, x.sodium18, x.vit_a18, x.vit_c18, x.calcium18, x.iron18, \\\n",
    "x.energy19, x.fat19, x.satfat19, x.transfat19, x.cholestorol19, x.carbs19, x.sugars19, x.fiber19, x.protein19, \\\n",
    "x.salt19, x.sodium19, x.vit_a19, x.vit_c19, x.calcium19, x.iron19, \\\n",
    "y.energy_100g as energy20, y.fat_100g as fat20, y.saturatedfat_100g satfat20, y.transfat_100g as transfat20, \\\n",
    "y.cholesterol_100g as cholestorol20, y.carbohydrates_100g as carbs20, y.sugars_100g as sugars20, y.fiber_100g as fiber20, \\\n",
    "y.protiens_100g as protein20, y.salt_100g as salt20, y.sodium_100g as sodium20, y.vitamina_100g as vit_a20, \\\n",
    "y.vitaminc_100g as vit_c20, y.calcium_100g as calcium20, y.iron_100g as iron20, x.key1, x.key2, x.key3, x.key4, \\\n",
    "x.key5, x.key6, x.key7, x.key8, x.key9, x.key10, x.key11, x.key12, x.key13, x.key14, x.key15, x.key16, x.key17, \\\n",
    "x.key18, x.key19, x.key20 from table19 x left join nuit_table y on x.key20 = y.key1\")\n"
   ]
  },
  {
   "cell_type": "markdown",
   "metadata": {},
   "source": [
    "## General Receipe Nuitrion Table - To be Summarized and extra columns taken out"
   ]
  },
  {
   "cell_type": "code",
   "execution_count": 112,
   "metadata": {},
   "outputs": [
    {
     "name": "stdout",
     "output_type": "stream",
     "text": [
      "+--------------------+-------+----+-------+---------+------------+------+-------+------+--------+-----+-------+------+------+--------+-----+-------+-----+-----------------+---------+------------+------+-------+------+------------------+------------------+-------+------+------+-------------------+------------+-------+----+-------+---------+------------+------+-------+------+--------+-----+-------+------+------+----------+--------+-------+----+-------+---------+------------+------+------------------+------------------+--------+-----+-------+--------------------+--------------------+--------------------+-------+-------+----+-------+---------+------------+------+-------+------+--------+-----+-------+------+------+--------+-----+-------+----+-----------------+---------+--------------------+------+------------------+------+----------+-------------------+-------------------+--------------------+------+-------------------+--------------------+-------+---------+-------+---------+------------+------+-------+------+--------+------+-------+-------------+------+--------------------+-----+-------+----+---------+---------+------------+------+-------+------+--------+-----+-------+------+------+--------+-----+-------+---------+---------+---------+------------+------+-------+------+---------+-------+--------------------+-------------+------+--------+-----+--------+---------+--------+----------+-------------------+-----------------+--------+-------+---------+-------+--------------------+-------+-------+---------+-------+--------+-----+--------+----------+-------------+-------+--------+-------+---------+------+--------+-------+-------+---------+------+--------+-----+--------+----------+-------------+-------+--------+-------+---------+------+--------+-------+-------+---------+------+--------+-----+--------+----------+-------------+-------+--------+-------+---------+------+--------+-------+-------+---------+------+--------+-----+--------+----------+-------------+-------+--------+-------+---------+------+--------+-------+-------+---------+------+--------+-----+--------+----------+-------------+-------+--------+-------+---------+------+--------+-------+-------+---------+------+--------+-----+--------+----------+-------------+-------+--------+-------+---------+------+--------+-------+-------+---------+------+--------+-----+--------+----------+-------------+-------+--------+-------+---------+------+--------+-------+-------+---------+------+--------+-----+--------+----------+-------------+-------+--------+-------+---------+------+--------+-------+-------+---------+------+--------+-----+--------+----------+-------------+-------+--------+-------+---------+------+--------+-------+-------+---------+------+--------+-----+--------+----------+-------------+-------+--------+-------+---------+------+--------+-------+-------+---------+------+----+----+-----+-----+----+-----+------+------+----+-----+-----+-----+-----+-----+-----+-----+-----+-----+-----+-----+\n",
      "|               title|energy1|fat1|satfat1|transfat1|cholestorol1|carbs1|sugars1|fiber1|protein1|salt1|sodium1|vit_a1|vit_c1|calcium1|iron1|energy2| fat2|          satfat2|transfat2|cholestorol2|carbs2|sugars2|fiber2|          protein2|             salt2|sodium2|vit_a2|vit_c2|           calcium2|       iron2|energy3|fat3|satfat3|transfat3|cholestorol3|carbs3|sugars3|fiber3|protein3|salt3|sodium3|vit_a3|vit_c3|  calcium3|   iron3|energy4|fat4|satfat4|transfat4|cholestorol4|carbs4|           sugars4|            fiber4|protein4|salt4|sodium4|              vit_a4|              vit_c4|            calcium4|  iron4|energy5|fat5|satfat5|transfat5|cholestorol5|carbs5|sugars5|fiber5|protein5|salt5|sodium5|vit_a5|vit_c5|calcium5|iron5|energy6|fat6|          satfat6|transfat6|        cholestorol6|carbs6|           sugars6|fiber6|  protein6|              salt6|            sodium6|              vit_a6|vit_c6|           calcium6|               iron6|energy7|     fat7|satfat7|transfat7|cholestorol7|carbs7|sugars7|fiber7|protein7| salt7|sodium7|       vit_a7|vit_c7|            calcium7|iron7|energy8|fat8|  satfat8|transfat8|cholestorol8|carbs8|sugars8|fiber8|protein8|salt8|sodium8|vit_a8|vit_c8|calcium8|iron8|energy9|     fat9|  satfat9|transfat9|cholestorol9|carbs9|sugars9|fiber9| protein9|  salt9|             sodium9|       vit_a9|vit_c9|calcium9|iron9|energy10|    fat10|satfat10|transfat10|      cholestorol10|          carbs10|sugars10|fiber10|protein10| salt10|            sodium10|vit_a10|vit_c10|calcium10| iron10|energy11|fat11|satfat11|transfat11|cholestorol11|carbs11|sugars11|fiber11|protein11|salt11|sodium11|vit_a11|vit_c11|calcium11|iron11|energy12|fat12|satfat12|transfat12|cholestorol12|carbs12|sugars12|fiber12|protein12|salt12|sodium12|vit_a12|vit_c12|calcium12|iron12|energy13|fat13|satfat13|transfat13|cholestorol13|carbs13|sugars13|fiber13|protein13|salt13|sodium13|vit_a13|vit_c13|calcium13|iron13|energy14|fat14|satfat14|transfat14|cholestorol14|carbs14|sugars14|fiber14|protein14|salt14|sodium14|vit_a14|vit_c14|calcium14|iron14|energy15|fat15|satfat15|transfat15|cholestorol15|carbs15|sugars15|fiber15|protein15|salt15|sodium15|vit_a15|vit_c15|calcium15|iron15|energy16|fat16|satfat16|transfat16|cholestorol16|carbs16|sugars16|fiber16|protein16|salt16|sodium16|vit_a16|vit_c16|calcium16|iron16|energy17|fat17|satfat17|transfat17|cholestorol17|carbs17|sugars17|fiber17|protein17|salt17|sodium17|vit_a17|vit_c17|calcium17|iron17|energy18|fat18|satfat18|transfat18|cholestorol18|carbs18|sugars18|fiber18|protein18|salt18|sodium18|vit_a18|vit_c18|calcium18|iron18|energy19|fat19|satfat19|transfat19|cholestorol19|carbs19|sugars19|fiber19|protein19|salt19|sodium19|vit_a19|vit_c19|calcium19|iron19|energy20|fat20|satfat20|transfat20|cholestorol20|carbs20|sugars20|fiber20|protein20|salt20|sodium20|vit_a20|vit_c20|calcium20|iron20|key1|key2| key3| key4|key5| key6|  key7|  key8|key9|key10|key11|key12|key13|key14|key15|key16|key17|key18|key19|key20|\n",
      "+--------------------+-------+----+-------+---------+------------+------+-------+------+--------+-----+-------+------+------+--------+-----+-------+-----+-----------------+---------+------------+------+-------+------+------------------+------------------+-------+------+------+-------------------+------------+-------+----+-------+---------+------------+------+-------+------+--------+-----+-------+------+------+----------+--------+-------+----+-------+---------+------------+------+------------------+------------------+--------+-----+-------+--------------------+--------------------+--------------------+-------+-------+----+-------+---------+------------+------+-------+------+--------+-----+-------+------+------+--------+-----+-------+----+-----------------+---------+--------------------+------+------------------+------+----------+-------------------+-------------------+--------------------+------+-------------------+--------------------+-------+---------+-------+---------+------------+------+-------+------+--------+------+-------+-------------+------+--------------------+-----+-------+----+---------+---------+------------+------+-------+------+--------+-----+-------+------+------+--------+-----+-------+---------+---------+---------+------------+------+-------+------+---------+-------+--------------------+-------------+------+--------+-----+--------+---------+--------+----------+-------------------+-----------------+--------+-------+---------+-------+--------------------+-------+-------+---------+-------+--------+-----+--------+----------+-------------+-------+--------+-------+---------+------+--------+-------+-------+---------+------+--------+-----+--------+----------+-------------+-------+--------+-------+---------+------+--------+-------+-------+---------+------+--------+-----+--------+----------+-------------+-------+--------+-------+---------+------+--------+-------+-------+---------+------+--------+-----+--------+----------+-------------+-------+--------+-------+---------+------+--------+-------+-------+---------+------+--------+-----+--------+----------+-------------+-------+--------+-------+---------+------+--------+-------+-------+---------+------+--------+-----+--------+----------+-------------+-------+--------+-------+---------+------+--------+-------+-------+---------+------+--------+-----+--------+----------+-------------+-------+--------+-------+---------+------+--------+-------+-------+---------+------+--------+-----+--------+----------+-------------+-------+--------+-------+---------+------+--------+-------+-------+---------+------+--------+-----+--------+----------+-------------+-------+--------+-------+---------+------+--------+-------+-------+---------+------+--------+-----+--------+----------+-------------+-------+--------+-------+---------+------+--------+-------+-------+---------+------+----+----+-----+-----+----+-----+------+------+----+-----+-----+-----+-----+-----+-----+-----+-----+-----+-----+-----+\n",
      "|Mixed Berry Pavlo...|   null|null|   null|     null|        null|  null|   null|  null|    null| null|   null|  null|  null|    null| null| 2485.0|43.75|7.809999900000001|      0.0|         0.0| 31.25|   12.5|  12.5|21.879998999999998|0.7924800000000001|  0.312|   0.0|   0.0|0.09399999699999999|0.0039400002|   null|null|   null|     null|        null|  null|   null|  null|    null| null|   null|  null|  null|      null|    null| 1255.0|20.0|    7.3|      0.0|0.0469000014|  20.0|16.848000000000003|0.4444444444444444|     0.0|2.032|    0.8|0.000129733333333...|0.015666666866666668|0.035555555555555556|0.00064|   null|null|   null|     null|        null|  null|   null|  null|    null| null|   null|  null|  null|    null| null|   null|null|             null|     null|                null|  null|              null|  null|      null|               null|               null|                null|  null|               null|                null|   null|     null|   null|     null|        null|  null|   null|  null|    null|  null|   null|         null|  null|                null| null|   null|null|     null|     null|        null|  null|   null|  null|    null| null|   null|  null|  null|    null| null|  280.0|3.3299999|2.0799999|      0.0|       0.015|  5.42|    5.0|   0.0|3.3299999|0.13208|0.052000000000000005|3.7500002e-05|   0.0|   0.125|  0.0|  1644.0|5.3600001|    1.79|       0.0|0.09799999699999999|71.43000000000002|    3.57|    1.8|    14.29|0.06858|0.027000000000000003|    0.0|    0.0|      0.0|0.00321|    null| null|    null|      null|         null|   null|    null|   null|     null|  null|    null|   null|   null|     null|  null|    null| null|    null|      null|         null|   null|    null|   null|     null|  null|    null|   null|   null|     null|  null|    null| null|    null|      null|         null|   null|    null|   null|     null|  null|    null|   null|   null|     null|  null|    null| null|    null|      null|         null|   null|    null|   null|     null|  null|    null|   null|   null|     null|  null|    null| null|    null|      null|         null|   null|    null|   null|     null|  null|    null|   null|   null|     null|  null|    null| null|    null|      null|         null|   null|    null|   null|     null|  null|    null|   null|   null|     null|  null|    null| null|    null|      null|         null|   null|    null|   null|     null|  null|    null|   null|   null|     null|  null|    null| null|    null|      null|         null|   null|    null|   null|     null|  null|    null|   null|   null|     null|  null|    null| null|    null|      null|         null|   null|    null|   null|     null|  null|    null|   null|   null|     null|  null|    null| null|    null|      null|         null|   null|    null|   null|     null|  null|    null|   null|   null|     null|  null|null| soy| null|cream|null| null|  null|  null|milk|  egg| null| null| null| null| null| null| null| null| null| null|\n",
      "| Frijoles Borrachos |   null|null|   null|     null|        null|  null|   null|  null|    null| null|   null|  null|  null|    null| null| 2485.0|43.75|7.809999900000001|      0.0|         0.0| 31.25|   12.5|  12.5|21.879998999999998|0.7924800000000001|  0.312|   0.0|   0.0|0.09399999699999999|0.0039400002| 1569.0| 0.0|  11.95|      0.0|0.0140000001| 100.0|  100.0|   4.4|     0.0|  0.0|    0.0|   0.0|   0.0|0.31400001|0.002515|   null|null|   null|     null|        null|  null|              null|              null|    null| null|   null|                null|                null|                null|   null|   null|null|   null|     null|        null|  null|   null|  null|    null| null|   null|  null|  null|    null| null|   null|null|             null|     null|                null|  null|              null|  null|      null|               null|               null|                null|  null|               null|                null|  347.0|2.0699999|   0.69|      0.0|         0.0| 31.72|   4.14|   2.8|    3.45|1.2954|   0.51|2.0699999e-05|   0.0|0.013999999999999999|  0.0|   null|null|     null|     null|        null|  null|   null|  null|    null| null|   null|  null|  null|    null| null|   null|     null|     null|     null|        null|  null|   null|  null|     null|   null|                null|         null|  null|    null| null|    null|     null|    null|      null|               null|             null|    null|   null|     null|   null|                null|   null|   null|     null|   null|    null| null|    null|      null|         null|   null|    null|   null|     null|  null|    null|   null|   null|     null|  null|    null| null|    null|      null|         null|   null|    null|   null|     null|  null|    null|   null|   null|     null|  null|    null| null|    null|      null|         null|   null|    null|   null|     null|  null|    null|   null|   null|     null|  null|    null| null|    null|      null|         null|   null|    null|   null|     null|  null|    null|   null|   null|     null|  null|    null| null|    null|      null|         null|   null|    null|   null|     null|  null|    null|   null|   null|     null|  null|    null| null|    null|      null|         null|   null|    null|   null|     null|  null|    null|   null|   null|     null|  null|    null| null|    null|      null|         null|   null|    null|   null|     null|  null|    null|   null|   null|     null|  null|    null| null|    null|      null|         null|   null|    null|   null|     null|  null|    null|   null|   null|     null|  null|    null| null|    null|      null|         null|   null|    null|   null|     null|  null|    null|   null|   null|     null|  null|    null| null|    null|      null|         null|   null|    null|   null|     null|  null|    null|   null|   null|     null|  null|null| soy|sugar| null|null| null|tomato|  null|null| null| null| null| null| null| null| null| null| null| null| null|\n",
      "|Open-Face Prosciu...|   null|null|   null|     null|        null|  null|   null|  null|    null| null|   null|  null|  null|    null| null| 2485.0|43.75|7.809999900000001|      0.0|         0.0| 31.25|   12.5|  12.5|21.879998999999998|0.7924800000000001|  0.312|   0.0|   0.0|0.09399999699999999|0.0039400002|   null|null|   null|     null|        null|  null|   null|  null|    null| null|   null|  null|  null|      null|    null|   null|null|   null|     null|        null|  null|              null|              null|    null| null|   null|                null|                null|                null|   null|   null|null|   null|     null|        null|  null|   null|  null|    null| null|   null|  null|  null|    null| null|  180.0| 0.5|3.598571542857143|      0.0|0.002222222333333...|  10.0|0.8728571428571428|   1.4|0.80000001|0.43744444444444447|0.17222222222222222|0.000258199993333...|0.0096|0.09699999933333335|0.002726666633333...|   null|     null|   null|     null|        null|  null|   null|  null|    null|  null|   null|         null|  null|                null| null|   null|null|     null|     null|        null|  null|   null|  null|    null| null|   null|  null|  null|    null| null|   null|     null|     null|     null|        null|  null|   null|  null|     null|   null|                null|         null|  null|    null| null|    null|     null|    null|      null|               null|             null|    null|   null|     null|   null|                null|   null|   null|     null|   null|    null| null|    null|      null|         null|   null|    null|   null|     null|  null|    null|   null|   null|     null|  null|    null| null|    null|      null|         null|   null|    null|   null|     null|  null|    null|   null|   null|     null|  null|    null| null|    null|      null|         null|   null|    null|   null|     null|  null|    null|   null|   null|     null|  null|    null| null|    null|      null|         null|   null|    null|   null|     null|  null|    null|   null|   null|     null|  null|    null| null|    null|      null|         null|   null|    null|   null|     null|  null|    null|   null|   null|     null|  null|    null| null|    null|      null|         null|   null|    null|   null|     null|  null|    null|   null|   null|     null|  null|    null| null|    null|      null|         null|   null|    null|   null|     null|  null|    null|   null|   null|     null|  null|    null| null|    null|      null|         null|   null|    null|   null|     null|  null|    null|   null|   null|     null|  null|    null| null|    null|      null|         null|   null|    null|   null|     null|  null|    null|   null|   null|     null|  null|    null| null|    null|      null|         null|   null|    null|   null|     null|  null|    null|   null|   null|     null|  null|null| soy| null| null|null|onion|  null|  null|null| null| null| null| null| null| null| null| null| null| null| null|\n",
      "|Toasted Barley Sa...|   null|null|   null|     null|        null|  null|   null|  null|    null| null|   null|  null|  null|    null| null|   null| null|             null|     null|        null|  null|   null|  null|              null|              null|   null|  null|  null|               null|        null| 1569.0| 0.0|  11.95|      0.0|0.0140000001| 100.0|  100.0|   4.4|     0.0|  0.0|    0.0|   0.0|   0.0|0.31400001|0.002515|   null|null|   null|     null|        null|  null|              null|              null|    null| null|   null|                null|                null|                null|   null|   null|null|   null|     null|        null|  null|   null|  null|    null| null|   null|  null|  null|    null| null|   null|null|             null|     null|                null|  null|              null|  null|      null|               null|               null|                null|  null|               null|                null|  347.0|2.0699999|   0.69|      0.0|         0.0| 31.72|   4.14|   2.8|    3.45|1.2954|   0.51|2.0699999e-05|   0.0|0.013999999999999999|  0.0|  837.0|20.0|3.3299999|      0.0|         0.0|  6.67|    0.0|   0.0|     0.0|2.032|    0.8|   0.0|   0.0|     0.0|  0.0|   null|     null|     null|     null|        null|  null|   null|  null|     null|   null|                null|         null|  null|    null| null|    null|     null|    null|      null|               null|             null|    null|   null|     null|   null|                null|   null|   null|     null|   null|    null| null|    null|      null|         null|   null|    null|   null|     null|  null|    null|   null|   null|     null|  null|    null| null|    null|      null|         null|   null|    null|   null|     null|  null|    null|   null|   null|     null|  null|    null| null|    null|      null|         null|   null|    null|   null|     null|  null|    null|   null|   null|     null|  null|    null| null|    null|      null|         null|   null|    null|   null|     null|  null|    null|   null|   null|     null|  null|    null| null|    null|      null|         null|   null|    null|   null|     null|  null|    null|   null|   null|     null|  null|    null| null|    null|      null|         null|   null|    null|   null|     null|  null|    null|   null|   null|     null|  null|    null| null|    null|      null|         null|   null|    null|   null|     null|  null|    null|   null|   null|     null|  null|    null| null|    null|      null|         null|   null|    null|   null|     null|  null|    null|   null|   null|     null|  null|    null| null|    null|      null|         null|   null|    null|   null|     null|  null|    null|   null|   null|     null|  null|    null| null|    null|      null|         null|   null|    null|   null|     null|  null|    null|   null|   null|     null|  null|null|null|sugar| null|null| null|tomato|pepper|null| null| null| null| null| null| null| null| null| null| null| null|\n",
      "|Baked Apples with...|   null|null|   null|     null|        null|  null|   null|  null|    null| null|   null|  null|  null|    null| null|   null| null|             null|     null|        null|  null|   null|  null|              null|              null|   null|  null|  null|               null|        null|   null|null|   null|     null|        null|  null|   null|  null|    null| null|   null|  null|  null|      null|    null|   null|null|   null|     null|        null|  null|              null|              null|    null| null|   null|                null|                null|                null|   null|   null|null|   null|     null|        null|  null|   null|  null|    null| null|   null|  null|  null|    null| null|   null|null|             null|     null|                null|  null|              null|  null|      null|               null|               null|                null|  null|               null|                null|   null|     null|   null|     null|        null|  null|   null|  null|    null|  null|   null|         null|  null|                null| null|   null|null|     null|     null|        null|  null|   null|  null|    null| null|   null|  null|  null|    null| null|   null|     null|     null|     null|        null|  null|   null|  null|     null|   null|                null|         null|  null|    null| null|    null|     null|    null|      null|               null|             null|    null|   null|     null|   null|                null|   null|   null|     null|   null|    null| null|    null|      null|         null|   null|    null|   null|     null|  null|    null|   null|   null|     null|  null|    null| null|    null|      null|         null|   null|    null|   null|     null|  null|    null|   null|   null|     null|  null|    null| null|    null|      null|         null|   null|    null|   null|     null|  null|    null|   null|   null|     null|  null|    null| null|    null|      null|         null|   null|    null|   null|     null|  null|    null|   null|   null|     null|  null|    null| null|    null|      null|         null|   null|    null|   null|     null|  null|    null|   null|   null|     null|  null|    null| null|    null|      null|         null|   null|    null|   null|     null|  null|    null|   null|   null|     null|  null|    null| null|    null|      null|         null|   null|    null|   null|     null|  null|    null|   null|   null|     null|  null|    null| null|    null|      null|         null|   null|    null|   null|     null|  null|    null|   null|   null|     null|  null|    null| null|    null|      null|         null|   null|    null|   null|     null|  null|    null|   null|   null|     null|  null|    null| null|    null|      null|         null|   null|    null|   null|     null|  null|    null|   null|   null|     null|  null|null|null| null| null|null| null|  null|  null|null| null| null| null| null| null| null| null| null| null| null| null|\n",
      "+--------------------+-------+----+-------+---------+------------+------+-------+------+--------+-----+-------+------+------+--------+-----+-------+-----+-----------------+---------+------------+------+-------+------+------------------+------------------+-------+------+------+-------------------+------------+-------+----+-------+---------+------------+------+-------+------+--------+-----+-------+------+------+----------+--------+-------+----+-------+---------+------------+------+------------------+------------------+--------+-----+-------+--------------------+--------------------+--------------------+-------+-------+----+-------+---------+------------+------+-------+------+--------+-----+-------+------+------+--------+-----+-------+----+-----------------+---------+--------------------+------+------------------+------+----------+-------------------+-------------------+--------------------+------+-------------------+--------------------+-------+---------+-------+---------+------------+------+-------+------+--------+------+-------+-------------+------+--------------------+-----+-------+----+---------+---------+------------+------+-------+------+--------+-----+-------+------+------+--------+-----+-------+---------+---------+---------+------------+------+-------+------+---------+-------+--------------------+-------------+------+--------+-----+--------+---------+--------+----------+-------------------+-----------------+--------+-------+---------+-------+--------------------+-------+-------+---------+-------+--------+-----+--------+----------+-------------+-------+--------+-------+---------+------+--------+-------+-------+---------+------+--------+-----+--------+----------+-------------+-------+--------+-------+---------+------+--------+-------+-------+---------+------+--------+-----+--------+----------+-------------+-------+--------+-------+---------+------+--------+-------+-------+---------+------+--------+-----+--------+----------+-------------+-------+--------+-------+---------+------+--------+-------+-------+---------+------+--------+-----+--------+----------+-------------+-------+--------+-------+---------+------+--------+-------+-------+---------+------+--------+-----+--------+----------+-------------+-------+--------+-------+---------+------+--------+-------+-------+---------+------+--------+-----+--------+----------+-------------+-------+--------+-------+---------+------+--------+-------+-------+---------+------+--------+-----+--------+----------+-------------+-------+--------+-------+---------+------+--------+-------+-------+---------+------+--------+-----+--------+----------+-------------+-------+--------+-------+---------+------+--------+-------+-------+---------+------+--------+-----+--------+----------+-------------+-------+--------+-------+---------+------+--------+-------+-------+---------+------+----+----+-----+-----+----+-----+------+------+----+-----+-----+-----+-----+-----+-----+-----+-----+-----+-----+-----+\n",
      "only showing top 5 rows\n",
      "\n",
      "None\n"
     ]
    }
   ],
   "source": [
    "print(gen_nutrition_table.show(5))"
   ]
  },
  {
   "cell_type": "code",
   "execution_count": 113,
   "metadata": {},
   "outputs": [],
   "source": [
    "new_gen_nutrition_table = gen_nutrition_table.drop('key1','key2','key3','key4','key5','key6','key7','key8','key9','key10','key11','key12','key13','key14','key15','key16','key17','key18','key19','key20')"
   ]
  },
  {
   "cell_type": "code",
   "execution_count": 114,
   "metadata": {},
   "outputs": [],
   "source": [
    "cols=['energy1', 'fat1', 'satfat1', 'transfat1', 'cholestorol1', 'carbs1', 'sugars1', 'fiber1', 'protein1', 'salt1', 'sodium1', 'vit_a1', 'vit_c1', 'calcium1', 'iron1', 'energy2', 'fat2', 'satfat2', 'transfat2', 'cholestorol2', 'carbs2', 'sugars2', 'fiber2', 'protein2', 'salt2', 'sodium2', 'vit_a2', 'vit_c2', 'calcium2', 'iron2', 'energy3', 'fat3', 'satfat3', 'transfat3', 'cholestorol3', 'carbs3', 'sugars3', 'fiber3', 'protein3', 'salt3', 'sodium3', 'vit_a3', 'vit_c3', 'calcium3', 'iron3', 'energy4', 'fat4', 'satfat4', 'transfat4', 'cholestorol4', 'carbs4', 'sugars4', 'fiber4', 'protein4', 'salt4', 'sodium4', 'vit_a4', 'vit_c4', 'calcium4', 'iron4', 'energy5', 'fat5', 'satfat5', 'transfat5', 'cholestorol5', 'carbs5', 'sugars5', 'fiber5', 'protein5', 'salt5', 'sodium5', 'vit_a5', 'vit_c5', 'calcium5', 'iron5', 'energy6', 'fat6', 'satfat6', 'transfat6', 'cholestorol6', 'carbs6', 'sugars6', 'fiber6', 'protein6', 'salt6', 'sodium6', 'vit_a6', 'vit_c6', 'calcium6', 'iron6', 'energy7', 'fat7', 'satfat7', 'transfat7', 'cholestorol7', 'carbs7', 'sugars7', 'fiber7', 'protein7', 'salt7', 'sodium7', 'vit_a7', 'vit_c7', 'calcium7', 'iron7', 'energy8', 'fat8', 'satfat8', 'transfat8', 'cholestorol8', 'carbs8', 'sugars8', 'fiber2', 'protein2', 'salt2', 'sodium2', 'vit_a2', 'vit_c2', 'calcium2', 'iron2', 'energy9', 'fat9', 'satfat9', 'transfat9', 'cholestorol9', 'carbs9', 'sugars9', 'fiber9', 'protein9', 'salt9', 'sodium9', 'vit_a9', 'vit_c9', 'calcium9', 'iron9', 'energy10', 'fat10', 'satfat10', 'transfat10', 'cholestorol10', 'carbs10', 'sugars10', 'fiber10', 'protein10', 'salt10', 'sodium10', 'vit_a10', 'vit_c10', 'calcium10', 'iron10', 'energy11', 'fat11', 'satfat11', 'transfat11', 'cholestorol11', 'carbs11', 'sugars11', 'fiber11', 'protein11', 'salt11', 'sodium11', 'vit_a11', 'vit_c11', 'calcium11', 'iron11', 'energy12', 'fat12', 'satfat12', 'transfat12', 'cholestorol12', 'carbs12', 'sugars12', 'fiber12', 'protein12', 'salt12', 'sodium12', 'vit_a12', 'vit_c12', 'calcium12', 'iron12', 'energy13', 'fat13', 'satfat13', 'transfat13', 'cholestorol13', 'carbs13', 'sugars13', 'fiber2', 'protein2', 'salt2', 'sodium2', 'vit_a2', 'vit_c2', 'calcium2', 'iron2', 'energy13', 'fat13', 'satfat13', 'transfat13', 'cholestorol13', 'carbs13', 'sugars13', 'fiber13', 'protein13', 'salt13', 'sodium13', 'vit_a13', 'vit_c13', 'calcium13', 'iron13', 'energy14', 'fat14', 'satfat14', 'transfat14', 'cholestorol14', 'carbs14', 'sugars14', 'fiber14', 'protein14', 'salt14', 'sodium14', 'vit_a14', 'vit_c14', 'calcium14', 'iron14', 'energy15', 'fat15', 'satfat15', 'transfat15', 'cholestorol15', 'carbs15', 'sugars15', 'fiber2', 'protein2', 'salt2', 'sodium2', 'vit_a2', 'vit_c2', 'calcium2', 'iron2', 'energy16', 'fat16', 'satfat16', 'transfat16', 'cholestorol16', 'carbs16', 'sugars16', 'fiber16', 'protein16', 'salt16', 'sodium16', 'vit_a16', 'vit_c16', 'calcium16', 'iron16', 'energy17', 'fat17', 'satfat17', 'transfat17', 'cholestorol17', 'carbs17', 'sugars17', 'fiber17', 'protein17', 'salt17', 'sodium17', 'vit_a17', 'vit_c17', 'calcium17', 'iron17', 'energy18', 'fat18', 'satfat18', 'transfat18', 'cholestorol18', 'carbs18', 'sugars18', 'fiber18', 'protein18', 'salt18', 'sodium18', 'vit_a18', 'vit_c18', 'calcium18', 'iron18', 'energy19', 'fat19', 'satfat19', 'transfat19', 'cholestorol19', 'carbs19', 'sugars19', 'fiber19', 'protein19', 'salt19', 'sodium19', 'vit_a19', 'vit_c19', 'calcium19', 'iron19', 'energy20', 'fat20', 'satfat20', 'transfat20', 'cholestorol20', 'carbs20', 'sugars20', 'fiber20', 'protein20', 'salt20', 'sodium20', 'vit_a20', 'vit_c20', 'calcium20', 'iron20']\n",
    "\n",
    "for col_name in cols:\n",
    "    new_gen_nutrition_table = new_gen_nutrition_table.withColumn(col_name, col(col_name).cast('float'))\n"
   ]
  },
  {
   "cell_type": "code",
   "execution_count": 115,
   "metadata": {},
   "outputs": [
    {
     "name": "stdout",
     "output_type": "stream",
     "text": [
      "+--------------------+-------+----+-------+---------+------------+------+-------+------+--------+-----+-------+------+------+--------+-----+-------+-----+-------+---------+------------+------+-------+------+--------+-------+-------+------+------+--------+-------+-------+----+-------+---------+------------+------+-------+------+--------+-----+-------+------+------+--------+--------+-------+----+-------+---------+------------+------+-------+----------+--------+-----+-------+------------+-----------+-----------+------+-------+----+-------+---------+------------+------+-------+------+--------+-----+-------+------+------+--------+-----+-------+----+---------+---------+------------+------+----------+------+--------+----------+----------+--------+------+--------+------------+-------+----+-------+---------+------------+------+-------+------+--------+------+-------+-------+------+--------+-----+-------+----+-------+---------+------------+------+-------+------+------------------+--------------------+-------+--------------+------+------------+--------------------+-------+----+-------+---------+------------+------+-------+------+--------+-------+-------+-------+------+--------+-----+--------+-----+--------+----------+-------------+-------+--------+-------+---------+-------+--------+-------+-------+---------+-------+--------+-----+--------+----------+-------------+-------+--------+-------+---------+------+--------+-------+-------+---------+------+--------+-----+--------+----------+-------------+-------+--------+-------+---------+------+--------+-------+-------+---------+------+--------+-----+--------+----------+-------------+-------+--------+-------+---------+------+--------+-------+-------+---------+------+--------+-----+--------+----------+-------------+-------+--------+-------+---------+------+--------+-------+-------+---------+------+--------+-----+--------+----------+-------------+-------+--------+-------+---------+------+--------+-------+-------+---------+------+--------+-----+--------+----------+-------------+-------+--------+-------+---------+------+--------+-------+-------+---------+------+--------+-----+--------+----------+-------------+-------+--------+-------+---------+------+--------+-------+-------+---------+------+--------+-----+--------+----------+-------------+-------+--------+-------+---------+------+--------+-------+-------+---------+------+--------+-----+--------+----------+-------------+-------+--------+-------+---------+------+--------+-------+-------+---------+------+--------+-----+--------+----------+-------------+-------+--------+-------+---------+------+--------+-------+-------+---------+------+\n",
      "|               title|energy1|fat1|satfat1|transfat1|cholestorol1|carbs1|sugars1|fiber1|protein1|salt1|sodium1|vit_a1|vit_c1|calcium1|iron1|energy2| fat2|satfat2|transfat2|cholestorol2|carbs2|sugars2|fiber2|protein2|  salt2|sodium2|vit_a2|vit_c2|calcium2|  iron2|energy3|fat3|satfat3|transfat3|cholestorol3|carbs3|sugars3|fiber3|protein3|salt3|sodium3|vit_a3|vit_c3|calcium3|   iron3|energy4|fat4|satfat4|transfat4|cholestorol4|carbs4|sugars4|    fiber4|protein4|salt4|sodium4|      vit_a4|     vit_c4|   calcium4| iron4|energy5|fat5|satfat5|transfat5|cholestorol5|carbs5|sugars5|fiber5|protein5|salt5|sodium5|vit_a5|vit_c5|calcium5|iron5|energy6|fat6|  satfat6|transfat6|cholestorol6|carbs6|   sugars6|fiber6|protein6|     salt6|   sodium6|  vit_a6|vit_c6|calcium6|       iron6|energy7|fat7|satfat7|transfat7|cholestorol7|carbs7|sugars7|fiber7|protein7| salt7|sodium7| vit_a7|vit_c7|calcium7|iron7|energy8|fat8|satfat8|transfat8|cholestorol8|carbs8|sugars8|fiber8|          protein8|               salt8|sodium8|        vit_a8|vit_c8|    calcium8|               iron8|energy9|fat9|satfat9|transfat9|cholestorol9|carbs9|sugars9|fiber9|protein9|  salt9|sodium9| vit_a9|vit_c9|calcium9|iron9|energy10|fat10|satfat10|transfat10|cholestorol10|carbs10|sugars10|fiber10|protein10| salt10|sodium10|vit_a10|vit_c10|calcium10| iron10|energy11|fat11|satfat11|transfat11|cholestorol11|carbs11|sugars11|fiber11|protein11|salt11|sodium11|vit_a11|vit_c11|calcium11|iron11|energy12|fat12|satfat12|transfat12|cholestorol12|carbs12|sugars12|fiber12|protein12|salt12|sodium12|vit_a12|vit_c12|calcium12|iron12|energy13|fat13|satfat13|transfat13|cholestorol13|carbs13|sugars13|fiber13|protein13|salt13|sodium13|vit_a13|vit_c13|calcium13|iron13|energy14|fat14|satfat14|transfat14|cholestorol14|carbs14|sugars14|fiber14|protein14|salt14|sodium14|vit_a14|vit_c14|calcium14|iron14|energy15|fat15|satfat15|transfat15|cholestorol15|carbs15|sugars15|fiber15|protein15|salt15|sodium15|vit_a15|vit_c15|calcium15|iron15|energy16|fat16|satfat16|transfat16|cholestorol16|carbs16|sugars16|fiber16|protein16|salt16|sodium16|vit_a16|vit_c16|calcium16|iron16|energy17|fat17|satfat17|transfat17|cholestorol17|carbs17|sugars17|fiber17|protein17|salt17|sodium17|vit_a17|vit_c17|calcium17|iron17|energy18|fat18|satfat18|transfat18|cholestorol18|carbs18|sugars18|fiber18|protein18|salt18|sodium18|vit_a18|vit_c18|calcium18|iron18|energy19|fat19|satfat19|transfat19|cholestorol19|carbs19|sugars19|fiber19|protein19|salt19|sodium19|vit_a19|vit_c19|calcium19|iron19|energy20|fat20|satfat20|transfat20|cholestorol20|carbs20|sugars20|fiber20|protein20|salt20|sodium20|vit_a20|vit_c20|calcium20|iron20|\n",
      "+--------------------+-------+----+-------+---------+------------+------+-------+------+--------+-----+-------+------+------+--------+-----+-------+-----+-------+---------+------------+------+-------+------+--------+-------+-------+------+------+--------+-------+-------+----+-------+---------+------------+------+-------+------+--------+-----+-------+------+------+--------+--------+-------+----+-------+---------+------------+------+-------+----------+--------+-----+-------+------------+-----------+-----------+------+-------+----+-------+---------+------------+------+-------+------+--------+-----+-------+------+------+--------+-----+-------+----+---------+---------+------------+------+----------+------+--------+----------+----------+--------+------+--------+------------+-------+----+-------+---------+------------+------+-------+------+--------+------+-------+-------+------+--------+-----+-------+----+-------+---------+------------+------+-------+------+------------------+--------------------+-------+--------------+------+------------+--------------------+-------+----+-------+---------+------------+------+-------+------+--------+-------+-------+-------+------+--------+-----+--------+-----+--------+----------+-------------+-------+--------+-------+---------+-------+--------+-------+-------+---------+-------+--------+-----+--------+----------+-------------+-------+--------+-------+---------+------+--------+-------+-------+---------+------+--------+-----+--------+----------+-------------+-------+--------+-------+---------+------+--------+-------+-------+---------+------+--------+-----+--------+----------+-------------+-------+--------+-------+---------+------+--------+-------+-------+---------+------+--------+-----+--------+----------+-------------+-------+--------+-------+---------+------+--------+-------+-------+---------+------+--------+-----+--------+----------+-------------+-------+--------+-------+---------+------+--------+-------+-------+---------+------+--------+-----+--------+----------+-------------+-------+--------+-------+---------+------+--------+-------+-------+---------+------+--------+-----+--------+----------+-------------+-------+--------+-------+---------+------+--------+-------+-------+---------+------+--------+-----+--------+----------+-------------+-------+--------+-------+---------+------+--------+-------+-------+---------+------+--------+-----+--------+----------+-------------+-------+--------+-------+---------+------+--------+-------+-------+---------+------+--------+-----+--------+----------+-------------+-------+--------+-------+---------+------+--------+-------+-------+---------+------+\n",
      "|Mixed Berry Pavlo...|   null|null|   null|     null|        null|  null|   null|  null|    null| null|   null|  null|  null|    null| null| 2485.0|43.75|   7.81|      0.0|         0.0| 31.25|   12.5|  12.5|   21.88|0.79248|  0.312|   0.0|   0.0|   0.094|0.00394|   null|null|   null|     null|        null|  null|   null|  null|    null| null|   null|  null|  null|    null|    null| 1255.0|20.0|    7.3|      0.0|      0.0469|  20.0| 16.848|0.44444445|     0.0|2.032|    0.8|1.2973334E-4|0.015666667|0.035555556|6.4E-4|   null|null|   null|     null|        null|  null|   null|  null|    null| null|   null|  null|  null|    null| null|   null|null|     null|     null|        null|  null|      null|  null|    null|      null|      null|    null|  null|    null|        null|   null|null|   null|     null|        null|  null|   null|  null|    null|  null|   null|   null|  null|    null| null|   null|null|   null|     null|        null|  null|   null|  null|              null|                null|   null|          null|  null|        null|                null|  280.0|3.33|   2.08|      0.0|       0.015|  5.42|    5.0|   0.0|    3.33|0.13208|  0.052|3.75E-5|   0.0|   0.125|  0.0|   883.0| 7.81|    1.95|       0.0|        0.055|  27.34|    1.56|    0.8|     7.81|0.89408|   0.352|2.34E-5| 9.0E-4|    0.016|0.00211|    null| null|    null|      null|         null|   null|    null|   null|     null|  null|    null|   null|   null|     null|  null|    null| null|    null|      null|         null|   null|    null|   null|     null|  null|    null|   null|   null|     null|  null|    null| null|    null|      null|         null|   null|    null|   null|     null|  null|    null|   null|   null|     null|  null|    null| null|    null|      null|         null|   null|    null|   null|     null|  null|    null|   null|   null|     null|  null|    null| null|    null|      null|         null|   null|    null|   null|     null|  null|    null|   null|   null|     null|  null|    null| null|    null|      null|         null|   null|    null|   null|     null|  null|    null|   null|   null|     null|  null|    null| null|    null|      null|         null|   null|    null|   null|     null|  null|    null|   null|   null|     null|  null|    null| null|    null|      null|         null|   null|    null|   null|     null|  null|    null|   null|   null|     null|  null|    null| null|    null|      null|         null|   null|    null|   null|     null|  null|    null|   null|   null|     null|  null|    null| null|    null|      null|         null|   null|    null|   null|     null|  null|    null|   null|   null|     null|  null|\n",
      "| Frijoles Borrachos |   null|null|   null|     null|        null|  null|   null|  null|    null| null|   null|  null|  null|    null| null| 2485.0|43.75|   7.81|      0.0|         0.0| 31.25|   12.5|  12.5|   21.88|0.79248|  0.312|   0.0|   0.0|   0.094|0.00394| 1569.0| 0.0|  11.95|      0.0|       0.014| 100.0|  100.0|   4.4|     0.0|  0.0|    0.0|   0.0|   0.0|   0.314|0.002515|   null|null|   null|     null|        null|  null|   null|      null|    null| null|   null|        null|       null|       null|  null|   null|null|   null|     null|        null|  null|   null|  null|    null| null|   null|  null|  null|    null| null|   null|null|     null|     null|        null|  null|      null|  null|    null|      null|      null|    null|  null|    null|        null|  347.0|2.07|   0.69|      0.0|         0.0| 31.72|   4.14|   2.8|    3.45|1.2954|   0.51|2.07E-5|   0.0|   0.014|  0.0|   null|null|   null|     null|        null|  null|   null|  null|              null|                null|   null|          null|  null|        null|                null|   null|null|   null|     null|        null|  null|   null|  null|    null|   null|   null|   null|  null|    null| null|    null| null|    null|      null|         null|   null|    null|   null|     null|   null|    null|   null|   null|     null|   null|    null| null|    null|      null|         null|   null|    null|   null|     null|  null|    null|   null|   null|     null|  null|    null| null|    null|      null|         null|   null|    null|   null|     null|  null|    null|   null|   null|     null|  null|    null| null|    null|      null|         null|   null|    null|   null|     null|  null|    null|   null|   null|     null|  null|    null| null|    null|      null|         null|   null|    null|   null|     null|  null|    null|   null|   null|     null|  null|    null| null|    null|      null|         null|   null|    null|   null|     null|  null|    null|   null|   null|     null|  null|    null| null|    null|      null|         null|   null|    null|   null|     null|  null|    null|   null|   null|     null|  null|    null| null|    null|      null|         null|   null|    null|   null|     null|  null|    null|   null|   null|     null|  null|    null| null|    null|      null|         null|   null|    null|   null|     null|  null|    null|   null|   null|     null|  null|    null| null|    null|      null|         null|   null|    null|   null|     null|  null|    null|   null|   null|     null|  null|    null| null|    null|      null|         null|   null|    null|   null|     null|  null|    null|   null|   null|     null|  null|\n",
      "|Open-Face Prosciu...|   null|null|   null|     null|        null|  null|   null|  null|    null| null|   null|  null|  null|    null| null| 2485.0|43.75|   7.81|      0.0|         0.0| 31.25|   12.5|  12.5|   21.88|0.79248|  0.312|   0.0|   0.0|   0.094|0.00394|   null|null|   null|     null|        null|  null|   null|  null|    null| null|   null|  null|  null|    null|    null|   null|null|   null|     null|        null|  null|   null|      null|    null| null|   null|        null|       null|       null|  null|   null|null|   null|     null|        null|  null|   null|  null|    null| null|   null|  null|  null|    null| null|  180.0| 0.5|3.5985715|      0.0|0.0022222223|  10.0|0.87285715|   1.4|     0.8|0.43744445|0.17222223|2.582E-4|0.0096|   0.097|0.0027266666|   null|null|   null|     null|        null|  null|   null|  null|    null|  null|   null|   null|  null|    null| null|   null|null|   null|     null|        null|  null|   null|  null|              null|                null|   null|          null|  null|        null|                null|   null|null|   null|     null|        null|  null|   null|  null|    null|   null|   null|   null|  null|    null| null|    null| null|    null|      null|         null|   null|    null|   null|     null|   null|    null|   null|   null|     null|   null|    null| null|    null|      null|         null|   null|    null|   null|     null|  null|    null|   null|   null|     null|  null|    null| null|    null|      null|         null|   null|    null|   null|     null|  null|    null|   null|   null|     null|  null|    null| null|    null|      null|         null|   null|    null|   null|     null|  null|    null|   null|   null|     null|  null|    null| null|    null|      null|         null|   null|    null|   null|     null|  null|    null|   null|   null|     null|  null|    null| null|    null|      null|         null|   null|    null|   null|     null|  null|    null|   null|   null|     null|  null|    null| null|    null|      null|         null|   null|    null|   null|     null|  null|    null|   null|   null|     null|  null|    null| null|    null|      null|         null|   null|    null|   null|     null|  null|    null|   null|   null|     null|  null|    null| null|    null|      null|         null|   null|    null|   null|     null|  null|    null|   null|   null|     null|  null|    null| null|    null|      null|         null|   null|    null|   null|     null|  null|    null|   null|   null|     null|  null|    null| null|    null|      null|         null|   null|    null|   null|     null|  null|    null|   null|   null|     null|  null|\n",
      "|Toasted Barley Sa...|   null|null|   null|     null|        null|  null|   null|  null|    null| null|   null|  null|  null|    null| null|   null| null|   null|     null|        null|  null|   null|  null|    null|   null|   null|  null|  null|    null|   null| 1569.0| 0.0|  11.95|      0.0|       0.014| 100.0|  100.0|   4.4|     0.0|  0.0|    0.0|   0.0|   0.0|   0.314|0.002515|   null|null|   null|     null|        null|  null|   null|      null|    null| null|   null|        null|       null|       null|  null|   null|null|   null|     null|        null|  null|   null|  null|    null| null|   null|  null|  null|    null| null|   null|null|     null|     null|        null|  null|      null|  null|    null|      null|      null|    null|  null|    null|        null|  347.0|2.07|   0.69|      0.0|         0.0| 31.72|   4.14|   2.8|    3.45|1.2954|   0.51|2.07E-5|   0.0|   0.014|  0.0|   75.0| 0.0|   7.42|      0.0|       0.039| 31.25|    0.0|  2.35|7.0299999500000006|0.002539999999999...|  0.001|0.000140699995|0.0075|0.1094999945|0.001404999949999...|   null|null|   null|     null|        null|  null|   null|  null|    null|   null|   null|   null|  null|    null| null|    null| null|    null|      null|         null|   null|    null|   null|     null|   null|    null|   null|   null|     null|   null|    null| null|    null|      null|         null|   null|    null|   null|     null|  null|    null|   null|   null|     null|  null|    null| null|    null|      null|         null|   null|    null|   null|     null|  null|    null|   null|   null|     null|  null|    null| null|    null|      null|         null|   null|    null|   null|     null|  null|    null|   null|   null|     null|  null|    null| null|    null|      null|         null|   null|    null|   null|     null|  null|    null|   null|   null|     null|  null|    null| null|    null|      null|         null|   null|    null|   null|     null|  null|    null|   null|   null|     null|  null|    null| null|    null|      null|         null|   null|    null|   null|     null|  null|    null|   null|   null|     null|  null|    null| null|    null|      null|         null|   null|    null|   null|     null|  null|    null|   null|   null|     null|  null|    null| null|    null|      null|         null|   null|    null|   null|     null|  null|    null|   null|   null|     null|  null|    null| null|    null|      null|         null|   null|    null|   null|     null|  null|    null|   null|   null|     null|  null|    null| null|    null|      null|         null|   null|    null|   null|     null|  null|    null|   null|   null|     null|  null|\n",
      "|Baked Apples with...|   null|null|   null|     null|        null|  null|   null|  null|    null| null|   null|  null|  null|    null| null|   null| null|   null|     null|        null|  null|   null|  null|    null|   null|   null|  null|  null|    null|   null|   null|null|   null|     null|        null|  null|   null|  null|    null| null|   null|  null|  null|    null|    null|   null|null|   null|     null|        null|  null|   null|      null|    null| null|   null|        null|       null|       null|  null|   null|null|   null|     null|        null|  null|   null|  null|    null| null|   null|  null|  null|    null| null|   null|null|     null|     null|        null|  null|      null|  null|    null|      null|      null|    null|  null|    null|        null|   null|null|   null|     null|        null|  null|   null|  null|    null|  null|   null|   null|  null|    null| null|   null|null|   null|     null|        null|  null|   null|  null|              null|                null|   null|          null|  null|        null|                null|   null|null|   null|     null|        null|  null|   null|  null|    null|   null|   null|   null|  null|    null| null|    null| null|    null|      null|         null|   null|    null|   null|     null|   null|    null|   null|   null|     null|   null|    null| null|    null|      null|         null|   null|    null|   null|     null|  null|    null|   null|   null|     null|  null|    null| null|    null|      null|         null|   null|    null|   null|     null|  null|    null|   null|   null|     null|  null|    null| null|    null|      null|         null|   null|    null|   null|     null|  null|    null|   null|   null|     null|  null|    null| null|    null|      null|         null|   null|    null|   null|     null|  null|    null|   null|   null|     null|  null|    null| null|    null|      null|         null|   null|    null|   null|     null|  null|    null|   null|   null|     null|  null|    null| null|    null|      null|         null|   null|    null|   null|     null|  null|    null|   null|   null|     null|  null|    null| null|    null|      null|         null|   null|    null|   null|     null|  null|    null|   null|   null|     null|  null|    null| null|    null|      null|         null|   null|    null|   null|     null|  null|    null|   null|   null|     null|  null|    null| null|    null|      null|         null|   null|    null|   null|     null|  null|    null|   null|   null|     null|  null|    null| null|    null|      null|         null|   null|    null|   null|     null|  null|    null|   null|   null|     null|  null|\n",
      "+--------------------+-------+----+-------+---------+------------+------+-------+------+--------+-----+-------+------+------+--------+-----+-------+-----+-------+---------+------------+------+-------+------+--------+-------+-------+------+------+--------+-------+-------+----+-------+---------+------------+------+-------+------+--------+-----+-------+------+------+--------+--------+-------+----+-------+---------+------------+------+-------+----------+--------+-----+-------+------------+-----------+-----------+------+-------+----+-------+---------+------------+------+-------+------+--------+-----+-------+------+------+--------+-----+-------+----+---------+---------+------------+------+----------+------+--------+----------+----------+--------+------+--------+------------+-------+----+-------+---------+------------+------+-------+------+--------+------+-------+-------+------+--------+-----+-------+----+-------+---------+------------+------+-------+------+------------------+--------------------+-------+--------------+------+------------+--------------------+-------+----+-------+---------+------------+------+-------+------+--------+-------+-------+-------+------+--------+-----+--------+-----+--------+----------+-------------+-------+--------+-------+---------+-------+--------+-------+-------+---------+-------+--------+-----+--------+----------+-------------+-------+--------+-------+---------+------+--------+-------+-------+---------+------+--------+-----+--------+----------+-------------+-------+--------+-------+---------+------+--------+-------+-------+---------+------+--------+-----+--------+----------+-------------+-------+--------+-------+---------+------+--------+-------+-------+---------+------+--------+-----+--------+----------+-------------+-------+--------+-------+---------+------+--------+-------+-------+---------+------+--------+-----+--------+----------+-------------+-------+--------+-------+---------+------+--------+-------+-------+---------+------+--------+-----+--------+----------+-------------+-------+--------+-------+---------+------+--------+-------+-------+---------+------+--------+-----+--------+----------+-------------+-------+--------+-------+---------+------+--------+-------+-------+---------+------+--------+-----+--------+----------+-------------+-------+--------+-------+---------+------+--------+-------+-------+---------+------+--------+-----+--------+----------+-------------+-------+--------+-------+---------+------+--------+-------+-------+---------+------+--------+-----+--------+----------+-------------+-------+--------+-------+---------+------+--------+-------+-------+---------+------+\n",
      "only showing top 5 rows\n",
      "\n"
     ]
    }
   ],
   "source": [
    "new_gen_nutrition_table.show(5)"
   ]
  },
  {
   "cell_type": "code",
   "execution_count": 116,
   "metadata": {},
   "outputs": [],
   "source": [
    "new_gen_nutrition_table= new_gen_nutrition_table.na.fill(0)"
   ]
  },
  {
   "cell_type": "code",
   "execution_count": 117,
   "metadata": {},
   "outputs": [
    {
     "name": "stdout",
     "output_type": "stream",
     "text": [
      "+--------------------+-------+----+-------+---------+------------+------+-------+------+--------+-----+-------+------+------+--------+-----+-------+-----+-------+---------+------------+------+-------+------+--------+-------+-------+------+------+--------+-------+-------+----+-------+---------+------------+------+-------+------+--------+-----+-------+------+------+--------+--------+-------+-----+-------+---------+------------+------+-------+------+--------+-------+-------+------+------+--------+-------+-------+----+-------+---------+------------+------+-------+------+--------+-----+-------+------+------+--------+-----+-------+----+---------+---------+------------+------+----------+------+--------+----------+----------+--------+------+--------+------------+-------+----+-------+---------+------------+------+-------+------+--------+------+-------+-------+------+--------+-----+-------+----+-------+---------+------------+------+-------+------+------------------+--------------------+-------+--------------+------+------------+--------------------+-------+----+-------+---------+------------+------+-------+------+--------+-------+-------+-------+------+--------+-----+--------+-----+--------+----------+-------------+-------+--------+-------+---------+-------+--------+-------+-------+---------+-------+--------+-----+--------+----------+-------------+-------+--------+-------+---------+------+--------+-------+-------+---------+------+--------+-----+--------+----------+-------------+-------+--------+-------+---------+------+--------+-------+-------+---------+------+--------+-----+--------+----------+-------------+-------+--------+-------+---------+------+--------+-------+-------+---------+------+--------+-----+--------+----------+-------------+-------+--------+-------+---------+------+--------+-------+-------+---------+------+--------+-----+--------+----------+-------------+-------+--------+-------+---------+------+--------+-------+-------+---------+------+--------+-----+--------+----------+-------------+-------+--------+-------+---------+------+--------+-------+-------+---------+------+--------+-----+--------+----------+-------------+-------+--------+-------+---------+------+--------+-------+-------+---------+------+--------+-----+--------+----------+-------------+-------+--------+-------+---------+------+--------+-------+-------+---------+------+--------+-----+--------+----------+-------------+-------+--------+-------+---------+------+--------+-------+-------+---------+------+--------+-----+--------+----------+-------------+-------+--------+-------+---------+------+--------+-------+-------+---------+------+\n",
      "|               title|energy1|fat1|satfat1|transfat1|cholestorol1|carbs1|sugars1|fiber1|protein1|salt1|sodium1|vit_a1|vit_c1|calcium1|iron1|energy2| fat2|satfat2|transfat2|cholestorol2|carbs2|sugars2|fiber2|protein2|  salt2|sodium2|vit_a2|vit_c2|calcium2|  iron2|energy3|fat3|satfat3|transfat3|cholestorol3|carbs3|sugars3|fiber3|protein3|salt3|sodium3|vit_a3|vit_c3|calcium3|   iron3|energy4| fat4|satfat4|transfat4|cholestorol4|carbs4|sugars4|fiber4|protein4|  salt4|sodium4|vit_a4|vit_c4|calcium4|  iron4|energy5|fat5|satfat5|transfat5|cholestorol5|carbs5|sugars5|fiber5|protein5|salt5|sodium5|vit_a5|vit_c5|calcium5|iron5|energy6|fat6|  satfat6|transfat6|cholestorol6|carbs6|   sugars6|fiber6|protein6|     salt6|   sodium6|  vit_a6|vit_c6|calcium6|       iron6|energy7|fat7|satfat7|transfat7|cholestorol7|carbs7|sugars7|fiber7|protein7| salt7|sodium7| vit_a7|vit_c7|calcium7|iron7|energy8|fat8|satfat8|transfat8|cholestorol8|carbs8|sugars8|fiber8|          protein8|               salt8|sodium8|        vit_a8|vit_c8|    calcium8|               iron8|energy9|fat9|satfat9|transfat9|cholestorol9|carbs9|sugars9|fiber9|protein9|  salt9|sodium9| vit_a9|vit_c9|calcium9|iron9|energy10|fat10|satfat10|transfat10|cholestorol10|carbs10|sugars10|fiber10|protein10| salt10|sodium10|vit_a10|vit_c10|calcium10| iron10|energy11|fat11|satfat11|transfat11|cholestorol11|carbs11|sugars11|fiber11|protein11|salt11|sodium11|vit_a11|vit_c11|calcium11|iron11|energy12|fat12|satfat12|transfat12|cholestorol12|carbs12|sugars12|fiber12|protein12|salt12|sodium12|vit_a12|vit_c12|calcium12|iron12|energy13|fat13|satfat13|transfat13|cholestorol13|carbs13|sugars13|fiber13|protein13|salt13|sodium13|vit_a13|vit_c13|calcium13|iron13|energy14|fat14|satfat14|transfat14|cholestorol14|carbs14|sugars14|fiber14|protein14|salt14|sodium14|vit_a14|vit_c14|calcium14|iron14|energy15|fat15|satfat15|transfat15|cholestorol15|carbs15|sugars15|fiber15|protein15|salt15|sodium15|vit_a15|vit_c15|calcium15|iron15|energy16|fat16|satfat16|transfat16|cholestorol16|carbs16|sugars16|fiber16|protein16|salt16|sodium16|vit_a16|vit_c16|calcium16|iron16|energy17|fat17|satfat17|transfat17|cholestorol17|carbs17|sugars17|fiber17|protein17|salt17|sodium17|vit_a17|vit_c17|calcium17|iron17|energy18|fat18|satfat18|transfat18|cholestorol18|carbs18|sugars18|fiber18|protein18|salt18|sodium18|vit_a18|vit_c18|calcium18|iron18|energy19|fat19|satfat19|transfat19|cholestorol19|carbs19|sugars19|fiber19|protein19|salt19|sodium19|vit_a19|vit_c19|calcium19|iron19|energy20|fat20|satfat20|transfat20|cholestorol20|carbs20|sugars20|fiber20|protein20|salt20|sodium20|vit_a20|vit_c20|calcium20|iron20|\n",
      "+--------------------+-------+----+-------+---------+------------+------+-------+------+--------+-----+-------+------+------+--------+-----+-------+-----+-------+---------+------------+------+-------+------+--------+-------+-------+------+------+--------+-------+-------+----+-------+---------+------------+------+-------+------+--------+-----+-------+------+------+--------+--------+-------+-----+-------+---------+------------+------+-------+------+--------+-------+-------+------+------+--------+-------+-------+----+-------+---------+------------+------+-------+------+--------+-----+-------+------+------+--------+-----+-------+----+---------+---------+------------+------+----------+------+--------+----------+----------+--------+------+--------+------------+-------+----+-------+---------+------------+------+-------+------+--------+------+-------+-------+------+--------+-----+-------+----+-------+---------+------------+------+-------+------+------------------+--------------------+-------+--------------+------+------------+--------------------+-------+----+-------+---------+------------+------+-------+------+--------+-------+-------+-------+------+--------+-----+--------+-----+--------+----------+-------------+-------+--------+-------+---------+-------+--------+-------+-------+---------+-------+--------+-----+--------+----------+-------------+-------+--------+-------+---------+------+--------+-------+-------+---------+------+--------+-----+--------+----------+-------------+-------+--------+-------+---------+------+--------+-------+-------+---------+------+--------+-----+--------+----------+-------------+-------+--------+-------+---------+------+--------+-------+-------+---------+------+--------+-----+--------+----------+-------------+-------+--------+-------+---------+------+--------+-------+-------+---------+------+--------+-----+--------+----------+-------------+-------+--------+-------+---------+------+--------+-------+-------+---------+------+--------+-----+--------+----------+-------------+-------+--------+-------+---------+------+--------+-------+-------+---------+------+--------+-----+--------+----------+-------------+-------+--------+-------+---------+------+--------+-------+-------+---------+------+--------+-----+--------+----------+-------------+-------+--------+-------+---------+------+--------+-------+-------+---------+------+--------+-----+--------+----------+-------------+-------+--------+-------+---------+------+--------+-------+-------+---------+------+--------+-----+--------+----------+-------------+-------+--------+-------+---------+------+--------+-------+-------+---------+------+\n",
      "|Mixed Berry Pavlo...|    0.0| 0.0|    0.0|      0.0|         0.0|   0.0|    0.0|   0.0|     0.0|  0.0|    0.0|   0.0|   0.0|     0.0|  0.0| 2485.0|43.75|   7.81|      0.0|         0.0| 31.25|   12.5|  12.5|   21.88|0.79248|  0.312|   0.0|   0.0|   0.094|0.00394|    0.0| 0.0|    0.0|      0.0|         0.0|   0.0|    0.0|   0.0|     0.0|  0.0|    0.0|   0.0|   0.0|     0.0|     0.0| 2485.0|53.12|   4.69|      0.0|         0.0| 21.88|   6.25|   9.4|   21.88|0.71374|  0.281|   0.0|   0.0|    0.25|0.00338|    0.0| 0.0|    0.0|      0.0|         0.0|   0.0|    0.0|   0.0|     0.0|  0.0|    0.0|   0.0|   0.0|     0.0|  0.0|    0.0| 0.0|      0.0|      0.0|         0.0|   0.0|       0.0|   0.0|     0.0|       0.0|       0.0|     0.0|   0.0|     0.0|         0.0|    0.0| 0.0|    0.0|      0.0|         0.0|   0.0|    0.0|   0.0|     0.0|   0.0|    0.0|    0.0|   0.0|     0.0|  0.0|    0.0| 0.0|    0.0|      0.0|         0.0|   0.0|    0.0|  null|              null|                null|   null|          null|  null|        null|                null|  280.0|3.33|   2.08|      0.0|       0.015|  5.42|    5.0|   0.0|    3.33|0.13208|  0.052|3.75E-5|   0.0|   0.125|  0.0|   883.0| 7.81|    1.95|       0.0|        0.055|  27.34|    1.56|    0.8|     7.81|0.89408|   0.352|2.34E-5| 9.0E-4|    0.016|0.00211|     0.0|  0.0|     0.0|       0.0|          0.0|    0.0|     0.0|    0.0|      0.0|   0.0|     0.0|    0.0|    0.0|      0.0|   0.0|     0.0|  0.0|     0.0|       0.0|          0.0|    0.0|     0.0|    0.0|      0.0|   0.0|     0.0|    0.0|    0.0|      0.0|   0.0|     0.0|  0.0|     0.0|       0.0|          0.0|    0.0|     0.0|    0.0|      0.0|   0.0|     0.0|    0.0|    0.0|      0.0|   0.0|     0.0|  0.0|     0.0|       0.0|          0.0|    0.0|     0.0|    0.0|      0.0|   0.0|     0.0|    0.0|    0.0|      0.0|   0.0|     0.0|  0.0|     0.0|       0.0|          0.0|    0.0|     0.0|   null|     null|  null|    null|   null|   null|     null|  null|     0.0|  0.0|     0.0|       0.0|          0.0|    0.0|     0.0|    0.0|      0.0|   0.0|     0.0|    0.0|    0.0|      0.0|   0.0|     0.0|  0.0|     0.0|       0.0|          0.0|    0.0|     0.0|    0.0|      0.0|   0.0|     0.0|    0.0|    0.0|      0.0|   0.0|     0.0|  0.0|     0.0|       0.0|          0.0|    0.0|     0.0|    0.0|      0.0|   0.0|     0.0|    0.0|    0.0|      0.0|   0.0|     0.0|  0.0|     0.0|       0.0|          0.0|    0.0|     0.0|    0.0|      0.0|   0.0|     0.0|    0.0|    0.0|      0.0|   0.0|     0.0|  0.0|     0.0|       0.0|          0.0|    0.0|     0.0|    0.0|      0.0|   0.0|     0.0|    0.0|    0.0|      0.0|   0.0|\n",
      "| Frijoles Borrachos |    0.0| 0.0|    0.0|      0.0|         0.0|   0.0|    0.0|   0.0|     0.0|  0.0|    0.0|   0.0|   0.0|     0.0|  0.0| 2485.0|43.75|   7.81|      0.0|         0.0| 31.25|   12.5|  12.5|   21.88|0.79248|  0.312|   0.0|   0.0|   0.094|0.00394| 1569.0| 0.0|  11.95|      0.0|       0.014| 100.0|  100.0|   4.4|     0.0|  0.0|    0.0|   0.0|   0.0|   0.314|0.002515|    0.0|  0.0|    0.0|      0.0|         0.0|   0.0|    0.0|   0.0|     0.0|    0.0|    0.0|   0.0|   0.0|     0.0|    0.0|    0.0| 0.0|    0.0|      0.0|         0.0|   0.0|    0.0|   0.0|     0.0|  0.0|    0.0|   0.0|   0.0|     0.0|  0.0|    0.0| 0.0|      0.0|      0.0|         0.0|   0.0|       0.0|   0.0|     0.0|       0.0|       0.0|     0.0|   0.0|     0.0|         0.0|  347.0|2.07|   0.69|      0.0|         0.0| 31.72|   4.14|   2.8|    3.45|1.2954|   0.51|2.07E-5|   0.0|   0.014|  0.0|    0.0| 0.0|    0.0|      0.0|         0.0|   0.0|    0.0|  null|              null|                null|   null|          null|  null|        null|                null|    0.0| 0.0|    0.0|      0.0|         0.0|   0.0|    0.0|   0.0|     0.0|    0.0|    0.0|    0.0|   0.0|     0.0|  0.0|     0.0|  0.0|     0.0|       0.0|          0.0|    0.0|     0.0|    0.0|      0.0|    0.0|     0.0|    0.0|    0.0|      0.0|    0.0|     0.0|  0.0|     0.0|       0.0|          0.0|    0.0|     0.0|    0.0|      0.0|   0.0|     0.0|    0.0|    0.0|      0.0|   0.0|     0.0|  0.0|     0.0|       0.0|          0.0|    0.0|     0.0|    0.0|      0.0|   0.0|     0.0|    0.0|    0.0|      0.0|   0.0|     0.0|  0.0|     0.0|       0.0|          0.0|    0.0|     0.0|    0.0|      0.0|   0.0|     0.0|    0.0|    0.0|      0.0|   0.0|     0.0|  0.0|     0.0|       0.0|          0.0|    0.0|     0.0|    0.0|      0.0|   0.0|     0.0|    0.0|    0.0|      0.0|   0.0|     0.0|  0.0|     0.0|       0.0|          0.0|    0.0|     0.0|   null|     null|  null|    null|   null|   null|     null|  null|     0.0|  0.0|     0.0|       0.0|          0.0|    0.0|     0.0|    0.0|      0.0|   0.0|     0.0|    0.0|    0.0|      0.0|   0.0|     0.0|  0.0|     0.0|       0.0|          0.0|    0.0|     0.0|    0.0|      0.0|   0.0|     0.0|    0.0|    0.0|      0.0|   0.0|     0.0|  0.0|     0.0|       0.0|          0.0|    0.0|     0.0|    0.0|      0.0|   0.0|     0.0|    0.0|    0.0|      0.0|   0.0|     0.0|  0.0|     0.0|       0.0|          0.0|    0.0|     0.0|    0.0|      0.0|   0.0|     0.0|    0.0|    0.0|      0.0|   0.0|     0.0|  0.0|     0.0|       0.0|          0.0|    0.0|     0.0|    0.0|      0.0|   0.0|     0.0|    0.0|    0.0|      0.0|   0.0|\n",
      "|Open-Face Prosciu...|    0.0| 0.0|    0.0|      0.0|         0.0|   0.0|    0.0|   0.0|     0.0|  0.0|    0.0|   0.0|   0.0|     0.0|  0.0| 2485.0|43.75|   7.81|      0.0|         0.0| 31.25|   12.5|  12.5|   21.88|0.79248|  0.312|   0.0|   0.0|   0.094|0.00394|    0.0| 0.0|    0.0|      0.0|         0.0|   0.0|    0.0|   0.0|     0.0|  0.0|    0.0|   0.0|   0.0|     0.0|     0.0|    0.0|  0.0|    0.0|      0.0|         0.0|   0.0|    0.0|   0.0|     0.0|    0.0|    0.0|   0.0|   0.0|     0.0|    0.0|    0.0| 0.0|    0.0|      0.0|         0.0|   0.0|    0.0|   0.0|     0.0|  0.0|    0.0|   0.0|   0.0|     0.0|  0.0|  180.0| 0.5|3.5985715|      0.0|0.0022222223|  10.0|0.87285715|   1.4|     0.8|0.43744445|0.17222223|2.582E-4|0.0096|   0.097|0.0027266666|    0.0| 0.0|    0.0|      0.0|         0.0|   0.0|    0.0|   0.0|     0.0|   0.0|    0.0|    0.0|   0.0|     0.0|  0.0|    0.0| 0.0|    0.0|      0.0|         0.0|   0.0|    0.0|  null|              null|                null|   null|          null|  null|        null|                null|    0.0| 0.0|    0.0|      0.0|         0.0|   0.0|    0.0|   0.0|     0.0|    0.0|    0.0|    0.0|   0.0|     0.0|  0.0|     0.0|  0.0|     0.0|       0.0|          0.0|    0.0|     0.0|    0.0|      0.0|    0.0|     0.0|    0.0|    0.0|      0.0|    0.0|     0.0|  0.0|     0.0|       0.0|          0.0|    0.0|     0.0|    0.0|      0.0|   0.0|     0.0|    0.0|    0.0|      0.0|   0.0|     0.0|  0.0|     0.0|       0.0|          0.0|    0.0|     0.0|    0.0|      0.0|   0.0|     0.0|    0.0|    0.0|      0.0|   0.0|     0.0|  0.0|     0.0|       0.0|          0.0|    0.0|     0.0|    0.0|      0.0|   0.0|     0.0|    0.0|    0.0|      0.0|   0.0|     0.0|  0.0|     0.0|       0.0|          0.0|    0.0|     0.0|    0.0|      0.0|   0.0|     0.0|    0.0|    0.0|      0.0|   0.0|     0.0|  0.0|     0.0|       0.0|          0.0|    0.0|     0.0|   null|     null|  null|    null|   null|   null|     null|  null|     0.0|  0.0|     0.0|       0.0|          0.0|    0.0|     0.0|    0.0|      0.0|   0.0|     0.0|    0.0|    0.0|      0.0|   0.0|     0.0|  0.0|     0.0|       0.0|          0.0|    0.0|     0.0|    0.0|      0.0|   0.0|     0.0|    0.0|    0.0|      0.0|   0.0|     0.0|  0.0|     0.0|       0.0|          0.0|    0.0|     0.0|    0.0|      0.0|   0.0|     0.0|    0.0|    0.0|      0.0|   0.0|     0.0|  0.0|     0.0|       0.0|          0.0|    0.0|     0.0|    0.0|      0.0|   0.0|     0.0|    0.0|    0.0|      0.0|   0.0|     0.0|  0.0|     0.0|       0.0|          0.0|    0.0|     0.0|    0.0|      0.0|   0.0|     0.0|    0.0|    0.0|      0.0|   0.0|\n",
      "|Toasted Barley Sa...|    0.0| 0.0|    0.0|      0.0|         0.0|   0.0|    0.0|   0.0|     0.0|  0.0|    0.0|   0.0|   0.0|     0.0|  0.0|    0.0|  0.0|    0.0|      0.0|         0.0|   0.0|    0.0|   0.0|     0.0|    0.0|    0.0|   0.0|   0.0|     0.0|    0.0| 1569.0| 0.0|  11.95|      0.0|       0.014| 100.0|  100.0|   4.4|     0.0|  0.0|    0.0|   0.0|   0.0|   0.314|0.002515|    0.0|  0.0|    0.0|      0.0|         0.0|   0.0|    0.0|   0.0|     0.0|    0.0|    0.0|   0.0|   0.0|     0.0|    0.0|    0.0| 0.0|    0.0|      0.0|         0.0|   0.0|    0.0|   0.0|     0.0|  0.0|    0.0|   0.0|   0.0|     0.0|  0.0|    0.0| 0.0|      0.0|      0.0|         0.0|   0.0|       0.0|   0.0|     0.0|       0.0|       0.0|     0.0|   0.0|     0.0|         0.0|  347.0|2.07|   0.69|      0.0|         0.0| 31.72|   4.14|   2.8|    3.45|1.2954|   0.51|2.07E-5|   0.0|   0.014|  0.0|   75.0| 0.0|   7.42|      0.0|       0.039| 31.25|    0.0|  2.35|7.0299999500000006|0.002539999999999...|  0.001|0.000140699995|0.0075|0.1094999945|0.001404999949999...|    0.0| 0.0|    0.0|      0.0|         0.0|   0.0|    0.0|   0.0|     0.0|    0.0|    0.0|    0.0|   0.0|     0.0|  0.0|     0.0|  0.0|     0.0|       0.0|          0.0|    0.0|     0.0|    0.0|      0.0|    0.0|     0.0|    0.0|    0.0|      0.0|    0.0|     0.0|  0.0|     0.0|       0.0|          0.0|    0.0|     0.0|    0.0|      0.0|   0.0|     0.0|    0.0|    0.0|      0.0|   0.0|     0.0|  0.0|     0.0|       0.0|          0.0|    0.0|     0.0|    0.0|      0.0|   0.0|     0.0|    0.0|    0.0|      0.0|   0.0|     0.0|  0.0|     0.0|       0.0|          0.0|    0.0|     0.0|    0.0|      0.0|   0.0|     0.0|    0.0|    0.0|      0.0|   0.0|     0.0|  0.0|     0.0|       0.0|          0.0|    0.0|     0.0|    0.0|      0.0|   0.0|     0.0|    0.0|    0.0|      0.0|   0.0|     0.0|  0.0|     0.0|       0.0|          0.0|    0.0|     0.0|   null|     null|  null|    null|   null|   null|     null|  null|     0.0|  0.0|     0.0|       0.0|          0.0|    0.0|     0.0|    0.0|      0.0|   0.0|     0.0|    0.0|    0.0|      0.0|   0.0|     0.0|  0.0|     0.0|       0.0|          0.0|    0.0|     0.0|    0.0|      0.0|   0.0|     0.0|    0.0|    0.0|      0.0|   0.0|     0.0|  0.0|     0.0|       0.0|          0.0|    0.0|     0.0|    0.0|      0.0|   0.0|     0.0|    0.0|    0.0|      0.0|   0.0|     0.0|  0.0|     0.0|       0.0|          0.0|    0.0|     0.0|    0.0|      0.0|   0.0|     0.0|    0.0|    0.0|      0.0|   0.0|     0.0|  0.0|     0.0|       0.0|          0.0|    0.0|     0.0|    0.0|      0.0|   0.0|     0.0|    0.0|    0.0|      0.0|   0.0|\n",
      "|Baked Apples with...|    0.0| 0.0|    0.0|      0.0|         0.0|   0.0|    0.0|   0.0|     0.0|  0.0|    0.0|   0.0|   0.0|     0.0|  0.0|    0.0|  0.0|    0.0|      0.0|         0.0|   0.0|    0.0|   0.0|     0.0|    0.0|    0.0|   0.0|   0.0|     0.0|    0.0|    0.0| 0.0|    0.0|      0.0|         0.0|   0.0|    0.0|   0.0|     0.0|  0.0|    0.0|   0.0|   0.0|     0.0|     0.0|    0.0|  0.0|    0.0|      0.0|         0.0|   0.0|    0.0|   0.0|     0.0|    0.0|    0.0|   0.0|   0.0|     0.0|    0.0|    0.0| 0.0|    0.0|      0.0|         0.0|   0.0|    0.0|   0.0|     0.0|  0.0|    0.0|   0.0|   0.0|     0.0|  0.0|    0.0| 0.0|      0.0|      0.0|         0.0|   0.0|       0.0|   0.0|     0.0|       0.0|       0.0|     0.0|   0.0|     0.0|         0.0|    0.0| 0.0|    0.0|      0.0|         0.0|   0.0|    0.0|   0.0|     0.0|   0.0|    0.0|    0.0|   0.0|     0.0|  0.0|    0.0| 0.0|    0.0|      0.0|         0.0|   0.0|    0.0|  null|              null|                null|   null|          null|  null|        null|                null|    0.0| 0.0|    0.0|      0.0|         0.0|   0.0|    0.0|   0.0|     0.0|    0.0|    0.0|    0.0|   0.0|     0.0|  0.0|     0.0|  0.0|     0.0|       0.0|          0.0|    0.0|     0.0|    0.0|      0.0|    0.0|     0.0|    0.0|    0.0|      0.0|    0.0|     0.0|  0.0|     0.0|       0.0|          0.0|    0.0|     0.0|    0.0|      0.0|   0.0|     0.0|    0.0|    0.0|      0.0|   0.0|     0.0|  0.0|     0.0|       0.0|          0.0|    0.0|     0.0|    0.0|      0.0|   0.0|     0.0|    0.0|    0.0|      0.0|   0.0|     0.0|  0.0|     0.0|       0.0|          0.0|    0.0|     0.0|    0.0|      0.0|   0.0|     0.0|    0.0|    0.0|      0.0|   0.0|     0.0|  0.0|     0.0|       0.0|          0.0|    0.0|     0.0|    0.0|      0.0|   0.0|     0.0|    0.0|    0.0|      0.0|   0.0|     0.0|  0.0|     0.0|       0.0|          0.0|    0.0|     0.0|   null|     null|  null|    null|   null|   null|     null|  null|     0.0|  0.0|     0.0|       0.0|          0.0|    0.0|     0.0|    0.0|      0.0|   0.0|     0.0|    0.0|    0.0|      0.0|   0.0|     0.0|  0.0|     0.0|       0.0|          0.0|    0.0|     0.0|    0.0|      0.0|   0.0|     0.0|    0.0|    0.0|      0.0|   0.0|     0.0|  0.0|     0.0|       0.0|          0.0|    0.0|     0.0|    0.0|      0.0|   0.0|     0.0|    0.0|    0.0|      0.0|   0.0|     0.0|  0.0|     0.0|       0.0|          0.0|    0.0|     0.0|    0.0|      0.0|   0.0|     0.0|    0.0|    0.0|      0.0|   0.0|     0.0|  0.0|     0.0|       0.0|          0.0|    0.0|     0.0|    0.0|      0.0|   0.0|     0.0|    0.0|    0.0|      0.0|   0.0|\n",
      "+--------------------+-------+----+-------+---------+------------+------+-------+------+--------+-----+-------+------+------+--------+-----+-------+-----+-------+---------+------------+------+-------+------+--------+-------+-------+------+------+--------+-------+-------+----+-------+---------+------------+------+-------+------+--------+-----+-------+------+------+--------+--------+-------+-----+-------+---------+------------+------+-------+------+--------+-------+-------+------+------+--------+-------+-------+----+-------+---------+------------+------+-------+------+--------+-----+-------+------+------+--------+-----+-------+----+---------+---------+------------+------+----------+------+--------+----------+----------+--------+------+--------+------------+-------+----+-------+---------+------------+------+-------+------+--------+------+-------+-------+------+--------+-----+-------+----+-------+---------+------------+------+-------+------+------------------+--------------------+-------+--------------+------+------------+--------------------+-------+----+-------+---------+------------+------+-------+------+--------+-------+-------+-------+------+--------+-----+--------+-----+--------+----------+-------------+-------+--------+-------+---------+-------+--------+-------+-------+---------+-------+--------+-----+--------+----------+-------------+-------+--------+-------+---------+------+--------+-------+-------+---------+------+--------+-----+--------+----------+-------------+-------+--------+-------+---------+------+--------+-------+-------+---------+------+--------+-----+--------+----------+-------------+-------+--------+-------+---------+------+--------+-------+-------+---------+------+--------+-----+--------+----------+-------------+-------+--------+-------+---------+------+--------+-------+-------+---------+------+--------+-----+--------+----------+-------------+-------+--------+-------+---------+------+--------+-------+-------+---------+------+--------+-----+--------+----------+-------------+-------+--------+-------+---------+------+--------+-------+-------+---------+------+--------+-----+--------+----------+-------------+-------+--------+-------+---------+------+--------+-------+-------+---------+------+--------+-----+--------+----------+-------------+-------+--------+-------+---------+------+--------+-------+-------+---------+------+--------+-----+--------+----------+-------------+-------+--------+-------+---------+------+--------+-------+-------+---------+------+--------+-----+--------+----------+-------------+-------+--------+-------+---------+------+--------+-------+-------+---------+------+\n",
      "only showing top 5 rows\n",
      "\n"
     ]
    }
   ],
   "source": [
    "new_gen_nutrition_table.show(5)"
   ]
  },
  {
   "cell_type": "code",
   "execution_count": 118,
   "metadata": {},
   "outputs": [],
   "source": [
    "new_gen_nutrition_table=new_gen_nutrition_table.dropna()"
   ]
  },
  {
   "cell_type": "code",
   "execution_count": 119,
   "metadata": {},
   "outputs": [
    {
     "name": "stdout",
     "output_type": "stream",
     "text": [
      "+--------------------+-------+----+-------+---------+------------+------+-------+------+--------+-----+-------+------+------+--------+-----+-------+-----+-------+---------+------------+------+-------+------+--------+-------+-------+------+------+--------+-------+-------+----+-------+---------+------------+------+-------+------+--------+-----+-------+------+------+--------+-----+-------+----+-------+---------+------------+------+-------+------+--------+-----+-------+------+------+--------+-----+-------+-----+-------+---------+------------+------+-------+------+--------+-------+-------+--------+------+--------+-------+-------+----+---------+---------+------------+------+----------+------+--------+----------+----------+--------+------+--------+------------+-------+----+-------+---------+------------+------+-------+------+--------+------+-------+-------+------+--------+-----+-------+----+-------+---------+------------+------+-------+------+------------------+--------------------+-------+--------------+------+------------+--------------------+-------+----+-------+---------+------------+------+-------+------+--------+-----+-------+------+------+--------+-----+--------+-----+--------+----------+-------------+-------+--------+-------+---------+------+--------+-------+-------+---------+------+--------+-----+--------+----------+-------------+-------+--------+-------+---------+-------+--------+-------+-------+---------+------+--------+-----+--------+----------+-------------+-------+--------+-------+---------+-------+--------+--------+-------+---------+------+--------+-----+--------+----------+-------------+-------+--------+-------+---------+-------+--------+-------+-------+---------+------+--------+-----+--------+----------+-------------+-------+--------+-------+---------+------+--------+-------+-------+---------+------+--------+-----+--------+----------+-------------+-------+--------+------------------+---------+-------+--------+--------------------+--------------------+------------------+--------------------+--------+-----+--------+----------+-------------+-------+--------+-------+---------+------+--------+-------+-------+---------+------+--------+-----+--------+----------+-------------+-------+--------+-------+---------+-------+--------+-------+-------+---------+-------+--------+-----+--------+----------+-------------+-------+--------+-------+---------+------+--------+-------+-------+---------+------+--------+-----+--------+----------+-------------+-------+--------+-------+---------+------+--------+-------+-------+---------+------+--------+-----+--------+----------+-------------+-------+--------+-------+---------+------+--------+-------+-------+---------+------+\n",
      "|               title|energy1|fat1|satfat1|transfat1|cholestorol1|carbs1|sugars1|fiber1|protein1|salt1|sodium1|vit_a1|vit_c1|calcium1|iron1|energy2| fat2|satfat2|transfat2|cholestorol2|carbs2|sugars2|fiber2|protein2|  salt2|sodium2|vit_a2|vit_c2|calcium2|  iron2|energy3|fat3|satfat3|transfat3|cholestorol3|carbs3|sugars3|fiber3|protein3|salt3|sodium3|vit_a3|vit_c3|calcium3|iron3|energy4|fat4|satfat4|transfat4|cholestorol4|carbs4|sugars4|fiber4|protein4|salt4|sodium4|vit_a4|vit_c4|calcium4|iron4|energy5| fat5|satfat5|transfat5|cholestorol5|carbs5|sugars5|fiber5|protein5|  salt5|sodium5|  vit_a5|vit_c5|calcium5|  iron5|energy6|fat6|  satfat6|transfat6|cholestorol6|carbs6|   sugars6|fiber6|protein6|     salt6|   sodium6|  vit_a6|vit_c6|calcium6|       iron6|energy7|fat7|satfat7|transfat7|cholestorol7|carbs7|sugars7|fiber7|protein7| salt7|sodium7| vit_a7|vit_c7|calcium7|iron7|energy8|fat8|satfat8|transfat8|cholestorol8|carbs8|sugars8|fiber8|          protein8|               salt8|sodium8|        vit_a8|vit_c8|    calcium8|               iron8|energy9|fat9|satfat9|transfat9|cholestorol9|carbs9|sugars9|fiber9|protein9|salt9|sodium9|vit_a9|vit_c9|calcium9|iron9|energy10|fat10|satfat10|transfat10|cholestorol10|carbs10|sugars10|fiber10|protein10|salt10|sodium10|vit_a10|vit_c10|calcium10|iron10|energy11|fat11|satfat11|transfat11|cholestorol11|carbs11|sugars11|fiber11|protein11| salt11|sodium11|vit_a11|vit_c11|calcium11|iron11|energy12|fat12|satfat12|transfat12|cholestorol12|carbs12|sugars12|fiber12|protein12| salt12|sodium12| vit_a12|vit_c12|calcium12|iron12|energy13|fat13|satfat13|transfat13|cholestorol13|carbs13|sugars13|fiber13|protein13| salt13|sodium13|vit_a13|vit_c13|calcium13|iron13|energy14|fat14|satfat14|transfat14|cholestorol14|carbs14|sugars14|fiber14|protein14|salt14|sodium14|vit_a14|vit_c14|calcium14|iron14|energy15|fat15|satfat15|transfat15|cholestorol15|carbs15|sugars15|           fiber15|protein15| salt15|sodium15|             vit_a15|             vit_c15|         calcium15|              iron15|energy16|fat16|satfat16|transfat16|cholestorol16|carbs16|sugars16|fiber16|protein16|salt16|sodium16|vit_a16|vit_c16|calcium16|iron16|energy17|fat17|satfat17|transfat17|cholestorol17|carbs17|sugars17|fiber17|protein17| salt17|sodium17|vit_a17|vit_c17|calcium17| iron17|energy18|fat18|satfat18|transfat18|cholestorol18|carbs18|sugars18|fiber18|protein18|salt18|sodium18|vit_a18|vit_c18|calcium18|iron18|energy19|fat19|satfat19|transfat19|cholestorol19|carbs19|sugars19|fiber19|protein19|salt19|sodium19|vit_a19|vit_c19|calcium19|iron19|energy20|fat20|satfat20|transfat20|cholestorol20|carbs20|sugars20|fiber20|protein20|salt20|sodium20|vit_a20|vit_c20|calcium20|iron20|\n",
      "+--------------------+-------+----+-------+---------+------------+------+-------+------+--------+-----+-------+------+------+--------+-----+-------+-----+-------+---------+------------+------+-------+------+--------+-------+-------+------+------+--------+-------+-------+----+-------+---------+------------+------+-------+------+--------+-----+-------+------+------+--------+-----+-------+----+-------+---------+------------+------+-------+------+--------+-----+-------+------+------+--------+-----+-------+-----+-------+---------+------------+------+-------+------+--------+-------+-------+--------+------+--------+-------+-------+----+---------+---------+------------+------+----------+------+--------+----------+----------+--------+------+--------+------------+-------+----+-------+---------+------------+------+-------+------+--------+------+-------+-------+------+--------+-----+-------+----+-------+---------+------------+------+-------+------+------------------+--------------------+-------+--------------+------+------------+--------------------+-------+----+-------+---------+------------+------+-------+------+--------+-----+-------+------+------+--------+-----+--------+-----+--------+----------+-------------+-------+--------+-------+---------+------+--------+-------+-------+---------+------+--------+-----+--------+----------+-------------+-------+--------+-------+---------+-------+--------+-------+-------+---------+------+--------+-----+--------+----------+-------------+-------+--------+-------+---------+-------+--------+--------+-------+---------+------+--------+-----+--------+----------+-------------+-------+--------+-------+---------+-------+--------+-------+-------+---------+------+--------+-----+--------+----------+-------------+-------+--------+-------+---------+------+--------+-------+-------+---------+------+--------+-----+--------+----------+-------------+-------+--------+------------------+---------+-------+--------+--------------------+--------------------+------------------+--------------------+--------+-----+--------+----------+-------------+-------+--------+-------+---------+------+--------+-------+-------+---------+------+--------+-----+--------+----------+-------------+-------+--------+-------+---------+-------+--------+-------+-------+---------+-------+--------+-----+--------+----------+-------------+-------+--------+-------+---------+------+--------+-------+-------+---------+------+--------+-----+--------+----------+-------------+-------+--------+-------+---------+------+--------+-------+-------+---------+------+--------+-----+--------+----------+-------------+-------+--------+-------+---------+------+--------+-------+-------+---------+------+\n",
      "|\"\"\"Paella\"\" Fried...|    0.0| 0.0|    0.0|      0.0|         0.0|   0.0|    0.0|   0.0|     0.0|  0.0|    0.0|   0.0|   0.0|     0.0|  0.0|    0.0|  0.0|    0.0|      0.0|         0.0|   0.0|    0.0|   0.0|     0.0|    0.0|    0.0|   0.0|   0.0|     0.0|    0.0|    0.0| 0.0|    0.0|      0.0|         0.0|   0.0|    0.0|   0.0|     0.0|  0.0|    0.0|   0.0|   0.0|     0.0|  0.0|    0.0| 0.0|    0.0|      0.0|         0.0|   0.0|    0.0|   0.0|     0.0|  0.0|    0.0|   0.0|   0.0|     0.0|  0.0|    0.0|  0.0|    0.0|      0.0|         0.0|   0.0|    0.0|   0.0|     0.0|    0.0|    0.0|     0.0|   0.0|     0.0|    0.0|  180.0| 0.5|3.5985715|      0.0|0.0022222223|  10.0|0.87285715|   1.4|     0.8|0.43744445|0.17222223|2.582E-4|0.0096|   0.097|0.0027266666|    0.0| 0.0|    0.0|      0.0|         0.0|   0.0|    0.0|   0.0|     0.0|   0.0|    0.0|    0.0|   0.0|     0.0|  0.0|   75.0| 0.0|   7.42|      0.0|       0.039| 31.25|    0.0|  2.35|7.0299999500000006|0.002539999999999...|  0.001|0.000140699995|0.0075|0.1094999945|0.001404999949999...|    0.0| 0.0|    0.0|      0.0|         0.0|   0.0|    0.0|   0.0|     0.0|  0.0|    0.0|   0.0|   0.0|     0.0|  0.0|     0.0|  0.0|     0.0|       0.0|          0.0|    0.0|     0.0|    0.0|      0.0|   0.0|     0.0|    0.0|    0.0|      0.0|   0.0|     0.0|  0.0|     0.0|       0.0|          0.0|    0.0|     0.0|    0.0|      0.0|    0.0|     0.0|    0.0|    0.0|      0.0|   0.0|     0.0|  0.0|     0.0|       0.0|          0.0|    0.0|     0.0|    0.0|      0.0|    0.0|     0.0|     0.0|    0.0|      0.0|   0.0|     0.0|  0.0|     0.0|       0.0|          0.0|    0.0|     0.0|    0.0|      0.0|    0.0|     0.0|    0.0|    0.0|      0.0|   0.0|     0.0|  0.0|     0.0|       0.0|          0.0|    0.0|     0.0|    0.0|      0.0|   0.0|     0.0|    0.0|    0.0|      0.0|   0.0|  1582.0|35.56|   11.11|       0.0|        0.089|    0.0|  18.415|22.171428571428574|    15.56|1.80594|   0.711|0.002645842778571...|0.001499999928571...|0.8708571428571429|0.000799999979999...|     0.0|  0.0|     0.0|       0.0|          0.0|    0.0|     0.0|    0.0|      0.0|   0.0|     0.0|    0.0|    0.0|      0.0|   0.0|     0.0|  0.0|     0.0|       0.0|          0.0|    0.0|     0.0|    0.0|      0.0|    0.0|     0.0|    0.0|    0.0|      0.0|    0.0|     0.0|  0.0|     0.0|       0.0|          0.0|    0.0|     0.0|    0.0|      0.0|   0.0|     0.0|    0.0|    0.0|      0.0|   0.0|     0.0|  0.0|     0.0|       0.0|          0.0|    0.0|     0.0|    0.0|      0.0|   0.0|     0.0|    0.0|    0.0|      0.0|   0.0|     0.0|  0.0|     0.0|       0.0|          0.0|    0.0|     0.0|    0.0|      0.0|   0.0|     0.0|    0.0|    0.0|      0.0|   0.0|\n",
      "|Calzones with Che...|    0.0| 0.0|    0.0|      0.0|         0.0|   0.0|    0.0|   0.0|     0.0|  0.0|    0.0|   0.0|   0.0|     0.0|  0.0|    0.0|  0.0|    0.0|      0.0|         0.0|   0.0|    0.0|   0.0|     0.0|    0.0|    0.0|   0.0|   0.0|     0.0|    0.0|    0.0| 0.0|    0.0|      0.0|         0.0|   0.0|    0.0|   0.0|     0.0|  0.0|    0.0|   0.0|   0.0|     0.0|  0.0|    0.0| 0.0|    0.0|      0.0|         0.0|   0.0|    0.0|   0.0|     0.0|  0.0|    0.0|   0.0|   0.0|     0.0|  0.0| 2728.0|49.11|  24.11|      0.0|       0.196|  4.46|   5.83|  1.45|   47.32|1.24714|  0.491|4.485E-5|0.0017|   0.103|0.00402|    0.0| 0.0|      0.0|      0.0|         0.0|   0.0|       0.0|   0.0|     0.0|       0.0|       0.0|     0.0|   0.0|     0.0|         0.0|    0.0| 0.0|    0.0|      0.0|         0.0|   0.0|    0.0|   0.0|     0.0|   0.0|    0.0|    0.0|   0.0|     0.0|  0.0|   75.0| 0.0|   7.42|      0.0|       0.039| 31.25|    0.0|  2.35|7.0299999500000006|0.002539999999999...|  0.001|0.000140699995|0.0075|0.1094999945|0.001404999949999...|    0.0| 0.0|    0.0|      0.0|         0.0|   0.0|    0.0|   0.0|     0.0|  0.0|    0.0|   0.0|   0.0|     0.0|  0.0|     0.0|  0.0|     0.0|       0.0|          0.0|    0.0|     0.0|    0.0|      0.0|   0.0|     0.0|    0.0|    0.0|      0.0|   0.0|     0.0|  0.0|     0.0|       0.0|          0.0|    0.0|     0.0|    0.0|      0.0|    0.0|     0.0|    0.0|    0.0|      0.0|   0.0|     0.0|  0.0|     0.0|       0.0|          0.0|    0.0|     0.0|    0.0|      0.0|    0.0|     0.0|     0.0|    0.0|      0.0|   0.0|     0.0|  0.0|     0.0|       0.0|          0.0|    0.0|     0.0|    0.0|      0.0|    0.0|     0.0|    0.0|    0.0|      0.0|   0.0|     0.0|  0.0|     0.0|       0.0|          0.0|    0.0|     0.0|    0.0|      0.0|   0.0|     0.0|    0.0|    0.0|      0.0|   0.0|  1582.0|35.56|   11.11|       0.0|        0.089|    0.0|  18.415|22.171428571428574|    15.56|1.80594|   0.711|0.002645842778571...|0.001499999928571...|0.8708571428571429|0.000799999979999...|     0.0|  0.0|     0.0|       0.0|          0.0|    0.0|     0.0|    0.0|      0.0|   0.0|     0.0|    0.0|    0.0|      0.0|   0.0|     0.0|  0.0|     0.0|       0.0|          0.0|    0.0|     0.0|    0.0|      0.0|    0.0|     0.0|    0.0|    0.0|      0.0|    0.0|     0.0|  0.0|     0.0|       0.0|          0.0|    0.0|     0.0|    0.0|      0.0|   0.0|     0.0|    0.0|    0.0|      0.0|   0.0|     0.0|  0.0|     0.0|       0.0|          0.0|    0.0|     0.0|    0.0|      0.0|   0.0|     0.0|    0.0|    0.0|      0.0|   0.0|     0.0|  0.0|     0.0|       0.0|          0.0|    0.0|     0.0|    0.0|      0.0|   0.0|     0.0|    0.0|    0.0|      0.0|   0.0|\n",
      "|Baked Flounder Ro...|    0.0| 0.0|    0.0|      0.0|         0.0|   0.0|    0.0|   0.0|     0.0|  0.0|    0.0|   0.0|   0.0|     0.0|  0.0|    0.0|  0.0|    0.0|      0.0|         0.0|   0.0|    0.0|   0.0|     0.0|    0.0|    0.0|   0.0|   0.0|     0.0|    0.0|    0.0| 0.0|    0.0|      0.0|         0.0|   0.0|    0.0|   0.0|     0.0|  0.0|    0.0|   0.0|   0.0|     0.0|  0.0|    0.0| 0.0|    0.0|      0.0|         0.0|   0.0|    0.0|   0.0|     0.0|  0.0|    0.0|   0.0|   0.0|     0.0|  0.0|    0.0|  0.0|    0.0|      0.0|         0.0|   0.0|    0.0|   0.0|     0.0|    0.0|    0.0|     0.0|   0.0|     0.0|    0.0|    0.0| 0.0|      0.0|      0.0|         0.0|   0.0|       0.0|   0.0|     0.0|       0.0|       0.0|     0.0|   0.0|     0.0|         0.0|  347.0|2.07|   0.69|      0.0|         0.0| 31.72|   4.14|   2.8|    3.45|1.2954|   0.51|2.07E-5|   0.0|   0.014|  0.0|   75.0| 0.0|   7.42|      0.0|       0.039| 31.25|    0.0|  2.35|7.0299999500000006|0.002539999999999...|  0.001|0.000140699995|0.0075|0.1094999945|0.001404999949999...|    0.0| 0.0|    0.0|      0.0|         0.0|   0.0|    0.0|   0.0|     0.0|  0.0|    0.0|   0.0|   0.0|     0.0|  0.0|     0.0|  0.0|     0.0|       0.0|          0.0|    0.0|     0.0|    0.0|      0.0|   0.0|     0.0|    0.0|    0.0|      0.0|   0.0|     0.0|  0.0|     0.0|       0.0|          0.0|    0.0|     0.0|    0.0|      0.0|    0.0|     0.0|    0.0|    0.0|      0.0|   0.0|     0.0|  0.0|     0.0|       0.0|          0.0|    0.0|     0.0|    0.0|      0.0|    0.0|     0.0|     0.0|    0.0|      0.0|   0.0|     0.0|  0.0|     0.0|       0.0|          0.0|    0.0|     0.0|    0.0|      0.0|    0.0|     0.0|    0.0|    0.0|      0.0|   0.0|     0.0|  0.0|     0.0|       0.0|          0.0|    0.0|     0.0|    0.0|      0.0|   0.0|     0.0|    0.0|    0.0|      0.0|   0.0|  1582.0|35.56|   11.11|       0.0|        0.089|    0.0|  18.415|22.171428571428574|    15.56|1.80594|   0.711|0.002645842778571...|0.001499999928571...|0.8708571428571429|0.000799999979999...|     0.0|  0.0|     0.0|       0.0|          0.0|    0.0|     0.0|    0.0|      0.0|   0.0|     0.0|    0.0|    0.0|      0.0|   0.0|     0.0|  0.0|     0.0|       0.0|          0.0|    0.0|     0.0|    0.0|      0.0|    0.0|     0.0|    0.0|    0.0|      0.0|    0.0|     0.0|  0.0|     0.0|       0.0|          0.0|    0.0|     0.0|    0.0|      0.0|   0.0|     0.0|    0.0|    0.0|      0.0|   0.0|     0.0|941.0|    10.0|      1.25|          0.0|  0.038|    22.5|   1.25|      1.2| 11.25|   1.143|   0.45|    0.0|      0.0| 0.025|     0.0|  0.0|     0.0|       0.0|          0.0|    0.0|     0.0|    0.0|      0.0|   0.0|     0.0|    0.0|    0.0|      0.0|   0.0|\n",
      "|Meatballs in Toma...|    0.0| 0.0|    0.0|      0.0|         0.0|   0.0|    0.0|   0.0|     0.0|  0.0|    0.0|   0.0|   0.0|     0.0|  0.0| 2485.0|43.75|   7.81|      0.0|         0.0| 31.25|   12.5|  12.5|   21.88|0.79248|  0.312|   0.0|   0.0|   0.094|0.00394|    0.0| 0.0|    0.0|      0.0|         0.0|   0.0|    0.0|   0.0|     0.0|  0.0|    0.0|   0.0|   0.0|     0.0|  0.0|    0.0| 0.0|    0.0|      0.0|         0.0|   0.0|    0.0|   0.0|     0.0|  0.0|    0.0|   0.0|   0.0|     0.0|  0.0|    0.0|  0.0|    0.0|      0.0|         0.0|   0.0|    0.0|   0.0|     0.0|    0.0|    0.0|     0.0|   0.0|     0.0|    0.0|  180.0| 0.5|3.5985715|      0.0|0.0022222223|  10.0|0.87285715|   1.4|     0.8|0.43744445|0.17222223|2.582E-4|0.0096|   0.097|0.0027266666|  347.0|2.07|   0.69|      0.0|         0.0| 31.72|   4.14|   2.8|    3.45|1.2954|   0.51|2.07E-5|   0.0|   0.014|  0.0|   75.0| 0.0|   7.42|      0.0|       0.039| 31.25|    0.0|  2.35|7.0299999500000006|0.002539999999999...|  0.001|0.000140699995|0.0075|0.1094999945|0.001404999949999...|    0.0| 0.0|    0.0|      0.0|         0.0|   0.0|    0.0|   0.0|     0.0|  0.0|    0.0|   0.0|   0.0|     0.0|  0.0|     0.0|  0.0|     0.0|       0.0|          0.0|    0.0|     0.0|    0.0|      0.0|   0.0|     0.0|    0.0|    0.0|      0.0|   0.0|   787.0|  0.0|     0.0|       0.0|          0.0|  43.75|   40.62|    0.0|      0.0|3.09626|   1.219|    0.0|    0.0|      0.0|   0.0|     0.0|  0.0|     0.0|       0.0|          0.0|    0.0|     0.0|    0.0|      0.0|    0.0|     0.0|     0.0|    0.0|      0.0|   0.0|     0.0|  0.0|     0.0|       0.0|          0.0|    0.0|     0.0|    0.0|      0.0|    0.0|     0.0|    0.0|    0.0|      0.0|   0.0|     0.0|  0.0|     0.0|       0.0|          0.0|    0.0|     0.0|    0.0|      0.0|   0.0|     0.0|    0.0|    0.0|      0.0|   0.0|  1582.0|35.56|   11.11|       0.0|        0.089|    0.0|  18.415|22.171428571428574|    15.56|1.80594|   0.711|0.002645842778571...|0.001499999928571...|0.8708571428571429|0.000799999979999...|     0.0|  0.0|     0.0|       0.0|          0.0|    0.0|     0.0|    0.0|      0.0|   0.0|     0.0|    0.0|    0.0|      0.0|   0.0|   561.0| 4.02|    1.79|       0.0|        0.049|   3.57|    3.57|    0.0|    20.54|0.81534|   0.321|    0.0|    0.0|      0.0|0.00402|     0.0|  0.0|     0.0|       0.0|          0.0|    0.0|     0.0|    0.0|      0.0|   0.0|     0.0|    0.0|    0.0|      0.0|   0.0|     0.0|  0.0|     0.0|       0.0|          0.0|    0.0|     0.0|    0.0|      0.0|   0.0|     0.0|    0.0|    0.0|      0.0|   0.0|     0.0|  0.0|     0.0|       0.0|          0.0|    0.0|     0.0|    0.0|      0.0|   0.0|     0.0|    0.0|    0.0|      0.0|   0.0|\n",
      "|           Chowders |    0.0| 0.0|    0.0|      0.0|         0.0|   0.0|    0.0|   0.0|     0.0|  0.0|    0.0|   0.0|   0.0|     0.0|  0.0| 2485.0|43.75|   7.81|      0.0|         0.0| 31.25|   12.5|  12.5|   21.88|0.79248|  0.312|   0.0|   0.0|   0.094|0.00394|    0.0| 0.0|    0.0|      0.0|         0.0|   0.0|    0.0|   0.0|     0.0|  0.0|    0.0|   0.0|   0.0|     0.0|  0.0|    0.0| 0.0|    0.0|      0.0|         0.0|   0.0|    0.0|   0.0|     0.0|  0.0|    0.0|   0.0|   0.0|     0.0|  0.0|    0.0|  0.0|    0.0|      0.0|         0.0|   0.0|    0.0|   0.0|     0.0|    0.0|    0.0|     0.0|   0.0|     0.0|    0.0|  180.0| 0.5|3.5985715|      0.0|0.0022222223|  10.0|0.87285715|   1.4|     0.8|0.43744445|0.17222223|2.582E-4|0.0096|   0.097|0.0027266666|    0.0| 0.0|    0.0|      0.0|         0.0|   0.0|    0.0|   0.0|     0.0|   0.0|    0.0|    0.0|   0.0|     0.0|  0.0|   75.0| 0.0|   7.42|      0.0|       0.039| 31.25|    0.0|  2.35|7.0299999500000006|0.002539999999999...|  0.001|0.000140699995|0.0075|0.1094999945|0.001404999949999...|    0.0| 0.0|    0.0|      0.0|         0.0|   0.0|    0.0|   0.0|     0.0|  0.0|    0.0|   0.0|   0.0|     0.0|  0.0|     0.0|  0.0|     0.0|       0.0|          0.0|    0.0|     0.0|    0.0|      0.0|   0.0|     0.0|    0.0|    0.0|      0.0|   0.0|     0.0|  0.0|     0.0|       0.0|          0.0|    0.0|     0.0|    0.0|      0.0|    0.0|     0.0|    0.0|    0.0|      0.0|   0.0|  1046.0| 9.17|     5.0|       0.0|        0.029|  39.17|   19.17|    1.7|     4.17|0.74168|   0.292|5.625E-4|  0.001|     0.05|9.0E-4|   548.0| 2.98|     0.6|       0.0|          0.0|  22.62|    2.38|    2.4|     2.38|0.04572|   0.018|    0.0| 0.0057|      0.0|4.3E-4|     0.0|  0.0|     0.0|       0.0|          0.0|    0.0|     0.0|    0.0|      0.0|   0.0|     0.0|    0.0|    0.0|      0.0|   0.0|  1582.0|35.56|   11.11|       0.0|        0.089|    0.0|  18.415|22.171428571428574|    15.56|1.80594|   0.711|0.002645842778571...|0.001499999928571...|0.8708571428571429|0.000799999979999...|     0.0|  0.0|     0.0|       0.0|          0.0|    0.0|     0.0|    0.0|      0.0|   0.0|     0.0|    0.0|    0.0|      0.0|   0.0|     0.0|  0.0|     0.0|       0.0|          0.0|    0.0|     0.0|    0.0|      0.0|    0.0|     0.0|    0.0|    0.0|      0.0|    0.0|     0.0|  0.0|     0.0|       0.0|          0.0|    0.0|     0.0|    0.0|      0.0|   0.0|     0.0|    0.0|    0.0|      0.0|   0.0|     0.0|941.0|    10.0|      1.25|          0.0|  0.038|    22.5|   1.25|      1.2| 11.25|   1.143|   0.45|    0.0|      0.0| 0.025|     0.0|  0.0|     0.0|       0.0|          0.0|    0.0|     0.0|    0.0|      0.0|   0.0|     0.0|    0.0|    0.0|      0.0|   0.0|\n",
      "+--------------------+-------+----+-------+---------+------------+------+-------+------+--------+-----+-------+------+------+--------+-----+-------+-----+-------+---------+------------+------+-------+------+--------+-------+-------+------+------+--------+-------+-------+----+-------+---------+------------+------+-------+------+--------+-----+-------+------+------+--------+-----+-------+----+-------+---------+------------+------+-------+------+--------+-----+-------+------+------+--------+-----+-------+-----+-------+---------+------------+------+-------+------+--------+-------+-------+--------+------+--------+-------+-------+----+---------+---------+------------+------+----------+------+--------+----------+----------+--------+------+--------+------------+-------+----+-------+---------+------------+------+-------+------+--------+------+-------+-------+------+--------+-----+-------+----+-------+---------+------------+------+-------+------+------------------+--------------------+-------+--------------+------+------------+--------------------+-------+----+-------+---------+------------+------+-------+------+--------+-----+-------+------+------+--------+-----+--------+-----+--------+----------+-------------+-------+--------+-------+---------+------+--------+-------+-------+---------+------+--------+-----+--------+----------+-------------+-------+--------+-------+---------+-------+--------+-------+-------+---------+------+--------+-----+--------+----------+-------------+-------+--------+-------+---------+-------+--------+--------+-------+---------+------+--------+-----+--------+----------+-------------+-------+--------+-------+---------+-------+--------+-------+-------+---------+------+--------+-----+--------+----------+-------------+-------+--------+-------+---------+------+--------+-------+-------+---------+------+--------+-----+--------+----------+-------------+-------+--------+------------------+---------+-------+--------+--------------------+--------------------+------------------+--------------------+--------+-----+--------+----------+-------------+-------+--------+-------+---------+------+--------+-------+-------+---------+------+--------+-----+--------+----------+-------------+-------+--------+-------+---------+-------+--------+-------+-------+---------+-------+--------+-----+--------+----------+-------------+-------+--------+-------+---------+------+--------+-------+-------+---------+------+--------+-----+--------+----------+-------------+-------+--------+-------+---------+------+--------+-------+-------+---------+------+--------+-----+--------+----------+-------------+-------+--------+-------+---------+------+--------+-------+-------+---------+------+\n",
      "only showing top 5 rows\n",
      "\n"
     ]
    }
   ],
   "source": [
    "new_gen_nutrition_table.show(5)"
   ]
  },
  {
   "cell_type": "code",
   "execution_count": 121,
   "metadata": {},
   "outputs": [
    {
     "data": {
      "text/plain": [
       "[('title', 'string'),\n",
       " ('energy1', 'float'),\n",
       " ('fat1', 'float'),\n",
       " ('satfat1', 'float'),\n",
       " ('transfat1', 'float'),\n",
       " ('cholestorol1', 'float'),\n",
       " ('carbs1', 'float'),\n",
       " ('sugars1', 'float'),\n",
       " ('fiber1', 'float'),\n",
       " ('protein1', 'float'),\n",
       " ('salt1', 'float'),\n",
       " ('sodium1', 'float'),\n",
       " ('vit_a1', 'float'),\n",
       " ('vit_c1', 'float'),\n",
       " ('calcium1', 'float'),\n",
       " ('iron1', 'float'),\n",
       " ('energy2', 'float'),\n",
       " ('fat2', 'float'),\n",
       " ('satfat2', 'float'),\n",
       " ('transfat2', 'float'),\n",
       " ('cholestorol2', 'float'),\n",
       " ('carbs2', 'float'),\n",
       " ('sugars2', 'float'),\n",
       " ('fiber2', 'float'),\n",
       " ('protein2', 'float'),\n",
       " ('salt2', 'float'),\n",
       " ('sodium2', 'float'),\n",
       " ('vit_a2', 'float'),\n",
       " ('vit_c2', 'float'),\n",
       " ('calcium2', 'float'),\n",
       " ('iron2', 'float'),\n",
       " ('energy3', 'float'),\n",
       " ('fat3', 'float'),\n",
       " ('satfat3', 'float'),\n",
       " ('transfat3', 'float'),\n",
       " ('cholestorol3', 'float'),\n",
       " ('carbs3', 'float'),\n",
       " ('sugars3', 'float'),\n",
       " ('fiber3', 'float'),\n",
       " ('protein3', 'float'),\n",
       " ('salt3', 'float'),\n",
       " ('sodium3', 'float'),\n",
       " ('vit_a3', 'float'),\n",
       " ('vit_c3', 'float'),\n",
       " ('calcium3', 'float'),\n",
       " ('iron3', 'float'),\n",
       " ('energy4', 'float'),\n",
       " ('fat4', 'float'),\n",
       " ('satfat4', 'float'),\n",
       " ('transfat4', 'float'),\n",
       " ('cholestorol4', 'float'),\n",
       " ('carbs4', 'float'),\n",
       " ('sugars4', 'float'),\n",
       " ('fiber4', 'float'),\n",
       " ('protein4', 'float'),\n",
       " ('salt4', 'float'),\n",
       " ('sodium4', 'float'),\n",
       " ('vit_a4', 'float'),\n",
       " ('vit_c4', 'float'),\n",
       " ('calcium4', 'float'),\n",
       " ('iron4', 'float'),\n",
       " ('energy5', 'float'),\n",
       " ('fat5', 'float'),\n",
       " ('satfat5', 'float'),\n",
       " ('transfat5', 'float'),\n",
       " ('cholestorol5', 'float'),\n",
       " ('carbs5', 'float'),\n",
       " ('sugars5', 'float'),\n",
       " ('fiber5', 'float'),\n",
       " ('protein5', 'float'),\n",
       " ('salt5', 'float'),\n",
       " ('sodium5', 'float'),\n",
       " ('vit_a5', 'float'),\n",
       " ('vit_c5', 'float'),\n",
       " ('calcium5', 'float'),\n",
       " ('iron5', 'float'),\n",
       " ('energy6', 'float'),\n",
       " ('fat6', 'float'),\n",
       " ('satfat6', 'float'),\n",
       " ('transfat6', 'float'),\n",
       " ('cholestorol6', 'float'),\n",
       " ('carbs6', 'float'),\n",
       " ('sugars6', 'float'),\n",
       " ('fiber6', 'float'),\n",
       " ('protein6', 'float'),\n",
       " ('salt6', 'float'),\n",
       " ('sodium6', 'float'),\n",
       " ('vit_a6', 'float'),\n",
       " ('vit_c6', 'float'),\n",
       " ('calcium6', 'float'),\n",
       " ('iron6', 'float'),\n",
       " ('energy7', 'float'),\n",
       " ('fat7', 'float'),\n",
       " ('satfat7', 'float'),\n",
       " ('transfat7', 'float'),\n",
       " ('cholestorol7', 'float'),\n",
       " ('carbs7', 'float'),\n",
       " ('sugars7', 'float'),\n",
       " ('fiber7', 'float'),\n",
       " ('protein7', 'float'),\n",
       " ('salt7', 'float'),\n",
       " ('sodium7', 'float'),\n",
       " ('vit_a7', 'float'),\n",
       " ('vit_c7', 'float'),\n",
       " ('calcium7', 'float'),\n",
       " ('iron7', 'float'),\n",
       " ('energy8', 'float'),\n",
       " ('fat8', 'float'),\n",
       " ('satfat8', 'float'),\n",
       " ('transfat8', 'float'),\n",
       " ('cholestorol8', 'float'),\n",
       " ('carbs8', 'float'),\n",
       " ('sugars8', 'float'),\n",
       " ('fiber8', 'string'),\n",
       " ('protein8', 'string'),\n",
       " ('salt8', 'string'),\n",
       " ('sodium8', 'string'),\n",
       " ('vit_a8', 'string'),\n",
       " ('vit_c8', 'string'),\n",
       " ('calcium8', 'string'),\n",
       " ('iron8', 'string'),\n",
       " ('energy9', 'float'),\n",
       " ('fat9', 'float'),\n",
       " ('satfat9', 'float'),\n",
       " ('transfat9', 'float'),\n",
       " ('cholestorol9', 'float'),\n",
       " ('carbs9', 'float'),\n",
       " ('sugars9', 'float'),\n",
       " ('fiber9', 'float'),\n",
       " ('protein9', 'float'),\n",
       " ('salt9', 'float'),\n",
       " ('sodium9', 'float'),\n",
       " ('vit_a9', 'float'),\n",
       " ('vit_c9', 'float'),\n",
       " ('calcium9', 'float'),\n",
       " ('iron9', 'float'),\n",
       " ('energy10', 'float'),\n",
       " ('fat10', 'float'),\n",
       " ('satfat10', 'float'),\n",
       " ('transfat10', 'float'),\n",
       " ('cholestorol10', 'float'),\n",
       " ('carbs10', 'float'),\n",
       " ('sugars10', 'float'),\n",
       " ('fiber10', 'float'),\n",
       " ('protein10', 'float'),\n",
       " ('salt10', 'float'),\n",
       " ('sodium10', 'float'),\n",
       " ('vit_a10', 'float'),\n",
       " ('vit_c10', 'float'),\n",
       " ('calcium10', 'float'),\n",
       " ('iron10', 'float'),\n",
       " ('energy11', 'float'),\n",
       " ('fat11', 'float'),\n",
       " ('satfat11', 'float'),\n",
       " ('transfat11', 'float'),\n",
       " ('cholestorol11', 'float'),\n",
       " ('carbs11', 'float'),\n",
       " ('sugars11', 'float'),\n",
       " ('fiber11', 'float'),\n",
       " ('protein11', 'float'),\n",
       " ('salt11', 'float'),\n",
       " ('sodium11', 'float'),\n",
       " ('vit_a11', 'float'),\n",
       " ('vit_c11', 'float'),\n",
       " ('calcium11', 'float'),\n",
       " ('iron11', 'float'),\n",
       " ('energy12', 'float'),\n",
       " ('fat12', 'float'),\n",
       " ('satfat12', 'float'),\n",
       " ('transfat12', 'float'),\n",
       " ('cholestorol12', 'float'),\n",
       " ('carbs12', 'float'),\n",
       " ('sugars12', 'float'),\n",
       " ('fiber12', 'float'),\n",
       " ('protein12', 'float'),\n",
       " ('salt12', 'float'),\n",
       " ('sodium12', 'float'),\n",
       " ('vit_a12', 'float'),\n",
       " ('vit_c12', 'float'),\n",
       " ('calcium12', 'float'),\n",
       " ('iron12', 'float'),\n",
       " ('energy13', 'float'),\n",
       " ('fat13', 'float'),\n",
       " ('satfat13', 'float'),\n",
       " ('transfat13', 'float'),\n",
       " ('cholestorol13', 'float'),\n",
       " ('carbs13', 'float'),\n",
       " ('sugars13', 'float'),\n",
       " ('fiber13', 'float'),\n",
       " ('protein13', 'float'),\n",
       " ('salt13', 'float'),\n",
       " ('sodium13', 'float'),\n",
       " ('vit_a13', 'float'),\n",
       " ('vit_c13', 'float'),\n",
       " ('calcium13', 'float'),\n",
       " ('iron13', 'float'),\n",
       " ('energy14', 'float'),\n",
       " ('fat14', 'float'),\n",
       " ('satfat14', 'float'),\n",
       " ('transfat14', 'float'),\n",
       " ('cholestorol14', 'float'),\n",
       " ('carbs14', 'float'),\n",
       " ('sugars14', 'float'),\n",
       " ('fiber14', 'float'),\n",
       " ('protein14', 'float'),\n",
       " ('salt14', 'float'),\n",
       " ('sodium14', 'float'),\n",
       " ('vit_a14', 'float'),\n",
       " ('vit_c14', 'float'),\n",
       " ('calcium14', 'float'),\n",
       " ('iron14', 'float'),\n",
       " ('energy15', 'float'),\n",
       " ('fat15', 'float'),\n",
       " ('satfat15', 'float'),\n",
       " ('transfat15', 'float'),\n",
       " ('cholestorol15', 'float'),\n",
       " ('carbs15', 'float'),\n",
       " ('sugars15', 'float'),\n",
       " ('fiber15', 'string'),\n",
       " ('protein15', 'string'),\n",
       " ('salt15', 'string'),\n",
       " ('sodium15', 'string'),\n",
       " ('vit_a15', 'string'),\n",
       " ('vit_c15', 'string'),\n",
       " ('calcium15', 'string'),\n",
       " ('iron15', 'string'),\n",
       " ('energy16', 'float'),\n",
       " ('fat16', 'float'),\n",
       " ('satfat16', 'float'),\n",
       " ('transfat16', 'float'),\n",
       " ('cholestorol16', 'float'),\n",
       " ('carbs16', 'float'),\n",
       " ('sugars16', 'float'),\n",
       " ('fiber16', 'float'),\n",
       " ('protein16', 'float'),\n",
       " ('salt16', 'float'),\n",
       " ('sodium16', 'float'),\n",
       " ('vit_a16', 'float'),\n",
       " ('vit_c16', 'float'),\n",
       " ('calcium16', 'float'),\n",
       " ('iron16', 'float'),\n",
       " ('energy17', 'float'),\n",
       " ('fat17', 'float'),\n",
       " ('satfat17', 'float'),\n",
       " ('transfat17', 'float'),\n",
       " ('cholestorol17', 'float'),\n",
       " ('carbs17', 'float'),\n",
       " ('sugars17', 'float'),\n",
       " ('fiber17', 'float'),\n",
       " ('protein17', 'float'),\n",
       " ('salt17', 'float'),\n",
       " ('sodium17', 'float'),\n",
       " ('vit_a17', 'float'),\n",
       " ('vit_c17', 'float'),\n",
       " ('calcium17', 'float'),\n",
       " ('iron17', 'float'),\n",
       " ('energy18', 'float'),\n",
       " ('fat18', 'float'),\n",
       " ('satfat18', 'float'),\n",
       " ('transfat18', 'float'),\n",
       " ('cholestorol18', 'float'),\n",
       " ('carbs18', 'float'),\n",
       " ('sugars18', 'float'),\n",
       " ('fiber18', 'float'),\n",
       " ('protein18', 'float'),\n",
       " ('salt18', 'float'),\n",
       " ('sodium18', 'float'),\n",
       " ('vit_a18', 'float'),\n",
       " ('vit_c18', 'float'),\n",
       " ('calcium18', 'float'),\n",
       " ('iron18', 'float'),\n",
       " ('energy19', 'float'),\n",
       " ('fat19', 'float'),\n",
       " ('satfat19', 'float'),\n",
       " ('transfat19', 'float'),\n",
       " ('cholestorol19', 'float'),\n",
       " ('carbs19', 'float'),\n",
       " ('sugars19', 'float'),\n",
       " ('fiber19', 'float'),\n",
       " ('protein19', 'float'),\n",
       " ('salt19', 'float'),\n",
       " ('sodium19', 'float'),\n",
       " ('vit_a19', 'float'),\n",
       " ('vit_c19', 'float'),\n",
       " ('calcium19', 'float'),\n",
       " ('iron19', 'float'),\n",
       " ('energy20', 'float'),\n",
       " ('fat20', 'float'),\n",
       " ('satfat20', 'float'),\n",
       " ('transfat20', 'float'),\n",
       " ('cholestorol20', 'float'),\n",
       " ('carbs20', 'float'),\n",
       " ('sugars20', 'float'),\n",
       " ('fiber20', 'float'),\n",
       " ('protein20', 'float'),\n",
       " ('salt20', 'float'),\n",
       " ('sodium20', 'float'),\n",
       " ('vit_a20', 'float'),\n",
       " ('vit_c20', 'float'),\n",
       " ('calcium20', 'float'),\n",
       " ('iron20', 'float')]"
      ]
     },
     "execution_count": 121,
     "metadata": {},
     "output_type": "execute_result"
    }
   ],
   "source": [
    "new_gen_nutrition_table.dtypes"
   ]
  },
  {
   "cell_type": "code",
   "execution_count": 133,
   "metadata": {},
   "outputs": [],
   "source": [
    "new_gen_nutrition_table1 = new_gen_nutrition_table.groupBy(\"title\")\\\n",
    "                                  .agg(F.sum(new_gen_nutrition_table.energy1+new_gen_nutrition_table.energy2+new_gen_nutrition_table.energy3\\\n",
    "                                             +new_gen_nutrition_table.energy4 + new_gen_nutrition_table.energy5+new_gen_nutrition_table.energy6+\\\n",
    "                                              new_gen_nutrition_table.energy7+new_gen_nutrition_table.energy8+new_gen_nutrition_table.energy9+\\\n",
    "                                               new_gen_nutrition_table.energy10+new_gen_nutrition_table.energy11+new_gen_nutrition_table.energy12+\\\n",
    "                                               new_gen_nutrition_table.energy13+new_gen_nutrition_table.energy14+new_gen_nutrition_table.energy15+\\\n",
    "                                                new_gen_nutrition_table.energy16+new_gen_nutrition_table.energy17+new_gen_nutrition_table.energy18+\\\n",
    "                                               new_gen_nutrition_table.energy19+ new_gen_nutrition_table.energy20).alias('energy'),\\\n",
    "                                      F.sum(new_gen_nutrition_table.fat1+ new_gen_nutrition_table.fat2+ new_gen_nutrition_table.fat3+\\\n",
    "                                               new_gen_nutrition_table.fat4+new_gen_nutrition_table.fat5+new_gen_nutrition_table.fat6+\\\n",
    "                                                new_gen_nutrition_table.fat7+new_gen_nutrition_table.fat8+new_gen_nutrition_table.fat9+\\\n",
    "                                                new_gen_nutrition_table.fat10+new_gen_nutrition_table.fat11+new_gen_nutrition_table.fat12+\\\n",
    "                                                new_gen_nutrition_table.fat13+new_gen_nutrition_table.fat14+new_gen_nutrition_table.fat15+\\\n",
    "                                               new_gen_nutrition_table.fat16+new_gen_nutrition_table.fat17+new_gen_nutrition_table.fat18+\\\n",
    "                                               new_gen_nutrition_table.fat19+new_gen_nutrition_table.fat20).alias('fat'),\\\n",
    "                                       F.sum(new_gen_nutrition_table.satfat1+ new_gen_nutrition_table.satfat2+ new_gen_nutrition_table.satfat3+\\\n",
    "                                               new_gen_nutrition_table.satfat4+new_gen_nutrition_table.satfat5+new_gen_nutrition_table.satfat6+\\\n",
    "                                                new_gen_nutrition_table.satfat7+new_gen_nutrition_table.satfat8+new_gen_nutrition_table.satfat9+\\\n",
    "                                                new_gen_nutrition_table.satfat10+new_gen_nutrition_table.satfat11+new_gen_nutrition_table.satfat12+\\\n",
    "                                                new_gen_nutrition_table.satfat13+new_gen_nutrition_table.satfat14+new_gen_nutrition_table.satfat15+\\\n",
    "                                               new_gen_nutrition_table.satfat16+new_gen_nutrition_table.satfat17+new_gen_nutrition_table.satfat18+\\\n",
    "                                               new_gen_nutrition_table.satfat19+new_gen_nutrition_table.satfat20).alias('satfat'),\\\n",
    "                                       F.sum(new_gen_nutrition_table.transfat1+ new_gen_nutrition_table.transfat2+ new_gen_nutrition_table.transfat3+\\\n",
    "                                               new_gen_nutrition_table.transfat4+new_gen_nutrition_table.transfat5+new_gen_nutrition_table.transfat6+\\\n",
    "                                                new_gen_nutrition_table.transfat7+new_gen_nutrition_table.transfat8+new_gen_nutrition_table.transfat9+\\\n",
    "                                                new_gen_nutrition_table.transfat10+new_gen_nutrition_table.transfat11+new_gen_nutrition_table.transfat12+\\\n",
    "                                                new_gen_nutrition_table.transfat13+new_gen_nutrition_table.transfat14+new_gen_nutrition_table.transfat15+\\\n",
    "                                               new_gen_nutrition_table.transfat16+new_gen_nutrition_table.transfat17+new_gen_nutrition_table.transfat18+\\\n",
    "                                               new_gen_nutrition_table.transfat19+new_gen_nutrition_table.transfat20).alias('transfat'),\\\n",
    "                                        F.sum(new_gen_nutrition_table.cholestorol1+ new_gen_nutrition_table.cholestorol2+ new_gen_nutrition_table.cholestorol3+\\\n",
    "                                               new_gen_nutrition_table.cholestorol4+new_gen_nutrition_table.cholestorol5+new_gen_nutrition_table.cholestorol6+\\\n",
    "                                                new_gen_nutrition_table.cholestorol7+new_gen_nutrition_table.cholestorol8+new_gen_nutrition_table.cholestorol9+\\\n",
    "                                                new_gen_nutrition_table.cholestorol10+new_gen_nutrition_table.cholestorol11+new_gen_nutrition_table.cholestorol12+\\\n",
    "                                                new_gen_nutrition_table.cholestorol13+new_gen_nutrition_table.cholestorol14+new_gen_nutrition_table.cholestorol15+\\\n",
    "                                               new_gen_nutrition_table.cholestorol16+new_gen_nutrition_table.cholestorol17+new_gen_nutrition_table.cholestorol18+\\\n",
    "                                               new_gen_nutrition_table.cholestorol19).alias('cholestorol'),\\\n",
    "                                        F.sum(new_gen_nutrition_table.carbs1+ new_gen_nutrition_table.carbs2+ new_gen_nutrition_table.carbs3+\\\n",
    "                                               new_gen_nutrition_table.carbs4+new_gen_nutrition_table.carbs5+new_gen_nutrition_table.carbs6+\\\n",
    "                                                new_gen_nutrition_table.carbs7+new_gen_nutrition_table.carbs8+new_gen_nutrition_table.carbs9+\\\n",
    "                                                new_gen_nutrition_table.carbs10+new_gen_nutrition_table.carbs11+new_gen_nutrition_table.carbs12+\\\n",
    "                                                new_gen_nutrition_table.carbs13+new_gen_nutrition_table.carbs14+new_gen_nutrition_table.carbs15+\\\n",
    "                                               new_gen_nutrition_table.carbs16+new_gen_nutrition_table.carbs17+new_gen_nutrition_table.carbs18+\\\n",
    "                                               new_gen_nutrition_table.carbs19+new_gen_nutrition_table.carbs20).alias('carbs'),\\\n",
    "                                        F.sum(new_gen_nutrition_table.sugars1+ new_gen_nutrition_table.sugars2+ new_gen_nutrition_table.sugars3+\\\n",
    "                                               new_gen_nutrition_table.sugars4+new_gen_nutrition_table.sugars5+new_gen_nutrition_table.sugars6+\\\n",
    "                                                new_gen_nutrition_table.sugars7+new_gen_nutrition_table.sugars8+new_gen_nutrition_table.sugars9+\\\n",
    "                                                new_gen_nutrition_table.sugars10+new_gen_nutrition_table.sugars11+new_gen_nutrition_table.sugars12+\\\n",
    "                                                new_gen_nutrition_table.sugars13+new_gen_nutrition_table.sugars14+new_gen_nutrition_table.sugars15+\\\n",
    "                                               new_gen_nutrition_table.sugars16+new_gen_nutrition_table.sugars17+new_gen_nutrition_table.sugars18+\\\n",
    "                                               new_gen_nutrition_table.sugars19+new_gen_nutrition_table.sugars20).alias('sugars'),\\\n",
    "                                        F.sum(new_gen_nutrition_table.fiber1+ new_gen_nutrition_table.fiber2+ new_gen_nutrition_table.fiber3+\\\n",
    "                                               new_gen_nutrition_table.fiber4+new_gen_nutrition_table.fiber5+new_gen_nutrition_table.fiber6+\\\n",
    "                                                new_gen_nutrition_table.fiber7+new_gen_nutrition_table.fiber8+new_gen_nutrition_table.fiber9+\\\n",
    "                                                new_gen_nutrition_table.fiber10+new_gen_nutrition_table.fiber11+new_gen_nutrition_table.fiber12+\\\n",
    "                                                new_gen_nutrition_table.fiber13+new_gen_nutrition_table.fiber14+new_gen_nutrition_table.fiber15+\\\n",
    "                                               new_gen_nutrition_table.fiber16+new_gen_nutrition_table.fiber17+new_gen_nutrition_table.fiber18+\\\n",
    "                                               new_gen_nutrition_table.fiber19+new_gen_nutrition_table.fiber20).alias('fiber'),\\\n",
    "                                        F.sum(new_gen_nutrition_table.protein1+ new_gen_nutrition_table.protein2+ new_gen_nutrition_table.protein3+\\\n",
    "                                               new_gen_nutrition_table.protein4+new_gen_nutrition_table.protein5+new_gen_nutrition_table.protein6+\\\n",
    "                                                new_gen_nutrition_table.protein7+new_gen_nutrition_table.protein8+new_gen_nutrition_table.protein9+\\\n",
    "                                                new_gen_nutrition_table.protein10+new_gen_nutrition_table.protein11+new_gen_nutrition_table.protein12+\\\n",
    "                                                new_gen_nutrition_table.protein13+new_gen_nutrition_table.protein14+new_gen_nutrition_table.protein15+\\\n",
    "                                               new_gen_nutrition_table.protein16+new_gen_nutrition_table.protein17+new_gen_nutrition_table.protein18+\\\n",
    "                                               new_gen_nutrition_table.protein19+new_gen_nutrition_table.protein20).alias('protein'),\\\n",
    "                                        F.sum(new_gen_nutrition_table.salt1+ new_gen_nutrition_table.salt2+ new_gen_nutrition_table.salt3+\\\n",
    "                                               new_gen_nutrition_table.salt4+new_gen_nutrition_table.salt5+new_gen_nutrition_table.salt6+\\\n",
    "                                                new_gen_nutrition_table.salt7+new_gen_nutrition_table.salt8+new_gen_nutrition_table.salt9+\\\n",
    "                                                new_gen_nutrition_table.salt10+new_gen_nutrition_table.salt11+new_gen_nutrition_table.salt12+\\\n",
    "                                                new_gen_nutrition_table.salt13+new_gen_nutrition_table.salt14+new_gen_nutrition_table.salt15+\\\n",
    "                                               new_gen_nutrition_table.salt16+new_gen_nutrition_table.salt17+new_gen_nutrition_table.salt18+\\\n",
    "                                               new_gen_nutrition_table.salt19+new_gen_nutrition_table.salt20).alias('salt'),\\\n",
    "                                       F.sum(new_gen_nutrition_table.sodium1+ new_gen_nutrition_table.sodium2+ new_gen_nutrition_table.sodium3+\\\n",
    "                                               new_gen_nutrition_table.sodium4+new_gen_nutrition_table.sodium5+new_gen_nutrition_table.sodium6+\\\n",
    "                                                new_gen_nutrition_table.sodium7+new_gen_nutrition_table.sodium8+new_gen_nutrition_table.sodium9+\\\n",
    "                                                new_gen_nutrition_table.sodium10+new_gen_nutrition_table.sodium11+new_gen_nutrition_table.sodium12+\\\n",
    "                                                new_gen_nutrition_table.sodium13+new_gen_nutrition_table.sodium14+new_gen_nutrition_table.sodium15+\\\n",
    "                                               new_gen_nutrition_table.sodium16+new_gen_nutrition_table.sodium17+new_gen_nutrition_table.sodium18+\\\n",
    "                                               new_gen_nutrition_table.sodium19+new_gen_nutrition_table.sodium20).alias('sodium'),\\\n",
    "                                        F.sum(new_gen_nutrition_table.vit_a1+ new_gen_nutrition_table.vit_a2+ new_gen_nutrition_table.vit_a3+\\\n",
    "                                               new_gen_nutrition_table.vit_a4+new_gen_nutrition_table.vit_a5+new_gen_nutrition_table.vit_a6+\\\n",
    "                                                new_gen_nutrition_table.vit_a7+new_gen_nutrition_table.vit_a8+new_gen_nutrition_table.vit_a9+\\\n",
    "                                                new_gen_nutrition_table.vit_a10+new_gen_nutrition_table.vit_a11+new_gen_nutrition_table.vit_a12+\\\n",
    "                                                new_gen_nutrition_table.vit_a13+new_gen_nutrition_table.vit_a14+new_gen_nutrition_table.vit_a15+\\\n",
    "                                               new_gen_nutrition_table.vit_a16+new_gen_nutrition_table.vit_a17+new_gen_nutrition_table.vit_a18+\\\n",
    "                                               new_gen_nutrition_table.vit_a19+new_gen_nutrition_table.vit_a20).alias('vit_a'),\\\n",
    "                                        F.sum(new_gen_nutrition_table.vit_c1+ new_gen_nutrition_table.vit_c2+ new_gen_nutrition_table.vit_c3+\\\n",
    "                                               new_gen_nutrition_table.vit_c4+new_gen_nutrition_table.vit_c5+new_gen_nutrition_table.vit_c6+\\\n",
    "                                                new_gen_nutrition_table.vit_c7+new_gen_nutrition_table.vit_c8+new_gen_nutrition_table.vit_c9+\\\n",
    "                                                new_gen_nutrition_table.vit_c10+new_gen_nutrition_table.vit_c11+new_gen_nutrition_table.vit_c12+\\\n",
    "                                                new_gen_nutrition_table.vit_c13+new_gen_nutrition_table.vit_c14+new_gen_nutrition_table.vit_c15+\\\n",
    "                                               new_gen_nutrition_table.vit_c16+new_gen_nutrition_table.vit_c17+new_gen_nutrition_table.vit_c18+\\\n",
    "                                               new_gen_nutrition_table.vit_c19+new_gen_nutrition_table.vit_c20).alias('vit_c'),\\\n",
    "                                        F.sum(new_gen_nutrition_table.calcium1+ new_gen_nutrition_table.calcium2+ new_gen_nutrition_table.calcium3+\\\n",
    "                                               new_gen_nutrition_table.calcium4+new_gen_nutrition_table.calcium5+new_gen_nutrition_table.calcium6+\\\n",
    "                                                new_gen_nutrition_table.calcium7+new_gen_nutrition_table.calcium8+new_gen_nutrition_table.calcium9+\\\n",
    "                                                new_gen_nutrition_table.calcium10+new_gen_nutrition_table.calcium11+new_gen_nutrition_table.calcium12+\\\n",
    "                                                new_gen_nutrition_table.calcium13+new_gen_nutrition_table.calcium14+new_gen_nutrition_table.calcium15+\\\n",
    "                                               new_gen_nutrition_table.calcium16+new_gen_nutrition_table.calcium17+new_gen_nutrition_table.calcium18+\\\n",
    "                                               new_gen_nutrition_table.calcium19+new_gen_nutrition_table.calcium20).alias('calcium'),\\\n",
    "                                        F.sum(new_gen_nutrition_table.iron1+ new_gen_nutrition_table.iron2+ new_gen_nutrition_table.iron3+\\\n",
    "                                               new_gen_nutrition_table.iron4+new_gen_nutrition_table.iron5+new_gen_nutrition_table.iron6+\\\n",
    "                                                new_gen_nutrition_table.iron7+new_gen_nutrition_table.iron8+new_gen_nutrition_table.iron9+\\\n",
    "                                                new_gen_nutrition_table.iron10+new_gen_nutrition_table.iron11+new_gen_nutrition_table.iron12+\\\n",
    "                                                new_gen_nutrition_table.iron13+new_gen_nutrition_table.iron14+new_gen_nutrition_table.iron15+\\\n",
    "                                               new_gen_nutrition_table.iron16+new_gen_nutrition_table.iron17+new_gen_nutrition_table.iron18+\\\n",
    "                                               new_gen_nutrition_table.iron19+new_gen_nutrition_table.iron20).alias('iron'),\\\n",
    "                                       \n",
    "                    \n",
    "                                      )\n",
    "\n"
   ]
  },
  {
   "cell_type": "code",
   "execution_count": 134,
   "metadata": {},
   "outputs": [
    {
     "name": "stdout",
     "output_type": "stream",
     "text": [
      "+--------------------+------+------------------+------------------+--------+-------------------+------------------+------------------+------------------+-----------------+------------------+------------------+--------------------+--------------------+------------------+--------------------+\n",
      "|               title|energy|               fat|            satfat|transfat|        cholestorol|             carbs|            sugars|             fiber|          protein|              salt|            sodium|               vit_a|               vit_c|           calcium|                iron|\n",
      "+--------------------+------+------------------+------------------+--------+-------------------+------------------+------------------+------------------+-----------------+------------------+------------------+--------------------+--------------------+------------------+--------------------+\n",
      "|Red Pork and Bean...|2971.0|38.130001068115234|22.818571090698242|     0.0|0.13022223114967346|116.72000122070312|     64.0478515625| 28.72142838069371|      26.83999995| 6.637584542732238| 2.613222229003906|0.003065442772674006|0.018600000384546962|1.0913571387876544|0.004931666559314...|\n",
      "|Muffuletta Sandwich |4385.0| 84.66999816894531| 42.63999938964844|     0.0| 0.3240000009536743|35.709999084472656|  24.2450008392334| 25.97142861911229|69.90999964482423|3.0556200499343875|1.2029999966621399|0.002831392773111...|0.010699999951109434|1.0833571374763522|0.006224999806618384|\n",
      "|    Pigeon-Pea Soup |6498.0| 79.30999755859375|38.290000915527344|     0.0| 0.1420000046491623|            206.25|171.53500366210938|41.421428189958846| 44.4699991107666|5.6972200627136225|2.2429999883174894|0.002786542773571...|0.008999999928571428|1.3883571297277484| 0.00866000041995018|\n",
      "|Chipotle-Glazed R...|4142.0| 79.30999755859375| 26.34000015258789|     0.0|0.12800000607967377|              62.5|30.915000915527344| 37.02142857142857| 44.4699991107666| 2.600959991912842|1.0240000064373016|0.002786542773571...|0.008999999928571428| 1.074357134138492|0.006145000128781489|\n",
      "|Grilled Pork Tend...|2406.0|48.834999084472656|22.954998016357422|     0.0|0.12800000607967377| 37.63500213623047| 24.35500144958496|24.521428571428576|29.83499983555908|2.6962100024032596|1.0615000004768371|0.002786542773571...|0.015824999976255145|1.0125793598939452|0.003068999931456...|\n",
      "+--------------------+------+------------------+------------------+--------+-------------------+------------------+------------------+------------------+-----------------+------------------+------------------+--------------------+--------------------+------------------+--------------------+\n",
      "only showing top 5 rows\n",
      "\n"
     ]
    }
   ],
   "source": [
    "new_gen_nutrition_table1.show(5)"
   ]
  },
  {
   "cell_type": "markdown",
   "metadata": {},
   "source": [
    "## Christmas and General Recipes Combined"
   ]
  },
  {
   "cell_type": "code",
   "execution_count": 135,
   "metadata": {},
   "outputs": [],
   "source": [
    "gen_nutrition_table=new_gen_nutrition_table1.withColumn(\"rec_type\", lit(\"g\"))"
   ]
  },
  {
   "cell_type": "code",
   "execution_count": 136,
   "metadata": {},
   "outputs": [
    {
     "name": "stdout",
     "output_type": "stream",
     "text": [
      "root\n",
      " |-- title: string (nullable = true)\n",
      " |-- energy: double (nullable = true)\n",
      " |-- fat: double (nullable = true)\n",
      " |-- satfat: double (nullable = true)\n",
      " |-- transfat: double (nullable = true)\n",
      " |-- cholestorol: double (nullable = true)\n",
      " |-- carbs: double (nullable = true)\n",
      " |-- sugars: double (nullable = true)\n",
      " |-- fiber: double (nullable = true)\n",
      " |-- protein: double (nullable = true)\n",
      " |-- salt: double (nullable = true)\n",
      " |-- sodium: double (nullable = true)\n",
      " |-- vit_a: double (nullable = true)\n",
      " |-- vit_c: double (nullable = true)\n",
      " |-- calcium: double (nullable = true)\n",
      " |-- iron: double (nullable = true)\n",
      " |-- rec_type: string (nullable = false)\n",
      "\n"
     ]
    }
   ],
   "source": [
    "gen_nutrition_table.printSchema()"
   ]
  },
  {
   "cell_type": "code",
   "execution_count": 137,
   "metadata": {},
   "outputs": [
    {
     "data": {
      "text/html": [
       "<div>\n",
       "<style scoped>\n",
       "    .dataframe tbody tr th:only-of-type {\n",
       "        vertical-align: middle;\n",
       "    }\n",
       "\n",
       "    .dataframe tbody tr th {\n",
       "        vertical-align: top;\n",
       "    }\n",
       "\n",
       "    .dataframe thead th {\n",
       "        text-align: right;\n",
       "    }\n",
       "</style>\n",
       "<table border=\"1\" class=\"dataframe\">\n",
       "  <thead>\n",
       "    <tr style=\"text-align: right;\">\n",
       "      <th></th>\n",
       "      <th>summary</th>\n",
       "      <th>fat</th>\n",
       "      <th>satfat</th>\n",
       "      <th>transfat</th>\n",
       "      <th>cholestorol</th>\n",
       "      <th>carbs</th>\n",
       "      <th>sugars</th>\n",
       "      <th>fiber</th>\n",
       "      <th>protein</th>\n",
       "      <th>salt</th>\n",
       "      <th>sodium</th>\n",
       "      <th>vit_a</th>\n",
       "      <th>vit_c</th>\n",
       "      <th>calcium</th>\n",
       "      <th>iron</th>\n",
       "    </tr>\n",
       "  </thead>\n",
       "  <tbody>\n",
       "    <tr>\n",
       "      <th>0</th>\n",
       "      <td>count</td>\n",
       "      <td>105</td>\n",
       "      <td>105</td>\n",
       "      <td>105</td>\n",
       "      <td>105</td>\n",
       "      <td>105</td>\n",
       "      <td>105</td>\n",
       "      <td>105</td>\n",
       "      <td>105</td>\n",
       "      <td>105</td>\n",
       "      <td>105</td>\n",
       "      <td>105</td>\n",
       "      <td>105</td>\n",
       "      <td>105</td>\n",
       "      <td>105</td>\n",
       "    </tr>\n",
       "    <tr>\n",
       "      <th>1</th>\n",
       "      <td>mean</td>\n",
       "      <td>242.53985817318872</td>\n",
       "      <td>27.23674109322684</td>\n",
       "      <td>0.46485713322957356</td>\n",
       "      <td>0.16049841784295582</td>\n",
       "      <td>71.57276186261858</td>\n",
       "      <td>41.048565383184524</td>\n",
       "      <td>31.558190361658735</td>\n",
       "      <td>39.72623771662924</td>\n",
       "      <td>5.213462822849633</td>\n",
       "      <td>1.4639366982792104</td>\n",
       "      <td>0.051848151428912186</td>\n",
       "      <td>0.012330127695670162</td>\n",
       "      <td>1.0645497295820487</td>\n",
       "      <td>0.014995133415326637</td>\n",
       "    </tr>\n",
       "    <tr>\n",
       "      <th>2</th>\n",
       "      <td>stddev</td>\n",
       "      <td>467.71776299829077</td>\n",
       "      <td>9.120375225722576</td>\n",
       "      <td>1.999920711336166</td>\n",
       "      <td>0.06513498998330118</td>\n",
       "      <td>37.01094258914221</td>\n",
       "      <td>24.650778803474925</td>\n",
       "      <td>8.509536994850372</td>\n",
       "      <td>18.43101163821004</td>\n",
       "      <td>4.884331066067423</td>\n",
       "      <td>0.7064122171023914</td>\n",
       "      <td>0.1455488843912981</td>\n",
       "      <td>0.004446151345640375</td>\n",
       "      <td>0.06595431395375487</td>\n",
       "      <td>0.028744978425908303</td>\n",
       "    </tr>\n",
       "    <tr>\n",
       "      <th>3</th>\n",
       "      <td>min</td>\n",
       "      <td>35.560001373291016</td>\n",
       "      <td>18.529998779296875</td>\n",
       "      <td>0.0</td>\n",
       "      <td>0.12800000607967377</td>\n",
       "      <td>31.25</td>\n",
       "      <td>18.415000915527344</td>\n",
       "      <td>24.521428571428576</td>\n",
       "      <td>22.58999995</td>\n",
       "      <td>1.80848</td>\n",
       "      <td>0.712</td>\n",
       "      <td>0.0027865427735714286</td>\n",
       "      <td>0.008999999928571428</td>\n",
       "      <td>0.9803571373571429</td>\n",
       "      <td>0.0022049999299999998</td>\n",
       "    </tr>\n",
       "    <tr>\n",
       "      <th>4</th>\n",
       "      <td>max</td>\n",
       "      <td>2238.31005859375</td>\n",
       "      <td>56.029998779296875</td>\n",
       "      <td>18.75</td>\n",
       "      <td>0.421999990940094</td>\n",
       "      <td>204.8199920654297</td>\n",
       "      <td>144.0050048828125</td>\n",
       "      <td>90.14142368861607</td>\n",
       "      <td>106.07999686009522</td>\n",
       "      <td>24.89008412311554</td>\n",
       "      <td>3.657062220096588</td>\n",
       "      <td>0.749607234630127</td>\n",
       "      <td>0.020300000290669647</td>\n",
       "      <td>1.230357137357143</td>\n",
       "      <td>0.1621450042787549</td>\n",
       "    </tr>\n",
       "  </tbody>\n",
       "</table>\n",
       "</div>"
      ],
      "text/plain": [
       "  summary                 fat              satfat             transfat  \\\n",
       "0   count                 105                 105                  105   \n",
       "1    mean  242.53985817318872   27.23674109322684  0.46485713322957356   \n",
       "2  stddev  467.71776299829077   9.120375225722576    1.999920711336166   \n",
       "3     min  35.560001373291016  18.529998779296875                  0.0   \n",
       "4     max    2238.31005859375  56.029998779296875                18.75   \n",
       "\n",
       "           cholestorol              carbs              sugars  \\\n",
       "0                  105                105                 105   \n",
       "1  0.16049841784295582  71.57276186261858  41.048565383184524   \n",
       "2  0.06513498998330118  37.01094258914221  24.650778803474925   \n",
       "3  0.12800000607967377              31.25  18.415000915527344   \n",
       "4    0.421999990940094  204.8199920654297   144.0050048828125   \n",
       "\n",
       "                fiber             protein               salt  \\\n",
       "0                 105                 105                105   \n",
       "1  31.558190361658735   39.72623771662924  5.213462822849633   \n",
       "2   8.509536994850372   18.43101163821004  4.884331066067423   \n",
       "3  24.521428571428576         22.58999995            1.80848   \n",
       "4   90.14142368861607  106.07999686009522  24.89008412311554   \n",
       "\n",
       "               sodium                  vit_a                 vit_c  \\\n",
       "0                 105                    105                   105   \n",
       "1  1.4639366982792104   0.051848151428912186  0.012330127695670162   \n",
       "2  0.7064122171023914     0.1455488843912981  0.004446151345640375   \n",
       "3               0.712  0.0027865427735714286  0.008999999928571428   \n",
       "4   3.657062220096588      0.749607234630127  0.020300000290669647   \n",
       "\n",
       "               calcium                   iron  \n",
       "0                  105                    105  \n",
       "1   1.0645497295820487   0.014995133415326637  \n",
       "2  0.06595431395375487   0.028744978425908303  \n",
       "3   0.9803571373571429  0.0022049999299999998  \n",
       "4    1.230357137357143     0.1621450042787549  "
      ]
     },
     "execution_count": 137,
     "metadata": {},
     "output_type": "execute_result"
    }
   ],
   "source": [
    "gen_nutrition_table.describe('fat', 'satfat', 'transfat', 'cholestorol', 'carbs', \\\n",
    "                             'sugars', 'fiber', 'protein', 'salt','sodium','vit_a', 'vit_c', 'calcium', 'iron').toPandas()"
   ]
  },
  {
   "cell_type": "code",
   "execution_count": 142,
   "metadata": {},
   "outputs": [],
   "source": [
    "genrecipestats=gen_nutrition_table.describe('fat', 'satfat', 'transfat', 'cholestorol', 'carbs', \\\n",
    "                             'sugars', 'fiber', 'protein', 'salt','sodium','vit_a', 'vit_c', 'calcium', 'iron').toPandas()"
   ]
  },
  {
   "cell_type": "code",
   "execution_count": 147,
   "metadata": {},
   "outputs": [],
   "source": [
    "#writing a pyspark data frame as csv\n",
    "#genrecipestats.write.format(\"com.databricks.spark.csv\", header=True).save('gs://big_data_vht/gen_recipes_stats')\n",
    "#import gcsfs\n",
    "#writing a pandas data frame as csv\n",
    "#genrecipestats.to_csv('gs://big_data_vht/gen_recipes_stats.csv') "
   ]
  },
  {
   "cell_type": "code",
   "execution_count": 140,
   "metadata": {},
   "outputs": [
    {
     "name": "stdout",
     "output_type": "stream",
     "text": [
      "fat: [1559.06005859375]\n",
      "satfat: [19.130001068115234]\n",
      "transfat: [0.0]\n",
      "cholestorol: [0.1420000046491623]\n",
      "carbs: [87.79000091552734]\n",
      "sugars: [26.125]\n",
      "fiber: [26.37142838069371]\n",
      "protein: [31.19999990470047]\n",
      "salt: [5.925820134582519]\n",
      "sodium: [2.3420000002384187]\n",
      "vit_a: [0.0029040427655731456]\n",
      "vit_c: [0.018600000384546962]\n",
      "calcium: [0.9648571396384921]\n",
      "iron: [0.00474000017878149]\n"
     ]
    }
   ],
   "source": [
    "print(\"fat:\", gen_nutrition_table.approxQuantile(\"fat\", [0.5], 0.25))\n",
    "print(\"satfat:\", gen_nutrition_table.approxQuantile(\"satfat\", [0.5], 0.25))\n",
    "print(\"transfat:\", gen_nutrition_table.approxQuantile(\"transfat\", [0.5], 0.25))\n",
    "print(\"cholestorol:\", gen_nutrition_table.approxQuantile(\"cholestorol\", [0.5], 0.25))\n",
    "print(\"carbs:\", gen_nutrition_table.approxQuantile(\"carbs\", [0.5], 0.25))\n",
    "print(\"sugars:\", gen_nutrition_table.approxQuantile(\"sugars\", [0.5], 0.25))\n",
    "print(\"fiber:\", gen_nutrition_table.approxQuantile(\"fiber\", [0.5], 0.25))\n",
    "print(\"protein:\", gen_nutrition_table.approxQuantile(\"protein\", [0.5], 0.25))\n",
    "print(\"salt:\", gen_nutrition_table.approxQuantile(\"salt\", [0.5], 0.25))\n",
    "print(\"sodium:\", gen_nutrition_table.approxQuantile(\"sodium\", [0.5], 0.25))\n",
    "print(\"vit_a:\", gen_nutrition_table.approxQuantile(\"vit_a\", [0.5], 0.25))\n",
    "print(\"vit_c:\", gen_nutrition_table.approxQuantile(\"vit_c\", [0.5], 0.25))\n",
    "print(\"calcium:\", gen_nutrition_table.approxQuantile(\"calcium\", [0.5], 0.25))\n",
    "print(\"iron:\", gen_nutrition_table.approxQuantile(\"iron\", [0.5], 0.25))"
   ]
  },
  {
   "cell_type": "code",
   "execution_count": 202,
   "metadata": {},
   "outputs": [],
   "source": [
    "general_table=gen_nutrition_table.select(\"title\",\"energy\", F.when(gen_nutrition_table.fat > 242, 1).otherwise(0).alias(\"fat\"), \\\n",
    "                           F.when(gen_nutrition_table.satfat > 27, 1).otherwise(0).alias(\"satfat\"), \\\n",
    "                           F.when(gen_nutrition_table.transfat > 0.5, 1).otherwise(0).alias(\"transfat\"), \\\n",
    "                           F.when(gen_nutrition_table.cholestorol > 0.16, 1).otherwise(0).alias(\"cholestorol\"), \\\n",
    "                           F.when(gen_nutrition_table.carbs > 72, 1).otherwise(0).alias(\"carbs\"), \\\n",
    "                           F.when(gen_nutrition_table.sugars > 41, 1).otherwise(0).alias(\"sugars\"), \\\n",
    "                           F.when(gen_nutrition_table.fiber > 32, 1).otherwise(0).alias(\"fiber\"), \\\n",
    "                           F.when(gen_nutrition_table.protein > 40, 1).otherwise(0).alias(\"protein\"), \\\n",
    "                           F.when(gen_nutrition_table.salt > 5, 1).otherwise(0).alias(\"salt\"), \\\n",
    "                           F.when(gen_nutrition_table.sodium > 1.5, 1).otherwise(0).alias(\"sodium\"), \\\n",
    "                           F.when(gen_nutrition_table.vit_a > 0.05, 1).otherwise(0).alias(\"vit_a\"), \\\n",
    "                           F.when(gen_nutrition_table.vit_c > 0.01, 1).otherwise(0).alias(\"vit_c\"), \\\n",
    "                           F.when(gen_nutrition_table.calcium > 1.1, 1).otherwise(0).alias(\"calcium\"), \\\n",
    "                           F.when(gen_nutrition_table.iron > 0.015, 1).otherwise(0).alias(\"iron\"), \"rec_type\")\n"
   ]
  },
  {
   "cell_type": "code",
   "execution_count": 204,
   "metadata": {},
   "outputs": [
    {
     "data": {
      "text/plain": [
       "105"
      ]
     },
     "execution_count": 204,
     "metadata": {},
     "output_type": "execute_result"
    }
   ],
   "source": [
    "general_table.count()"
   ]
  },
  {
   "cell_type": "code",
   "execution_count": 190,
   "metadata": {},
   "outputs": [],
   "source": [
    "christmas_table=christmas_table.withColumn(\"rec_type\",lit(\"c\"))"
   ]
  },
  {
   "cell_type": "code",
   "execution_count": 191,
   "metadata": {},
   "outputs": [
    {
     "name": "stdout",
     "output_type": "stream",
     "text": [
      "root\n",
      " |-- Name: string (nullable = true)\n",
      " |-- energy: double (nullable = true)\n",
      " |-- fat: double (nullable = true)\n",
      " |-- saturatedfat: double (nullable = true)\n",
      " |-- transfat: double (nullable = true)\n",
      " |-- cholesterol: double (nullable = true)\n",
      " |-- carbs: double (nullable = true)\n",
      " |-- sugars: double (nullable = true)\n",
      " |-- fiber: double (nullable = true)\n",
      " |-- protein: double (nullable = true)\n",
      " |-- salt: double (nullable = true)\n",
      " |-- sodium: double (nullable = true)\n",
      " |-- vit_a: double (nullable = true)\n",
      " |-- vit_c: double (nullable = true)\n",
      " |-- calcium: double (nullable = true)\n",
      " |-- iron: double (nullable = true)\n",
      " |-- rec_type: string (nullable = false)\n",
      "\n"
     ]
    }
   ],
   "source": [
    "christmas_table.printSchema()"
   ]
  },
  {
   "cell_type": "code",
   "execution_count": 194,
   "metadata": {},
   "outputs": [
    {
     "data": {
      "text/html": [
       "<div>\n",
       "<style scoped>\n",
       "    .dataframe tbody tr th:only-of-type {\n",
       "        vertical-align: middle;\n",
       "    }\n",
       "\n",
       "    .dataframe tbody tr th {\n",
       "        vertical-align: top;\n",
       "    }\n",
       "\n",
       "    .dataframe thead th {\n",
       "        text-align: right;\n",
       "    }\n",
       "</style>\n",
       "<table border=\"1\" class=\"dataframe\">\n",
       "  <thead>\n",
       "    <tr style=\"text-align: right;\">\n",
       "      <th></th>\n",
       "      <th>summary</th>\n",
       "      <th>fat</th>\n",
       "      <th>saturatedfat</th>\n",
       "      <th>transfat</th>\n",
       "      <th>cholesterol</th>\n",
       "      <th>carbs</th>\n",
       "      <th>sugars</th>\n",
       "      <th>fiber</th>\n",
       "      <th>protein</th>\n",
       "      <th>salt</th>\n",
       "      <th>sodium</th>\n",
       "      <th>vit_a</th>\n",
       "      <th>vit_c</th>\n",
       "      <th>calcium</th>\n",
       "      <th>iron</th>\n",
       "    </tr>\n",
       "  </thead>\n",
       "  <tbody>\n",
       "    <tr>\n",
       "      <th>0</th>\n",
       "      <td>count</td>\n",
       "      <td>1525</td>\n",
       "      <td>1525</td>\n",
       "      <td>1525</td>\n",
       "      <td>1525</td>\n",
       "      <td>1525</td>\n",
       "      <td>1525</td>\n",
       "      <td>1525</td>\n",
       "      <td>1525</td>\n",
       "      <td>1525</td>\n",
       "      <td>1525</td>\n",
       "      <td>1525</td>\n",
       "      <td>1525</td>\n",
       "      <td>1525</td>\n",
       "      <td>1525</td>\n",
       "    </tr>\n",
       "    <tr>\n",
       "      <th>1</th>\n",
       "      <td>mean</td>\n",
       "      <td>104.65285261540978</td>\n",
       "      <td>48.51288920205656</td>\n",
       "      <td>0.0</td>\n",
       "      <td>0.1562391262867321</td>\n",
       "      <td>155.9237704918033</td>\n",
       "      <td>119.47956721311468</td>\n",
       "      <td>8.890059268600247</td>\n",
       "      <td>15.029462079278677</td>\n",
       "      <td>6.550011536612027</td>\n",
       "      <td>2.5787446994535537</td>\n",
       "      <td>6.907287508317562E-4</td>\n",
       "      <td>0.019651950265130603</td>\n",
       "      <td>0.42910561700791927</td>\n",
       "      <td>0.007551877293614121</td>\n",
       "    </tr>\n",
       "    <tr>\n",
       "      <th>2</th>\n",
       "      <td>stddev</td>\n",
       "      <td>78.6120835465231</td>\n",
       "      <td>42.5113696715646</td>\n",
       "      <td>0.0</td>\n",
       "      <td>0.15914071808705313</td>\n",
       "      <td>140.06155409607183</td>\n",
       "      <td>115.8985433339239</td>\n",
       "      <td>8.76591321702934</td>\n",
       "      <td>17.106523647089777</td>\n",
       "      <td>8.179450534441012</td>\n",
       "      <td>3.2202561159216607</td>\n",
       "      <td>7.434900825829078E-4</td>\n",
       "      <td>0.022553504509823265</td>\n",
       "      <td>0.8875736859096471</td>\n",
       "      <td>0.007098900360443823</td>\n",
       "    </tr>\n",
       "    <tr>\n",
       "      <th>3</th>\n",
       "      <td>min</td>\n",
       "      <td>0.0</td>\n",
       "      <td>0.0</td>\n",
       "      <td>0.0</td>\n",
       "      <td>0.0</td>\n",
       "      <td>0.0</td>\n",
       "      <td>0.0</td>\n",
       "      <td>0.0</td>\n",
       "      <td>0.0</td>\n",
       "      <td>0.0</td>\n",
       "      <td>0.0</td>\n",
       "      <td>0.0</td>\n",
       "      <td>0.0</td>\n",
       "      <td>0.0</td>\n",
       "      <td>0.0</td>\n",
       "    </tr>\n",
       "    <tr>\n",
       "      <th>4</th>\n",
       "      <td>max</td>\n",
       "      <td>514.28</td>\n",
       "      <td>280.5973076961538</td>\n",
       "      <td>0.0</td>\n",
       "      <td>0.9200000008999999</td>\n",
       "      <td>938.64</td>\n",
       "      <td>835.795</td>\n",
       "      <td>69.74230769230769</td>\n",
       "      <td>119.30999990000001</td>\n",
       "      <td>59.87034</td>\n",
       "      <td>23.571</td>\n",
       "      <td>0.00455940008</td>\n",
       "      <td>0.13686153866153844</td>\n",
       "      <td>6.936666466666665</td>\n",
       "      <td>0.04880192336923077</td>\n",
       "    </tr>\n",
       "  </tbody>\n",
       "</table>\n",
       "</div>"
      ],
      "text/plain": [
       "  summary                 fat       saturatedfat transfat  \\\n",
       "0   count                1525               1525     1525   \n",
       "1    mean  104.65285261540978  48.51288920205656      0.0   \n",
       "2  stddev    78.6120835465231   42.5113696715646      0.0   \n",
       "3     min                 0.0                0.0      0.0   \n",
       "4     max              514.28  280.5973076961538      0.0   \n",
       "\n",
       "           cholesterol               carbs              sugars  \\\n",
       "0                 1525                1525                1525   \n",
       "1   0.1562391262867321   155.9237704918033  119.47956721311468   \n",
       "2  0.15914071808705313  140.06155409607183   115.8985433339239   \n",
       "3                  0.0                 0.0                 0.0   \n",
       "4   0.9200000008999999              938.64             835.795   \n",
       "\n",
       "               fiber             protein               salt  \\\n",
       "0               1525                1525               1525   \n",
       "1  8.890059268600247  15.029462079278677  6.550011536612027   \n",
       "2   8.76591321702934  17.106523647089777  8.179450534441012   \n",
       "3                0.0                 0.0                0.0   \n",
       "4  69.74230769230769  119.30999990000001           59.87034   \n",
       "\n",
       "               sodium                 vit_a                 vit_c  \\\n",
       "0                1525                  1525                  1525   \n",
       "1  2.5787446994535537  6.907287508317562E-4  0.019651950265130603   \n",
       "2  3.2202561159216607  7.434900825829078E-4  0.022553504509823265   \n",
       "3                 0.0                   0.0                   0.0   \n",
       "4              23.571         0.00455940008   0.13686153866153844   \n",
       "\n",
       "               calcium                  iron  \n",
       "0                 1525                  1525  \n",
       "1  0.42910561700791927  0.007551877293614121  \n",
       "2   0.8875736859096471  0.007098900360443823  \n",
       "3                  0.0                   0.0  \n",
       "4    6.936666466666665   0.04880192336923077  "
      ]
     },
     "execution_count": 194,
     "metadata": {},
     "output_type": "execute_result"
    }
   ],
   "source": [
    "christmas_table.describe('fat', 'saturatedfat', 'transfat', 'cholesterol', 'carbs', \\\n",
    "                             'sugars', 'fiber', 'protein', 'salt','sodium','vit_a', 'vit_c', 'calcium', 'iron').toPandas()"
   ]
  },
  {
   "cell_type": "code",
   "execution_count": 195,
   "metadata": {},
   "outputs": [],
   "source": [
    "christmasrecipestats=christmas_table.describe('fat', 'saturatedfat', 'transfat', 'cholesterol', 'carbs', \\\n",
    "                             'sugars', 'fiber', 'protein', 'salt','sodium','vit_a', 'vit_c', 'calcium', 'iron').toPandas()"
   ]
  },
  {
   "cell_type": "code",
   "execution_count": 196,
   "metadata": {},
   "outputs": [],
   "source": [
    "christmasrecipestats.to_csv('gs://big_data_vht/christmas_recipes_stats.csv') "
   ]
  },
  {
   "cell_type": "code",
   "execution_count": 200,
   "metadata": {},
   "outputs": [],
   "source": [
    "chris_table=christmas_table.select(christmas_table.Name.alias(\"title\"),\"energy\", F.when(christmas_table.fat > 104, 1).otherwise(0).alias(\"fat\"), \\\n",
    "                           F.when(christmas_table.saturatedfat > 49, 1).otherwise(0).alias(\"satfat\"), \\\n",
    "                           F.when(christmas_table.transfat > 0, 1).otherwise(0).alias(\"transfat\"), \\\n",
    "                           F.when(christmas_table.cholesterol > 0.16, 1).otherwise(0).alias(\"cholesterol\"), \\\n",
    "                           F.when(christmas_table.carbs > 155, 1).otherwise(0).alias(\"carbs\"), \\\n",
    "                           F.when(christmas_table.sugars > 119, 1).otherwise(0).alias(\"sugars\"), \\\n",
    "                           F.when(christmas_table.fiber > 8.89, 1).otherwise(0).alias(\"fiber\"), \\\n",
    "                           F.when(christmas_table.protein > 15, 1).otherwise(0).alias(\"protein\"), \\\n",
    "                           F.when(christmas_table.salt > 6.6, 1).otherwise(0).alias(\"salt\"), \\\n",
    "                           F.when(christmas_table.sodium > 2.57, 1).otherwise(0).alias(\"sodium\"), \\\n",
    "                           F.when(christmas_table.vit_a > 6.9, 1).otherwise(0).alias(\"vit_a\"), \\\n",
    "                           F.when(christmas_table.vit_c > 0.02, 1).otherwise(0).alias(\"vit_c\"), \\\n",
    "                           F.when(christmas_table.calcium > 0.89, 1).otherwise(0).alias(\"calcium\"), \\\n",
    "                           F.when(christmas_table.iron > 0.007, 1).otherwise(0).alias(\"iron\"), \"rec_type\")\n"
   ]
  },
  {
   "cell_type": "code",
   "execution_count": 206,
   "metadata": {},
   "outputs": [
    {
     "data": {
      "text/plain": [
       "1525"
      ]
     },
     "execution_count": 206,
     "metadata": {},
     "output_type": "execute_result"
    }
   ],
   "source": [
    "chris_table.count()"
   ]
  },
  {
   "cell_type": "code",
   "execution_count": 207,
   "metadata": {},
   "outputs": [],
   "source": [
    "recipe_table=chris_table.union(general_table)"
   ]
  },
  {
   "cell_type": "code",
   "execution_count": 214,
   "metadata": {},
   "outputs": [],
   "source": [
    "recipe_table=recipe_table.sort(\"title\")"
   ]
  },
  {
   "cell_type": "code",
   "execution_count": 224,
   "metadata": {},
   "outputs": [],
   "source": [
    "recipe_table.write.format(\"com.databricks.spark.csv\").save('gs://big_data_vht/ml_recipe_table.csv', header=True)"
   ]
  },
  {
   "cell_type": "markdown",
   "metadata": {},
   "source": [
    "#  Descriptive Stats"
   ]
  },
  {
   "cell_type": "code",
   "execution_count": 217,
   "metadata": {},
   "outputs": [
    {
     "data": {
      "text/plain": [
       "1617"
      ]
     },
     "execution_count": 217,
     "metadata": {},
     "output_type": "execute_result"
    }
   ],
   "source": [
    "c1 = spark.read.json(\"gs://big_data_vht/Christmas recipes.json\")\n",
    "c1.count()"
   ]
  },
  {
   "cell_type": "code",
   "execution_count": 218,
   "metadata": {},
   "outputs": [
    {
     "data": {
      "text/plain": [
       "116036"
      ]
     },
     "execution_count": 218,
     "metadata": {},
     "output_type": "execute_result"
    }
   ],
   "source": [
    "o1 = spark.read.csv(\"gs://big_data_vht/reduced_OpenFoodFacts.csv\", inferSchema=True, header=True)\n",
    "o1.count()"
   ]
  },
  {
   "cell_type": "code",
   "execution_count": 219,
   "metadata": {},
   "outputs": [
    {
     "data": {
      "text/plain": [
       "20057"
      ]
     },
     "execution_count": 219,
     "metadata": {},
     "output_type": "execute_result"
    }
   ],
   "source": [
    "g1 = spark.read.csv(\"gs://big_data_vht/Cleaned_General_Recipe.csv\", inferSchema=True, header=True)\n",
    "g1.count()\n"
   ]
  },
  {
   "cell_type": "code",
   "execution_count": 220,
   "metadata": {},
   "outputs": [
    {
     "data": {
      "text/html": [
       "<div>\n",
       "<style scoped>\n",
       "    .dataframe tbody tr th:only-of-type {\n",
       "        vertical-align: middle;\n",
       "    }\n",
       "\n",
       "    .dataframe tbody tr th {\n",
       "        vertical-align: top;\n",
       "    }\n",
       "\n",
       "    .dataframe thead th {\n",
       "        text-align: right;\n",
       "    }\n",
       "</style>\n",
       "<table border=\"1\" class=\"dataframe\">\n",
       "  <thead>\n",
       "    <tr style=\"text-align: right;\">\n",
       "      <th></th>\n",
       "      <th>title</th>\n",
       "      <th>Ingredients</th>\n",
       "    </tr>\n",
       "  </thead>\n",
       "  <tbody>\n",
       "    <tr>\n",
       "      <th>0</th>\n",
       "      <td>Lentil, Apple, and Turkey Wrap</td>\n",
       "      <td>apple bean cookie fruit kid-friendly lentil le...</td>\n",
       "    </tr>\n",
       "    <tr>\n",
       "      <th>1</th>\n",
       "      <td>Boudin Blanc Terrine with Red Onion Confit</td>\n",
       "      <td>bake bastille day bon appétit chill dried frui...</td>\n",
       "    </tr>\n",
       "  </tbody>\n",
       "</table>\n",
       "</div>"
      ],
      "text/plain": [
       "                                         title  \\\n",
       "0              Lentil, Apple, and Turkey Wrap    \n",
       "1  Boudin Blanc Terrine with Red Onion Confit    \n",
       "\n",
       "                                         Ingredients  \n",
       "0  apple bean cookie fruit kid-friendly lentil le...  \n",
       "1  bake bastille day bon appétit chill dried frui...  "
      ]
     },
     "execution_count": 220,
     "metadata": {},
     "output_type": "execute_result"
    }
   ],
   "source": [
    "g1.limit(2).toPandas()"
   ]
  },
  {
   "cell_type": "markdown",
   "metadata": {},
   "source": [
    "# Machine Learning "
   ]
  },
  {
   "cell_type": "code",
   "execution_count": 1,
   "metadata": {
    "scrolled": true
   },
   "outputs": [],
   "source": [
    "# !pip install --user sklearn\n",
    "# !pip install --user seaborn\n",
    "\n",
    "# from pyspark.sql.functions import *\n",
    "import pyspark.sql.functions as F\n",
    "import pandas as pd\n",
    "pd.set_option('display.max_columns', 500)\n",
    "import numpy as np\n",
    "from pyspark.ml.feature import QuantileDiscretizer, VectorAssembler\n",
    "from pyspark.ml.linalg import Vectors\n",
    "from pyspark.ml.stat import Correlation\n",
    "from pyspark.ml.classification import RandomForestClassifier, LogisticRegression\n",
    "from pyspark.ml.evaluation import MulticlassClassificationEvaluator\n",
    "from sklearn.metrics import classification_report\n",
    "import matplotlib.pyplot as plt\n",
    "import seaborn as sns\n",
    "from sklearn import metrics"
   ]
  },
  {
   "cell_type": "code",
   "execution_count": 2,
   "metadata": {},
   "outputs": [],
   "source": [
    "ml_data=spark.read.csv('gs://big_data_vht/ml_recipe_table.csv', inferSchema=True, header=True)"
   ]
  },
  {
   "cell_type": "code",
   "execution_count": 3,
   "metadata": {},
   "outputs": [
    {
     "data": {
      "text/html": [
       "<div>\n",
       "<style scoped>\n",
       "    .dataframe tbody tr th:only-of-type {\n",
       "        vertical-align: middle;\n",
       "    }\n",
       "\n",
       "    .dataframe tbody tr th {\n",
       "        vertical-align: top;\n",
       "    }\n",
       "\n",
       "    .dataframe thead th {\n",
       "        text-align: right;\n",
       "    }\n",
       "</style>\n",
       "<table border=\"1\" class=\"dataframe\">\n",
       "  <thead>\n",
       "    <tr style=\"text-align: right;\">\n",
       "      <th></th>\n",
       "      <th>title</th>\n",
       "      <th>energy</th>\n",
       "      <th>fat</th>\n",
       "      <th>satfat</th>\n",
       "      <th>transfat</th>\n",
       "      <th>cholesterol</th>\n",
       "      <th>carbs</th>\n",
       "      <th>sugars</th>\n",
       "      <th>fiber</th>\n",
       "      <th>protein</th>\n",
       "      <th>salt</th>\n",
       "      <th>sodium</th>\n",
       "      <th>vit_a</th>\n",
       "      <th>vit_c</th>\n",
       "      <th>calcium</th>\n",
       "      <th>iron</th>\n",
       "      <th>rec_type</th>\n",
       "    </tr>\n",
       "  </thead>\n",
       "  <tbody>\n",
       "    <tr>\n",
       "      <th>0</th>\n",
       "      <td>Roast turkey &amp; cranberry Wellington</td>\n",
       "      <td>11670.5</td>\n",
       "      <td>1</td>\n",
       "      <td>1</td>\n",
       "      <td>0</td>\n",
       "      <td>1</td>\n",
       "      <td>1</td>\n",
       "      <td>0</td>\n",
       "      <td>1</td>\n",
       "      <td>1</td>\n",
       "      <td>1</td>\n",
       "      <td>1</td>\n",
       "      <td>0</td>\n",
       "      <td>1</td>\n",
       "      <td>0</td>\n",
       "      <td>1</td>\n",
       "      <td>c</td>\n",
       "    </tr>\n",
       "    <tr>\n",
       "      <th>1</th>\n",
       "      <td>Roast turkey breast wrapped in bacon</td>\n",
       "      <td>4423.0</td>\n",
       "      <td>1</td>\n",
       "      <td>0</td>\n",
       "      <td>0</td>\n",
       "      <td>0</td>\n",
       "      <td>0</td>\n",
       "      <td>0</td>\n",
       "      <td>0</td>\n",
       "      <td>0</td>\n",
       "      <td>0</td>\n",
       "      <td>0</td>\n",
       "      <td>0</td>\n",
       "      <td>0</td>\n",
       "      <td>0</td>\n",
       "      <td>0</td>\n",
       "      <td>c</td>\n",
       "    </tr>\n",
       "    <tr>\n",
       "      <th>2</th>\n",
       "      <td>Roast turkey with chestnut stuffing</td>\n",
       "      <td>9217.0</td>\n",
       "      <td>1</td>\n",
       "      <td>1</td>\n",
       "      <td>0</td>\n",
       "      <td>1</td>\n",
       "      <td>0</td>\n",
       "      <td>1</td>\n",
       "      <td>0</td>\n",
       "      <td>0</td>\n",
       "      <td>1</td>\n",
       "      <td>1</td>\n",
       "      <td>0</td>\n",
       "      <td>1</td>\n",
       "      <td>0</td>\n",
       "      <td>1</td>\n",
       "      <td>c</td>\n",
       "    </tr>\n",
       "    <tr>\n",
       "      <th>3</th>\n",
       "      <td>Roast turkey with citrus butter</td>\n",
       "      <td>8740.0</td>\n",
       "      <td>1</td>\n",
       "      <td>1</td>\n",
       "      <td>0</td>\n",
       "      <td>1</td>\n",
       "      <td>0</td>\n",
       "      <td>1</td>\n",
       "      <td>1</td>\n",
       "      <td>0</td>\n",
       "      <td>0</td>\n",
       "      <td>0</td>\n",
       "      <td>0</td>\n",
       "      <td>1</td>\n",
       "      <td>0</td>\n",
       "      <td>1</td>\n",
       "      <td>c</td>\n",
       "    </tr>\n",
       "    <tr>\n",
       "      <th>4</th>\n",
       "      <td>Roast turkey with lemon &amp; garlic</td>\n",
       "      <td>8380.0</td>\n",
       "      <td>1</td>\n",
       "      <td>1</td>\n",
       "      <td>0</td>\n",
       "      <td>1</td>\n",
       "      <td>0</td>\n",
       "      <td>1</td>\n",
       "      <td>0</td>\n",
       "      <td>0</td>\n",
       "      <td>0</td>\n",
       "      <td>0</td>\n",
       "      <td>0</td>\n",
       "      <td>1</td>\n",
       "      <td>0</td>\n",
       "      <td>1</td>\n",
       "      <td>c</td>\n",
       "    </tr>\n",
       "  </tbody>\n",
       "</table>\n",
       "</div>"
      ],
      "text/plain": [
       "                                  title   energy  fat  satfat  transfat  \\\n",
       "0   Roast turkey & cranberry Wellington  11670.5    1       1         0   \n",
       "1  Roast turkey breast wrapped in bacon   4423.0    1       0         0   \n",
       "2   Roast turkey with chestnut stuffing   9217.0    1       1         0   \n",
       "3       Roast turkey with citrus butter   8740.0    1       1         0   \n",
       "4      Roast turkey with lemon & garlic   8380.0    1       1         0   \n",
       "\n",
       "   cholesterol  carbs  sugars  fiber  protein  salt  sodium  vit_a  vit_c  \\\n",
       "0            1      1       0      1        1     1       1      0      1   \n",
       "1            0      0       0      0        0     0       0      0      0   \n",
       "2            1      0       1      0        0     1       1      0      1   \n",
       "3            1      0       1      1        0     0       0      0      1   \n",
       "4            1      0       1      0        0     0       0      0      1   \n",
       "\n",
       "   calcium  iron rec_type  \n",
       "0        0     1        c  \n",
       "1        0     0        c  \n",
       "2        0     1        c  \n",
       "3        0     1        c  \n",
       "4        0     1        c  "
      ]
     },
     "execution_count": 3,
     "metadata": {},
     "output_type": "execute_result"
    }
   ],
   "source": [
    "ml_data.limit(5).toPandas()"
   ]
  },
  {
   "cell_type": "code",
   "execution_count": 3,
   "metadata": {},
   "outputs": [
    {
     "data": {
      "text/plain": [
       "1630"
      ]
     },
     "execution_count": 3,
     "metadata": {},
     "output_type": "execute_result"
    }
   ],
   "source": [
    "ml_data.count()"
   ]
  },
  {
   "cell_type": "code",
   "execution_count": 4,
   "metadata": {
    "collapsed": true
   },
   "outputs": [
    {
     "name": "stdout",
     "output_type": "stream",
     "text": [
      "+--------+\n",
      "|rec_type|\n",
      "+--------+\n",
      "|       g|\n",
      "|       c|\n",
      "+--------+\n",
      "\n"
     ]
    }
   ],
   "source": [
    "# ml_data.select('rec_type').distinct().show()"
   ]
  },
  {
   "cell_type": "code",
   "execution_count": 5,
   "metadata": {
    "scrolled": true
   },
   "outputs": [
    {
     "data": {
      "text/html": [
       "<div>\n",
       "<style scoped>\n",
       "    .dataframe tbody tr th:only-of-type {\n",
       "        vertical-align: middle;\n",
       "    }\n",
       "\n",
       "    .dataframe tbody tr th {\n",
       "        vertical-align: top;\n",
       "    }\n",
       "\n",
       "    .dataframe thead th {\n",
       "        text-align: right;\n",
       "    }\n",
       "</style>\n",
       "<table border=\"1\" class=\"dataframe\">\n",
       "  <thead>\n",
       "    <tr style=\"text-align: right;\">\n",
       "      <th></th>\n",
       "      <th>summary</th>\n",
       "      <th>title</th>\n",
       "      <th>energy</th>\n",
       "      <th>fat</th>\n",
       "      <th>satfat</th>\n",
       "      <th>transfat</th>\n",
       "      <th>cholesterol</th>\n",
       "      <th>carbs</th>\n",
       "      <th>sugars</th>\n",
       "      <th>fiber</th>\n",
       "      <th>protein</th>\n",
       "      <th>salt</th>\n",
       "      <th>sodium</th>\n",
       "      <th>vit_a</th>\n",
       "      <th>vit_c</th>\n",
       "      <th>calcium</th>\n",
       "      <th>iron</th>\n",
       "      <th>rec_type</th>\n",
       "    </tr>\n",
       "  </thead>\n",
       "  <tbody>\n",
       "    <tr>\n",
       "      <th>0</th>\n",
       "      <td>count</td>\n",
       "      <td>1630</td>\n",
       "      <td>1630</td>\n",
       "      <td>1630</td>\n",
       "      <td>1630</td>\n",
       "      <td>1630</td>\n",
       "      <td>1630</td>\n",
       "      <td>1630</td>\n",
       "      <td>1630</td>\n",
       "      <td>1630</td>\n",
       "      <td>1630</td>\n",
       "      <td>1630</td>\n",
       "      <td>1630</td>\n",
       "      <td>1630</td>\n",
       "      <td>1630</td>\n",
       "      <td>1630</td>\n",
       "      <td>1630</td>\n",
       "      <td>1630</td>\n",
       "    </tr>\n",
       "    <tr>\n",
       "      <th>1</th>\n",
       "      <td>mean</td>\n",
       "      <td>None</td>\n",
       "      <td>6518.358895705522</td>\n",
       "      <td>0.42822085889570555</td>\n",
       "      <td>0.4822085889570552</td>\n",
       "      <td>0.007975460122699387</td>\n",
       "      <td>0.4503067484662577</td>\n",
       "      <td>0.37791411042944784</td>\n",
       "      <td>0.40245398773006136</td>\n",
       "      <td>0.3815950920245399</td>\n",
       "      <td>0.350920245398773</td>\n",
       "      <td>0.3282208588957055</td>\n",
       "      <td>0.3570552147239264</td>\n",
       "      <td>0.011042944785276074</td>\n",
       "      <td>0.46748466257668714</td>\n",
       "      <td>0.06134969325153374</td>\n",
       "      <td>0.3895705521472393</td>\n",
       "      <td>None</td>\n",
       "    </tr>\n",
       "    <tr>\n",
       "      <th>2</th>\n",
       "      <td>stddev</td>\n",
       "      <td>None</td>\n",
       "      <td>4333.004666495138</td>\n",
       "      <td>0.4949727875963432</td>\n",
       "      <td>0.49983671310396705</td>\n",
       "      <td>0.08897589019076659</td>\n",
       "      <td>0.4976771375363511</td>\n",
       "      <td>0.4850147979082384</td>\n",
       "      <td>0.49054296726298335</td>\n",
       "      <td>0.485927093107896</td>\n",
       "      <td>0.4774044951121485</td>\n",
       "      <td>0.4697097836339971</td>\n",
       "      <td>0.47927832554778266</td>\n",
       "      <td>0.10453565070140429</td>\n",
       "      <td>0.49909475272907544</td>\n",
       "      <td>0.24004428519552737</td>\n",
       "      <td>0.48780254145658763</td>\n",
       "      <td>None</td>\n",
       "    </tr>\n",
       "    <tr>\n",
       "      <th>3</th>\n",
       "      <td>min</td>\n",
       "      <td>\"\"\"Paella\"\" Fried Rice \"</td>\n",
       "      <td>0.0</td>\n",
       "      <td>0</td>\n",
       "      <td>0</td>\n",
       "      <td>0</td>\n",
       "      <td>0</td>\n",
       "      <td>0</td>\n",
       "      <td>0</td>\n",
       "      <td>0</td>\n",
       "      <td>0</td>\n",
       "      <td>0</td>\n",
       "      <td>0</td>\n",
       "      <td>0</td>\n",
       "      <td>0</td>\n",
       "      <td>0</td>\n",
       "      <td>0</td>\n",
       "      <td>c</td>\n",
       "    </tr>\n",
       "    <tr>\n",
       "      <th>4</th>\n",
       "      <td>max</td>\n",
       "      <td>‘Cheesy’ vegan scones</td>\n",
       "      <td>28101.0</td>\n",
       "      <td>1</td>\n",
       "      <td>1</td>\n",
       "      <td>1</td>\n",
       "      <td>1</td>\n",
       "      <td>1</td>\n",
       "      <td>1</td>\n",
       "      <td>1</td>\n",
       "      <td>1</td>\n",
       "      <td>1</td>\n",
       "      <td>1</td>\n",
       "      <td>1</td>\n",
       "      <td>1</td>\n",
       "      <td>1</td>\n",
       "      <td>1</td>\n",
       "      <td>g</td>\n",
       "    </tr>\n",
       "  </tbody>\n",
       "</table>\n",
       "</div>"
      ],
      "text/plain": [
       "  summary                     title             energy                  fat  \\\n",
       "0   count                      1630               1630                 1630   \n",
       "1    mean                      None  6518.358895705522  0.42822085889570555   \n",
       "2  stddev                      None  4333.004666495138   0.4949727875963432   \n",
       "3     min  \"\"\"Paella\"\" Fried Rice \"                0.0                    0   \n",
       "4     max     ‘Cheesy’ vegan scones            28101.0                    1   \n",
       "\n",
       "                satfat              transfat         cholesterol  \\\n",
       "0                 1630                  1630                1630   \n",
       "1   0.4822085889570552  0.007975460122699387  0.4503067484662577   \n",
       "2  0.49983671310396705   0.08897589019076659  0.4976771375363511   \n",
       "3                    0                     0                   0   \n",
       "4                    1                     1                   1   \n",
       "\n",
       "                 carbs               sugars               fiber  \\\n",
       "0                 1630                 1630                1630   \n",
       "1  0.37791411042944784  0.40245398773006136  0.3815950920245399   \n",
       "2   0.4850147979082384  0.49054296726298335   0.485927093107896   \n",
       "3                    0                    0                   0   \n",
       "4                    1                    1                   1   \n",
       "\n",
       "              protein                salt               sodium  \\\n",
       "0                1630                1630                 1630   \n",
       "1   0.350920245398773  0.3282208588957055   0.3570552147239264   \n",
       "2  0.4774044951121485  0.4697097836339971  0.47927832554778266   \n",
       "3                   0                   0                    0   \n",
       "4                   1                   1                    1   \n",
       "\n",
       "                  vit_a                vit_c              calcium  \\\n",
       "0                  1630                 1630                 1630   \n",
       "1  0.011042944785276074  0.46748466257668714  0.06134969325153374   \n",
       "2   0.10453565070140429  0.49909475272907544  0.24004428519552737   \n",
       "3                     0                    0                    0   \n",
       "4                     1                    1                    1   \n",
       "\n",
       "                  iron rec_type  \n",
       "0                 1630     1630  \n",
       "1   0.3895705521472393     None  \n",
       "2  0.48780254145658763     None  \n",
       "3                    0        c  \n",
       "4                    1        g  "
      ]
     },
     "execution_count": 5,
     "metadata": {},
     "output_type": "execute_result"
    }
   ],
   "source": [
    "ml_data.describe().toPandas()"
   ]
  },
  {
   "cell_type": "code",
   "execution_count": 9,
   "metadata": {
    "scrolled": false
   },
   "outputs": [
    {
     "data": {
      "text/html": [
       "<div>\n",
       "<style scoped>\n",
       "    .dataframe tbody tr th:only-of-type {\n",
       "        vertical-align: middle;\n",
       "    }\n",
       "\n",
       "    .dataframe tbody tr th {\n",
       "        vertical-align: top;\n",
       "    }\n",
       "\n",
       "    .dataframe thead th {\n",
       "        text-align: right;\n",
       "    }\n",
       "</style>\n",
       "<table border=\"1\" class=\"dataframe\">\n",
       "  <thead>\n",
       "    <tr style=\"text-align: right;\">\n",
       "      <th></th>\n",
       "      <th>title</th>\n",
       "      <th>energy</th>\n",
       "      <th>fat</th>\n",
       "      <th>satfat</th>\n",
       "      <th>transfat</th>\n",
       "      <th>cholesterol</th>\n",
       "      <th>carbs</th>\n",
       "      <th>sugars</th>\n",
       "      <th>fiber</th>\n",
       "      <th>protein</th>\n",
       "      <th>salt</th>\n",
       "      <th>sodium</th>\n",
       "      <th>vit_a</th>\n",
       "      <th>vit_c</th>\n",
       "      <th>calcium</th>\n",
       "      <th>iron</th>\n",
       "      <th>rec_type</th>\n",
       "    </tr>\n",
       "  </thead>\n",
       "  <tbody>\n",
       "    <tr>\n",
       "      <th>0</th>\n",
       "      <td>0</td>\n",
       "      <td>0</td>\n",
       "      <td>0</td>\n",
       "      <td>0</td>\n",
       "      <td>0</td>\n",
       "      <td>0</td>\n",
       "      <td>0</td>\n",
       "      <td>0</td>\n",
       "      <td>0</td>\n",
       "      <td>0</td>\n",
       "      <td>0</td>\n",
       "      <td>0</td>\n",
       "      <td>0</td>\n",
       "      <td>0</td>\n",
       "      <td>0</td>\n",
       "      <td>0</td>\n",
       "      <td>0</td>\n",
       "    </tr>\n",
       "  </tbody>\n",
       "</table>\n",
       "</div>"
      ],
      "text/plain": [
       "   title  energy  fat  satfat  transfat  cholesterol  carbs  sugars  fiber  \\\n",
       "0      0       0    0       0         0            0      0       0      0   \n",
       "\n",
       "   protein  salt  sodium  vit_a  vit_c  calcium  iron  rec_type  \n",
       "0        0     0       0      0      0        0     0         0  "
      ]
     },
     "execution_count": 9,
     "metadata": {},
     "output_type": "execute_result"
    }
   ],
   "source": [
    "#Find the number of missing values for each column\n",
    "\n",
    "ml_data.select([count(when(ml_data[c].isNull(), c)).alias(c) for c in ml_data.columns]).toPandas()"
   ]
  },
  {
   "cell_type": "code",
   "execution_count": 13,
   "metadata": {},
   "outputs": [
    {
     "data": {
      "text/plain": [
       "1630"
      ]
     },
     "execution_count": 13,
     "metadata": {},
     "output_type": "execute_result"
    }
   ],
   "source": [
    "#how many different recipes we have\n",
    "ml_data.select('title').distinct().count()"
   ]
  },
  {
   "cell_type": "markdown",
   "metadata": {},
   "source": [
    "### Regression for the probability of getting fat from a meal"
   ]
  },
  {
   "cell_type": "markdown",
   "metadata": {},
   "source": [
    "### Feature Engineering"
   ]
  },
  {
   "cell_type": "code",
   "execution_count": null,
   "metadata": {},
   "outputs": [],
   "source": [
    "from pyspark.ml.linalg import Vectors\n",
    "from pyspark.ml.stat import Correlation"
   ]
  },
  {
   "cell_type": "code",
   "execution_count": 20,
   "metadata": {},
   "outputs": [
    {
     "data": {
      "text/plain": [
       "0.1721414597062431"
      ]
     },
     "execution_count": 20,
     "metadata": {},
     "output_type": "execute_result"
    }
   ],
   "source": [
    "#are fat and sugars correlated ?\n",
    "sugar_fat= ml_data.stat.corr(\"fat\", \"sugars\")\n",
    "sugar_fat"
   ]
  },
  {
   "cell_type": "code",
   "execution_count": 21,
   "metadata": {},
   "outputs": [
    {
     "data": {
      "text/plain": [
       "0.2963026797373545"
      ]
     },
     "execution_count": 21,
     "metadata": {},
     "output_type": "execute_result"
    }
   ],
   "source": [
    "#are fat and protein correlated ?\n",
    "protein_fat=ml_data.stat.corr(\"fat\", \"protein\")\n",
    "protein_fat"
   ]
  },
  {
   "cell_type": "code",
   "execution_count": 22,
   "metadata": {},
   "outputs": [
    {
     "data": {
      "text/plain": [
       "0.4327646879868296"
      ]
     },
     "execution_count": 22,
     "metadata": {},
     "output_type": "execute_result"
    }
   ],
   "source": [
    "#are fat and salt correlated ?\n",
    "salt_fat = ml_data.stat.corr(\"fat\", \"salt\")\n",
    "salt_fat"
   ]
  },
  {
   "cell_type": "code",
   "execution_count": 23,
   "metadata": {},
   "outputs": [
    {
     "data": {
      "text/plain": [
       "0.4079069876811437"
      ]
     },
     "execution_count": 23,
     "metadata": {},
     "output_type": "execute_result"
    }
   ],
   "source": [
    "#are fat and cholesterol correlated ?\n",
    "cholesterol_fat = ml_data.stat.corr(\"fat\", \"cholesterol\")\n",
    "cholesterol_fat"
   ]
  },
  {
   "cell_type": "code",
   "execution_count": 24,
   "metadata": {},
   "outputs": [
    {
     "data": {
      "text/plain": [
       "0.42284961220614825"
      ]
     },
     "execution_count": 24,
     "metadata": {},
     "output_type": "execute_result"
    }
   ],
   "source": [
    "#are fat and satfat correlated ?\n",
    "satfat_fat = ml_data.stat.corr(\"fat\", \"satfat\")\n",
    "satfat_fat "
   ]
  },
  {
   "cell_type": "code",
   "execution_count": 25,
   "metadata": {},
   "outputs": [
    {
     "data": {
      "text/plain": [
       "0.10360886377983673"
      ]
     },
     "execution_count": 25,
     "metadata": {},
     "output_type": "execute_result"
    }
   ],
   "source": [
    "#are fat and transfat correlated ?\n",
    "transfat_fat = ml_data.stat.corr(\"fat\", \"transfat\")\n",
    "transfat_fat"
   ]
  },
  {
   "cell_type": "code",
   "execution_count": 26,
   "metadata": {},
   "outputs": [
    {
     "data": {
      "text/plain": [
       "0.15397639676186878"
      ]
     },
     "execution_count": 26,
     "metadata": {},
     "output_type": "execute_result"
    }
   ],
   "source": [
    "#are fat and carbs correlated ?\n",
    "carbs_fat = ml_data.stat.corr(\"fat\", \"carbs\")\n",
    "carbs_fat"
   ]
  },
  {
   "cell_type": "code",
   "execution_count": 27,
   "metadata": {},
   "outputs": [
    {
     "data": {
      "text/plain": [
       "0.3768339345096145"
      ]
     },
     "execution_count": 27,
     "metadata": {},
     "output_type": "execute_result"
    }
   ],
   "source": [
    "#are fat and fiber correlated ?\n",
    "fiber_fat= ml_data.stat.corr(\"fat\", \"fiber\")\n",
    "fiber_fat"
   ]
  },
  {
   "cell_type": "code",
   "execution_count": 28,
   "metadata": {},
   "outputs": [
    {
     "data": {
      "text/plain": [
       "0.3823949282440285"
      ]
     },
     "execution_count": 28,
     "metadata": {},
     "output_type": "execute_result"
    }
   ],
   "source": [
    "#are fat and sodium correlated ?\n",
    "sodium_fat= ml_data.stat.corr(\"fat\", \"sodium\")\n",
    "sodium_fat"
   ]
  },
  {
   "cell_type": "code",
   "execution_count": 29,
   "metadata": {},
   "outputs": [
    {
     "data": {
      "text/plain": [
       "0.12210514921720764"
      ]
     },
     "execution_count": 29,
     "metadata": {},
     "output_type": "execute_result"
    }
   ],
   "source": [
    "#are fat and vit_a correlated ?\n",
    "vit_a_fat= ml_data.stat.corr(\"fat\", \"vit_a\")\n",
    "vit_a_fat"
   ]
  },
  {
   "cell_type": "code",
   "execution_count": 30,
   "metadata": {},
   "outputs": [
    {
     "data": {
      "text/plain": [
       "0.39186317697510026"
      ]
     },
     "execution_count": 30,
     "metadata": {},
     "output_type": "execute_result"
    }
   ],
   "source": [
    "#are fat and vit_c correlated ?\n",
    "vit_c_fat= ml_data.stat.corr(\"fat\", \"vit_c\")\n",
    "vit_c_fat"
   ]
  },
  {
   "cell_type": "code",
   "execution_count": 31,
   "metadata": {},
   "outputs": [
    {
     "data": {
      "text/plain": [
       "0.15591770716039377"
      ]
     },
     "execution_count": 31,
     "metadata": {},
     "output_type": "execute_result"
    }
   ],
   "source": [
    "#are fat and calcium correlated ?\n",
    "calcium_fat= ml_data.stat.corr(\"fat\", \"calcium\")\n",
    "calcium_fat"
   ]
  },
  {
   "cell_type": "code",
   "execution_count": 32,
   "metadata": {},
   "outputs": [
    {
     "data": {
      "text/plain": [
       "0.4730996846243969"
      ]
     },
     "execution_count": 32,
     "metadata": {},
     "output_type": "execute_result"
    }
   ],
   "source": [
    "#are fat and iron correlated ?\n",
    "iron_fat= ml_data.stat.corr(\"fat\", \"iron\")\n",
    "iron_fat"
   ]
  },
  {
   "cell_type": "code",
   "execution_count": 34,
   "metadata": {
    "collapsed": true
   },
   "outputs": [
    {
     "data": {
      "text/html": [
       "<div>\n",
       "<style scoped>\n",
       "    .dataframe tbody tr th:only-of-type {\n",
       "        vertical-align: middle;\n",
       "    }\n",
       "\n",
       "    .dataframe tbody tr th {\n",
       "        vertical-align: top;\n",
       "    }\n",
       "\n",
       "    .dataframe thead th {\n",
       "        text-align: right;\n",
       "    }\n",
       "</style>\n",
       "<table border=\"1\" class=\"dataframe\">\n",
       "  <thead>\n",
       "    <tr style=\"text-align: right;\">\n",
       "      <th></th>\n",
       "      <th>Type</th>\n",
       "      <th>Correlation_with_Fat</th>\n",
       "    </tr>\n",
       "  </thead>\n",
       "  <tbody>\n",
       "    <tr>\n",
       "      <th>5</th>\n",
       "      <td>transfat</td>\n",
       "      <td>0.103609</td>\n",
       "    </tr>\n",
       "    <tr>\n",
       "      <th>9</th>\n",
       "      <td>vit_a</td>\n",
       "      <td>0.122105</td>\n",
       "    </tr>\n",
       "    <tr>\n",
       "      <th>6</th>\n",
       "      <td>carbs</td>\n",
       "      <td>0.153976</td>\n",
       "    </tr>\n",
       "    <tr>\n",
       "      <th>11</th>\n",
       "      <td>calcium</td>\n",
       "      <td>0.155918</td>\n",
       "    </tr>\n",
       "    <tr>\n",
       "      <th>0</th>\n",
       "      <td>sugars</td>\n",
       "      <td>0.172141</td>\n",
       "    </tr>\n",
       "    <tr>\n",
       "      <th>1</th>\n",
       "      <td>protein</td>\n",
       "      <td>0.296303</td>\n",
       "    </tr>\n",
       "    <tr>\n",
       "      <th>7</th>\n",
       "      <td>fiber</td>\n",
       "      <td>0.376834</td>\n",
       "    </tr>\n",
       "    <tr>\n",
       "      <th>8</th>\n",
       "      <td>sodium</td>\n",
       "      <td>0.382395</td>\n",
       "    </tr>\n",
       "    <tr>\n",
       "      <th>10</th>\n",
       "      <td>vit_c</td>\n",
       "      <td>0.391863</td>\n",
       "    </tr>\n",
       "    <tr>\n",
       "      <th>3</th>\n",
       "      <td>cholesterol</td>\n",
       "      <td>0.407907</td>\n",
       "    </tr>\n",
       "    <tr>\n",
       "      <th>4</th>\n",
       "      <td>satfat</td>\n",
       "      <td>0.422850</td>\n",
       "    </tr>\n",
       "    <tr>\n",
       "      <th>2</th>\n",
       "      <td>salt</td>\n",
       "      <td>0.432765</td>\n",
       "    </tr>\n",
       "    <tr>\n",
       "      <th>12</th>\n",
       "      <td>iron</td>\n",
       "      <td>0.473100</td>\n",
       "    </tr>\n",
       "  </tbody>\n",
       "</table>\n",
       "</div>"
      ],
      "text/plain": [
       "           Type  Correlation_with_Fat\n",
       "5      transfat              0.103609\n",
       "9         vit_a              0.122105\n",
       "6         carbs              0.153976\n",
       "11      calcium              0.155918\n",
       "0        sugars              0.172141\n",
       "1       protein              0.296303\n",
       "7         fiber              0.376834\n",
       "8        sodium              0.382395\n",
       "10        vit_c              0.391863\n",
       "3   cholesterol              0.407907\n",
       "4        satfat              0.422850\n",
       "2          salt              0.432765\n",
       "12         iron              0.473100"
      ]
     },
     "execution_count": 34,
     "metadata": {},
     "output_type": "execute_result"
    }
   ],
   "source": [
    "cor_fat = pd.DataFrame({\n",
    "    'Type': ['sugars', 'protein', 'salt', 'cholesterol', 'satfat', 'transfat',\n",
    "              'carbs', 'fiber', 'sodium','vit_a','vit_c','calcium','iron'],\n",
    "    'Correlation_with_Fat': [sugar_fat, protein_fat, salt_fat,cholesterol_fat, satfat_fat, transfat_fat,\n",
    "              carbs_fat, fiber_fat, sodium_fat,vit_a_fat,vit_c_fat,calcium_fat,iron_fat]})\n",
    "cor_fat.sort_values(by ='Correlation_with_Fat', ascending=True)"
   ]
  },
  {
   "cell_type": "code",
   "execution_count": 3,
   "metadata": {
    "scrolled": true
   },
   "outputs": [
    {
     "data": {
      "text/html": [
       "<div>\n",
       "<style scoped>\n",
       "    .dataframe tbody tr th:only-of-type {\n",
       "        vertical-align: middle;\n",
       "    }\n",
       "\n",
       "    .dataframe tbody tr th {\n",
       "        vertical-align: top;\n",
       "    }\n",
       "\n",
       "    .dataframe thead th {\n",
       "        text-align: right;\n",
       "    }\n",
       "</style>\n",
       "<table border=\"1\" class=\"dataframe\">\n",
       "  <thead>\n",
       "    <tr style=\"text-align: right;\">\n",
       "      <th></th>\n",
       "      <th>title</th>\n",
       "      <th>energy</th>\n",
       "      <th>fat</th>\n",
       "      <th>satfat</th>\n",
       "      <th>transfat</th>\n",
       "      <th>cholesterol</th>\n",
       "      <th>carbs</th>\n",
       "      <th>sugars</th>\n",
       "      <th>fiber</th>\n",
       "      <th>protein</th>\n",
       "      <th>salt</th>\n",
       "      <th>sodium</th>\n",
       "      <th>vit_a</th>\n",
       "      <th>vit_c</th>\n",
       "      <th>calcium</th>\n",
       "      <th>iron</th>\n",
       "      <th>rec_type</th>\n",
       "      <th>energy_category</th>\n",
       "    </tr>\n",
       "  </thead>\n",
       "  <tbody>\n",
       "    <tr>\n",
       "      <th>0</th>\n",
       "      <td>Roast turkey &amp; cranberry Wellington</td>\n",
       "      <td>11670.5</td>\n",
       "      <td>1</td>\n",
       "      <td>1</td>\n",
       "      <td>0</td>\n",
       "      <td>1</td>\n",
       "      <td>1</td>\n",
       "      <td>0</td>\n",
       "      <td>1</td>\n",
       "      <td>1</td>\n",
       "      <td>1</td>\n",
       "      <td>1</td>\n",
       "      <td>0</td>\n",
       "      <td>1</td>\n",
       "      <td>0</td>\n",
       "      <td>1</td>\n",
       "      <td>c</td>\n",
       "      <td>2.0</td>\n",
       "    </tr>\n",
       "    <tr>\n",
       "      <th>1</th>\n",
       "      <td>Roast turkey breast wrapped in bacon</td>\n",
       "      <td>4423.0</td>\n",
       "      <td>1</td>\n",
       "      <td>0</td>\n",
       "      <td>0</td>\n",
       "      <td>0</td>\n",
       "      <td>0</td>\n",
       "      <td>0</td>\n",
       "      <td>0</td>\n",
       "      <td>0</td>\n",
       "      <td>0</td>\n",
       "      <td>0</td>\n",
       "      <td>0</td>\n",
       "      <td>0</td>\n",
       "      <td>0</td>\n",
       "      <td>0</td>\n",
       "      <td>c</td>\n",
       "      <td>1.0</td>\n",
       "    </tr>\n",
       "    <tr>\n",
       "      <th>2</th>\n",
       "      <td>Roast turkey with chestnut stuffing</td>\n",
       "      <td>9217.0</td>\n",
       "      <td>1</td>\n",
       "      <td>1</td>\n",
       "      <td>0</td>\n",
       "      <td>1</td>\n",
       "      <td>0</td>\n",
       "      <td>1</td>\n",
       "      <td>0</td>\n",
       "      <td>0</td>\n",
       "      <td>1</td>\n",
       "      <td>1</td>\n",
       "      <td>0</td>\n",
       "      <td>1</td>\n",
       "      <td>0</td>\n",
       "      <td>1</td>\n",
       "      <td>c</td>\n",
       "      <td>2.0</td>\n",
       "    </tr>\n",
       "    <tr>\n",
       "      <th>3</th>\n",
       "      <td>Roast turkey with citrus butter</td>\n",
       "      <td>8740.0</td>\n",
       "      <td>1</td>\n",
       "      <td>1</td>\n",
       "      <td>0</td>\n",
       "      <td>1</td>\n",
       "      <td>0</td>\n",
       "      <td>1</td>\n",
       "      <td>1</td>\n",
       "      <td>0</td>\n",
       "      <td>0</td>\n",
       "      <td>0</td>\n",
       "      <td>0</td>\n",
       "      <td>1</td>\n",
       "      <td>0</td>\n",
       "      <td>1</td>\n",
       "      <td>c</td>\n",
       "      <td>2.0</td>\n",
       "    </tr>\n",
       "    <tr>\n",
       "      <th>4</th>\n",
       "      <td>Roast turkey with lemon &amp; garlic</td>\n",
       "      <td>8380.0</td>\n",
       "      <td>1</td>\n",
       "      <td>1</td>\n",
       "      <td>0</td>\n",
       "      <td>1</td>\n",
       "      <td>0</td>\n",
       "      <td>1</td>\n",
       "      <td>0</td>\n",
       "      <td>0</td>\n",
       "      <td>0</td>\n",
       "      <td>0</td>\n",
       "      <td>0</td>\n",
       "      <td>1</td>\n",
       "      <td>0</td>\n",
       "      <td>1</td>\n",
       "      <td>c</td>\n",
       "      <td>2.0</td>\n",
       "    </tr>\n",
       "  </tbody>\n",
       "</table>\n",
       "</div>"
      ],
      "text/plain": [
       "                                  title   energy  fat  satfat  transfat  \\\n",
       "0   Roast turkey & cranberry Wellington  11670.5    1       1         0   \n",
       "1  Roast turkey breast wrapped in bacon   4423.0    1       0         0   \n",
       "2   Roast turkey with chestnut stuffing   9217.0    1       1         0   \n",
       "3       Roast turkey with citrus butter   8740.0    1       1         0   \n",
       "4      Roast turkey with lemon & garlic   8380.0    1       1         0   \n",
       "\n",
       "   cholesterol  carbs  sugars  fiber  protein  salt  sodium  vit_a  vit_c  \\\n",
       "0            1      1       0      1        1     1       1      0      1   \n",
       "1            0      0       0      0        0     0       0      0      0   \n",
       "2            1      0       1      0        0     1       1      0      1   \n",
       "3            1      0       1      1        0     0       0      0      1   \n",
       "4            1      0       1      0        0     0       0      0      1   \n",
       "\n",
       "   calcium  iron rec_type  energy_category  \n",
       "0        0     1        c              2.0  \n",
       "1        0     0        c              1.0  \n",
       "2        0     1        c              2.0  \n",
       "3        0     1        c              2.0  \n",
       "4        0     1        c              2.0  "
      ]
     },
     "execution_count": 3,
     "metadata": {},
     "output_type": "execute_result"
    }
   ],
   "source": [
    "#High Medium Low\n",
    "discretizer = QuantileDiscretizer(numBuckets=3, inputCol=\"energy\", outputCol=\"energy_category\")\n",
    "ml_data = discretizer.fit(ml_data).transform(ml_data)\n",
    "ml_data.limit(5).toPandas()"
   ]
  },
  {
   "cell_type": "code",
   "execution_count": 5,
   "metadata": {},
   "outputs": [],
   "source": [
    "# Converting rec_type into binary. 1 for general recipe and 0 for Christmas recipe\n",
    "ml_data = ml_data.withColumn('general_recipe', F.regexp_replace('rec_type', 'g', '1'))\n",
    "ml_data = ml_data.withColumn('general_recipe', F.regexp_replace('general_recipe', 'c', '0'))\n",
    "ml_data = ml_data.withColumn('general_recipe', ml_data.general_recipe.cast('int'))"
   ]
  },
  {
   "cell_type": "code",
   "execution_count": 6,
   "metadata": {
    "scrolled": true
   },
   "outputs": [
    {
     "data": {
      "text/html": [
       "<div>\n",
       "<style scoped>\n",
       "    .dataframe tbody tr th:only-of-type {\n",
       "        vertical-align: middle;\n",
       "    }\n",
       "\n",
       "    .dataframe tbody tr th {\n",
       "        vertical-align: top;\n",
       "    }\n",
       "\n",
       "    .dataframe thead th {\n",
       "        text-align: right;\n",
       "    }\n",
       "</style>\n",
       "<table border=\"1\" class=\"dataframe\">\n",
       "  <thead>\n",
       "    <tr style=\"text-align: right;\">\n",
       "      <th></th>\n",
       "      <th>title</th>\n",
       "      <th>energy</th>\n",
       "      <th>fat</th>\n",
       "      <th>satfat</th>\n",
       "      <th>transfat</th>\n",
       "      <th>cholesterol</th>\n",
       "      <th>carbs</th>\n",
       "      <th>sugars</th>\n",
       "      <th>fiber</th>\n",
       "      <th>protein</th>\n",
       "      <th>salt</th>\n",
       "      <th>sodium</th>\n",
       "      <th>vit_a</th>\n",
       "      <th>vit_c</th>\n",
       "      <th>calcium</th>\n",
       "      <th>iron</th>\n",
       "      <th>rec_type</th>\n",
       "      <th>energy_category</th>\n",
       "      <th>general_recipe</th>\n",
       "    </tr>\n",
       "  </thead>\n",
       "  <tbody>\n",
       "    <tr>\n",
       "      <th>0</th>\n",
       "      <td>Roast turkey &amp; cranberry Wellington</td>\n",
       "      <td>11670.5</td>\n",
       "      <td>1</td>\n",
       "      <td>1</td>\n",
       "      <td>0</td>\n",
       "      <td>1</td>\n",
       "      <td>1</td>\n",
       "      <td>0</td>\n",
       "      <td>1</td>\n",
       "      <td>1</td>\n",
       "      <td>1</td>\n",
       "      <td>1</td>\n",
       "      <td>0</td>\n",
       "      <td>1</td>\n",
       "      <td>0</td>\n",
       "      <td>1</td>\n",
       "      <td>c</td>\n",
       "      <td>2.0</td>\n",
       "      <td>0</td>\n",
       "    </tr>\n",
       "    <tr>\n",
       "      <th>1</th>\n",
       "      <td>Roast turkey breast wrapped in bacon</td>\n",
       "      <td>4423.0</td>\n",
       "      <td>1</td>\n",
       "      <td>0</td>\n",
       "      <td>0</td>\n",
       "      <td>0</td>\n",
       "      <td>0</td>\n",
       "      <td>0</td>\n",
       "      <td>0</td>\n",
       "      <td>0</td>\n",
       "      <td>0</td>\n",
       "      <td>0</td>\n",
       "      <td>0</td>\n",
       "      <td>0</td>\n",
       "      <td>0</td>\n",
       "      <td>0</td>\n",
       "      <td>c</td>\n",
       "      <td>1.0</td>\n",
       "      <td>0</td>\n",
       "    </tr>\n",
       "  </tbody>\n",
       "</table>\n",
       "</div>"
      ],
      "text/plain": [
       "                                  title   energy  fat  satfat  transfat  \\\n",
       "0   Roast turkey & cranberry Wellington  11670.5    1       1         0   \n",
       "1  Roast turkey breast wrapped in bacon   4423.0    1       0         0   \n",
       "\n",
       "   cholesterol  carbs  sugars  fiber  protein  salt  sodium  vit_a  vit_c  \\\n",
       "0            1      1       0      1        1     1       1      0      1   \n",
       "1            0      0       0      0        0     0       0      0      0   \n",
       "\n",
       "   calcium  iron rec_type  energy_category  general_recipe  \n",
       "0        0     1        c              2.0               0  \n",
       "1        0     0        c              1.0               0  "
      ]
     },
     "execution_count": 6,
     "metadata": {},
     "output_type": "execute_result"
    }
   ],
   "source": [
    "ml_data.limit(2).toPandas()"
   ]
  },
  {
   "cell_type": "code",
   "execution_count": 7,
   "metadata": {
    "scrolled": false
   },
   "outputs": [
    {
     "data": {
      "text/plain": [
       "[('title', 'string'),\n",
       " ('energy', 'double'),\n",
       " ('fat', 'int'),\n",
       " ('satfat', 'int'),\n",
       " ('transfat', 'int'),\n",
       " ('cholesterol', 'int'),\n",
       " ('carbs', 'int'),\n",
       " ('sugars', 'int'),\n",
       " ('fiber', 'int'),\n",
       " ('protein', 'int'),\n",
       " ('salt', 'int'),\n",
       " ('sodium', 'int'),\n",
       " ('vit_a', 'int'),\n",
       " ('vit_c', 'int'),\n",
       " ('calcium', 'int'),\n",
       " ('iron', 'int'),\n",
       " ('rec_type', 'string'),\n",
       " ('energy_category', 'double'),\n",
       " ('general_recipe', 'int')]"
      ]
     },
     "execution_count": 7,
     "metadata": {},
     "output_type": "execute_result"
    }
   ],
   "source": [
    "ml_data.dtypes"
   ]
  },
  {
   "cell_type": "markdown",
   "metadata": {},
   "source": [
    "https://spark.apache.org/docs/latest/ml-features.html#vectorassembler"
   ]
  },
  {
   "cell_type": "code",
   "execution_count": 8,
   "metadata": {
    "scrolled": true
   },
   "outputs": [],
   "source": [
    "#gather feature vector and identify features\n",
    "features = ['fat', 'satfat', 'transfat', 'cholesterol', 'carbs', 'sugars','fiber', 'protein',\n",
    "            'salt', 'sodium', 'vit_a', 'vit_c', 'calcium','iron','energy_category']\n",
    "\n",
    "assembler = VectorAssembler(inputCols = features, outputCol = 'feature')\n",
    "pipeline = assembler.transform(ml_data)\n",
    "\n",
    "#split data into 80% train and 20% test\n",
    "train_df, test_df = pipeline.randomSplit([.8,.2],seed=1234)"
   ]
  },
  {
   "cell_type": "code",
   "execution_count": 9,
   "metadata": {
    "scrolled": true
   },
   "outputs": [
    {
     "data": {
      "text/html": [
       "<div>\n",
       "<style scoped>\n",
       "    .dataframe tbody tr th:only-of-type {\n",
       "        vertical-align: middle;\n",
       "    }\n",
       "\n",
       "    .dataframe tbody tr th {\n",
       "        vertical-align: top;\n",
       "    }\n",
       "\n",
       "    .dataframe thead th {\n",
       "        text-align: right;\n",
       "    }\n",
       "</style>\n",
       "<table border=\"1\" class=\"dataframe\">\n",
       "  <thead>\n",
       "    <tr style=\"text-align: right;\">\n",
       "      <th></th>\n",
       "      <th>title</th>\n",
       "      <th>energy</th>\n",
       "      <th>fat</th>\n",
       "      <th>satfat</th>\n",
       "      <th>transfat</th>\n",
       "      <th>cholesterol</th>\n",
       "      <th>carbs</th>\n",
       "      <th>sugars</th>\n",
       "      <th>fiber</th>\n",
       "      <th>protein</th>\n",
       "      <th>salt</th>\n",
       "      <th>sodium</th>\n",
       "      <th>vit_a</th>\n",
       "      <th>vit_c</th>\n",
       "      <th>calcium</th>\n",
       "      <th>iron</th>\n",
       "      <th>rec_type</th>\n",
       "      <th>energy_category</th>\n",
       "      <th>general_recipe</th>\n",
       "      <th>feature</th>\n",
       "    </tr>\n",
       "  </thead>\n",
       "  <tbody>\n",
       "    <tr>\n",
       "      <th>0</th>\n",
       "      <td>10-minute mincemeat</td>\n",
       "      <td>8773.0</td>\n",
       "      <td>1</td>\n",
       "      <td>1</td>\n",
       "      <td>0</td>\n",
       "      <td>1</td>\n",
       "      <td>1</td>\n",
       "      <td>1</td>\n",
       "      <td>1</td>\n",
       "      <td>1</td>\n",
       "      <td>0</td>\n",
       "      <td>0</td>\n",
       "      <td>0</td>\n",
       "      <td>1</td>\n",
       "      <td>0</td>\n",
       "      <td>1</td>\n",
       "      <td>c</td>\n",
       "      <td>2.0</td>\n",
       "      <td>0</td>\n",
       "      <td>[1.0, 1.0, 0.0, 1.0, 1.0, 1.0, 1.0, 1.0, 0.0, ...</td>\n",
       "    </tr>\n",
       "    <tr>\n",
       "      <th>1</th>\n",
       "      <td>15-minute mix &amp; match salad</td>\n",
       "      <td>3347.0</td>\n",
       "      <td>0</td>\n",
       "      <td>0</td>\n",
       "      <td>0</td>\n",
       "      <td>0</td>\n",
       "      <td>0</td>\n",
       "      <td>0</td>\n",
       "      <td>0</td>\n",
       "      <td>0</td>\n",
       "      <td>0</td>\n",
       "      <td>0</td>\n",
       "      <td>0</td>\n",
       "      <td>0</td>\n",
       "      <td>0</td>\n",
       "      <td>0</td>\n",
       "      <td>c</td>\n",
       "      <td>0.0</td>\n",
       "      <td>0</td>\n",
       "      <td>(0.0, 0.0, 0.0, 0.0, 0.0, 0.0, 0.0, 0.0, 0.0, ...</td>\n",
       "    </tr>\n",
       "  </tbody>\n",
       "</table>\n",
       "</div>"
      ],
      "text/plain": [
       "                         title  energy  fat  satfat  transfat  cholesterol  \\\n",
       "0          10-minute mincemeat  8773.0    1       1         0            1   \n",
       "1  15-minute mix & match salad  3347.0    0       0         0            0   \n",
       "\n",
       "   carbs  sugars  fiber  protein  salt  sodium  vit_a  vit_c  calcium  iron  \\\n",
       "0      1       1      1        1     0       0      0      1        0     1   \n",
       "1      0       0      0        0     0       0      0      0        0     0   \n",
       "\n",
       "  rec_type  energy_category  general_recipe  \\\n",
       "0        c              2.0               0   \n",
       "1        c              0.0               0   \n",
       "\n",
       "                                             feature  \n",
       "0  [1.0, 1.0, 0.0, 1.0, 1.0, 1.0, 1.0, 1.0, 0.0, ...  \n",
       "1  (0.0, 0.0, 0.0, 0.0, 0.0, 0.0, 0.0, 0.0, 0.0, ...  "
      ]
     },
     "execution_count": 9,
     "metadata": {},
     "output_type": "execute_result"
    }
   ],
   "source": [
    "train_df.limit(2).toPandas()"
   ]
  },
  {
   "cell_type": "code",
   "execution_count": 52,
   "metadata": {},
   "outputs": [
    {
     "data": {
      "text/html": [
       "<div>\n",
       "<style scoped>\n",
       "    .dataframe tbody tr th:only-of-type {\n",
       "        vertical-align: middle;\n",
       "    }\n",
       "\n",
       "    .dataframe tbody tr th {\n",
       "        vertical-align: top;\n",
       "    }\n",
       "\n",
       "    .dataframe thead th {\n",
       "        text-align: right;\n",
       "    }\n",
       "</style>\n",
       "<table border=\"1\" class=\"dataframe\">\n",
       "  <thead>\n",
       "    <tr style=\"text-align: right;\">\n",
       "      <th></th>\n",
       "      <th>fat</th>\n",
       "      <th>satfat</th>\n",
       "      <th>transfat</th>\n",
       "      <th>cholesterol</th>\n",
       "      <th>carbs</th>\n",
       "      <th>sugars</th>\n",
       "      <th>fiber</th>\n",
       "      <th>protein</th>\n",
       "      <th>salt</th>\n",
       "      <th>sodium</th>\n",
       "      <th>vit_a</th>\n",
       "      <th>vit_c</th>\n",
       "      <th>calcium</th>\n",
       "      <th>iron</th>\n",
       "      <th>energy_category</th>\n",
       "      <th>general_recipe</th>\n",
       "    </tr>\n",
       "  </thead>\n",
       "  <tbody>\n",
       "    <tr>\n",
       "      <th>0</th>\n",
       "      <td>1</td>\n",
       "      <td>1</td>\n",
       "      <td>0</td>\n",
       "      <td>1</td>\n",
       "      <td>1</td>\n",
       "      <td>1</td>\n",
       "      <td>1</td>\n",
       "      <td>1</td>\n",
       "      <td>0</td>\n",
       "      <td>0</td>\n",
       "      <td>0</td>\n",
       "      <td>1</td>\n",
       "      <td>0</td>\n",
       "      <td>1</td>\n",
       "      <td>2.0</td>\n",
       "      <td>0</td>\n",
       "    </tr>\n",
       "    <tr>\n",
       "      <th>1</th>\n",
       "      <td>0</td>\n",
       "      <td>0</td>\n",
       "      <td>0</td>\n",
       "      <td>0</td>\n",
       "      <td>0</td>\n",
       "      <td>0</td>\n",
       "      <td>0</td>\n",
       "      <td>0</td>\n",
       "      <td>0</td>\n",
       "      <td>0</td>\n",
       "      <td>0</td>\n",
       "      <td>0</td>\n",
       "      <td>0</td>\n",
       "      <td>0</td>\n",
       "      <td>0.0</td>\n",
       "      <td>0</td>\n",
       "    </tr>\n",
       "    <tr>\n",
       "      <th>2</th>\n",
       "      <td>0</td>\n",
       "      <td>0</td>\n",
       "      <td>0</td>\n",
       "      <td>0</td>\n",
       "      <td>0</td>\n",
       "      <td>0</td>\n",
       "      <td>0</td>\n",
       "      <td>0</td>\n",
       "      <td>0</td>\n",
       "      <td>1</td>\n",
       "      <td>0</td>\n",
       "      <td>0</td>\n",
       "      <td>0</td>\n",
       "      <td>0</td>\n",
       "      <td>0.0</td>\n",
       "      <td>1</td>\n",
       "    </tr>\n",
       "    <tr>\n",
       "      <th>3</th>\n",
       "      <td>0</td>\n",
       "      <td>1</td>\n",
       "      <td>0</td>\n",
       "      <td>0</td>\n",
       "      <td>1</td>\n",
       "      <td>0</td>\n",
       "      <td>0</td>\n",
       "      <td>0</td>\n",
       "      <td>1</td>\n",
       "      <td>1</td>\n",
       "      <td>0</td>\n",
       "      <td>0</td>\n",
       "      <td>0</td>\n",
       "      <td>0</td>\n",
       "      <td>1.0</td>\n",
       "      <td>0</td>\n",
       "    </tr>\n",
       "    <tr>\n",
       "      <th>4</th>\n",
       "      <td>1</td>\n",
       "      <td>1</td>\n",
       "      <td>0</td>\n",
       "      <td>1</td>\n",
       "      <td>1</td>\n",
       "      <td>1</td>\n",
       "      <td>1</td>\n",
       "      <td>1</td>\n",
       "      <td>1</td>\n",
       "      <td>1</td>\n",
       "      <td>0</td>\n",
       "      <td>1</td>\n",
       "      <td>0</td>\n",
       "      <td>1</td>\n",
       "      <td>2.0</td>\n",
       "      <td>0</td>\n",
       "    </tr>\n",
       "  </tbody>\n",
       "</table>\n",
       "</div>"
      ],
      "text/plain": [
       "   fat  satfat  transfat  cholesterol  carbs  sugars  fiber  protein  salt  \\\n",
       "0    1       1         0            1      1       1      1        1     0   \n",
       "1    0       0         0            0      0       0      0        0     0   \n",
       "2    0       0         0            0      0       0      0        0     0   \n",
       "3    0       1         0            0      1       0      0        0     1   \n",
       "4    1       1         0            1      1       1      1        1     1   \n",
       "\n",
       "   sodium  vit_a  vit_c  calcium  iron  energy_category  general_recipe  \n",
       "0       0      0      1        0     1              2.0               0  \n",
       "1       0      0      0        0     0              0.0               0  \n",
       "2       1      0      0        0     0              0.0               1  \n",
       "3       1      0      0        0     0              1.0               0  \n",
       "4       1      0      1        0     1              2.0               0  "
      ]
     },
     "execution_count": 52,
     "metadata": {},
     "output_type": "execute_result"
    }
   ],
   "source": [
    "train_df.select('fat', 'satfat', 'transfat', 'cholesterol', 'carbs', 'sugars',\n",
    "                   'fiber', 'protein', 'salt', 'sodium', 'vit_a', 'vit_c', 'calcium',\n",
    "                   'iron','energy_category','general_recipe').limit(5).toPandas()"
   ]
  },
  {
   "cell_type": "markdown",
   "metadata": {},
   "source": [
    "https://spark.apache.org/docs/2.2.0/ml-classification-regression.html"
   ]
  },
  {
   "cell_type": "markdown",
   "metadata": {},
   "source": [
    "## Classification"
   ]
  },
  {
   "cell_type": "markdown",
   "metadata": {},
   "source": [
    "### Logistic Regression"
   ]
  },
  {
   "cell_type": "code",
   "execution_count": 10,
   "metadata": {},
   "outputs": [],
   "source": [
    "# %%time\n",
    "\n",
    "# Set parameters for Logistic Regression\n",
    "lg_parameters = LogisticRegression(maxIter=10, featuresCol = 'feature', labelCol='general_recipe')\n",
    "\n",
    "# Fit the model to the data\n",
    "lg_model = lg_parameters.fit(train_df)\n",
    "\n",
    "# Given a dataset, predict each point's label, and show the results\n",
    "lg_predictions = lg_model.transform(test_df)"
   ]
  },
  {
   "cell_type": "code",
   "execution_count": 11,
   "metadata": {
    "scrolled": true
   },
   "outputs": [
    {
     "data": {
      "text/html": [
       "<div>\n",
       "<style scoped>\n",
       "    .dataframe tbody tr th:only-of-type {\n",
       "        vertical-align: middle;\n",
       "    }\n",
       "\n",
       "    .dataframe tbody tr th {\n",
       "        vertical-align: top;\n",
       "    }\n",
       "\n",
       "    .dataframe thead th {\n",
       "        text-align: right;\n",
       "    }\n",
       "</style>\n",
       "<table border=\"1\" class=\"dataframe\">\n",
       "  <thead>\n",
       "    <tr style=\"text-align: right;\">\n",
       "      <th></th>\n",
       "      <th>fat</th>\n",
       "      <th>satfat</th>\n",
       "      <th>transfat</th>\n",
       "      <th>cholesterol</th>\n",
       "      <th>carbs</th>\n",
       "      <th>sugars</th>\n",
       "      <th>fiber</th>\n",
       "      <th>protein</th>\n",
       "      <th>salt</th>\n",
       "      <th>sodium</th>\n",
       "      <th>vit_a</th>\n",
       "      <th>vit_c</th>\n",
       "      <th>calcium</th>\n",
       "      <th>iron</th>\n",
       "      <th>energy_category</th>\n",
       "      <th>general_recipe</th>\n",
       "      <th>prediction</th>\n",
       "    </tr>\n",
       "  </thead>\n",
       "  <tbody>\n",
       "    <tr>\n",
       "      <th>0</th>\n",
       "      <td>0</td>\n",
       "      <td>0</td>\n",
       "      <td>0</td>\n",
       "      <td>0</td>\n",
       "      <td>0</td>\n",
       "      <td>0</td>\n",
       "      <td>0</td>\n",
       "      <td>0</td>\n",
       "      <td>0</td>\n",
       "      <td>1</td>\n",
       "      <td>0</td>\n",
       "      <td>1</td>\n",
       "      <td>0</td>\n",
       "      <td>0</td>\n",
       "      <td>0.0</td>\n",
       "      <td>1</td>\n",
       "      <td>1.0</td>\n",
       "    </tr>\n",
       "    <tr>\n",
       "      <th>1</th>\n",
       "      <td>0</td>\n",
       "      <td>0</td>\n",
       "      <td>0</td>\n",
       "      <td>0</td>\n",
       "      <td>1</td>\n",
       "      <td>1</td>\n",
       "      <td>0</td>\n",
       "      <td>0</td>\n",
       "      <td>1</td>\n",
       "      <td>1</td>\n",
       "      <td>0</td>\n",
       "      <td>1</td>\n",
       "      <td>0</td>\n",
       "      <td>0</td>\n",
       "      <td>0.0</td>\n",
       "      <td>1</td>\n",
       "      <td>1.0</td>\n",
       "    </tr>\n",
       "    <tr>\n",
       "      <th>2</th>\n",
       "      <td>1</td>\n",
       "      <td>1</td>\n",
       "      <td>0</td>\n",
       "      <td>1</td>\n",
       "      <td>1</td>\n",
       "      <td>1</td>\n",
       "      <td>1</td>\n",
       "      <td>1</td>\n",
       "      <td>1</td>\n",
       "      <td>1</td>\n",
       "      <td>0</td>\n",
       "      <td>1</td>\n",
       "      <td>0</td>\n",
       "      <td>1</td>\n",
       "      <td>2.0</td>\n",
       "      <td>0</td>\n",
       "      <td>0.0</td>\n",
       "    </tr>\n",
       "    <tr>\n",
       "      <th>3</th>\n",
       "      <td>0</td>\n",
       "      <td>1</td>\n",
       "      <td>0</td>\n",
       "      <td>1</td>\n",
       "      <td>0</td>\n",
       "      <td>0</td>\n",
       "      <td>0</td>\n",
       "      <td>1</td>\n",
       "      <td>0</td>\n",
       "      <td>0</td>\n",
       "      <td>0</td>\n",
       "      <td>1</td>\n",
       "      <td>0</td>\n",
       "      <td>1</td>\n",
       "      <td>1.0</td>\n",
       "      <td>0</td>\n",
       "      <td>0.0</td>\n",
       "    </tr>\n",
       "    <tr>\n",
       "      <th>4</th>\n",
       "      <td>0</td>\n",
       "      <td>0</td>\n",
       "      <td>0</td>\n",
       "      <td>0</td>\n",
       "      <td>1</td>\n",
       "      <td>1</td>\n",
       "      <td>0</td>\n",
       "      <td>0</td>\n",
       "      <td>0</td>\n",
       "      <td>0</td>\n",
       "      <td>0</td>\n",
       "      <td>0</td>\n",
       "      <td>0</td>\n",
       "      <td>0</td>\n",
       "      <td>0.0</td>\n",
       "      <td>0</td>\n",
       "      <td>0.0</td>\n",
       "    </tr>\n",
       "  </tbody>\n",
       "</table>\n",
       "</div>"
      ],
      "text/plain": [
       "   fat  satfat  transfat  cholesterol  carbs  sugars  fiber  protein  salt  \\\n",
       "0    0       0         0            0      0       0      0        0     0   \n",
       "1    0       0         0            0      1       1      0        0     1   \n",
       "2    1       1         0            1      1       1      1        1     1   \n",
       "3    0       1         0            1      0       0      0        1     0   \n",
       "4    0       0         0            0      1       1      0        0     0   \n",
       "\n",
       "   sodium  vit_a  vit_c  calcium  iron  energy_category  general_recipe  \\\n",
       "0       1      0      1        0     0              0.0               1   \n",
       "1       1      0      1        0     0              0.0               1   \n",
       "2       1      0      1        0     1              2.0               0   \n",
       "3       0      0      1        0     1              1.0               0   \n",
       "4       0      0      0        0     0              0.0               0   \n",
       "\n",
       "   prediction  \n",
       "0         1.0  \n",
       "1         1.0  \n",
       "2         0.0  \n",
       "3         0.0  \n",
       "4         0.0  "
      ]
     },
     "execution_count": 11,
     "metadata": {},
     "output_type": "execute_result"
    }
   ],
   "source": [
    "#compare predictions against true labels\n",
    "lg_predictions.select('fat', 'satfat', 'transfat', 'cholesterol', 'carbs', 'sugars',\n",
    "                   'fiber', 'protein', 'salt', 'sodium', 'vit_a', 'vit_c', 'calcium',\n",
    "                   'iron','energy_category','general_recipe','prediction').limit(5).toPandas()"
   ]
  },
  {
   "cell_type": "code",
   "execution_count": 36,
   "metadata": {},
   "outputs": [
    {
     "name": "stdout",
     "output_type": "stream",
     "text": [
      "98.66\n",
      "98.58\n"
     ]
    }
   ],
   "source": [
    "#print evaluation metrics\n",
    "evaluator = MulticlassClassificationEvaluator(labelCol=\"general_recipe\", predictionCol=\"prediction\")\n",
    "\n",
    "lg_accuracy = round(evaluator.evaluate(lg_predictions, {evaluator.metricName: \"accuracy\"})*100,2)\n",
    "lg_f1_score = round(evaluator.evaluate(lg_predictions, {evaluator.metricName: \"f1\"})*100,2)\n",
    "\n",
    "print(lg_accuracy)\n",
    "print(lg_f1_score)"
   ]
  },
  {
   "cell_type": "code",
   "execution_count": 12,
   "metadata": {
    "scrolled": false
   },
   "outputs": [
    {
     "name": "stdout",
     "output_type": "stream",
     "text": [
      "              precision    recall  f1-score   support\n",
      "\n",
      "           0       0.99      1.00      0.99       281\n",
      "           1       1.00      0.78      0.88        18\n",
      "\n",
      "   micro avg       0.99      0.99      0.99       299\n",
      "   macro avg       0.99      0.89      0.93       299\n",
      "weighted avg       0.99      0.99      0.99       299\n",
      "\n"
     ]
    }
   ],
   "source": [
    "#print evaluation metrics\n",
    "\n",
    "y_test = test_df.select('general_recipe').toPandas()\n",
    "logistic_regression_Y_pred = lg_predictions.select('prediction').toPandas()\n",
    "\n",
    "\n",
    "print(classification_report(y_test, logistic_regression_Y_pred))"
   ]
  },
  {
   "cell_type": "code",
   "execution_count": 13,
   "metadata": {
    "scrolled": true
   },
   "outputs": [
    {
     "data": {
      "text/plain": [
       "Text(0.5, 194.08, 'Predicted label')"
      ]
     },
     "execution_count": 13,
     "metadata": {},
     "output_type": "execute_result"
    },
    {
     "data": {
      "image/png": "[encoded data removed]",
      "text/plain": [
       "<Figure size 360x216 with 2 Axes>"
      ]
     },
     "metadata": {
      "needs_background": "light"
     },
     "output_type": "display_data"
    }
   ],
   "source": [
    "cnf_matrix = metrics.confusion_matrix(y_test, logistic_regression_Y_pred)\n",
    "\n",
    "class_names=[0,1] # name  of classes\n",
    "fig, ax = plt.subplots(figsize=(5,3))\n",
    "tick_marks = np.arange(len(class_names))\n",
    "plt.xticks(tick_marks, class_names)\n",
    "plt.yticks(tick_marks, class_names)\n",
    "\n",
    "# create heatmap\n",
    "sns.heatmap(pd.DataFrame(cnf_matrix), annot=True, cmap=\"Blues\" ,fmt='g')\n",
    "ax.xaxis.set_label_position(\"top\")\n",
    "plt.tight_layout()\n",
    "plt.title('Confusion matrix', y=1.1)\n",
    "plt.ylabel('Actual label')\n",
    "plt.xlabel('Predicted label')"
   ]
  },
  {
   "cell_type": "code",
   "execution_count": 50,
   "metadata": {
    "scrolled": false
   },
   "outputs": [
    {
     "name": "stderr",
     "output_type": "stream",
     "text": [
      "No handles with labels found to put in legend.\n"
     ]
    },
    {
     "data": {
      "image/png": "[encoded data removed]",
      "text/plain": [
       "<Figure size 432x288 with 1 Axes>"
      ]
     },
     "metadata": {
      "needs_background": "light"
     },
     "output_type": "display_data"
    }
   ],
   "source": [
    "feature_imp = pd.Series(lg_model.coefficients,index = features).sort_values(ascending=False)\n",
    "\n",
    "# Creating a bar plot\n",
    "sns.barplot(x=feature_imp, y=feature_imp.index, color = 'purple')\n",
    "\n",
    "# Add labels to your graph\n",
    "plt.xlabel('Feature Influence Score')\n",
    "plt.ylabel('Features')\n",
    "plt.title(\"Visualizing Important Features\")\n",
    "plt.legend()\n",
    "plt.show()"
   ]
  },
  {
   "cell_type": "markdown",
   "metadata": {},
   "source": [
    "### Random Forest"
   ]
  },
  {
   "cell_type": "markdown",
   "metadata": {},
   "source": [
    "### All Features"
   ]
  },
  {
   "cell_type": "code",
   "execution_count": 24,
   "metadata": {},
   "outputs": [],
   "source": [
    "# %%time\n",
    "\n",
    "# Set parameters for the Random Forest.\n",
    "rf_parameters = RandomForestClassifier(maxDepth=10, numTrees=100, impurity=\"gini\", labelCol=\"general_recipe\",\n",
    "                             featuresCol=\"feature\")#, predictionCol=\"prediction\")\n",
    "\n",
    "# Fit the model to the data.\n",
    "rf_model = rf_parameters.fit(train_df)\n",
    "\n",
    "# Given a dataset, predict each point's label, and show the results.\n",
    "rf_predictions = rf_model.transform(test_df)"
   ]
  },
  {
   "cell_type": "code",
   "execution_count": 25,
   "metadata": {},
   "outputs": [
    {
     "data": {
      "text/html": [
       "<div>\n",
       "<style scoped>\n",
       "    .dataframe tbody tr th:only-of-type {\n",
       "        vertical-align: middle;\n",
       "    }\n",
       "\n",
       "    .dataframe tbody tr th {\n",
       "        vertical-align: top;\n",
       "    }\n",
       "\n",
       "    .dataframe thead th {\n",
       "        text-align: right;\n",
       "    }\n",
       "</style>\n",
       "<table border=\"1\" class=\"dataframe\">\n",
       "  <thead>\n",
       "    <tr style=\"text-align: right;\">\n",
       "      <th></th>\n",
       "      <th>fat</th>\n",
       "      <th>satfat</th>\n",
       "      <th>transfat</th>\n",
       "      <th>cholesterol</th>\n",
       "      <th>carbs</th>\n",
       "      <th>sugars</th>\n",
       "      <th>fiber</th>\n",
       "      <th>protein</th>\n",
       "      <th>salt</th>\n",
       "      <th>sodium</th>\n",
       "      <th>vit_a</th>\n",
       "      <th>vit_c</th>\n",
       "      <th>calcium</th>\n",
       "      <th>iron</th>\n",
       "      <th>energy_category</th>\n",
       "      <th>general_recipe</th>\n",
       "      <th>prediction</th>\n",
       "    </tr>\n",
       "  </thead>\n",
       "  <tbody>\n",
       "    <tr>\n",
       "      <th>0</th>\n",
       "      <td>0</td>\n",
       "      <td>0</td>\n",
       "      <td>0</td>\n",
       "      <td>0</td>\n",
       "      <td>0</td>\n",
       "      <td>0</td>\n",
       "      <td>0</td>\n",
       "      <td>0</td>\n",
       "      <td>0</td>\n",
       "      <td>1</td>\n",
       "      <td>0</td>\n",
       "      <td>1</td>\n",
       "      <td>0</td>\n",
       "      <td>0</td>\n",
       "      <td>0.0</td>\n",
       "      <td>1</td>\n",
       "      <td>1.0</td>\n",
       "    </tr>\n",
       "    <tr>\n",
       "      <th>1</th>\n",
       "      <td>0</td>\n",
       "      <td>0</td>\n",
       "      <td>0</td>\n",
       "      <td>0</td>\n",
       "      <td>1</td>\n",
       "      <td>1</td>\n",
       "      <td>0</td>\n",
       "      <td>0</td>\n",
       "      <td>1</td>\n",
       "      <td>1</td>\n",
       "      <td>0</td>\n",
       "      <td>1</td>\n",
       "      <td>0</td>\n",
       "      <td>0</td>\n",
       "      <td>0.0</td>\n",
       "      <td>1</td>\n",
       "      <td>1.0</td>\n",
       "    </tr>\n",
       "    <tr>\n",
       "      <th>2</th>\n",
       "      <td>1</td>\n",
       "      <td>1</td>\n",
       "      <td>0</td>\n",
       "      <td>1</td>\n",
       "      <td>1</td>\n",
       "      <td>1</td>\n",
       "      <td>1</td>\n",
       "      <td>1</td>\n",
       "      <td>1</td>\n",
       "      <td>1</td>\n",
       "      <td>0</td>\n",
       "      <td>1</td>\n",
       "      <td>0</td>\n",
       "      <td>1</td>\n",
       "      <td>2.0</td>\n",
       "      <td>0</td>\n",
       "      <td>0.0</td>\n",
       "    </tr>\n",
       "    <tr>\n",
       "      <th>3</th>\n",
       "      <td>0</td>\n",
       "      <td>1</td>\n",
       "      <td>0</td>\n",
       "      <td>1</td>\n",
       "      <td>0</td>\n",
       "      <td>0</td>\n",
       "      <td>0</td>\n",
       "      <td>1</td>\n",
       "      <td>0</td>\n",
       "      <td>0</td>\n",
       "      <td>0</td>\n",
       "      <td>1</td>\n",
       "      <td>0</td>\n",
       "      <td>1</td>\n",
       "      <td>1.0</td>\n",
       "      <td>0</td>\n",
       "      <td>0.0</td>\n",
       "    </tr>\n",
       "    <tr>\n",
       "      <th>4</th>\n",
       "      <td>0</td>\n",
       "      <td>0</td>\n",
       "      <td>0</td>\n",
       "      <td>0</td>\n",
       "      <td>1</td>\n",
       "      <td>1</td>\n",
       "      <td>0</td>\n",
       "      <td>0</td>\n",
       "      <td>0</td>\n",
       "      <td>0</td>\n",
       "      <td>0</td>\n",
       "      <td>0</td>\n",
       "      <td>0</td>\n",
       "      <td>0</td>\n",
       "      <td>0.0</td>\n",
       "      <td>0</td>\n",
       "      <td>0.0</td>\n",
       "    </tr>\n",
       "  </tbody>\n",
       "</table>\n",
       "</div>"
      ],
      "text/plain": [
       "   fat  satfat  transfat  cholesterol  carbs  sugars  fiber  protein  salt  \\\n",
       "0    0       0         0            0      0       0      0        0     0   \n",
       "1    0       0         0            0      1       1      0        0     1   \n",
       "2    1       1         0            1      1       1      1        1     1   \n",
       "3    0       1         0            1      0       0      0        1     0   \n",
       "4    0       0         0            0      1       1      0        0     0   \n",
       "\n",
       "   sodium  vit_a  vit_c  calcium  iron  energy_category  general_recipe  \\\n",
       "0       1      0      1        0     0              0.0               1   \n",
       "1       1      0      1        0     0              0.0               1   \n",
       "2       1      0      1        0     1              2.0               0   \n",
       "3       0      0      1        0     1              1.0               0   \n",
       "4       0      0      0        0     0              0.0               0   \n",
       "\n",
       "   prediction  \n",
       "0         1.0  \n",
       "1         1.0  \n",
       "2         0.0  \n",
       "3         0.0  \n",
       "4         0.0  "
      ]
     },
     "execution_count": 25,
     "metadata": {},
     "output_type": "execute_result"
    }
   ],
   "source": [
    "#compare predictions against true labels\n",
    "rf_predictions.select('fat', 'satfat', 'transfat', 'cholesterol', 'carbs', 'sugars',\n",
    "                   'fiber', 'protein', 'salt', 'sodium', 'vit_a', 'vit_c', 'calcium',\n",
    "                   'iron','energy_category','general_recipe','prediction').limit(5).toPandas()"
   ]
  },
  {
   "cell_type": "code",
   "execution_count": 35,
   "metadata": {},
   "outputs": [
    {
     "name": "stdout",
     "output_type": "stream",
     "text": [
      "99.33\n",
      "99.31\n"
     ]
    }
   ],
   "source": [
    "rf_accuracy = round(evaluator.evaluate(rf_predictions, {evaluator.metricName: \"accuracy\"})*100,2)\n",
    "rf_f1_score = round(evaluator.evaluate(rf_predictions, {evaluator.metricName: \"f1\"})*100,2)\n",
    "\n",
    "print(rf_accuracy)\n",
    "print(rf_f1_score)"
   ]
  },
  {
   "cell_type": "code",
   "execution_count": 97,
   "metadata": {
    "scrolled": true
   },
   "outputs": [
    {
     "name": "stdout",
     "output_type": "stream",
     "text": [
      "              precision    recall  f1-score   support\n",
      "\n",
      "           0       0.99      1.00      1.00       281\n",
      "           1       1.00      0.89      0.94        18\n",
      "\n",
      "   micro avg       0.99      0.99      0.99       299\n",
      "   macro avg       1.00      0.94      0.97       299\n",
      "weighted avg       0.99      0.99      0.99       299\n",
      "\n"
     ]
    }
   ],
   "source": [
    "#print evaluation metrics\n",
    "\n",
    "y_test = test_df.select('general_recipe').toPandas()\n",
    "random_forest_Y_pred = rf_predictions.select('prediction').toPandas()\n",
    "\n",
    "print(classification_report(y_test, random_forest_Y_pred))"
   ]
  },
  {
   "cell_type": "code",
   "execution_count": 98,
   "metadata": {},
   "outputs": [
    {
     "data": {
      "text/plain": [
       "Text(0.5, 194.08, 'Predicted label')"
      ]
     },
     "execution_count": 98,
     "metadata": {},
     "output_type": "execute_result"
    },
    {
     "data": {
      "image/png": "[encoded data removed]",
      "text/plain": [
       "<Figure size 360x216 with 2 Axes>"
      ]
     },
     "metadata": {
      "needs_background": "light"
     },
     "output_type": "display_data"
    }
   ],
   "source": [
    "cnf_matrix = metrics.confusion_matrix(y_test, random_forest_Y_pred)\n",
    "\n",
    "class_names=[0,1] # name  of classes\n",
    "fig, ax = plt.subplots(figsize=(5,3))\n",
    "tick_marks = np.arange(len(class_names))\n",
    "plt.xticks(tick_marks, class_names)\n",
    "plt.yticks(tick_marks, class_names)\n",
    "\n",
    "# create heatmap\n",
    "sns.heatmap(pd.DataFrame(cnf_matrix), annot=True, cmap=\"Blues\" ,fmt='g')\n",
    "ax.xaxis.set_label_position(\"top\")\n",
    "plt.tight_layout()\n",
    "plt.title('Confusion matrix', y=1.1)\n",
    "plt.ylabel('Actual label')\n",
    "plt.xlabel('Predicted label')"
   ]
  },
  {
   "cell_type": "code",
   "execution_count": 44,
   "metadata": {},
   "outputs": [
    {
     "data": {
      "text/plain": [
       "SparseVector(15, {0: 0.0507, 1: 0.0862, 2: 0.0566, 3: 0.04, 4: 0.0155, 5: 0.0191, 6: 0.0256, 7: 0.0353, 8: 0.1161, 9: 0.2709, 10: 0.0916, 11: 0.1064, 12: 0.0039, 13: 0.0306, 14: 0.0517})"
      ]
     },
     "execution_count": 44,
     "metadata": {},
     "output_type": "execute_result"
    }
   ],
   "source": [
    "rf_model.featureImportances"
   ]
  },
  {
   "cell_type": "code",
   "execution_count": 92,
   "metadata": {
    "scrolled": true
   },
   "outputs": [
    {
     "name": "stderr",
     "output_type": "stream",
     "text": [
      "No handles with labels found to put in legend.\n"
     ]
    },
    {
     "data": {
      "image/png": "[encoded data removed]",
      "text/plain": [
       "<Figure size 432x288 with 1 Axes>"
      ]
     },
     "metadata": {
      "needs_background": "light"
     },
     "output_type": "display_data"
    }
   ],
   "source": [
    "feature_imp = pd.Series(rf_model.featureImportances,index = features).sort_values(ascending=False)\n",
    "\n",
    "# Creating a bar plot\n",
    "sns.barplot(x=feature_imp, y=feature_imp.index, color = 'purple')\n",
    "\n",
    "# Add labels to your graph\n",
    "plt.xlabel('Feature Importance Score')\n",
    "plt.ylabel('Features')\n",
    "plt.title(\"Visualizing Important Features\")\n",
    "plt.legend()\n",
    "plt.show()"
   ]
  },
  {
   "cell_type": "markdown",
   "metadata": {},
   "source": [
    "### Top 5 Features"
   ]
  },
  {
   "cell_type": "code",
   "execution_count": 31,
   "metadata": {},
   "outputs": [],
   "source": [
    "#gather feature vector and identify features\n",
    "top_5_features = ['sodium','salt','vit_c','vit_a','satfat']\n",
    "\n",
    "assembler = VectorAssembler(inputCols = top_5_features, outputCol = 'top_5_features')\n",
    "pipeline = assembler.transform(ml_data)\n",
    "\n",
    "#split data into 80% train and 20% test\n",
    "top_5_train_df, top_5_test_df = pipeline.randomSplit([.8,.2],seed=1234)"
   ]
  },
  {
   "cell_type": "code",
   "execution_count": 117,
   "metadata": {},
   "outputs": [
    {
     "data": {
      "text/html": [
       "<div>\n",
       "<style scoped>\n",
       "    .dataframe tbody tr th:only-of-type {\n",
       "        vertical-align: middle;\n",
       "    }\n",
       "\n",
       "    .dataframe tbody tr th {\n",
       "        vertical-align: top;\n",
       "    }\n",
       "\n",
       "    .dataframe thead th {\n",
       "        text-align: right;\n",
       "    }\n",
       "</style>\n",
       "<table border=\"1\" class=\"dataframe\">\n",
       "  <thead>\n",
       "    <tr style=\"text-align: right;\">\n",
       "      <th></th>\n",
       "      <th>title</th>\n",
       "      <th>energy</th>\n",
       "      <th>fat</th>\n",
       "      <th>satfat</th>\n",
       "      <th>transfat</th>\n",
       "      <th>cholesterol</th>\n",
       "      <th>carbs</th>\n",
       "      <th>sugars</th>\n",
       "      <th>fiber</th>\n",
       "      <th>protein</th>\n",
       "      <th>salt</th>\n",
       "      <th>sodium</th>\n",
       "      <th>vit_a</th>\n",
       "      <th>vit_c</th>\n",
       "      <th>calcium</th>\n",
       "      <th>iron</th>\n",
       "      <th>rec_type</th>\n",
       "      <th>energy_category</th>\n",
       "      <th>general_recipe</th>\n",
       "      <th>top_5_features</th>\n",
       "    </tr>\n",
       "  </thead>\n",
       "  <tbody>\n",
       "    <tr>\n",
       "      <th>0</th>\n",
       "      <td>10-minute mincemeat</td>\n",
       "      <td>8773.0</td>\n",
       "      <td>1</td>\n",
       "      <td>1</td>\n",
       "      <td>0</td>\n",
       "      <td>1</td>\n",
       "      <td>1</td>\n",
       "      <td>1</td>\n",
       "      <td>1</td>\n",
       "      <td>1</td>\n",
       "      <td>0</td>\n",
       "      <td>0</td>\n",
       "      <td>0</td>\n",
       "      <td>1</td>\n",
       "      <td>0</td>\n",
       "      <td>1</td>\n",
       "      <td>c</td>\n",
       "      <td>2.0</td>\n",
       "      <td>0</td>\n",
       "      <td>(0.0, 0.0, 1.0, 0.0, 1.0)</td>\n",
       "    </tr>\n",
       "    <tr>\n",
       "      <th>1</th>\n",
       "      <td>15-minute mix &amp; match salad</td>\n",
       "      <td>3347.0</td>\n",
       "      <td>0</td>\n",
       "      <td>0</td>\n",
       "      <td>0</td>\n",
       "      <td>0</td>\n",
       "      <td>0</td>\n",
       "      <td>0</td>\n",
       "      <td>0</td>\n",
       "      <td>0</td>\n",
       "      <td>0</td>\n",
       "      <td>0</td>\n",
       "      <td>0</td>\n",
       "      <td>0</td>\n",
       "      <td>0</td>\n",
       "      <td>0</td>\n",
       "      <td>c</td>\n",
       "      <td>0.0</td>\n",
       "      <td>0</td>\n",
       "      <td>(0.0, 0.0, 0.0, 0.0, 0.0)</td>\n",
       "    </tr>\n",
       "  </tbody>\n",
       "</table>\n",
       "</div>"
      ],
      "text/plain": [
       "                         title  energy  fat  satfat  transfat  cholesterol  \\\n",
       "0          10-minute mincemeat  8773.0    1       1         0            1   \n",
       "1  15-minute mix & match salad  3347.0    0       0         0            0   \n",
       "\n",
       "   carbs  sugars  fiber  protein  salt  sodium  vit_a  vit_c  calcium  iron  \\\n",
       "0      1       1      1        1     0       0      0      1        0     1   \n",
       "1      0       0      0        0     0       0      0      0        0     0   \n",
       "\n",
       "  rec_type  energy_category  general_recipe             top_5_features  \n",
       "0        c              2.0               0  (0.0, 0.0, 1.0, 0.0, 1.0)  \n",
       "1        c              0.0               0  (0.0, 0.0, 0.0, 0.0, 0.0)  "
      ]
     },
     "execution_count": 117,
     "metadata": {},
     "output_type": "execute_result"
    }
   ],
   "source": [
    "top_5_train_df.limit(2).toPandas()"
   ]
  },
  {
   "cell_type": "code",
   "execution_count": 32,
   "metadata": {},
   "outputs": [],
   "source": [
    "# %%time\n",
    "\n",
    "# Set parameters for the Random Forest.\n",
    "top_5_rf_parameters = RandomForestClassifier(maxDepth=10, numTrees=100, impurity=\"gini\", labelCol=\"general_recipe\",\n",
    "                             featuresCol=\"top_5_features\")#, predictionCol=\"prediction\")\n",
    "\n",
    "# Fit the model to the data.\n",
    "top_5_rf_model = top_5_rf_parameters.fit(top_5_train_df)\n",
    "\n",
    "# Given a dataset, predict each point's label, and show the results.\n",
    "top_5_rf_predictions = top_5_rf_model.transform(top_5_test_df)"
   ]
  },
  {
   "cell_type": "code",
   "execution_count": 119,
   "metadata": {},
   "outputs": [
    {
     "name": "stdout",
     "output_type": "stream",
     "text": [
      "0.9832775919732442\n",
      "0.9820027426385538\n"
     ]
    }
   ],
   "source": [
    "#print evaluation metrics\n",
    "\n",
    "print(evaluator.evaluate(top_5_rf_predictions, {evaluator.metricName: \"accuracy\"}))\n",
    "print(evaluator.evaluate(top_5_rf_predictions, {evaluator.metricName: \"f1\"}))"
   ]
  },
  {
   "cell_type": "code",
   "execution_count": 34,
   "metadata": {
    "scrolled": true
   },
   "outputs": [
    {
     "name": "stdout",
     "output_type": "stream",
     "text": [
      "98.33\n",
      "98.2\n"
     ]
    }
   ],
   "source": [
    "top_5_rf_accuracy = round(evaluator.evaluate(top_5_rf_predictions, {evaluator.metricName: \"accuracy\"})*100,2)\n",
    "top_5_rf_f1_score = round(evaluator.evaluate(top_5_rf_predictions, {evaluator.metricName: \"f1\"})*100,2)\n",
    "\n",
    "print(top_5_rf_accuracy)\n",
    "print(top_5_rf_f1_score)"
   ]
  },
  {
   "cell_type": "code",
   "execution_count": 120,
   "metadata": {
    "scrolled": false
   },
   "outputs": [
    {
     "name": "stdout",
     "output_type": "stream",
     "text": [
      "              precision    recall  f1-score   support\n",
      "\n",
      "           0       0.98      1.00      0.99       281\n",
      "           1       1.00      0.72      0.84        18\n",
      "\n",
      "   micro avg       0.98      0.98      0.98       299\n",
      "   macro avg       0.99      0.86      0.91       299\n",
      "weighted avg       0.98      0.98      0.98       299\n",
      "\n"
     ]
    }
   ],
   "source": [
    "#print evaluation metrics\n",
    "\n",
    "top_5_y_test = top_5_test_df.select('general_recipe').toPandas()\n",
    "top_5_random_forest_Y_pred = top_5_rf_predictions.select('prediction').toPandas()\n",
    "\n",
    "print(classification_report(top_5_y_test, top_5_random_forest_Y_pred))"
   ]
  },
  {
   "cell_type": "code",
   "execution_count": 121,
   "metadata": {
    "scrolled": true
   },
   "outputs": [
    {
     "data": {
      "text/plain": [
       "Text(0.5, 194.08, 'Predicted label')"
      ]
     },
     "execution_count": 121,
     "metadata": {},
     "output_type": "execute_result"
    },
    {
     "data": {
      "image/png": "[encoded data removed]",
      "text/plain": [
       "<Figure size 360x216 with 2 Axes>"
      ]
     },
     "metadata": {
      "needs_background": "light"
     },
     "output_type": "display_data"
    }
   ],
   "source": [
    "cnf_matrix = metrics.confusion_matrix(top_5_y_test, top_5_random_forest_Y_pred)\n",
    "\n",
    "class_names=[0,1] # name  of classes\n",
    "fig, ax = plt.subplots(figsize=(5,3))\n",
    "tick_marks = np.arange(len(class_names))\n",
    "plt.xticks(tick_marks, class_names)\n",
    "plt.yticks(tick_marks, class_names)\n",
    "\n",
    "# create heatmap\n",
    "sns.heatmap(pd.DataFrame(cnf_matrix), annot=True, cmap=\"Blues\" ,fmt='g')\n",
    "ax.xaxis.set_label_position(\"top\")\n",
    "plt.tight_layout()\n",
    "plt.title('Confusion matrix', y=1.1)\n",
    "plt.ylabel('Actual label')\n",
    "plt.xlabel('Predicted label')"
   ]
  },
  {
   "cell_type": "code",
   "execution_count": 123,
   "metadata": {
    "scrolled": true
   },
   "outputs": [
    {
     "name": "stderr",
     "output_type": "stream",
     "text": [
      "No handles with labels found to put in legend.\n"
     ]
    },
    {
     "data": {
      "image/png": "[encoded data removed]",
      "text/plain": [
       "<Figure size 432x288 with 1 Axes>"
      ]
     },
     "metadata": {
      "needs_background": "light"
     },
     "output_type": "display_data"
    }
   ],
   "source": [
    "feature_imp = pd.Series(top_5_rf_model.featureImportances,index = top_5_features).sort_values(ascending=False)\n",
    "\n",
    "# Creating a bar plot\n",
    "sns.barplot(x=feature_imp, y=feature_imp.index, color = 'purple')\n",
    "\n",
    "# Add labels to your graph\n",
    "plt.xlabel('Feature Importance Score')\n",
    "plt.ylabel('Features')\n",
    "plt.title(\"Visualizing Important Features\")\n",
    "plt.legend()\n",
    "plt.show()"
   ]
  },
  {
   "cell_type": "markdown",
   "metadata": {},
   "source": [
    "#### Which is the best Model ?"
   ]
  },
  {
   "cell_type": "code",
   "execution_count": 39,
   "metadata": {},
   "outputs": [
    {
     "data": {
      "text/html": [
       "<div>\n",
       "<style scoped>\n",
       "    .dataframe tbody tr th:only-of-type {\n",
       "        vertical-align: middle;\n",
       "    }\n",
       "\n",
       "    .dataframe tbody tr th {\n",
       "        vertical-align: top;\n",
       "    }\n",
       "\n",
       "    .dataframe thead th {\n",
       "        text-align: right;\n",
       "    }\n",
       "</style>\n",
       "<table border=\"1\" class=\"dataframe\">\n",
       "  <thead>\n",
       "    <tr style=\"text-align: right;\">\n",
       "      <th></th>\n",
       "      <th>Number of Features</th>\n",
       "      <th>Accuracy</th>\n",
       "      <th>F1-Score</th>\n",
       "    </tr>\n",
       "    <tr>\n",
       "      <th>Model</th>\n",
       "      <th></th>\n",
       "      <th></th>\n",
       "      <th></th>\n",
       "    </tr>\n",
       "  </thead>\n",
       "  <tbody>\n",
       "    <tr>\n",
       "      <th>Logistic Regression</th>\n",
       "      <td>15</td>\n",
       "      <td>98.66</td>\n",
       "      <td>98.58</td>\n",
       "    </tr>\n",
       "    <tr>\n",
       "      <th>Random Forest Classifier</th>\n",
       "      <td>15</td>\n",
       "      <td>99.33</td>\n",
       "      <td>99.31</td>\n",
       "    </tr>\n",
       "    <tr>\n",
       "      <th>Random Forest Classifier</th>\n",
       "      <td>5</td>\n",
       "      <td>98.33</td>\n",
       "      <td>98.20</td>\n",
       "    </tr>\n",
       "  </tbody>\n",
       "</table>\n",
       "</div>"
      ],
      "text/plain": [
       "                          Number of Features  Accuracy  F1-Score\n",
       "Model                                                           \n",
       "Logistic Regression                       15     98.66     98.58\n",
       "Random Forest Classifier                  15     99.33     99.31\n",
       "Random Forest Classifier                   5     98.33     98.20"
      ]
     },
     "execution_count": 39,
     "metadata": {},
     "output_type": "execute_result"
    }
   ],
   "source": [
    "results = pd.DataFrame({\n",
    "    'Number of Features': [15,15,5],\n",
    "    'Accuracy': [lg_accuracy, rf_accuracy, top_5_rf_accuracy],\n",
    "    'F1-Score': [lg_f1_score, rf_f1_score, top_5_rf_f1_score]})\n",
    "results.index = ['Logistic Regression','Random Forest Classifier', 'Random Forest Classifier']\n",
    "results.index.name = 'Model'\n",
    "results"
   ]
  },
  {
   "cell_type": "code",
   "execution_count": null,
   "metadata": {},
   "outputs": [],
   "source": []
  }
 ],
 "metadata": {
  "kernelspec": {
   "display_name": "Python 3",
   "language": "python",
   "name": "python3"
  },
  "language_info": {
   "codemirror_mode": {
    "name": "ipython",
    "version": 3
   },
   "file_extension": ".py",
   "mimetype": "text/x-python",
   "name": "python",
   "nbconvert_exporter": "python",
   "pygments_lexer": "ipython3",
   "version": "3.7.0"
  }
 },
 "nbformat": 4,
 "nbformat_minor": 2
}
